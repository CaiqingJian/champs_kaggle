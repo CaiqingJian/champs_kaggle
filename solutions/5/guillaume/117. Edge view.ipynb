{
 "cells": [
  {
   "cell_type": "markdown",
   "metadata": {},
   "source": [
    "# Libraries requirement"
   ]
  },
  {
   "cell_type": "code",
   "execution_count": null,
   "metadata": {},
   "outputs": [],
   "source": [
    "# numpy\n",
    "# scipy\n",
    "# pandas\n",
    "# sklearn\n",
    "# openbabel\n",
    "# torch\n",
    "# torch_geometric\n",
    "# numba\n",
    "# dscribe\n",
    "# networkX"
   ]
  },
  {
   "cell_type": "markdown",
   "metadata": {},
   "source": [
    "# Imports"
   ]
  },
  {
   "cell_type": "code",
   "execution_count": null,
   "metadata": {
    "ExecuteTime": {
     "end_time": "2019-08-06T19:02:24.238497Z",
     "start_time": "2019-08-06T19:02:22.409348Z"
    }
   },
   "outputs": [],
   "source": [
    "from common import *\n",
    "from babel_113_half_bonds import compute_features, ATOM_FEATURES_COLUMNS, BOND_FEATURES_COLUMNS, GLOBAL_FEATURES_COLUMNS\n",
    "import itertools\n",
    "import scipy.linalg\n",
    "from sklearn.preprocessing import OrdinalEncoder, OneHotEncoder\n",
    "import os\n",
    "import numba\n",
    "from dscribe.descriptors import ACSF\n",
    "from dscribe.core.system import System\n",
    "from scipy.spatial.transform import Rotation as R"
   ]
  },
  {
   "cell_type": "markdown",
   "metadata": {},
   "source": [
    "# Read data"
   ]
  },
  {
   "cell_type": "code",
   "execution_count": null,
   "metadata": {
    "scrolled": true
   },
   "outputs": [],
   "source": [
    "script_dir = os.path.abspath(os.path.dirname(__file__))"
   ]
  },
  {
   "cell_type": "code",
   "execution_count": null,
   "metadata": {
    "ExecuteTime": {
     "end_time": "2019-08-06T19:02:31.264811Z",
     "start_time": "2019-08-06T19:02:24.240473Z"
    }
   },
   "outputs": [],
   "source": [
    "nodes = pd.read_csv(script_dir + '/../../data/structures.csv')\n",
    "train = pd.read_csv(script_dir + '/../../data/train.csv')\n",
    "test = pd.read_csv(script_dir + '/../../data/test.csv')"
   ]
  },
  {
   "cell_type": "markdown",
   "metadata": {},
   "source": [
    "# Public kernels references to download data or where code was extracted"
   ]
  },
  {
   "cell_type": "code",
   "execution_count": null,
   "metadata": {
    "ExecuteTime": {
     "end_time": "2019-08-06T19:02:31.278940Z",
     "start_time": "2019-08-06T19:02:31.275964Z"
    }
   },
   "outputs": [],
   "source": [
    "#https://www.kaggle.com/scaomath/parallelization-of-coulomb-yukawa-interaction\n",
    "#https://www.kaggle.com/scaomath/no-memory-reduction-workflow-for-each-type-lb-1-28\n",
    "#https://www.kaggle.com/scaomath/giba-molecular-features\n",
    "#https://github.com/Kaggle/kaggle-api\n",
    "#pip install kaggle --upgrade\n",
    "#kaggle datasets download scaomath/giba-molecular-features\n",
    "#kaggle kernels output zaharch/quantum-machine-9-qm9"
   ]
  },
  {
   "cell_type": "markdown",
   "metadata": {},
   "source": [
    "# Vizualization of the kept features selected with a previous permutation importance"
   ]
  },
  {
   "cell_type": "code",
   "execution_count": null,
   "metadata": {},
   "outputs": [],
   "source": [
    "import pandas as pd\n",
    "permute_results = pd.read_pickle(script_dir + '/processed_data/permute_results.9Y.pkl')\n",
    "features = permute_results.loc[permute_results['loss'] > -2.09]\n",
    "features = features.loc[~features['feature_name'].str.contains('dist_H')]\n",
    "features"
   ]
  },
  {
   "cell_type": "markdown",
   "metadata": {},
   "source": [
    "# Build the dataset for a subsample of train molecules (Optionnal)"
   ]
  },
  {
   "cell_type": "code",
   "execution_count": null,
   "metadata": {
    "ExecuteTime": {
     "start_time": "2019-07-30T06:58:53.009Z"
    }
   },
   "outputs": [],
   "source": [
    "molecules = list(train['molecule_name'].unique()[:4]) + list(train['molecule_name'].iloc[100:].sample(0).unique())\n",
    "print(f'subsampled {len(molecules)} molecules')\n",
    "nodes = nodes.loc[nodes['molecule_name'].isin(molecules)]\n",
    "train = train.loc[train['molecule_name'].isin(molecules)]\n",
    "test = test.loc[test['molecule_name'].isin(molecules)]"
   ]
  },
  {
   "cell_type": "markdown",
   "metadata": {
    "ExecuteTime": {
     "end_time": "2019-07-18T08:08:31.693706Z",
     "start_time": "2019-07-18T08:08:31.179271Z"
    }
   },
   "source": [
    "## Utils"
   ]
  },
  {
   "cell_type": "code",
   "execution_count": null,
   "metadata": {
    "ExecuteTime": {
     "end_time": "2019-08-06T19:02:31.289355Z",
     "start_time": "2019-08-06T19:02:31.281457Z"
    }
   },
   "outputs": [],
   "source": [
    "def apply_random_rotation(vectors):\n",
    "    r = R.from_euler('zxy', np.random.random(size = (1, 3)) * 360, degrees=True)\n",
    "    return r.apply(vectors)\n",
    "\n",
    "SYMBOL=['H', 'C', 'N', 'O', 'F']\n",
    "\n",
    "ACSF_GENERATOR = ACSF(\n",
    "    species=SYMBOL,\n",
    "    rcut=6.0,\n",
    "    g2_params=[[1, 1], [1, 2], [1, 3]],\n",
    "    g4_params=[[1, 1, 1], [1, 2, 1], [1, 1, -1], [1, 2, -1]],\n",
    ")"
   ]
  },
  {
   "cell_type": "code",
   "execution_count": null,
   "metadata": {
    "ExecuteTime": {
     "end_time": "2019-08-06T19:02:31.296541Z",
     "start_time": "2019-08-06T19:02:31.291037Z"
    }
   },
   "outputs": [],
   "source": [
    "@numba.njit\n",
    "def build_bond_vector(connectivity, xyz):\n",
    "    bond_vectors = np.zeros((connectivity.shape[0], 3))\n",
    "    \n",
    "    for bond_i in range(connectivity.shape[0]):\n",
    "        atom_i, atom_j = connectivity[bond_i, 0], connectivity[bond_i, 1]\n",
    "        bond_vectors[bond_i] = xyz[atom_j] - xyz[atom_j]\n",
    "        bond_i += 1\n",
    "\n",
    "    return bond_vectors"
   ]
  },
  {
   "cell_type": "markdown",
   "metadata": {},
   "source": [
    "## Datasets checks"
   ]
  },
  {
   "cell_type": "code",
   "execution_count": null,
   "metadata": {
    "ExecuteTime": {
     "end_time": "2019-08-06T19:02:31.315604Z",
     "start_time": "2019-08-06T19:02:31.298924Z"
    }
   },
   "outputs": [],
   "source": [
    "nodes.head()"
   ]
  },
  {
   "cell_type": "code",
   "execution_count": null,
   "metadata": {
    "ExecuteTime": {
     "end_time": "2019-08-06T19:02:31.341626Z",
     "start_time": "2019-08-06T19:02:31.321609Z"
    }
   },
   "outputs": [],
   "source": [
    "train.head()"
   ]
  },
  {
   "cell_type": "code",
   "execution_count": null,
   "metadata": {
    "ExecuteTime": {
     "end_time": "2019-08-06T19:02:31.364365Z",
     "start_time": "2019-08-06T19:02:31.347944Z"
    }
   },
   "outputs": [],
   "source": [
    "test.head()"
   ]
  },
  {
   "cell_type": "code",
   "execution_count": null,
   "metadata": {
    "ExecuteTime": {
     "end_time": "2019-08-06T19:02:31.529264Z",
     "start_time": "2019-08-06T19:02:31.365949Z"
    }
   },
   "outputs": [],
   "source": [
    "train['molecule_name'].isin(test['molecule_name']).sum()"
   ]
  },
  {
   "cell_type": "code",
   "execution_count": null,
   "metadata": {
    "ExecuteTime": {
     "end_time": "2019-08-06T19:02:32.707511Z",
     "start_time": "2019-08-06T19:02:31.531586Z"
    }
   },
   "outputs": [],
   "source": [
    "train[['molecule_name', 'atom_index_0', 'atom_index_1']].drop_duplicates().shape"
   ]
  },
  {
   "cell_type": "code",
   "execution_count": null,
   "metadata": {
    "ExecuteTime": {
     "end_time": "2019-08-06T19:02:32.713819Z",
     "start_time": "2019-08-06T19:02:32.710284Z"
    }
   },
   "outputs": [],
   "source": [
    "train.shape"
   ]
  },
  {
   "cell_type": "markdown",
   "metadata": {},
   "source": [
    "# Transform for easier storage first"
   ]
  },
  {
   "cell_type": "markdown",
   "metadata": {},
   "source": [
    "## Merge train and test"
   ]
  },
  {
   "cell_type": "code",
   "execution_count": null,
   "metadata": {
    "ExecuteTime": {
     "end_time": "2019-08-06T19:02:32.843208Z",
     "start_time": "2019-08-06T19:02:32.715548Z"
    }
   },
   "outputs": [],
   "source": [
    "train['dataset'] = 'train'\n",
    "test['dataset'] = 'test'"
   ]
  },
  {
   "cell_type": "code",
   "execution_count": null,
   "metadata": {
    "ExecuteTime": {
     "end_time": "2019-08-06T19:02:35.889261Z",
     "start_time": "2019-08-06T19:02:32.844662Z"
    }
   },
   "outputs": [],
   "source": [
    "partial_edges = pd.concat([train, test], axis = 0, sort = False).reset_index(drop = True)"
   ]
  },
  {
   "cell_type": "code",
   "execution_count": null,
   "metadata": {
    "ExecuteTime": {
     "end_time": "2019-08-06T19:02:35.894912Z",
     "start_time": "2019-08-06T19:02:35.890971Z"
    }
   },
   "outputs": [],
   "source": [
    "partial_edges.shape"
   ]
  },
  {
   "cell_type": "markdown",
   "metadata": {},
   "source": [
    "## Check"
   ]
  },
  {
   "cell_type": "code",
   "execution_count": null,
   "metadata": {
    "ExecuteTime": {
     "end_time": "2019-08-06T19:02:36.235593Z",
     "start_time": "2019-08-06T19:02:35.896864Z"
    }
   },
   "outputs": [],
   "source": [
    "partial_edges.sample(n = 10)"
   ]
  },
  {
   "cell_type": "code",
   "execution_count": null,
   "metadata": {
    "ExecuteTime": {
     "end_time": "2019-08-06T19:02:36.247878Z",
     "start_time": "2019-08-06T19:02:36.237212Z"
    }
   },
   "outputs": [],
   "source": [
    "partial_edges.head(10)"
   ]
  },
  {
   "cell_type": "code",
   "execution_count": null,
   "metadata": {
    "ExecuteTime": {
     "end_time": "2019-08-06T19:02:36.634302Z",
     "start_time": "2019-08-06T19:02:36.249406Z"
    }
   },
   "outputs": [],
   "source": [
    "nodes['molecule_name'].isin(partial_edges['molecule_name']).mean()"
   ]
  },
  {
   "cell_type": "code",
   "execution_count": null,
   "metadata": {
    "ExecuteTime": {
     "end_time": "2019-08-06T19:02:36.959176Z",
     "start_time": "2019-08-06T19:02:36.636413Z"
    }
   },
   "outputs": [],
   "source": [
    "partial_edges['molecule_name'].isin(nodes['molecule_name']).mean()"
   ]
  },
  {
   "cell_type": "markdown",
   "metadata": {},
   "source": [
    "## Make full edges"
   ]
  },
  {
   "cell_type": "code",
   "execution_count": null,
   "metadata": {
    "ExecuteTime": {
     "end_time": "2019-08-06T19:02:37.345545Z",
     "start_time": "2019-08-06T19:02:36.979346Z"
    }
   },
   "outputs": [],
   "source": [
    "atom_count = nodes.groupby('molecule_name')['atom_index'].count()\n",
    "molecules = list(atom_count.index)"
   ]
  },
  {
   "cell_type": "code",
   "execution_count": null,
   "metadata": {
    "ExecuteTime": {
     "end_time": "2019-08-06T19:02:37.351899Z",
     "start_time": "2019-08-06T19:02:37.347198Z"
    },
    "scrolled": true
   },
   "outputs": [],
   "source": [
    "atom_count.head()"
   ]
  },
  {
   "cell_type": "code",
   "execution_count": null,
   "metadata": {
    "ExecuteTime": {
     "end_time": "2019-08-06T19:02:37.357385Z",
     "start_time": "2019-08-06T19:02:37.353380Z"
    }
   },
   "outputs": [],
   "source": [
    "atom_count = atom_count.values"
   ]
  },
  {
   "cell_type": "code",
   "execution_count": null,
   "metadata": {
    "ExecuteTime": {
     "end_time": "2019-08-06T19:02:37.363994Z",
     "start_time": "2019-08-06T19:02:37.360398Z"
    }
   },
   "outputs": [],
   "source": [
    "atom_count"
   ]
  },
  {
   "cell_type": "code",
   "execution_count": null,
   "metadata": {
    "ExecuteTime": {
     "end_time": "2019-08-06T19:02:37.371789Z",
     "start_time": "2019-08-06T19:02:37.365987Z"
    }
   },
   "outputs": [],
   "source": [
    "@numba.njit\n",
    "def build_all_edges(molecule_atom_count):\n",
    "    full_count = int((molecule_atom_count * (molecule_atom_count - 1) // 2).sum())\n",
    "    all_edges = np.zeros((full_count, 3), dtype = np.int64)\n",
    "    \n",
    "    edge_i = 0\n",
    "    for molecule_i, atom_count in enumerate(molecule_atom_count):\n",
    "        for atom_i in range(atom_count):\n",
    "            for atom_j in range(atom_count):\n",
    "                if atom_i < atom_j:\n",
    "                    all_edges[edge_i, 0] = molecule_i\n",
    "                    all_edges[edge_i, 1] = atom_i\n",
    "                    all_edges[edge_i, 2] = atom_j\n",
    "                    edge_i += 1\n",
    "    \n",
    "    assert edge_i == all_edges.shape[0]\n",
    "    return all_edges"
   ]
  },
  {
   "cell_type": "code",
   "execution_count": null,
   "metadata": {
    "ExecuteTime": {
     "end_time": "2019-08-06T19:02:38.009277Z",
     "start_time": "2019-08-06T19:02:37.373318Z"
    }
   },
   "outputs": [],
   "source": [
    "all_edges = build_all_edges(atom_count)"
   ]
  },
  {
   "cell_type": "markdown",
   "metadata": {},
   "source": [
    "## Make babel for atoms, bonds, and global"
   ]
  },
  {
   "cell_type": "code",
   "execution_count": null,
   "metadata": {
    "ExecuteTime": {
     "end_time": "2019-08-06T19:02:40.037302Z",
     "start_time": "2019-08-06T19:02:40.034563Z"
    }
   },
   "outputs": [],
   "source": [
    "all_global_features = []\n",
    "all_atom_features = []\n",
    "all_bond_features = []"
   ]
  },
  {
   "cell_type": "code",
   "execution_count": null,
   "metadata": {
    "ExecuteTime": {
     "start_time": "2019-08-06T19:02:47.093Z"
    }
   },
   "outputs": [],
   "source": [
    "for molecule_i, molecule in tqdm.tqdm_notebook(list(enumerate(molecules))):\n",
    "    global_features, atom_features, bond_features = compute_features(molecule)\n",
    "    \n",
    "    global_features = np.concatenate([np.ones((1, 1)) * molecule_i, global_features.reshape(1, -1)], axis = 1)\n",
    "    atom_features = np.concatenate([np.ones((atom_features.shape[0], 1)) * molecule_i, atom_features], axis = 1)\n",
    "    bond_features = np.concatenate([np.ones((bond_features.shape[0], 1)) * molecule_i, bond_features], axis = 1)\n",
    "    \n",
    "    all_global_features.append(global_features)\n",
    "    all_atom_features.append(atom_features)\n",
    "    all_bond_features.append(bond_features)"
   ]
  },
  {
   "cell_type": "code",
   "execution_count": null,
   "metadata": {
    "ExecuteTime": {
     "start_time": "2019-07-30T06:59:57.661Z"
    }
   },
   "outputs": [],
   "source": [
    "all_global_features = np.concatenate(all_global_features, axis = 0)\n",
    "all_atom_features = np.concatenate(all_atom_features, axis = 0)\n",
    "all_bond_features = np.concatenate(all_bond_features, axis = 0)"
   ]
  },
  {
   "cell_type": "code",
   "execution_count": null,
   "metadata": {
    "ExecuteTime": {
     "start_time": "2019-07-30T06:59:58.499Z"
    }
   },
   "outputs": [],
   "source": [
    "all_global_features.shape"
   ]
  },
  {
   "cell_type": "code",
   "execution_count": null,
   "metadata": {
    "ExecuteTime": {
     "start_time": "2019-07-30T06:59:58.817Z"
    },
    "scrolled": false
   },
   "outputs": [],
   "source": [
    "all_atom_features.shape"
   ]
  },
  {
   "cell_type": "code",
   "execution_count": null,
   "metadata": {
    "ExecuteTime": {
     "start_time": "2019-07-30T06:59:59.122Z"
    },
    "scrolled": false
   },
   "outputs": [],
   "source": [
    "all_bond_features.shape"
   ]
  },
  {
   "cell_type": "code",
   "execution_count": null,
   "metadata": {
    "ExecuteTime": {
     "start_time": "2019-07-30T06:59:59.882Z"
    }
   },
   "outputs": [],
   "source": [
    "all_bond_features = pd.DataFrame(all_bond_features, columns = ['molecule_id'] + BOND_FEATURES_COLUMNS)"
   ]
  },
  {
   "cell_type": "code",
   "execution_count": null,
   "metadata": {
    "ExecuteTime": {
     "start_time": "2019-07-30T07:00:00.454Z"
    }
   },
   "outputs": [],
   "source": [
    "assert all_edges.shape[0] == all_bond_features.shape[0]\n",
    "np.testing.assert_array_equal(all_edges[:, 0], all_edges[:, 0])"
   ]
  },
  {
   "cell_type": "code",
   "execution_count": null,
   "metadata": {
    "ExecuteTime": {
     "start_time": "2019-07-30T07:00:00.843Z"
    }
   },
   "outputs": [],
   "source": [
    "all_global_features = pd.DataFrame(all_global_features, columns = ['molecule_id'] + GLOBAL_FEATURES_COLUMNS)"
   ]
  },
  {
   "cell_type": "code",
   "execution_count": null,
   "metadata": {
    "ExecuteTime": {
     "start_time": "2019-07-30T07:00:01.895Z"
    }
   },
   "outputs": [],
   "source": [
    "all_atom_features = pd.DataFrame(all_atom_features, columns = ['molecule_id'] + ATOM_FEATURES_COLUMNS)"
   ]
  },
  {
   "cell_type": "code",
   "execution_count": null,
   "metadata": {
    "ExecuteTime": {
     "start_time": "2019-07-30T07:00:02.526Z"
    }
   },
   "outputs": [],
   "source": [
    "all_global_features['molecule_id'] = all_global_features['molecule_id'].astype(int)\n",
    "all_bond_features['molecule_id'] = all_bond_features['molecule_id'].astype(int)\n",
    "all_bond_features['atom_index_0'] = all_edges[:, 1]\n",
    "all_bond_features['atom_index_1'] = all_edges[:, 2]\n",
    "all_atom_features['molecule_id'] = all_atom_features['molecule_id'].astype(int)"
   ]
  },
  {
   "cell_type": "markdown",
   "metadata": {},
   "source": [
    "## Add atom id and positions"
   ]
  },
  {
   "cell_type": "code",
   "execution_count": null,
   "metadata": {
    "ExecuteTime": {
     "start_time": "2019-07-30T07:00:03.831Z"
    }
   },
   "outputs": [],
   "source": [
    "indexed_nodes = nodes.set_index('molecule_name')"
   ]
  },
  {
   "cell_type": "code",
   "execution_count": null,
   "metadata": {
    "ExecuteTime": {
     "start_time": "2019-07-30T07:00:04.224Z"
    }
   },
   "outputs": [],
   "source": [
    "positions = indexed_nodes.loc[molecules, ['x', 'y', 'z']].values"
   ]
  },
  {
   "cell_type": "code",
   "execution_count": null,
   "metadata": {
    "ExecuteTime": {
     "start_time": "2019-07-30T07:00:04.456Z"
    }
   },
   "outputs": [],
   "source": [
    "all_atom_features['x'] = positions[:, 0]\n",
    "all_atom_features['y'] = positions[:, 1]\n",
    "all_atom_features['z'] = positions[:, 2]\n",
    "all_atom_features['atom'] = indexed_nodes.loc[molecules, 'atom'].values\n",
    "all_atom_features['atom_index'] = indexed_nodes.loc[molecules, 'atom_index'].values"
   ]
  },
  {
   "cell_type": "markdown",
   "metadata": {},
   "source": [
    "## Add target types"
   ]
  },
  {
   "cell_type": "code",
   "execution_count": null,
   "metadata": {
    "ExecuteTime": {
     "start_time": "2019-07-30T07:00:05.194Z"
    }
   },
   "outputs": [],
   "source": [
    "molecules_index = pd.Series(molecules, name = 'molecule_name').to_frame()\n",
    "molecules_index['molecule_id'] = np.arange(molecules_index.shape[0], dtype = int)\n",
    "molecules_index.head()"
   ]
  },
  {
   "cell_type": "code",
   "execution_count": null,
   "metadata": {
    "ExecuteTime": {
     "start_time": "2019-07-30T07:00:05.457Z"
    }
   },
   "outputs": [],
   "source": [
    "partial_edges.shape"
   ]
  },
  {
   "cell_type": "code",
   "execution_count": null,
   "metadata": {
    "ExecuteTime": {
     "start_time": "2019-07-30T07:00:05.907Z"
    }
   },
   "outputs": [],
   "source": [
    "partial_edges = pd.merge(partial_edges, molecules_index, on = 'molecule_name', how = 'left')"
   ]
  },
  {
   "cell_type": "code",
   "execution_count": null,
   "metadata": {
    "ExecuteTime": {
     "start_time": "2019-07-30T07:00:06.154Z"
    }
   },
   "outputs": [],
   "source": [
    "partial_edges.shape"
   ]
  },
  {
   "cell_type": "code",
   "execution_count": null,
   "metadata": {
    "ExecuteTime": {
     "start_time": "2019-07-30T07:00:06.595Z"
    }
   },
   "outputs": [],
   "source": [
    "partial_edges['molecule_id'].isnull().sum()"
   ]
  },
  {
   "cell_type": "code",
   "execution_count": null,
   "metadata": {
    "ExecuteTime": {
     "start_time": "2019-07-30T07:00:06.820Z"
    }
   },
   "outputs": [],
   "source": [
    "partial_edges.head()"
   ]
  },
  {
   "cell_type": "code",
   "execution_count": null,
   "metadata": {
    "ExecuteTime": {
     "start_time": "2019-07-30T07:00:07.314Z"
    }
   },
   "outputs": [],
   "source": [
    "all_bond_features.head()"
   ]
  },
  {
   "cell_type": "code",
   "execution_count": null,
   "metadata": {
    "ExecuteTime": {
     "start_time": "2019-07-30T07:00:07.774Z"
    }
   },
   "outputs": [],
   "source": [
    "merge_1 = pd.merge(all_bond_features[['molecule_id', 'atom_index_0', 'atom_index_1']], partial_edges[['molecule_id', 'atom_index_0', 'atom_index_1', 'type', 'scalar_coupling_constant', 'dataset']], left_on = ['molecule_id', 'atom_index_0', 'atom_index_1'], right_on = ['molecule_id', 'atom_index_0', 'atom_index_1'], how = 'left')[['type', 'scalar_coupling_constant', 'dataset']]\n",
    "merge_2 = pd.merge(all_bond_features[['molecule_id', 'atom_index_0', 'atom_index_1']], partial_edges[['molecule_id', 'atom_index_0', 'atom_index_1', 'type', 'scalar_coupling_constant', 'dataset']], left_on = ['molecule_id', 'atom_index_0', 'atom_index_1'], right_on = ['molecule_id', 'atom_index_1', 'atom_index_0'], how = 'left')[['type', 'scalar_coupling_constant', 'dataset']]"
   ]
  },
  {
   "cell_type": "code",
   "execution_count": null,
   "metadata": {
    "ExecuteTime": {
     "start_time": "2019-07-30T07:00:08.231Z"
    }
   },
   "outputs": [],
   "source": [
    "all_bond_features.shape"
   ]
  },
  {
   "cell_type": "code",
   "execution_count": null,
   "metadata": {
    "ExecuteTime": {
     "start_time": "2019-07-30T07:00:10.376Z"
    }
   },
   "outputs": [],
   "source": [
    "all_bond_features.head()"
   ]
  },
  {
   "cell_type": "code",
   "execution_count": null,
   "metadata": {
    "ExecuteTime": {
     "start_time": "2019-07-30T07:00:14.935Z"
    }
   },
   "outputs": [],
   "source": [
    "for c in ['type', 'scalar_coupling_constant', 'dataset']:\n",
    "    all_bond_features[c] = np.nan\n",
    "    all_bond_features.loc[all_bond_features[c].isnull(), c] = merge_1[c]\n",
    "    all_bond_features.loc[all_bond_features[c].isnull(), c] = merge_2[c]"
   ]
  },
  {
   "cell_type": "code",
   "execution_count": null,
   "metadata": {
    "ExecuteTime": {
     "start_time": "2019-07-30T07:00:15.399Z"
    }
   },
   "outputs": [],
   "source": [
    "all_bond_features.loc[all_bond_features['type'].isnull(), 'type'] = 'VOID'\n",
    "all_bond_features.loc[all_bond_features['scalar_coupling_constant'].isnull(), 'scalar_coupling_constant'] = -1"
   ]
  },
  {
   "cell_type": "markdown",
   "metadata": {},
   "source": [
    "## Add kernel atom features"
   ]
  },
  {
   "cell_type": "markdown",
   "metadata": {},
   "source": [
    "### Add computationnal features"
   ]
  },
  {
   "cell_type": "code",
   "execution_count": null,
   "metadata": {
    "ExecuteTime": {
     "start_time": "2019-07-30T07:00:18.503Z"
    }
   },
   "outputs": [],
   "source": [
    "def map_atom_info(df_1, df_2, atom_idx):\n",
    "    df = pd.merge(df_1, df_2, how = 'left',\n",
    "                  left_on  = ['molecule_id', f'atom_index_{atom_idx}'],\n",
    "                  right_on = ['molecule_id',  'atom_index'])\n",
    "    \n",
    "    df = df.drop('atom_index', axis=1)\n",
    "    return df\n",
    "\n",
    "    \n",
    "def find_dist(df):\n",
    "    df_p_0 = df[['x_0', 'y_0', 'z_0']].values\n",
    "    df_p_1 = df[['x_1', 'y_1', 'z_1']].values\n",
    "    \n",
    "    df['dist'] = np.linalg.norm(df_p_0 - df_p_1, axis=1)\n",
    "    df['dist_inv2'] = 1/df['dist']**2\n",
    "    df['dist_x'] = (df['x_0'] - df['x_1']) ** 2\n",
    "    df['dist_y'] = (df['y_0'] - df['y_1']) ** 2\n",
    "    df['dist_z'] = (df['z_0'] - df['z_1']) ** 2\n",
    "    return df\n",
    "\n",
    "def find_closest_atom(df):    \n",
    "    df_temp = df.loc[:,[\"molecule_id\",\n",
    "                      \"atom_index_0\",\"atom_index_1\",\n",
    "                      \"dist\",\"x_0\",\"y_0\",\"z_0\",\"x_1\",\"y_1\",\"z_1\"]].copy()\n",
    "    df_temp_ = df_temp.copy()\n",
    "    df_temp_ = df_temp_.rename(columns={'atom_index_0': 'atom_index_1',\n",
    "                                       'atom_index_1': 'atom_index_0',\n",
    "                                       'x_0': 'x_1',\n",
    "                                       'y_0': 'y_1',\n",
    "                                       'z_0': 'z_1',\n",
    "                                       'x_1': 'x_0',\n",
    "                                       'y_1': 'y_0',\n",
    "                                       'z_1': 'z_0'})\n",
    "    df_temp_all = pd.concat((df_temp,df_temp_),axis=0)\n",
    "\n",
    "    df_temp_all[\"min_distance\"]=df_temp_all.groupby(['molecule_id', \n",
    "                                                     'atom_index_0'])['dist'].transform('min')\n",
    "    df_temp_all[\"max_distance\"]=df_temp_all.groupby(['molecule_id', \n",
    "                                                     'atom_index_0'])['dist'].transform('max')\n",
    "    \n",
    "    df_temp = df_temp_all[df_temp_all[\"min_distance\"]==df_temp_all[\"dist\"]].copy()\n",
    "    df_temp = df_temp.drop(['x_0','y_0','z_0','min_distance'], axis=1)\n",
    "    df_temp = df_temp.rename(columns={'atom_index_0': 'atom_index',\n",
    "                                         'atom_index_1': 'atom_index_closest',\n",
    "                                         'dist': 'distance_closest',\n",
    "                                         'x_1': 'x_closest',\n",
    "                                         'y_1': 'y_closest',\n",
    "                                         'z_1': 'z_closest'})\n",
    "    df_temp = df_temp.drop_duplicates(subset=['molecule_id', 'atom_index'])\n",
    "    \n",
    "    for atom_idx in [0,1]:\n",
    "        df = map_atom_info(df,df_temp, atom_idx)\n",
    "        df = df.rename(columns={'atom_index_closest': f'atom_index_closest_{atom_idx}',\n",
    "                                        'distance_closest': f'distance_closest_{atom_idx}',\n",
    "                                        'x_closest': f'x_closest_{atom_idx}',\n",
    "                                        'y_closest': f'y_closest_{atom_idx}',\n",
    "                                        'z_closest': f'z_closest_{atom_idx}'})\n",
    "        \n",
    "    df_temp= df_temp_all[df_temp_all[\"max_distance\"]==df_temp_all[\"dist\"]].copy()\n",
    "    df_temp = df_temp.drop(['x_0','y_0','z_0','max_distance'], axis=1)\n",
    "    df_temp= df_temp.rename(columns={'atom_index_0': 'atom_index',\n",
    "                                         'atom_index_1': 'atom_index_farthest',\n",
    "                                         'dist': 'distance_farthest',\n",
    "                                         'x_1': 'x_farthest',\n",
    "                                         'y_1': 'y_farthest',\n",
    "                                         'z_1': 'z_farthest'})\n",
    "    df_temp = df_temp.drop_duplicates(subset=['molecule_id', 'atom_index'])\n",
    "        \n",
    "    for atom_idx in [0,1]:\n",
    "        df = map_atom_info(df,df_temp, atom_idx)\n",
    "        df = df.rename(columns={'atom_index_farthest': f'atom_index_farthest_{atom_idx}',\n",
    "                                        'distance_farthest': f'distance_farthest_{atom_idx}',\n",
    "                                        'x_farthest': f'x_farthest_{atom_idx}',\n",
    "                                        'y_farthest': f'y_farthest_{atom_idx}',\n",
    "                                        'z_farthest': f'z_farthest_{atom_idx}'})\n",
    "    return df\n",
    "\n",
    "\n",
    "def add_cos_features(df):\n",
    "    \n",
    "    df[\"distance_center0\"] = np.sqrt((df['x_0']-df['c_x'])**2 \\\n",
    "                                   + (df['y_0']-df['c_y'])**2 \\\n",
    "                                   + (df['z_0']-df['c_z'])**2)\n",
    "    df[\"distance_center1\"] = np.sqrt((df['x_1']-df['c_x'])**2 \\\n",
    "                                   + (df['y_1']-df['c_y'])**2 \\\n",
    "                                   + (df['z_1']-df['c_z'])**2)\n",
    "    \n",
    "    df['distance_c0'] = np.sqrt((df['x_0']-df['x_closest_0'])**2 + \\\n",
    "                                (df['y_0']-df['y_closest_0'])**2 + \\\n",
    "                                (df['z_0']-df['z_closest_0'])**2)\n",
    "    df['distance_c1'] = np.sqrt((df['x_1']-df['x_closest_1'])**2 + \\\n",
    "                                (df['y_1']-df['y_closest_1'])**2 + \\\n",
    "                                (df['z_1']-df['z_closest_1'])**2)\n",
    "    \n",
    "    df[\"distance_f0\"] = np.sqrt((df['x_0']-df['x_farthest_0'])**2 + \\\n",
    "                                (df['y_0']-df['y_farthest_0'])**2 + \\\n",
    "                                (df['z_0']-df['z_farthest_0'])**2)\n",
    "    df[\"distance_f1\"] = np.sqrt((df['x_1']-df['x_farthest_1'])**2 + \\\n",
    "                                (df['y_1']-df['y_farthest_1'])**2 + \\\n",
    "                                (df['z_1']-df['z_farthest_1'])**2)\n",
    "    \n",
    "    vec_center0_x = (df['x_0']-df['c_x'])/(df[\"distance_center0\"]+1e-10)\n",
    "    vec_center0_y = (df['y_0']-df['c_y'])/(df[\"distance_center0\"]+1e-10)\n",
    "    vec_center0_z = (df['z_0']-df['c_z'])/(df[\"distance_center0\"]+1e-10)\n",
    "    \n",
    "    vec_center1_x = (df['x_1']-df['c_x'])/(df[\"distance_center1\"]+1e-10)\n",
    "    vec_center1_y = (df['y_1']-df['c_y'])/(df[\"distance_center1\"]+1e-10)\n",
    "    vec_center1_z = (df['z_1']-df['c_z'])/(df[\"distance_center1\"]+1e-10)\n",
    "    \n",
    "    vec_c0_x = (df['x_0']-df['x_closest_0'])/(df[\"distance_c0\"]+1e-10)\n",
    "    vec_c0_y = (df['y_0']-df['y_closest_0'])/(df[\"distance_c0\"]+1e-10)\n",
    "    vec_c0_z = (df['z_0']-df['z_closest_0'])/(df[\"distance_c0\"]+1e-10)\n",
    "    \n",
    "    vec_c1_x = (df['x_1']-df['x_closest_1'])/(df[\"distance_c1\"]+1e-10)\n",
    "    vec_c1_y = (df['y_1']-df['y_closest_1'])/(df[\"distance_c1\"]+1e-10)\n",
    "    vec_c1_z = (df['z_1']-df['z_closest_1'])/(df[\"distance_c1\"]+1e-10)\n",
    "    \n",
    "    vec_f0_x = (df['x_0']-df['x_farthest_0'])/(df[\"distance_f0\"]+1e-10)\n",
    "    vec_f0_y = (df['y_0']-df['y_farthest_0'])/(df[\"distance_f0\"]+1e-10)\n",
    "    vec_f0_z = (df['z_0']-df['z_farthest_0'])/(df[\"distance_f0\"]+1e-10)\n",
    "    \n",
    "    vec_f1_x = (df['x_1']-df['x_farthest_1'])/(df[\"distance_f1\"]+1e-10)\n",
    "    vec_f1_y = (df['y_1']-df['y_farthest_1'])/(df[\"distance_f1\"]+1e-10)\n",
    "    vec_f1_z = (df['z_1']-df['z_farthest_1'])/(df[\"distance_f1\"]+1e-10)\n",
    "    \n",
    "    vec_x = (df['x_1']-df['x_0'])/df['dist']\n",
    "    vec_y = (df['y_1']-df['y_0'])/df['dist']\n",
    "    vec_z = (df['z_1']-df['z_0'])/df['dist']\n",
    "    \n",
    "    df[\"cos_c0_c1\"] = vec_c0_x*vec_c1_x + vec_c0_y*vec_c1_y + vec_c0_z*vec_c1_z\n",
    "    df[\"cos_f0_f1\"] = vec_f0_x*vec_f1_x + vec_f0_y*vec_f1_y + vec_f0_z*vec_f1_z\n",
    "    \n",
    "    df[\"cos_c0_f0\"] = vec_c0_x*vec_f0_x + vec_c0_y*vec_f0_y + vec_c0_z*vec_f0_z\n",
    "    df[\"cos_c1_f1\"] = vec_c1_x*vec_f1_x + vec_c1_y*vec_f1_y + vec_c1_z*vec_f1_z\n",
    "    \n",
    "    df[\"cos_center0_center1\"] = vec_center0_x*vec_center1_x \\\n",
    "                              + vec_center0_y*vec_center1_y \\\n",
    "                              + vec_center0_z*vec_center1_z\n",
    "    \n",
    "    df[\"cos_c0\"] = vec_c0_x*vec_x + vec_c0_y*vec_y + vec_c0_z*vec_z\n",
    "    df[\"cos_c1\"] = vec_c1_x*vec_x + vec_c1_y*vec_y + vec_c1_z*vec_z\n",
    "    \n",
    "    df[\"cos_f0\"] = vec_f0_x*vec_x + vec_f0_y*vec_y + vec_f0_z*vec_z\n",
    "    df[\"cos_f1\"] = vec_f1_x*vec_x + vec_f1_y*vec_y + vec_f1_z*vec_z\n",
    "    \n",
    "    df[\"cos_center0\"] = vec_center0_x*vec_x + vec_center0_y*vec_y + vec_center0_z*vec_z\n",
    "    df[\"cos_center1\"] = vec_center1_x*vec_x + vec_center1_y*vec_y + vec_center1_z*vec_z\n",
    "\n",
    "    return df\n",
    "\n",
    "def add_dist_features(df):\n",
    "    # Andrew's features selected\n",
    "    df[f'molecule_atom_index_0_dist_mean'] = df.groupby(['molecule_id', 'atom_index_0'])['dist'].transform('mean')\n",
    "    df[f'molecule_atom_index_0_dist_mean_diff'] = df[f'molecule_atom_index_0_dist_mean'] - df['dist']\n",
    "    df[f'molecule_atom_index_0_dist_min'] = df.groupby(['molecule_id', 'atom_index_0'])['dist'].transform('min')\n",
    "    df[f'molecule_atom_index_0_dist_min_diff'] = df[f'molecule_atom_index_0_dist_min'] - df['dist']\n",
    "    df[f'molecule_atom_index_0_dist_std'] = df.groupby(['molecule_id', 'atom_index_0'])['dist'].transform('std')\n",
    "\n",
    "    df[f'molecule_atom_index_1_dist_mean'] = df.groupby(['molecule_id', 'atom_index_1'])['dist'].transform('mean')\n",
    "    df[f'molecule_atom_index_1_dist_mean_diff'] = df[f'molecule_atom_index_1_dist_mean'] - df['dist']\n",
    "    df[f'molecule_atom_index_1_dist_min'] = df.groupby(['molecule_id', 'atom_index_1'])['dist'].transform('min')\n",
    "    df[f'molecule_atom_index_1_dist_min_diff'] = df[f'molecule_atom_index_1_dist_min'] - df['dist']\n",
    "    df[f'molecule_atom_index_1_dist_std'] = df.groupby(['molecule_id', 'atom_index_1'])['dist'].transform('std')\n",
    "    \n",
    "    df[f'molecule_type_dist_mean'] = df.groupby(['molecule_id', 'type'])['dist'].transform('mean')\n",
    "    df[f'molecule_type_dist_mean_diff'] = df[f'molecule_type_dist_mean'] - df['dist']\n",
    "    \n",
    "    return df\n",
    "\n",
    "def get_features(df, struct):\n",
    "    struct = struct[['molecule_id', 'atom_index', 'x', 'y', 'z']].copy()\n",
    "    for atom_idx in [0,1]:\n",
    "        df = map_atom_info(df, struct, atom_idx)\n",
    "        df = df.rename(columns={'atom': f'atom_{atom_idx}',\n",
    "                            'x': f'x_{atom_idx}',\n",
    "                            'y': f'y_{atom_idx}',\n",
    "                            'z': f'z_{atom_idx}'})\n",
    "        struct['c_x'] = struct.groupby('molecule_id')['x'].transform('mean')\n",
    "        struct['c_y'] = struct.groupby('molecule_id')['y'].transform('mean')\n",
    "        struct['c_z'] = struct.groupby('molecule_id')['z'].transform('mean')\n",
    "    \n",
    "    print('df = find_dist(df)')\n",
    "    df = find_dist(df)\n",
    "    print('df = find_closest_atom(df)')\n",
    "    df = find_closest_atom(df)\n",
    "    print('df = add_cos_features(df)')\n",
    "    df = add_cos_features(df)\n",
    "    print('df = add_dist_features(df)')\n",
    "    df = add_dist_features(df)\n",
    "    \n",
    "    return df"
   ]
  },
  {
   "cell_type": "code",
   "execution_count": null,
   "metadata": {
    "ExecuteTime": {
     "end_time": "2019-07-30T05:53:24.872291Z",
     "start_time": "2019-07-30T05:53:24.864807Z"
    }
   },
   "outputs": [],
   "source": [
    "computationnal_columns = ['dist_inv2',\n",
    " 'distance_closest_0',\n",
    " 'distance_closest_1',\n",
    " 'distance_farthest_0',\n",
    " 'distance_farthest_1',\n",
    " 'cos_c0_c1', 'cos_f0_f1','cos_c0_f0', 'cos_c1_f1',\n",
    " 'cos_center0_center1', 'cos_c0', 'cos_c1', 'cos_f0', 'cos_f1',\n",
    " 'cos_center0', 'cos_center1',\n",
    " 'molecule_atom_index_0_dist_mean',\n",
    " 'molecule_atom_index_0_dist_mean_diff',\n",
    " 'molecule_atom_index_0_dist_min',\n",
    " 'molecule_atom_index_0_dist_min_diff',\n",
    " 'molecule_atom_index_0_dist_std',\n",
    " 'molecule_atom_index_1_dist_mean',\n",
    " 'molecule_atom_index_1_dist_mean_diff',\n",
    " 'molecule_atom_index_1_dist_min',\n",
    " 'molecule_atom_index_1_dist_min_diff',\n",
    " 'molecule_atom_index_1_dist_std',\n",
    " 'molecule_type_dist_mean',\n",
    " 'molecule_type_dist_mean_diff']"
   ]
  },
  {
   "cell_type": "code",
   "execution_count": null,
   "metadata": {
    "ExecuteTime": {
     "end_time": "2019-07-30T05:53:24.908388Z",
     "start_time": "2019-07-30T05:53:24.878403Z"
    }
   },
   "outputs": [],
   "source": [
    "bond_features_view = all_bond_features[['molecule_id', 'atom_index_0', 'atom_index_1', 'type']].copy()"
   ]
  },
  {
   "cell_type": "code",
   "execution_count": null,
   "metadata": {
    "ExecuteTime": {
     "end_time": "2019-07-30T05:53:27.515551Z",
     "start_time": "2019-07-30T05:53:24.915527Z"
    }
   },
   "outputs": [],
   "source": [
    "new_features = get_features(bond_features_view, all_atom_features)"
   ]
  },
  {
   "cell_type": "code",
   "execution_count": null,
   "metadata": {
    "ExecuteTime": {
     "end_time": "2019-07-30T05:53:27.546980Z",
     "start_time": "2019-07-30T05:53:27.521586Z"
    }
   },
   "outputs": [],
   "source": [
    "new_features.shape"
   ]
  },
  {
   "cell_type": "code",
   "execution_count": null,
   "metadata": {
    "ExecuteTime": {
     "end_time": "2019-07-30T05:53:27.726351Z",
     "start_time": "2019-07-30T05:53:27.553188Z"
    }
   },
   "outputs": [],
   "source": [
    "all_bond_features = pd.concat([all_bond_features, new_features[computationnal_columns]], axis = 1, sort = False)"
   ]
  },
  {
   "cell_type": "code",
   "execution_count": null,
   "metadata": {
    "ExecuteTime": {
     "end_time": "2019-07-30T05:53:27.744698Z",
     "start_time": "2019-07-30T05:53:27.739694Z"
    }
   },
   "outputs": [],
   "source": [
    "all_bond_features.shape"
   ]
  },
  {
   "cell_type": "code",
   "execution_count": null,
   "metadata": {
    "ExecuteTime": {
     "end_time": "2019-07-30T05:53:27.750057Z",
     "start_time": "2019-07-30T05:53:27.746832Z"
    }
   },
   "outputs": [],
   "source": [
    "BOND_FEATURES_COLUMNS += computationnal_columns"
   ]
  },
  {
   "cell_type": "markdown",
   "metadata": {
    "ExecuteTime": {
     "end_time": "2019-07-26T09:44:04.937190Z",
     "start_time": "2019-07-26T09:44:04.775920Z"
    }
   },
   "source": [
    "set(e.columns) - set(computationnal_columns)"
   ]
  },
  {
   "cell_type": "markdown",
   "metadata": {},
   "source": [
    "### Fill na"
   ]
  },
  {
   "cell_type": "code",
   "execution_count": null,
   "metadata": {
    "ExecuteTime": {
     "end_time": "2019-07-30T05:53:28.043526Z",
     "start_time": "2019-07-30T05:53:27.752198Z"
    }
   },
   "outputs": [],
   "source": [
    "all_atom_features = all_atom_features.fillna(0.0)\n",
    "all_bond_features = all_bond_features.fillna(0.0)"
   ]
  },
  {
   "cell_type": "markdown",
   "metadata": {},
   "source": [
    "## Add bond distances"
   ]
  },
  {
   "cell_type": "code",
   "execution_count": null,
   "metadata": {
    "ExecuteTime": {
     "start_time": "2019-07-30T07:00:31.438Z"
    }
   },
   "outputs": [],
   "source": [
    "bond_xyz_0 = pd.merge(all_bond_features[['molecule_id', 'atom_index_0']], all_atom_features[['molecule_id', 'atom_index', 'x', 'y', 'z']], left_on = ['molecule_id', 'atom_index_0'], right_on = ['molecule_id', 'atom_index'], how = 'left')[['x', 'y', 'z']]\n",
    "bond_xyz_1 = pd.merge(all_bond_features[['molecule_id', 'atom_index_1']], all_atom_features[['molecule_id', 'atom_index', 'x', 'y', 'z']], left_on = ['molecule_id', 'atom_index_1'], right_on = ['molecule_id', 'atom_index'], how = 'left')[['x', 'y', 'z']]\n",
    "\n",
    "distance = (bond_xyz_0 - bond_xyz_1).values"
   ]
  },
  {
   "cell_type": "code",
   "execution_count": null,
   "metadata": {
    "ExecuteTime": {
     "start_time": "2019-07-30T07:00:31.693Z"
    }
   },
   "outputs": [],
   "source": [
    "distance = np.sqrt(np.square(distance).sum(axis = 1))"
   ]
  },
  {
   "cell_type": "code",
   "execution_count": null,
   "metadata": {
    "ExecuteTime": {
     "start_time": "2019-07-30T07:00:31.880Z"
    }
   },
   "outputs": [],
   "source": [
    "distance.shape"
   ]
  },
  {
   "cell_type": "code",
   "execution_count": null,
   "metadata": {
    "ExecuteTime": {
     "start_time": "2019-07-30T07:00:32.095Z"
    }
   },
   "outputs": [],
   "source": [
    "all_bond_features['distance'] = distance"
   ]
  },
  {
   "cell_type": "code",
   "execution_count": null,
   "metadata": {
    "ExecuteTime": {
     "start_time": "2019-07-30T07:00:32.325Z"
    }
   },
   "outputs": [],
   "source": [
    "BOND_FEATURES_COLUMNS += ['distance']"
   ]
  },
  {
   "cell_type": "markdown",
   "metadata": {},
   "source": [
    "## Add bond coordinates"
   ]
  },
  {
   "cell_type": "code",
   "execution_count": null,
   "metadata": {
    "ExecuteTime": {
     "start_time": "2019-07-30T07:01:24.525Z"
    }
   },
   "outputs": [],
   "source": [
    "coordinates = (bond_xyz_0 + bond_xyz_1) / 2\n",
    "all_bond_features['x_c'] = coordinates['x']\n",
    "all_bond_features['y_c'] = coordinates['y']\n",
    "all_bond_features['z_c'] = coordinates['z']"
   ]
  },
  {
   "cell_type": "code",
   "execution_count": null,
   "metadata": {
    "ExecuteTime": {
     "start_time": "2019-07-30T07:01:28.509Z"
    }
   },
   "outputs": [],
   "source": [
    "all_bond_features['x_0'] = bond_xyz_0['x']\n",
    "all_bond_features['y_0'] = bond_xyz_0['y']\n",
    "all_bond_features['z_0'] = bond_xyz_0['z']\n",
    "all_bond_features['x_1'] = bond_xyz_1['x']\n",
    "all_bond_features['y_1'] = bond_xyz_1['y']\n",
    "all_bond_features['z_1'] = bond_xyz_1['z']"
   ]
  },
  {
   "cell_type": "markdown",
   "metadata": {},
   "source": [
    "## Add edge_index"
   ]
  },
  {
   "cell_type": "code",
   "execution_count": null,
   "metadata": {
    "ExecuteTime": {
     "start_time": "2019-07-30T07:01:31.984Z"
    }
   },
   "outputs": [],
   "source": [
    "all_bond_features['edge_index'] = all_bond_features[['molecule_id']].groupby('molecule_id')['molecule_id'].transform(lambda x : np.arange(x.shape[0], dtype = int))"
   ]
  },
  {
   "cell_type": "markdown",
   "metadata": {},
   "source": [
    "## Add descriptors"
   ]
  },
  {
   "cell_type": "code",
   "execution_count": null,
   "metadata": {
    "ExecuteTime": {
     "start_time": "2019-07-30T07:02:02.622Z"
    }
   },
   "outputs": [],
   "source": [
    "atom_descriptors = all_atom_features[['molecule_id', 'atom', 'x', 'y', 'z']].set_index('molecule_id')\n",
    "atom_descriptors['index'] = np.arange(atom_descriptors.shape[0], dtype = int)\n",
    "\n",
    "bond_descriptors = all_bond_features[['molecule_id', 'atom_index_0', 'atom_index_1', 'type', 'scalar_coupling_constant', 'edge_index', 'x_0', 'y_0', 'z_0', 'x_1', 'y_1', 'z_1']].set_index('molecule_id')\n",
    "bond_descriptors['index'] = np.arange(bond_descriptors.shape[0], dtype = int)"
   ]
  },
  {
   "cell_type": "markdown",
   "metadata": {},
   "source": [
    "## Use transformers"
   ]
  },
  {
   "cell_type": "code",
   "execution_count": null,
   "metadata": {
    "ExecuteTime": {
     "end_time": "2019-07-30T05:53:29.611256Z",
     "start_time": "2019-07-30T05:53:29.082217Z"
    },
    "scrolled": false
   },
   "outputs": [],
   "source": [
    "print(\"global_transforms = [\")\n",
    "for c in all_global_features.columns:\n",
    "    unique_count = all_global_features[c].nunique()\n",
    "    if c in ['molecule_id', 'atom_index_0', 'atom_index_1', 'x', 'y', 'z', 'dataset', 'scalar_coupling_constant', 'atom_index']:\n",
    "        print(f\"    (\\\"{c}\\\", \\\"null\\\", {unique_count}),\")\n",
    "    else:\n",
    "        if unique_count == 1:\n",
    "            print(f\"    (\\\"{c}\\\", \\\"null\\\", {unique_count}),\")\n",
    "        elif unique_count < 50:\n",
    "            print(f\"    (\\\"{c}\\\", \\\"one_hot\\\", {unique_count}),\")\n",
    "        else:\n",
    "            print(f\"    (\\\"{c}\\\", \\\"bins&value\\\", {unique_count}),\")\n",
    "print(\"]\")\n",
    "print()\n",
    "\n",
    "print(\"bond_transforms = [\")\n",
    "for c in all_bond_features.columns:\n",
    "    unique_count = all_bond_features[c].nunique()\n",
    "    if c in ['molecule_id', 'atom_index_0', 'atom_index_1', 'x', 'y', 'z', 'dataset', 'scalar_coupling_constant', 'atom_index', 'edge_index']:\n",
    "        print(f\"    (\\\"{c}\\\", \\\"null\\\", {unique_count}),\")\n",
    "    else:\n",
    "        if unique_count == 1:\n",
    "            print(f\"    (\\\"{c}\\\", \\\"null\\\", {unique_count}),\")\n",
    "        elif unique_count < 50:\n",
    "            print(f\"    (\\\"{c}\\\", \\\"one_hot\\\", {unique_count}),\")\n",
    "        else:\n",
    "            print(f\"    (\\\"{c}\\\", \\\"bins&value\\\", {unique_count}),\")\n",
    "print(\"]\")\n",
    "print()\n",
    "print(\"atom_transforms = [\")\n",
    "for c in all_atom_features.columns:\n",
    "    unique_count = all_atom_features[c].nunique()\n",
    "    if c in ['molecule_id', 'atom_index_0', 'atom_index_1', 'x', 'y', 'z', 'dataset', 'scalar_coupling_constant', 'atom_index']:\n",
    "        print(f\"    (\\\"{c}\\\", \\\"null\\\", {unique_count}),\")\n",
    "    else:\n",
    "        if unique_count == 1:\n",
    "            print(f\"    (\\\"{c}\\\", \\\"null\\\", {unique_count}),\")\n",
    "        elif unique_count < 50:\n",
    "            print(f\"    (\\\"{c}\\\", \\\"one_hot\\\", {unique_count}),\")\n",
    "        else:\n",
    "            print(f\"    (\\\"{c}\\\", \\\"bins&value\\\", {unique_count}),\")\n",
    "print(\"]\")\n",
    "print()"
   ]
  },
  {
   "cell_type": "code",
   "execution_count": null,
   "metadata": {
    "ExecuteTime": {
     "end_time": "2019-07-30T05:53:29.690122Z",
     "start_time": "2019-07-30T05:53:29.614284Z"
    }
   },
   "outputs": [],
   "source": [
    "global_transforms = [\n",
    "    (\"molecule_id\", \"null\", 130775),\n",
    "    (\"NumAtoms\", \"one_hot\", 26),\n",
    "    (\"NumBonds\", \"one_hot\", 27),\n",
    "    (\"NumHvyAtoms\", \"one_hot\", 9),\n",
    "    (\"NumResidues\", \"null\", 1),\n",
    "    (\"NumRotors\", \"one_hot\", 7),\n",
    "    (\"GetMolWt\", \"bins&value\", 977),\n",
    "    (\"GetEnergy\", \"null\", 1),\n",
    "    (\"GetExactMass\", \"bins&value\", 698),\n",
    "    (\"GetTotalCharge\", \"null\", 1),\n",
    "    (\"GetTotalSpinMultiplicity\", \"one_hot\", 7),\n",
    "    (\"IsChiral\", \"one_hot\", 2),\n",
    "    (\"NumConformers\", \"null\", 1),\n",
    "]\n",
    "\n",
    "bond_transforms = [\n",
    "    (\"molecule_id\", \"null\", 130775),\n",
    "    (\"IsBond\", \"one_hot\", 2),\n",
    "    (\"GetBondOrder\", \"one_hot\", 4),\n",
    "    (\"GetEquibLength\", \"one_hot\", 44),\n",
    "    (\"GetLength\", \"bins&value\", 2439794),\n",
    "    (\"IsAromatic\", \"one_hot\", 2),\n",
    "    (\"IsInRing\", \"one_hot\", 2),\n",
    "    (\"IsRotor\", \"one_hot\", 2),\n",
    "    (\"IsAmide\", \"one_hot\", 2),\n",
    "    (\"IsPrimaryAmide\", \"one_hot\", 2),\n",
    "    (\"IsSecondaryAmide\", \"one_hot\", 2),\n",
    "    (\"IsTertiaryAmide\", \"one_hot\", 2),\n",
    "    (\"IsEster\", \"one_hot\", 2),\n",
    "    (\"IsCarbonyl\", \"one_hot\", 2),\n",
    "    (\"IsSingle\", \"one_hot\", 2),\n",
    "    (\"IsDouble\", \"one_hot\", 2),\n",
    "    (\"IsTriple\", \"one_hot\", 2),\n",
    "    (\"IsClosure\", \"one_hot\", 2),\n",
    "    (\"IsUp\", \"null\", 1),\n",
    "    (\"IsDown\", \"null\", 1),\n",
    "    (\"IsCisOrTrans\", \"null\", 1),\n",
    "    (\"IsDoubleBondGeometry\", \"one_hot\", 2),\n",
    "    (\"atom_index_0\", \"null\", 28),\n",
    "    (\"atom_index_1\", \"null\", 28),\n",
    "    (\"type\", \"one_hot\", 9),\n",
    "    (\"scalar_coupling_constant\", \"null\", 2182935),\n",
    "    (\"dataset\", \"null\", 3),\n",
    "    (\"dist_inv2\", \"bins&value\", 20655504),\n",
    "    (\"distance_closest_0\", \"bins&value\", 1502312),\n",
    "    (\"distance_closest_1\", \"bins&value\", 1519517),\n",
    "    (\"distance_farthest_0\", \"bins&value\", 2084472),\n",
    "    (\"distance_farthest_1\", \"bins&value\", 2050387),\n",
    "    (\"cos_c0_c1\", \"bins&value\", 15524389),\n",
    "    (\"cos_f0_f1\", \"bins&value\", 20433739),\n",
    "    (\"cos_c0_f0\", \"bins&value\", 2227874),\n",
    "    (\"cos_c1_f1\", \"bins&value\", 2227874),\n",
    "    (\"cos_center0_center1\", \"bins&value\", 20655504),\n",
    "    (\"cos_c0\", \"bins&value\", 19863686),\n",
    "    (\"cos_c1\", \"bins&value\", 19413981),\n",
    "    (\"cos_f0\", \"bins&value\", 19214284),\n",
    "    (\"cos_f1\", \"bins&value\", 20050530),\n",
    "    (\"cos_center0\", \"bins&value\", 20655496),\n",
    "    (\"cos_center1\", \"bins&value\", 20655490),\n",
    "    (\"molecule_atom_index_0_dist_mean\", \"bins&value\", 2227882),\n",
    "    (\"molecule_atom_index_0_dist_mean_diff\", \"bins&value\", 20524789),\n",
    "    (\"molecule_atom_index_0_dist_min\", \"bins&value\", 2227875),\n",
    "    (\"molecule_atom_index_0_dist_min_diff\", \"bins&value\", 18427633),\n",
    "    (\"molecule_atom_index_0_dist_std\", \"bins&value\", 2097108),\n",
    "    (\"molecule_atom_index_1_dist_mean\", \"bins&value\", 2227882),\n",
    "    (\"molecule_atom_index_1_dist_mean_diff\", \"bins&value\", 20524777),\n",
    "    (\"molecule_atom_index_1_dist_min\", \"bins&value\", 2227874),\n",
    "    (\"molecule_atom_index_1_dist_min_diff\", \"bins&value\", 18427629),\n",
    "    (\"molecule_atom_index_1_dist_std\", \"bins&value\", 2097108),\n",
    "    (\"molecule_type_dist_mean\", \"bins&value\", 942061),\n",
    "    (\"molecule_type_dist_mean_diff\", \"bins&value\", 20581261),\n",
    "    (\"distance\", \"bins&value\", 20655504),\n",
    "    (\"edge_index\", \"null\", 406),\n",
    "]\n",
    "\n",
    "atom_transforms = [\n",
    "    (\"molecule_id\", \"null\", 130775),\n",
    "    (\"GetFormalCharge\", \"null\", 1),\n",
    "    (\"GetSpinMultiplicity\", \"one_hot\", 3),\n",
    "    (\"GetAtomicMass\", \"one_hot\", 5),\n",
    "    (\"GetExactMass\", \"one_hot\", 5),\n",
    "    (\"GetAtomicNum\", \"one_hot\", 5),\n",
    "    (\"GetValence\", \"one_hot\", 4),\n",
    "    (\"GetHyb\", \"one_hot\", 4),\n",
    "    (\"GetImplicitValence\", \"one_hot\", 4),\n",
    "    (\"GetHvyValence\", \"one_hot\", 5),\n",
    "    (\"GetHeteroValence\", \"one_hot\", 4),\n",
    "    (\"GetPartialCharge\", \"bins&value\", 1754625),\n",
    "    (\"CountFreeOxygens\", \"one_hot\", 3),\n",
    "    (\"ImplicitHydrogenCount\", \"one_hot\", 2),\n",
    "    (\"ExplicitHydrogenCount\", \"one_hot\", 5),\n",
    "    (\"MemberOfRingCount\", \"one_hot\", 5),\n",
    "    (\"MemberOfRingSize\", \"one_hot\", 8),\n",
    "    (\"CountRingBonds\", \"one_hot\", 4),\n",
    "    (\"SmallestBondAngle\", \"bins&value\", 1073315),\n",
    "    (\"AverageBondAngle\", \"bins&value\", 1070999),\n",
    "    (\"BOSum\", \"one_hot\", 5),\n",
    "    (\"HasResidue\", \"null\", 1),\n",
    "    (\"IsAromatic\", \"one_hot\", 2),\n",
    "    (\"IsInRing\", \"one_hot\", 2),\n",
    "    (\"IsHeteroatom\", \"one_hot\", 2),\n",
    "    (\"IsNotCorH\", \"one_hot\", 2),\n",
    "    (\"IsCarboxylOxygen\", \"one_hot\", 2),\n",
    "    (\"IsPhosphateOxygen\", \"null\", 1),\n",
    "    (\"IsSulfateOxygen\", \"null\", 1),\n",
    "    (\"IsNitroOxygen\", \"one_hot\", 2),\n",
    "    (\"IsAmideNitrogen\", \"one_hot\", 2),\n",
    "    (\"IsPolarHydrogen\", \"one_hot\", 2),\n",
    "    (\"IsNonPolarHydrogen\", \"one_hot\", 2),\n",
    "    (\"IsAromaticNOxide\", \"null\", 1),\n",
    "    (\"IsChiral\", \"one_hot\", 2),\n",
    "    (\"IsAxial\", \"one_hot\", 2),\n",
    "    (\"IsHbondAcceptor\", \"one_hot\", 2),\n",
    "    (\"IsHbondDonor\", \"one_hot\", 2),\n",
    "    (\"IsHbondDonorH\", \"one_hot\", 2),\n",
    "    (\"HasAlphaBetaUnsat\", \"one_hot\", 2),\n",
    "    (\"HasNonSingleBond\", \"one_hot\", 2),\n",
    "    (\"HasSingleBond\", \"one_hot\", 2),\n",
    "    (\"HasDoubleBond\", \"one_hot\", 2),\n",
    "    (\"HasAromaticBond\", \"null\", 1),\n",
    "    (\"x\", \"null\", 2358441),\n",
    "    (\"y\", \"null\", 2358364),\n",
    "    (\"z\", \"null\", 2358421),\n",
    "    (\"atom\", \"one_hot\", 5),\n",
    "    (\"atom_index\", \"null\", 29)\n",
    "]"
   ]
  },
  {
   "cell_type": "markdown",
   "metadata": {},
   "source": [
    "### compute feature names"
   ]
  },
  {
   "cell_type": "code",
   "execution_count": null,
   "metadata": {
    "ExecuteTime": {
     "end_time": "2019-07-30T05:53:29.696419Z",
     "start_time": "2019-07-30T05:53:29.692861Z"
    }
   },
   "outputs": [],
   "source": [
    "names = [[] for _ in range(6)]"
   ]
  },
  {
   "cell_type": "code",
   "execution_count": null,
   "metadata": {
    "ExecuteTime": {
     "end_time": "2019-07-30T05:53:29.705896Z",
     "start_time": "2019-07-30T05:53:29.699240Z"
    }
   },
   "outputs": [],
   "source": [
    "for group_i, feature_group in enumerate([global_transforms, atom_transforms, bond_transforms]):\n",
    "    for transform in feature_group:\n",
    "        transform_type = transform[1]\n",
    "        transform_name = transform[0]\n",
    "        if transform_type == 'bins&value':\n",
    "            names[group_i].append(f'{transform_name}_embedding')\n",
    "            names[group_i + 3].append(f'{transform_name}_numeric')\n",
    "        elif transform_type == 'one_hot':\n",
    "            names[group_i].append(f'{transform_name}_embedding')"
   ]
  },
  {
   "cell_type": "code",
   "execution_count": null,
   "metadata": {
    "ExecuteTime": {
     "end_time": "2019-07-30T05:53:29.713460Z",
     "start_time": "2019-07-30T05:53:29.708709Z"
    }
   },
   "outputs": [],
   "source": [
    "# Add atom xyz\n",
    "names[4] += ['x_numeric', 'y_numeric', 'z_numeric']\n",
    "# Add acsf\n",
    "names[4] += [f'acsf_{i}' for i in range(80)]\n",
    "# Add vector xyz\n",
    "names[5] += ['x_numeric', 'y_numeric', 'z_numeric']"
   ]
  },
  {
   "cell_type": "code",
   "execution_count": null,
   "metadata": {
    "ExecuteTime": {
     "end_time": "2019-07-30T05:53:29.721156Z",
     "start_time": "2019-07-30T05:53:29.716018Z"
    }
   },
   "outputs": [],
   "source": [
    "[len(e) for e in names]"
   ]
  },
  {
   "cell_type": "code",
   "execution_count": null,
   "metadata": {
    "ExecuteTime": {
     "end_time": "2019-07-30T05:53:29.732626Z",
     "start_time": "2019-07-30T05:53:29.723746Z"
    }
   },
   "outputs": [],
   "source": [
    "import pickle\n",
    "with open('processed_data/names_117.pkl', 'wb') as f:\n",
    "    pickle.dump(names, f)"
   ]
  },
  {
   "cell_type": "code",
   "execution_count": null,
   "metadata": {
    "ExecuteTime": {
     "start_time": "2019-07-30T07:02:12.254Z"
    }
   },
   "outputs": [],
   "source": [
    "from sklearn.preprocessing import KBinsDiscretizer, OneHotEncoder, StandardScaler\n",
    "from scipy.sparse import hstack, csr_matrix"
   ]
  },
  {
   "cell_type": "markdown",
   "metadata": {},
   "source": [
    "## Separate train and test"
   ]
  },
  {
   "cell_type": "code",
   "execution_count": null,
   "metadata": {
    "ExecuteTime": {
     "start_time": "2019-07-30T07:02:13.545Z"
    }
   },
   "outputs": [],
   "source": [
    "dataset = partial_edges[['molecule_name', 'molecule_id','dataset']].drop_duplicates('molecule_name')"
   ]
  },
  {
   "cell_type": "code",
   "execution_count": null,
   "metadata": {
    "ExecuteTime": {
     "start_time": "2019-07-30T07:02:13.791Z"
    },
    "scrolled": true
   },
   "outputs": [],
   "source": [
    "dataset['molecule_id'].max()"
   ]
  },
  {
   "cell_type": "code",
   "execution_count": null,
   "metadata": {
    "ExecuteTime": {
     "start_time": "2019-07-30T07:02:14.270Z"
    }
   },
   "outputs": [],
   "source": [
    "dataset['molecule_id'].value_counts().value_counts()"
   ]
  },
  {
   "cell_type": "code",
   "execution_count": null,
   "metadata": {
    "ExecuteTime": {
     "start_time": "2019-07-30T07:02:14.690Z"
    }
   },
   "outputs": [],
   "source": [
    "dataset.shape"
   ]
  },
  {
   "cell_type": "markdown",
   "metadata": {},
   "source": [
    "## Set types ids"
   ]
  },
  {
   "cell_type": "code",
   "execution_count": null,
   "metadata": {
    "ExecuteTime": {
     "start_time": "2019-07-30T07:02:15.707Z"
    }
   },
   "outputs": [],
   "source": [
    "encoder = OrdinalEncoder()\n",
    "bond_descriptors['type_id'] = 0\n",
    "bond_descriptors.loc[bond_descriptors['type'] != 'VOID', 'type_id'] = encoder.fit_transform(bond_descriptors.loc[bond_descriptors['type'] != 'VOID', ['type']])[:, 0]"
   ]
  },
  {
   "cell_type": "markdown",
   "metadata": {},
   "source": [
    "# Add bond distance"
   ]
  },
  {
   "cell_type": "code",
   "execution_count": null,
   "metadata": {
    "ExecuteTime": {
     "start_time": "2019-07-30T07:02:17.254Z"
    }
   },
   "outputs": [],
   "source": [
    "all_bond_features.head()"
   ]
  },
  {
   "cell_type": "code",
   "execution_count": null,
   "metadata": {
    "ExecuteTime": {
     "start_time": "2019-07-30T07:02:18.097Z"
    }
   },
   "outputs": [],
   "source": [
    "import networkx as nx"
   ]
  },
  {
   "cell_type": "code",
   "execution_count": null,
   "metadata": {
    "ExecuteTime": {
     "start_time": "2019-07-30T07:02:19.372Z"
    }
   },
   "outputs": [],
   "source": [
    "all_bond_features.shape"
   ]
  },
  {
   "cell_type": "code",
   "execution_count": null,
   "metadata": {
    "ExecuteTime": {
     "start_time": "2019-07-30T07:02:23.716Z"
    }
   },
   "outputs": [],
   "source": [
    "graph_atoms = all_atom_features[['molecule_id', 'atom_index']].groupby(\"molecule_id\")\n",
    "graph_bonds_directed = all_bond_features.loc[(all_bond_features['IsBond'] == 1), ['molecule_id', 'atom_index_0', 'atom_index_1', 'edge_index']].groupby('molecule_id')\n",
    "graph_edges_directed = all_bond_features[['molecule_id', 'atom_index_0', 'atom_index_1', 'edge_index']].groupby('molecule_id')"
   ]
  },
  {
   "cell_type": "code",
   "execution_count": null,
   "metadata": {
    "ExecuteTime": {
     "start_time": "2019-07-30T07:02:24.939Z"
    }
   },
   "outputs": [],
   "source": [
    "bond_distance = []\n",
    "\n",
    "for molecule_id in tqdm.tqdm_notebook(graph_atoms.groups):\n",
    "    nodes = graph_atoms.get_group(molecule_id)['atom_index'].values\n",
    "    bonds = graph_bonds_directed.get_group(molecule_id)[['atom_index_0', 'atom_index_1']].values\n",
    "    edges = graph_edges_directed.get_group(molecule_id)[['atom_index_0', 'atom_index_1']].values\n",
    "    \n",
    "    G = nx.Graph()\n",
    "    G.add_nodes_from(nodes)\n",
    "    G.add_edges_from(bonds)\n",
    "    \n",
    "    for start, end in edges:\n",
    "        d = nx.dijkstra_path_length(G, start, end)\n",
    "        bond_distance.append(d)\n",
    "    "
   ]
  },
  {
   "cell_type": "code",
   "execution_count": null,
   "metadata": {
    "ExecuteTime": {
     "end_time": "2019-07-30T08:24:07.577375Z",
     "start_time": "2019-07-30T08:24:07.572400Z"
    }
   },
   "outputs": [],
   "source": [
    "len(bond_distance)"
   ]
  },
  {
   "cell_type": "code",
   "execution_count": null,
   "metadata": {
    "ExecuteTime": {
     "end_time": "2019-07-30T08:24:16.063876Z",
     "start_time": "2019-07-30T08:24:08.495007Z"
    }
   },
   "outputs": [],
   "source": [
    "bond_descriptors['bond_distance'] = bond_distance"
   ]
  },
  {
   "cell_type": "code",
   "execution_count": null,
   "metadata": {
    "ExecuteTime": {
     "end_time": "2019-07-30T08:24:16.412394Z",
     "start_time": "2019-07-30T08:24:16.071828Z"
    }
   },
   "outputs": [],
   "source": [
    "nx.draw_networkx(G, figsize = (10, 5))"
   ]
  },
  {
   "cell_type": "markdown",
   "metadata": {
    "ExecuteTime": {
     "end_time": "2019-07-29T15:48:04.416548Z",
     "start_time": "2019-07-29T15:48:04.413900Z"
    }
   },
   "source": [
    "# Add edge connectivity"
   ]
  },
  {
   "cell_type": "code",
   "execution_count": null,
   "metadata": {
    "ExecuteTime": {
     "end_time": "2019-07-30T09:43:33.687663Z",
     "start_time": "2019-07-30T09:43:33.665076Z"
    }
   },
   "outputs": [],
   "source": [
    "#@numba.njit\n",
    "def compute_edge_connectivity(edges_atom_index, edges_indexes, vector_edges, bonds_atom_index, bonds_indexes):\n",
    "    edges_connectivity = []\n",
    "    edges_link_vectors = []\n",
    "    \n",
    "    where_are_the_edges_connected = {}\n",
    "    which_is_the_first_atom = {}\n",
    "    \n",
    "    for bond_i in range(bonds_atom_index.shape[0]):\n",
    "        bond_index = bonds_indexes[bond_i]\n",
    "        \n",
    "        atom_index_0 = bonds_atom_index[bond_i, 0]\n",
    "        \n",
    "        if atom_index_0 in where_are_the_edges_connected:\n",
    "            where_are_the_edges_connected[atom_index_0] = np.concatenate((where_are_the_edges_connected[atom_index_0], np.array([bond_index])))\n",
    "        else:\n",
    "            where_are_the_edges_connected[atom_index_0] = np.array([bond_index])\n",
    "            \n",
    "        which_is_the_first_atom[bond_index] = atom_index_0\n",
    "        \n",
    "        atom_index_1 = bonds_atom_index[bond_i, 1]\n",
    "        \n",
    "        if atom_index_1 in where_are_the_edges_connected:\n",
    "            where_are_the_edges_connected[atom_index_1] = np.concatenate((where_are_the_edges_connected[atom_index_1], np.array([bond_index])))\n",
    "        else:\n",
    "            where_are_the_edges_connected[atom_index_1] = np.array([bond_index])\n",
    "    \n",
    "    for edge_i in range(edges_atom_index.shape[0]):\n",
    "        atom_index_0 = edges_atom_index[edge_i, 0]\n",
    "        atom_index_1 = edges_atom_index[edge_i, 1]\n",
    "        edge_index = edges_indexes[edge_i]\n",
    "        \n",
    "        edges_connected_to_atom_0 = where_are_the_edges_connected[atom_index_0]\n",
    "        edges_connected_to_atom_1 = where_are_the_edges_connected[atom_index_1]\n",
    "        \n",
    "        for edge in edges_connected_to_atom_0:\n",
    "            if edge != edge_i:\n",
    "                vector_0 = - vector_edges[edge_i]\n",
    "                \n",
    "                bond_atom_index_0 = which_is_the_first_atom[edge]\n",
    "                if bond_atom_index_0 == atom_index_0:\n",
    "                    vector_1 = vector_edges[edge]\n",
    "                else:\n",
    "                    vector_1 = - vector_edges[edge]\n",
    "                \n",
    "                edges_connectivity.append((edge_i, edge))\n",
    "                edges_link_vectors.append(np.concatenate((vector_0, vector_1)).reshape(1, -1))\n",
    "                \n",
    "        for edge in edges_connected_to_atom_1:\n",
    "            if edge != edge_i:\n",
    "                vector_0 = vector_edges[edge_i]\n",
    "            \n",
    "                bond_atom_index_0 = which_is_the_first_atom[edge]\n",
    "                if bond_atom_index_0 == atom_index_1:\n",
    "                    vector_1 = vector_edges[edge]\n",
    "                else:\n",
    "                    vector_1 = - vector_edges[edge]\n",
    "            \n",
    "                edges_connectivity.append((edge_i, edge))\n",
    "                edges_link_vectors.append(np.concatenate((vector_0, vector_1)).reshape(1, -1))\n",
    "                \n",
    "    return np.array(edges_connectivity), edges_link_vectors"
   ]
  },
  {
   "cell_type": "code",
   "execution_count": null,
   "metadata": {
    "ExecuteTime": {
     "end_time": "2019-07-30T09:42:32.685022Z",
     "start_time": "2019-07-30T09:42:23.249399Z"
    }
   },
   "outputs": [],
   "source": [
    "graph_bonds_directed = all_bond_features.loc[(all_bond_features['IsBond'] == 1), ['molecule_id', 'atom_index_0', 'atom_index_1', 'edge_index']].groupby('molecule_id')\n",
    "graph_edges_directed = all_bond_features[['molecule_id', 'atom_index_0', 'atom_index_1', 'edge_index', 'x_0', 'y_0', 'z_0', 'x_1', 'y_1', 'z_1']].groupby('molecule_id')"
   ]
  },
  {
   "cell_type": "code",
   "execution_count": null,
   "metadata": {},
   "outputs": [],
   "source": [
    "edges_connectivity = []\n",
    "all_vectors = []\n",
    "molecules_ids = []\n",
    "for molecule_id in tqdm.tqdm_notebook(graph_atoms.groups):\n",
    "    bonds = graph_bonds_directed.get_group(molecule_id)\n",
    "    edges = graph_edges_directed.get_group(molecule_id)\n",
    "    \n",
    "    vectors_edges = edges[['x_1', 'y_1', 'z_1']].values - edges[['x_0', 'y_0', 'z_0']].values\n",
    "    edge_connectivity, vectors = compute_edge_connectivity(edges[['atom_index_0', 'atom_index_1']].values, edges['edge_index'].values, vectors_edges, bonds[['atom_index_0', 'atom_index_1']].values, bonds['edge_index'].values)\n",
    "    vectors = np.concatenate(vectors, axis = 0)\n",
    "    \n",
    "    all_vectors.append(vectors)\n",
    "    edges_connectivity.append(edge_connectivity)\n",
    "    molecules_ids.append(np.full((edge_connectivity.shape[0], 1), molecule_id))"
   ]
  },
  {
   "cell_type": "code",
   "execution_count": null,
   "metadata": {
    "ExecuteTime": {
     "end_time": "2019-07-30T10:02:00.918387Z",
     "start_time": "2019-07-30T10:01:15.841283Z"
    }
   },
   "outputs": [],
   "source": [
    "edges_connectivity = np.concatenate(edges_connectivity, axis = 0)\n",
    "molecules_ids = np.concatenate(molecules_ids, axis = 0)\n",
    "all_vectors = np.concatenate(all_vectors, axis = 0)\n",
    "edges_connectivity = np.concatenate([molecules_ids, edges_connectivity, all_vectors], axis = 1)\n",
    "edges_connectivity = pd.DataFrame(edges_connectivity, columns = ['molecule_id', 'edge_index_0', 'edge_index_1', 'vx_0', 'vy_0', 'vz_0', 'vx_1', 'vy_1', 'vz_1'])"
   ]
  },
  {
   "cell_type": "code",
   "execution_count": null,
   "metadata": {
    "ExecuteTime": {
     "end_time": "2019-07-30T10:02:02.658014Z",
     "start_time": "2019-07-30T10:02:02.652884Z"
    }
   },
   "outputs": [],
   "source": [
    "edges_connectivity.shape"
   ]
  },
  {
   "cell_type": "code",
   "execution_count": null,
   "metadata": {
    "ExecuteTime": {
     "end_time": "2019-07-30T10:02:02.683091Z",
     "start_time": "2019-07-30T10:02:02.661067Z"
    }
   },
   "outputs": [],
   "source": [
    "edges_connectivity.head()"
   ]
  },
  {
   "cell_type": "markdown",
   "metadata": {},
   "source": [
    "# Add rings"
   ]
  },
  {
   "cell_type": "code",
   "execution_count": null,
   "metadata": {
    "ExecuteTime": {
     "end_time": "2019-07-30T10:02:02.705305Z",
     "start_time": "2019-07-30T10:02:02.685587Z"
    }
   },
   "outputs": [],
   "source": [
    "@numba.njit\n",
    "def compute_edge_cycle_connectivity(bonds_atom_index, bonds_indexes, cycles):\n",
    "    edge_map = {}\n",
    "    \n",
    "    for bond_i in range(bonds_atom_index.shape[0]):\n",
    "        edge_map[(bonds_atom_index[bond_i, 0], bonds_atom_index[bond_i, 1])] = bonds_indexes[bond_i]\n",
    "    \n",
    "    edges_connectivity = []\n",
    "    cycle_id = []\n",
    "    \n",
    "    for cycle_i in range(len(cycles) - 1):\n",
    "        cycle = cycles[cycle_i]\n",
    "        \n",
    "        for atom_i in range(cycle.shape[0]):\n",
    "            if atom_i == cycle.shape[0] - 1:\n",
    "                atom_index_0 = cycle[0]\n",
    "                atom_index_1 = cycle[atom_i]\n",
    "            else:\n",
    "                atom_index_0 = cycle[atom_i]\n",
    "                atom_index_1 = cycle[atom_i + 1]\n",
    "                \n",
    "            atom_index_0, atom_index_1 = min(atom_index_0, atom_index_1), max(atom_index_0, atom_index_1)\n",
    "            \n",
    "            edge_index = edge_map[(atom_index_0, atom_index_1)]\n",
    "            \n",
    "            edges_connectivity.append(edge_index)\n",
    "            cycle_id.append(cycle_i)\n",
    "        \n",
    "                \n",
    "    return np.array(edges_connectivity), np.array(cycle_id)"
   ]
  },
  {
   "cell_type": "code",
   "execution_count": null,
   "metadata": {
    "ExecuteTime": {
     "end_time": "2019-07-30T10:02:02.711084Z",
     "start_time": "2019-07-30T10:02:02.707439Z"
    }
   },
   "outputs": [],
   "source": [
    "import networkx as nx"
   ]
  },
  {
   "cell_type": "code",
   "execution_count": null,
   "metadata": {
    "ExecuteTime": {
     "end_time": "2019-07-30T10:02:07.176931Z",
     "start_time": "2019-07-30T10:02:02.713297Z"
    }
   },
   "outputs": [],
   "source": [
    "graph_atoms = all_atom_features[['molecule_id', 'atom_index']].groupby(\"molecule_id\")\n",
    "graph_bonds_directed = all_bond_features.loc[(all_bond_features['IsBond'] == 1), ['molecule_id', 'atom_index_0', 'atom_index_1', 'edge_index']].groupby('molecule_id')\n",
    "graph_edges_directed = all_bond_features[['molecule_id', 'atom_index_0', 'atom_index_1', 'edge_index']].groupby('molecule_id')"
   ]
  },
  {
   "cell_type": "code",
   "execution_count": null,
   "metadata": {
    "ExecuteTime": {
     "end_time": "2019-07-30T10:10:31.868143Z",
     "start_time": "2019-07-30T10:02:07.181089Z"
    },
    "scrolled": false
   },
   "outputs": [],
   "source": [
    "cycle_edges_connectivity = []\n",
    "cycle_ids = []\n",
    "molecule_ids = []\n",
    "for molecule_id in tqdm.tqdm_notebook(graph_atoms.groups):\n",
    "    nodes = graph_atoms.get_group(molecule_id)['atom_index'].values\n",
    "    graph_bonds = graph_bonds_directed.get_group(molecule_id)[['atom_index_0', 'atom_index_1']].values\n",
    "    bonds = graph_bonds_directed.get_group(molecule_id)\n",
    "    \n",
    "    G = nx.Graph()\n",
    "    G.add_nodes_from(nodes)\n",
    "    G.add_edges_from(graph_bonds)\n",
    "    \n",
    "    cycles = nx.cycle_basis(G)\n",
    "    cycles = [np.array(cycle) for cycle in cycles] + [np.array([0])]\n",
    "    \n",
    "    #if len(cycles) == 4:\n",
    "    #    break\n",
    "    \n",
    "    edge_connectivity, cycle_id = compute_edge_cycle_connectivity(bonds[['atom_index_0', 'atom_index_1']].values, bonds['edge_index'].values, cycles)\n",
    "    cycle_edges_connectivity.append(edge_connectivity)\n",
    "    cycle_ids.append(cycle_id)\n",
    "    molecule_ids.append(np.full_like(cycle_id, molecule_id))"
   ]
  },
  {
   "cell_type": "code",
   "execution_count": null,
   "metadata": {
    "ExecuteTime": {
     "end_time": "2019-07-30T10:10:32.412888Z",
     "start_time": "2019-07-30T10:10:31.870190Z"
    }
   },
   "outputs": [],
   "source": [
    "cycle_edges_connectivity = np.concatenate(cycle_edges_connectivity).reshape(-1, 1)\n",
    "cycle_ids = np.concatenate(cycle_ids).reshape(-1, 1)\n",
    "molecule_ids = np.concatenate(molecule_ids).reshape(-1, 1)\n",
    "cycles = np.concatenate([molecule_ids, cycle_edges_connectivity, cycle_ids], axis = 1)\n",
    "\n",
    "cycles = pd.DataFrame(cycles, columns = ['molecule_id', 'edge_index', 'cycle_id'])"
   ]
  },
  {
   "cell_type": "code",
   "execution_count": null,
   "metadata": {
    "ExecuteTime": {
     "end_time": "2019-07-30T10:11:29.936040Z",
     "start_time": "2019-07-30T10:11:29.923664Z"
    }
   },
   "outputs": [],
   "source": [
    "cycles.head(10)"
   ]
  },
  {
   "cell_type": "code",
   "execution_count": null,
   "metadata": {
    "ExecuteTime": {
     "end_time": "2019-07-30T10:10:32.459969Z",
     "start_time": "2019-07-30T10:10:32.455743Z"
    }
   },
   "outputs": [],
   "source": [
    "cycles.shape"
   ]
  },
  {
   "cell_type": "code",
   "execution_count": null,
   "metadata": {
    "ExecuteTime": {
     "end_time": "2019-07-30T10:10:32.806400Z",
     "start_time": "2019-07-30T10:10:32.462225Z"
    }
   },
   "outputs": [],
   "source": [
    "nx.draw_networkx(G, figsize = (10, 5))"
   ]
  },
  {
   "cell_type": "markdown",
   "metadata": {},
   "source": [
    "## Save"
   ]
  },
  {
   "cell_type": "code",
   "execution_count": null,
   "metadata": {
    "ExecuteTime": {
     "end_time": "2019-07-30T10:12:28.363184Z",
     "start_time": "2019-07-30T10:11:52.501046Z"
    }
   },
   "outputs": [],
   "source": [
    "atom_descriptors.to_pickle(script_dir + '/processed_data/atom_descriptors_117.pkl')\n",
    "bond_descriptors.to_pickle(script_dir + '/processed_data/bond_descriptors_117.pkl')"
   ]
  },
  {
   "cell_type": "code",
   "execution_count": null,
   "metadata": {
    "ExecuteTime": {
     "end_time": "2019-07-30T10:12:31.189856Z",
     "start_time": "2019-07-30T10:12:31.142829Z"
    }
   },
   "outputs": [],
   "source": [
    "dataset.to_pickle(script_dir + '/processed_data/dataset_descriptor_117.pkl')"
   ]
  },
  {
   "cell_type": "code",
   "execution_count": null,
   "metadata": {
    "ExecuteTime": {
     "end_time": "2019-07-30T10:14:22.470551Z",
     "start_time": "2019-07-30T10:13:48.798672Z"
    }
   },
   "outputs": [],
   "source": [
    "cycles.to_pickle(script_dir + '/processed_data/cycles_117.pkl')\n",
    "edges_connectivity.to_hdf(script_dir + '/processed_data/edges_connectivity_117.pkl', 'data')"
   ]
  },
  {
   "cell_type": "code",
   "execution_count": null,
   "metadata": {
    "ExecuteTime": {
     "end_time": "2019-07-30T10:15:52.740515Z",
     "start_time": "2019-07-30T10:14:34.913710Z"
    }
   },
   "outputs": [],
   "source": [
    "e = pd.read_hdf(script_dir + '/processed_data/edges_connectivity_117.pkl', 'data')"
   ]
  },
  {
   "cell_type": "code",
   "execution_count": null,
   "metadata": {
    "ExecuteTime": {
     "end_time": "2019-07-30T10:16:05.716373Z",
     "start_time": "2019-07-30T10:16:05.692311Z"
    }
   },
   "outputs": [],
   "source": [
    "e.head()"
   ]
  },
  {
   "cell_type": "markdown",
   "metadata": {},
   "source": [
    "### Empty memory"
   ]
  },
  {
   "cell_type": "code",
   "execution_count": null,
   "metadata": {
    "ExecuteTime": {
     "end_time": "2019-07-30T06:58:03.162852Z",
     "start_time": "2019-07-30T06:58:03.160143Z"
    }
   },
   "outputs": [],
   "source": [
    "Out = {}"
   ]
  },
  {
   "cell_type": "code",
   "execution_count": null,
   "metadata": {
    "ExecuteTime": {
     "end_time": "2019-07-30T06:58:04.018679Z",
     "start_time": "2019-07-30T06:58:04.012874Z"
    }
   },
   "outputs": [],
   "source": [
    "print([e for e in list(locals().keys()) if e[0] != '_'])"
   ]
  },
  {
   "cell_type": "code",
   "execution_count": null,
   "metadata": {
    "ExecuteTime": {
     "end_time": "2019-07-30T06:58:06.081129Z",
     "start_time": "2019-07-30T06:58:06.076804Z"
    }
   },
   "outputs": [],
   "source": [
    "del nodes\n",
    "del train\n",
    "del test\n",
    "del partial_edges\n",
    "del atom_count\n",
    "del all_edges\n",
    "del global_features\n",
    "del atom_features\n",
    "del bond_features\n",
    "del indexed_nodes\n",
    "del positions\n",
    "del molecules_index\n",
    "del merge_1\n",
    "del merge_2\n",
    "del c\n",
    "del bond_xyz_0\n",
    "del bond_xyz_1\n",
    "del distance\n",
    "del unique_count\n",
    "del atom_descriptors\n",
    "del bond_descriptors\n",
    "del dataset"
   ]
  },
  {
   "cell_type": "code",
   "execution_count": null,
   "metadata": {
    "ExecuteTime": {
     "end_time": "2019-07-30T06:58:07.584342Z",
     "start_time": "2019-07-30T06:58:07.083884Z"
    }
   },
   "outputs": [],
   "source": [
    "import gc\n",
    "gc.collect()"
   ]
  },
  {
   "cell_type": "code",
   "execution_count": null,
   "metadata": {
    "ExecuteTime": {
     "end_time": "2019-07-26T12:40:47.892131Z",
     "start_time": "2019-07-26T12:40:47.889854Z"
    }
   },
   "outputs": [],
   "source": [
    "from numpy import savez_compressed, load"
   ]
  },
  {
   "cell_type": "code",
   "execution_count": null,
   "metadata": {
    "ExecuteTime": {
     "end_time": "2019-07-26T12:40:50.130629Z",
     "start_time": "2019-07-26T12:40:50.128528Z"
    }
   },
   "outputs": [],
   "source": [
    "from sklearn.preprocessing import QuantileTransformer"
   ]
  },
  {
   "cell_type": "code",
   "execution_count": null,
   "metadata": {
    "ExecuteTime": {
     "end_time": "2019-07-26T12:40:59.002255Z",
     "start_time": "2019-07-26T12:40:58.994883Z"
    }
   },
   "outputs": [],
   "source": [
    "def transform(to_transform, transform_infos, filename):\n",
    "    output_transform_numeric = []\n",
    "    output_transform_embeddings = []\n",
    "\n",
    "    for transform_info in transform_infos:\n",
    "        column = transform_info[0]\n",
    "        if transform_info[1] == 'one_hot':\n",
    "            encoder = OrdinalEncoder()\n",
    "            transform = encoder.fit_transform(to_transform[[column]].astype(str))\n",
    "            output_transform_embeddings.append(transform)\n",
    "            print(transform_info, transform.shape[1])\n",
    "\n",
    "        if transform_info[1] == 'bins&value':\n",
    "            encoder = KBinsDiscretizer(n_bins = 25, encode = 'ordinal')\n",
    "            transform = encoder.fit_transform(to_transform[[column]])\n",
    "            output_transform_embeddings.append(transform)\n",
    "            print(transform_info, transform.shape[1])\n",
    "            \n",
    "            encoder = QuantileTransformer()\n",
    "            transform = encoder.fit_transform(to_transform[[column]])\n",
    "            output_transform_numeric.append(transform)\n",
    "            print(transform_info, transform.shape[1])\n",
    "\n",
    "        if transform_info[1] == 'identity':\n",
    "            encoder = QuantileTransformer()\n",
    "            transform = encoder.fit_transform(to_transform[[column]])\n",
    "            output_transform_numeric.append(transform)\n",
    "            print(transform_info, transform.shape[1])\n",
    "\n",
    "    base_index = 0\n",
    "    for column in output_transform_embeddings:\n",
    "        max_index = column.max() + 1\n",
    "        column += base_index\n",
    "        base_index += max_index\n",
    "            \n",
    "    output_transform_numeric = np.concatenate(output_transform_numeric, axis = 1)\n",
    "    output_transform_embeddings = np.concatenate(output_transform_embeddings, axis = 1).astype(np.int32)\n",
    "\n",
    "    savez_compressed(filename, embeddings = output_transform_embeddings, numeric = output_transform_numeric)"
   ]
  },
  {
   "cell_type": "code",
   "execution_count": null,
   "metadata": {
    "ExecuteTime": {
     "end_time": "2019-07-26T13:05:38.689971Z",
     "start_time": "2019-07-26T12:41:12.580823Z"
    },
    "scrolled": false
   },
   "outputs": [],
   "source": [
    "transform(all_global_features, global_transforms, script_dir + '/processed_data/global_116.npz')\n",
    "del all_global_features, global_transforms\n",
    "gc.collect()\n",
    "\n",
    "transform(all_atom_features, atom_transforms, script_dir + '/processed_data/atom_116.npz')\n",
    "del all_atom_features, atom_transforms\n",
    "gc.collect()\n",
    "\n",
    "transform(all_bond_features, bond_transforms, script_dir + '/processed_data/bond_116.npz')\n",
    "del all_bond_features, bond_transforms\n",
    "gc.collect()"
   ]
  },
  {
   "cell_type": "code",
   "execution_count": null,
   "metadata": {},
   "outputs": [],
   "source": [
    "import h5py\n",
    "\n",
    "import numpy as np\n",
    "\n",
    "for type_file in ['atom', 'global', 'bond']:\n",
    "    array_group = load(f'{script_dir}/processed_data/{type_file}_116.npz')\n",
    "    h5_file = h5py.File(f'{script_dir}/processed_data/{type_file}_116.h5')\n",
    "    \n",
    "    h5_file.create_dataset('numeric', data = array_group.get('numeric').astype(np.float32))\n",
    "    h5_file.create_dataset('embeddings', data = array_group.get('embeddings').astype(np.int32))\n",
    "    \n",
    "    h5_file.close()"
   ]
  }
 ],
 "metadata": {
  "kernelspec": {
   "display_name": "Python 3",
   "language": "python",
   "name": "python3"
  },
  "language_info": {
   "codemirror_mode": {
    "name": "ipython",
    "version": 3
   },
   "file_extension": ".py",
   "mimetype": "text/x-python",
   "name": "python",
   "nbconvert_exporter": "python",
   "pygments_lexer": "ipython3",
   "version": "3.7.3"
  },
  "toc": {
   "base_numbering": 1,
   "nav_menu": {},
   "number_sections": true,
   "sideBar": true,
   "skip_h1_title": false,
   "title_cell": "Table of Contents",
   "title_sidebar": "Contents",
   "toc_cell": false,
   "toc_position": {
    "height": "calc(100% - 180px)",
    "left": "10px",
    "top": "150px",
    "width": "304.8px"
   },
   "toc_section_display": true,
   "toc_window_display": true
  },
  "toc-showcode": false,
  "toc-showmarkdowntxt": true
 },
 "nbformat": 4,
 "nbformat_minor": 2
}
