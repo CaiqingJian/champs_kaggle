{
 "cells": [
  {
   "cell_type": "code",
   "execution_count": 1,
   "metadata": {
    "ExecuteTime": {
     "end_time": "2019-08-17T18:50:15.578220Z",
     "start_time": "2019-08-17T18:50:15.554354Z"
    }
   },
   "outputs": [],
   "source": [
    "%load_ext autoreload\n",
    "%autoreload 2"
   ]
  },
  {
   "cell_type": "code",
   "execution_count": 2,
   "metadata": {
    "ExecuteTime": {
     "end_time": "2019-08-17T18:50:18.037828Z",
     "start_time": "2019-08-17T18:50:15.579610Z"
    }
   },
   "outputs": [
    {
     "name": "stderr",
     "output_type": "stream",
     "text": [
      "/opt/conda/lib/python3.7/site-packages/tqdm/autonotebook/__init__.py:14: TqdmExperimentalWarning: Using `tqdm.autonotebook.tqdm` in notebook mode. Use `tqdm.tqdm` instead to force console mode (e.g. in jupyter console)\n",
      "  \" (e.g. in jupyter console)\", TqdmExperimentalWarning)\n"
     ]
    }
   ],
   "source": [
    "import os.path as osp\n",
    "from tqdm.autonotebook import tqdm\n",
    "import torch\n",
    "import torch.nn.functional as F\n",
    "from torch.nn import Sequential, Linear, ReLU, GRU\n",
    "\n",
    "import torch_geometric.transforms as T\n",
    "from torch_geometric.data import DataLoader"
   ]
  },
  {
   "cell_type": "code",
   "execution_count": 3,
   "metadata": {
    "ExecuteTime": {
     "end_time": "2019-08-17T18:50:18.684042Z",
     "start_time": "2019-08-17T18:50:18.040237Z"
    }
   },
   "outputs": [],
   "source": [
    "import pandas as pd\n",
    "import numpy as np"
   ]
  },
  {
   "cell_type": "code",
   "execution_count": 4,
   "metadata": {
    "ExecuteTime": {
     "end_time": "2019-08-17T18:50:18.720102Z",
     "start_time": "2019-08-17T18:50:18.685980Z"
    }
   },
   "outputs": [],
   "source": [
    "from sklearn.model_selection import train_test_split, GroupShuffleSplit"
   ]
  },
  {
   "cell_type": "code",
   "execution_count": 5,
   "metadata": {
    "ExecuteTime": {
     "end_time": "2019-08-17T18:50:18.753906Z",
     "start_time": "2019-08-17T18:50:18.721538Z"
    }
   },
   "outputs": [],
   "source": [
    "from torch.utils.data import Subset"
   ]
  },
  {
   "cell_type": "code",
   "execution_count": 6,
   "metadata": {
    "ExecuteTime": {
     "end_time": "2019-08-17T18:50:18.848030Z",
     "start_time": "2019-08-17T18:50:18.755375Z"
    }
   },
   "outputs": [],
   "source": [
    "from kaggle_champs import constants"
   ]
  },
  {
   "cell_type": "markdown",
   "metadata": {},
   "source": [
    "# Load and preprocessing data"
   ]
  },
  {
   "cell_type": "markdown",
   "metadata": {},
   "source": [
    "## Load data"
   ]
  },
  {
   "cell_type": "code",
   "execution_count": 7,
   "metadata": {
    "ExecuteTime": {
     "end_time": "2019-08-17T18:50:22.183989Z",
     "start_time": "2019-08-17T18:50:18.849892Z"
    }
   },
   "outputs": [],
   "source": [
    "train = pd.read_csv('./data/train.csv')"
   ]
  },
  {
   "cell_type": "code",
   "execution_count": 8,
   "metadata": {
    "ExecuteTime": {
     "end_time": "2019-08-17T18:50:22.230318Z",
     "start_time": "2019-08-17T18:50:22.186895Z"
    }
   },
   "outputs": [],
   "source": [
    "y_mean = train.scalar_coupling_constant.mean()"
   ]
  },
  {
   "cell_type": "code",
   "execution_count": 9,
   "metadata": {
    "ExecuteTime": {
     "end_time": "2019-08-17T18:50:22.274989Z",
     "start_time": "2019-08-17T18:50:22.232333Z"
    }
   },
   "outputs": [],
   "source": [
    "y_std = train.scalar_coupling_constant.std()"
   ]
  },
  {
   "cell_type": "code",
   "execution_count": 10,
   "metadata": {
    "ExecuteTime": {
     "end_time": "2019-08-17T18:50:23.071318Z",
     "start_time": "2019-08-17T18:50:22.276369Z"
    }
   },
   "outputs": [
    {
     "data": {
      "text/plain": [
       "type\n",
       "1JHC    2.548219\n",
       "1JHN    2.275415\n",
       "2JHC    0.999041\n",
       "2JHH    0.983063\n",
       "2JHN    1.086673\n",
       "3JHC    0.911788\n",
       "3JHH    1.122420\n",
       "3JHN   -0.033818\n",
       "dtype: float64"
      ]
     },
     "execution_count": 10,
     "metadata": {},
     "output_type": "execute_result"
    }
   ],
   "source": [
    "np.log((train.scalar_coupling_constant - train.type.map(train.groupby('type').scalar_coupling_constant.mean())).abs().groupby(train.type).mean())"
   ]
  },
  {
   "cell_type": "markdown",
   "metadata": {},
   "source": [
    "## Split train valid"
   ]
  },
  {
   "cell_type": "code",
   "execution_count": 11,
   "metadata": {
    "ExecuteTime": {
     "end_time": "2019-08-17T18:50:23.240220Z",
     "start_time": "2019-08-17T18:50:23.072487Z"
    }
   },
   "outputs": [],
   "source": [
    "molecules = train.molecule_name.drop_duplicates().sort_values()"
   ]
  },
  {
   "cell_type": "code",
   "execution_count": 12,
   "metadata": {
    "ExecuteTime": {
     "end_time": "2019-08-17T18:50:23.282232Z",
     "start_time": "2019-08-17T18:50:23.242165Z"
    },
    "scrolled": true
   },
   "outputs": [],
   "source": [
    "train_ind, valid_ind = train_test_split(np.arange(len(molecules)),\n",
    "                                        test_size=5000,\n",
    "                                        random_state=1234)"
   ]
  },
  {
   "cell_type": "code",
   "execution_count": 13,
   "metadata": {
    "ExecuteTime": {
     "end_time": "2019-08-17T18:50:23.328920Z",
     "start_time": "2019-08-17T18:50:23.283625Z"
    }
   },
   "outputs": [],
   "source": [
    "assert not set(train_ind).intersection(valid_ind)"
   ]
  },
  {
   "cell_type": "code",
   "execution_count": 14,
   "metadata": {
    "ExecuteTime": {
     "end_time": "2019-08-17T18:50:23.365837Z",
     "start_time": "2019-08-17T18:50:23.330420Z"
    },
    "scrolled": true
   },
   "outputs": [
    {
     "data": {
      "text/plain": [
       "(80003, 5000)"
      ]
     },
     "execution_count": 14,
     "metadata": {},
     "output_type": "execute_result"
    }
   ],
   "source": [
    "len(train_ind), len(valid_ind)"
   ]
  },
  {
   "cell_type": "markdown",
   "metadata": {},
   "source": [
    "## Create train valid subet"
   ]
  },
  {
   "cell_type": "code",
   "execution_count": 15,
   "metadata": {
    "ExecuteTime": {
     "end_time": "2019-08-17T18:50:23.412616Z",
     "start_time": "2019-08-17T18:50:23.367780Z"
    }
   },
   "outputs": [
    {
     "name": "stdout",
     "output_type": "stream",
     "text": [
      "[19669 26783  1698 47278 33476 59113 40999 64242 25723 71229]\n",
      "[55624 62327 36561 67391 19447 20288 70596 59541 32479 52121]\n"
     ]
    }
   ],
   "source": [
    "# Check reproducibility\n",
    "rs = np.random.RandomState(seed=1234)\n",
    "print(rs.choice(train_ind, 10))\n",
    "print(rs.choice(valid_ind, 10))"
   ]
  },
  {
   "cell_type": "code",
   "execution_count": 16,
   "metadata": {
    "ExecuteTime": {
     "end_time": "2019-08-17T18:50:24.036754Z",
     "start_time": "2019-08-17T18:50:23.414274Z"
    }
   },
   "outputs": [],
   "source": [
    "train_data = train.loc[train.molecule_name.isin(molecules.iloc[train_ind])]\n",
    "val_data = train.loc[train.molecule_name.isin(molecules.iloc[valid_ind])]"
   ]
  },
  {
   "cell_type": "markdown",
   "metadata": {},
   "source": [
    "## Create dataset"
   ]
  },
  {
   "cell_type": "code",
   "execution_count": 17,
   "metadata": {
    "ExecuteTime": {
     "end_time": "2019-08-17T18:50:24.267207Z",
     "start_time": "2019-08-17T18:50:24.039508Z"
    },
    "scrolled": true
   },
   "outputs": [],
   "source": [
    "from kaggle_champs.dataset import ChampsDataset"
   ]
  },
  {
   "cell_type": "code",
   "execution_count": 18,
   "metadata": {
    "ExecuteTime": {
     "end_time": "2019-08-17T18:50:24.329216Z",
     "start_time": "2019-08-17T18:50:24.269370Z"
    }
   },
   "outputs": [],
   "source": [
    "import os\n",
    "import numpy as np\n",
    "import openbabel\n",
    "import torch\n",
    "\n",
    "from torch_geometric.data import Data\n",
    "from torch.utils.data import Dataset\n",
    "from tqdm.autonotebook import tqdm\n",
    "from kaggle_champs.dataset import mol_to_data_v2"
   ]
  },
  {
   "cell_type": "code",
   "execution_count": 19,
   "metadata": {
    "ExecuteTime": {
     "end_time": "2019-08-17T18:50:24.389832Z",
     "start_time": "2019-08-17T18:50:24.330884Z"
    }
   },
   "outputs": [],
   "source": [
    "class MoleculeDataset(Dataset):\n",
    "    def __init__(self, metadata=None, base_dir=None, transform=None):\n",
    "        self.molecules = metadata.molecule_name.unique()\n",
    "        self.metadata = dict([\n",
    "            (ind, df) for ind, df in tqdm(metadata.groupby('molecule_name'))\n",
    "        ])\n",
    "        self.base_dir = base_dir\n",
    "        self.transform = transform\n",
    "        self.conversion = openbabel.OBConversion()\n",
    "        self.conversion.SetInAndOutFormats(\"xyz\", \"mdl\")\n",
    "\n",
    "    def __len__(self):\n",
    "        return len(self.metadata)\n",
    "\n",
    "    def __getitem__(self, index):\n",
    "        mol = openbabel.OBMol()\n",
    "        mol_name = self.molecules[index]\n",
    "\n",
    "        xyz_file = os.path.join(self.base_dir, f'{mol_name}.xyz')\n",
    "        if not os.path.exists(xyz_file):\n",
    "            raise FileNotFoundError(f'Expecting file {xyz_file} not found')\n",
    "        self.conversion.ReadFile(mol, xyz_file)\n",
    "\n",
    "        data = mol_to_data_v2(mol)\n",
    "        data.mol_ind = torch.tensor([[index]], dtype=torch.long)\n",
    "        \n",
    "        data = self._add_targets(data, metadata=self.metadata[mol_name])\n",
    "        \n",
    "        data.graph = nx.Graph()\n",
    "        data.graph.add_edges_from(data.edge_index.transpose(1,0).cpu().numpy())\n",
    "        \n",
    "        if self.transform:\n",
    "            data = self.transform(data)\n",
    "            \n",
    "        if hasattr(data, 'graph'):\n",
    "            del data.graph\n",
    "        return data\n",
    "    \n",
    "    def _add_inverse_couple(self, couples):\n",
    "        inverse_direction = couples.rename(\n",
    "            {'atom_index_1': 'atom_index_0', \n",
    "             'atom_index_0': 'atom_index_1'}, \n",
    "            axis=1)\n",
    "        \n",
    "        couples = couples.append(\n",
    "            inverse_direction,\n",
    "            sort=False\n",
    "        )\n",
    "        couples = couples.sort_values(['atom_index_0',\n",
    "                                       'atom_index_1'])\n",
    "        \n",
    "        return couples\n",
    "    \n",
    "    def _add_y(self, data, couples):\n",
    "        if 'scalar_coupling_constant' in couples.columns:\n",
    "            data.y = torch.tensor(\n",
    "                couples['scalar_coupling_constant'].values,\n",
    "                dtype=torch.float).view(-1,1)\n",
    "        else:\n",
    "            data.y = torch.zeros((len(couples), 1), dtype=torch.float)\n",
    "        return data\n",
    "    \n",
    "    def _add_targets(self, data, metadata):\n",
    "        couples = metadata.copy()        \n",
    "        couples = self._add_inverse_couple(couples)\n",
    "        \n",
    "        \n",
    "        data.couples_ind = torch.tensor(\n",
    "            couples[['atom_index_0',\n",
    "                     'atom_index_1']].values,\n",
    "            dtype=torch.long)\n",
    "        \n",
    "        data = self._add_y(data, couples)\n",
    "        \n",
    "        data.type = torch.tensor(\n",
    "            couples['type'].map(constants.TYPES_DICT).values,\n",
    "            dtype=torch.long)\n",
    "        \n",
    "        data.sample_weight = torch.tensor(\n",
    "            couples['type'].map(constants.TYPES_WEIGHTS).values,\n",
    "            dtype=torch.float)\n",
    "        \n",
    "        return data"
   ]
  },
  {
   "cell_type": "code",
   "execution_count": 20,
   "metadata": {
    "ExecuteTime": {
     "end_time": "2019-08-17T18:50:24.454349Z",
     "start_time": "2019-08-17T18:50:24.391386Z"
    },
    "scrolled": true
   },
   "outputs": [],
   "source": [
    "from kaggle_champs.preprocessing import RandomRotation, AddVirtualEdges, AddEdgeDistanceAndDirection, SortTarget"
   ]
  },
  {
   "cell_type": "code",
   "execution_count": 21,
   "metadata": {
    "ExecuteTime": {
     "end_time": "2019-08-17T18:50:24.503502Z",
     "start_time": "2019-08-17T18:50:24.456670Z"
    }
   },
   "outputs": [],
   "source": [
    "import networkx as nx"
   ]
  },
  {
   "cell_type": "code",
   "execution_count": 22,
   "metadata": {
    "ExecuteTime": {
     "end_time": "2019-08-17T18:50:24.556269Z",
     "start_time": "2019-08-17T18:50:24.505832Z"
    }
   },
   "outputs": [],
   "source": [
    "class AddEdgeDistanceAndDirection:\n",
    "    def __init__(self, dist_noise=0., gauss_base_max=4, gauss_base_steps=20, keep=True):\n",
    "        self.dist_noise = dist_noise\n",
    "        self.gauss_base_max = gauss_base_max\n",
    "        self.gauss_base_steps = gauss_base_steps\n",
    "        self.keep = True\n",
    "        \n",
    "    def __call__(self, data):\n",
    "        (row, col), pos, edge_attr = data.edge_index, data.pos, data.edge_attr\n",
    "\n",
    "        dist = torch.norm(pos[col] - pos[row], p=2, dim=-1).view(-1, 1)\n",
    "        \n",
    "        if self.dist_noise > 0:\n",
    "            noise = 1 + torch.randn_like(dist, dtype=dist.dtype) * self.dist_noise\n",
    "            dist = dist * noise\n",
    "\n",
    "        direction = (pos[col] - pos[row]) / dist\n",
    "        if self.keep:\n",
    "            data.dist = dist\n",
    "            data.direction = direction\n",
    "        \n",
    "        base = torch.linspace(self.gauss_base_max/self.gauss_base_steps,\n",
    "                              self.gauss_base_max, \n",
    "                              self.gauss_base_steps, \n",
    "                              dtype=torch.float).view(1, -1)    # shape 1xn for broadcasting\n",
    "        \n",
    "        dist = torch.exp(-(dist - base) ** 2 / 0.5 ** 2)\n",
    "        \n",
    "        edge_attr = edge_attr.view(-1, 1) if edge_attr.dim() == 1 else edge_attr\n",
    "        data.edge_attr = torch.cat(\n",
    "                [edge_attr,\n",
    "                 dist.type_as(edge_attr),\n",
    "                 direction.type_as(edge_attr)],\n",
    "                dim=-1)      \n",
    "\n",
    "        return data"
   ]
  },
  {
   "cell_type": "code",
   "execution_count": 23,
   "metadata": {
    "ExecuteTime": {
     "end_time": "2019-08-17T18:50:24.607467Z",
     "start_time": "2019-08-17T18:50:24.559642Z"
    }
   },
   "outputs": [],
   "source": [
    "class AddBondLinks:\n",
    "    def __call__(self, data):\n",
    "        bonds_ind = data.bonds_edge_ind\n",
    "        \n",
    "        bonds_from = bonds_ind.view(-1, 1).repeat(1, (len(bonds_ind))).view(-1)\n",
    "        bonds_to = bonds_ind.view(-1).repeat(1, len(data.bonds_edge_ind)).view(-1)\n",
    "        bonds_links = torch.stack([bonds_from, bonds_to], dim=1)  # all couples, will filter\n",
    "        \n",
    "        filter_correct_common_node = (data.edge_index[:, bonds_from][1] == data.edge_index[:, bonds_to][0])\n",
    "        filter_remove_self_loop = (data.edge_index[:, bonds_from][0] != data.edge_index[:, bonds_to][1])\n",
    "        \n",
    "        data.bonds_links_edge_ind = bonds_links[filter_correct_common_node * filter_remove_self_loop]\n",
    "        return data"
   ]
  },
  {
   "cell_type": "code",
   "execution_count": 24,
   "metadata": {
    "ExecuteTime": {
     "end_time": "2019-08-17T18:50:24.656562Z",
     "start_time": "2019-08-17T18:50:24.610207Z"
    }
   },
   "outputs": [],
   "source": [
    "class AddCounts:\n",
    "    def __call__(self, data):\n",
    "        data.count_nodes = torch.tensor([[data.num_nodes]], dtype=torch.long)\n",
    "        data.count_edges = torch.tensor([[data.num_edges]], dtype=torch.long)\n",
    "        return data"
   ]
  },
  {
   "cell_type": "code",
   "execution_count": 25,
   "metadata": {
    "ExecuteTime": {
     "end_time": "2019-08-17T18:50:24.701353Z",
     "start_time": "2019-08-17T18:50:24.658360Z"
    }
   },
   "outputs": [],
   "source": [
    "class AddGlobalAttr:\n",
    "    def __init__(self):\n",
    "        pass\n",
    "\n",
    "    def __call__(self, data):\n",
    "        data.global_attr = torch.zeros((1, 1), dtype=torch.float)\n",
    "        return data"
   ]
  },
  {
   "cell_type": "markdown",
   "metadata": {
    "ExecuteTime": {
     "end_time": "2019-08-06T21:22:14.468130Z",
     "start_time": "2019-08-06T21:22:14.434048Z"
    }
   },
   "source": [
    "class AddCouplesInd:\n",
    "    def __call__(self, data):\n",
    "        node_from, node_to = data.couples_ind.transpose(1, 0)\n",
    "        edge_ind = node_from * (data.num_nodes-1) + node_to\n",
    "        edge_ind[node_from < node_to] = edge_ind[node_from < node_to] - 1\n",
    "        \n",
    "        data.couples_edge_ind = edge_ind.view(-1, 1)\n",
    "        assert torch.equal(data.edge_attr[data.mask], data.edge_attr[data.couples_edge_ind.view(-1)])\n",
    "        return data"
   ]
  },
  {
   "cell_type": "code",
   "execution_count": 26,
   "metadata": {
    "ExecuteTime": {
     "end_time": "2019-08-17T18:50:24.749985Z",
     "start_time": "2019-08-17T18:50:24.704141Z"
    }
   },
   "outputs": [],
   "source": [
    "class SortTarget:\n",
    "    def _get_index(self, data, row, col):\n",
    "        idx = row * (data.num_nodes-1) + col\n",
    "        idx[row < col] = idx[row < col] - 1\n",
    "        return idx\n",
    "    \n",
    "    def __call__(self, data):\n",
    "        target = torch.zeros((data.num_edges, data.y.size()[1]), dtype=torch.float)        \n",
    "        weights = torch.zeros((data.num_edges), dtype=torch.float)        \n",
    "        mask = torch.zeros((data.num_edges), dtype=torch.bool)      \n",
    "        types = torch.zeros((data.num_edges), dtype=torch.long)\n",
    "        \n",
    "        row, col = data.couples_ind.transpose(1,0)\n",
    "        indexes = self._get_index(data, row, col)\n",
    "        \n",
    "        mask[indexes] = True\n",
    "        weights[indexes] = data.sample_weight\n",
    "        target[indexes] = data.y\n",
    "        types[indexes] = data.type\n",
    "        \n",
    "        data.mask = mask\n",
    "        data.y = target[mask]\n",
    "        data.sample_weight = weights[mask]\n",
    "        data.type = types[mask]\n",
    "        \n",
    "        assert torch.equal(data.couples_ind, data.edge_index[:, mask].transpose(1,0))\n",
    "        data.couples_edge_ind = torch.arange(data.num_edges, dtype=torch.long)[mask].view(-1,1)\n",
    "        return data        "
   ]
  },
  {
   "cell_type": "code",
   "execution_count": 27,
   "metadata": {
    "ExecuteTime": {
     "end_time": "2019-08-17T18:50:24.798207Z",
     "start_time": "2019-08-17T18:50:24.751472Z"
    }
   },
   "outputs": [],
   "source": [
    "class AddBondPath:\n",
    "    def __call__(self, data):\n",
    "        # suffix _index to get node index adjustment\n",
    "        data.paths_index = self.find_paths(data).transpose(1,0)  \n",
    "        data.paths_edge_ind = torch.cat(\n",
    "            [self._nodes_to_edge_ind(data, data.paths_index[i], data.paths_index[i+1]) for i in range(3)], \n",
    "            dim=1)\n",
    "        return data\n",
    "    \n",
    "    def _nodes_to_edge_ind(self, data, node_from, node_to):\n",
    "        edge_ind = node_from * (data.num_nodes-1) + node_to\n",
    "        edge_ind[node_from < node_to] = edge_ind[node_from < node_to] - 1\n",
    "        return edge_ind.view(-1, 1)\n",
    "    \n",
    "    def find_paths(self, data):\n",
    "        assert hasattr(data, 'couples_ind')\n",
    "        assert hasattr(data, 'graph')\n",
    "\n",
    "        all_paths = nx.shortest_path(data.graph)\n",
    "        paths = []\n",
    "        for (from_, to_) in data.couples_ind.numpy():\n",
    "            path = torch.tensor(all_paths[from_][to_], dtype=torch.long).view(-1,1)\n",
    "            paths.append(path)\n",
    "\n",
    "        paths = torch.nn.utils.rnn.pad_sequence(paths, batch_first=True).squeeze()\n",
    "        if paths.size(1) < 4:\n",
    "            paths = torch.nn.functional.pad(paths, (0, 4 - paths.size(1)))\n",
    "        return paths"
   ]
  },
  {
   "cell_type": "code",
   "execution_count": 28,
   "metadata": {
    "ExecuteTime": {
     "end_time": "2019-08-17T18:50:24.841695Z",
     "start_time": "2019-08-17T18:50:24.800224Z"
    }
   },
   "outputs": [],
   "source": [
    "def correct_batch_edge_ind(batch):\n",
    "    offset_edge_ind = torch.zeros_like(batch.count_edges)\n",
    "    offset_edge_ind[1:] = batch.count_edges[:-1].cumsum(dim=0)\n",
    "    for k in ['bonds_edge_ind', 'bonds_links_edge_ind', 'paths_edge_ind', 'couples_edge_ind']:\n",
    "        if hasattr(batch, k):\n",
    "            batch[k] = batch[k] + offset_edge_ind[batch[k+'_batch']]\n",
    "    return batch"
   ]
  },
  {
   "cell_type": "code",
   "execution_count": 29,
   "metadata": {
    "ExecuteTime": {
     "end_time": "2019-08-17T18:50:43.621418Z",
     "start_time": "2019-08-17T18:50:24.843463Z"
    }
   },
   "outputs": [
    {
     "data": {
      "application/vnd.jupyter.widget-view+json": {
       "model_id": "b99e8aa785d54c6ab210c7908b05ac1a",
       "version_major": 2,
       "version_minor": 0
      },
      "text/plain": [
       "HBox(children=(IntProgress(value=0, max=80003), HTML(value='')))"
      ]
     },
     "metadata": {},
     "output_type": "display_data"
    },
    {
     "name": "stdout",
     "output_type": "stream",
     "text": [
      "\n"
     ]
    },
    {
     "data": {
      "application/vnd.jupyter.widget-view+json": {
       "model_id": "e624c70ef0fd47c784ea1479f3cd816c",
       "version_major": 2,
       "version_minor": 0
      },
      "text/plain": [
       "HBox(children=(IntProgress(value=0, max=5000), HTML(value='')))"
      ]
     },
     "metadata": {},
     "output_type": "display_data"
    },
    {
     "name": "stdout",
     "output_type": "stream",
     "text": [
      "\n"
     ]
    }
   ],
   "source": [
    "train_dataset = MoleculeDataset(metadata=train_data,\n",
    "                              base_dir=constants.STRUCT_DATA_PATH,\n",
    "                              transform=T.Compose([\n",
    "                                  AddBondPath(),\n",
    "                                  AddVirtualEdges(),\n",
    "                                  RandomRotation(),\n",
    "                                  AddEdgeDistanceAndDirection(\n",
    "                                      dist_noise=0.),\n",
    "                                  AddGlobalAttr(),\n",
    "                                  SortTarget(),\n",
    "                                  AddBondLinks(),\n",
    "                                  AddCounts(),     \n",
    "                              ]))\n",
    "\n",
    "val_dataset = MoleculeDataset(metadata=val_data,\n",
    "                            base_dir=constants.STRUCT_DATA_PATH,\n",
    "                            transform=T.Compose([\n",
    "                                AddBondPath(),\n",
    "                                AddVirtualEdges(),\n",
    "                                AddEdgeDistanceAndDirection(\n",
    "                                      dist_noise=0.),\n",
    "                                AddGlobalAttr(),\n",
    "                                SortTarget(),\n",
    "                                AddBondLinks(),\n",
    "                                AddCounts(),     \n",
    "                            ]))"
   ]
  },
  {
   "cell_type": "code",
   "execution_count": 30,
   "metadata": {
    "ExecuteTime": {
     "end_time": "2019-08-17T18:50:43.731090Z",
     "start_time": "2019-08-17T18:50:43.623248Z"
    },
    "scrolled": false
   },
   "outputs": [
    {
     "data": {
      "text/plain": [
       "FP16_Data(bonds_edge_ind=[20, 1], bonds_links_edge_ind=[36, 2], count_edges=[1, 1], count_nodes=[1, 1], couples_edge_ind=[86, 1], couples_ind=[86, 2], direction=[110, 3], dist=[110, 1], edge_attr=[110, 34], edge_index=[2, 110], global_attr=[1, 1], mask=[110], mol_ind=[1, 1], paths_edge_ind=[86, 3], paths_index=[4, 86], pos=[11, 3], sample_weight=[86], type=[86], x=[11, 28], y=[86, 1])"
      ]
     },
     "execution_count": 30,
     "metadata": {},
     "output_type": "execute_result"
    }
   ],
   "source": [
    "data = train_dataset[10]\n",
    "data"
   ]
  },
  {
   "cell_type": "markdown",
   "metadata": {},
   "source": [
    "# Model"
   ]
  },
  {
   "cell_type": "code",
   "execution_count": 31,
   "metadata": {
    "ExecuteTime": {
     "end_time": "2019-08-17T18:50:43.822788Z",
     "start_time": "2019-08-17T18:50:43.733754Z"
    }
   },
   "outputs": [],
   "source": [
    "from kaggle_champs.modelling import MegNetBlock, create_mlp_v2, MegNetBlock_v2, MegNetBlock_v3"
   ]
  },
  {
   "cell_type": "code",
   "execution_count": 32,
   "metadata": {
    "ExecuteTime": {
     "end_time": "2019-08-17T18:50:43.859148Z",
     "start_time": "2019-08-17T18:50:43.824008Z"
    }
   },
   "outputs": [],
   "source": [
    "from torch import nn"
   ]
  },
  {
   "cell_type": "code",
   "execution_count": 33,
   "metadata": {
    "ExecuteTime": {
     "end_time": "2019-08-17T18:50:43.894000Z",
     "start_time": "2019-08-17T18:50:43.860466Z"
    }
   },
   "outputs": [],
   "source": [
    "from torch_scatter import scatter_add"
   ]
  },
  {
   "cell_type": "code",
   "execution_count": 34,
   "metadata": {
    "ExecuteTime": {
     "end_time": "2019-08-17T18:50:43.933988Z",
     "start_time": "2019-08-17T18:50:43.895454Z"
    }
   },
   "outputs": [],
   "source": [
    "def gather_embedding(data, x_out, edge_out, u_out, couple_type):\n",
    "    n_bonds = int(couple_type[0])\n",
    "    couple_filter = (data.type == constants.TYPES_DICT[couple_type])\n",
    "    couples_edge_ind = data.couples_edge_ind.view(-1)\n",
    "    \n",
    "    merged = [\n",
    "        u_out[data.batch[data.edge_index[0][couples_edge_ind][couple_filter]]],\n",
    "    ]\n",
    "    if n_bonds > 1:\n",
    "        merged.append(edge_out[couples_edge_ind][couple_filter])\n",
    "        \n",
    "    node_ind = data.paths_index.transpose(1,0)[:, :n_bonds+1][couple_filter] # convert_node_ind(data, 'paths')[:, :n_bonds+1]\n",
    "    for i in range(n_bonds+1):\n",
    "        merged.append(x_out[node_ind[:,i]])\n",
    "        \n",
    "    for i in range(n_bonds):\n",
    "        edge_ind = data.paths_edge_ind[:,i] # convert_couple_to_edge_ind(data, data.paths_index[i], data.paths_index[i+1], data.paths_edge_ind_batch)\n",
    "        merged.append(edge_out[edge_ind[couple_filter]])\n",
    "    return torch.cat(merged, dim=1)"
   ]
  },
  {
   "cell_type": "code",
   "execution_count": 35,
   "metadata": {
    "ExecuteTime": {
     "end_time": "2019-08-17T18:50:43.976120Z",
     "start_time": "2019-08-17T18:50:43.935500Z"
    }
   },
   "outputs": [],
   "source": [
    "class OutputLayer_new(torch.nn.Module):\n",
    "    def __init__(self, rep_dim, dim, y_mean, y_std, couple_type):\n",
    "        super(OutputLayer_new, self).__init__()\n",
    "        self.scaling = torch.nn.Linear(1, 1)\n",
    "        self.scaling.bias = torch.nn.Parameter(torch.tensor(y_mean,\n",
    "                                                            dtype=torch.float),\n",
    "                                               requires_grad=False)\n",
    "        self.scaling.weight = torch.nn.Parameter(torch.tensor(\n",
    "            [[y_std]], dtype=torch.float),\n",
    "                                                 requires_grad=False)\n",
    "        self.couple_type = couple_type\n",
    "        n_bonds = int(couple_type[0])\n",
    "        \n",
    "        if n_bonds == 1:\n",
    "            input_dim = dim * (n_bonds + (n_bonds + 1) + 1)  # edges + nodes + u\n",
    "        else:\n",
    "            input_dim = dim * (n_bonds + (n_bonds + 1) + 2)  # edges + nodes + u + direct edge\n",
    "        \n",
    "        self.mlp = create_mlp_v2(\n",
    "            input_dim=input_dim,\n",
    "            output_dim=1,\n",
    "            hidden_dims=[input_dim//2, input_dim//4, input_dim//4],\n",
    "            normalization_cls=torch.nn.LayerNorm,\n",
    "            activation_cls=torch.nn.Softplus,\n",
    "            dropout_cls=torch.nn.Dropout,\n",
    "            dropout_prob=0.\n",
    "        )\n",
    "\n",
    "    def forward(self, data, x_out, edge_out, u_out):\n",
    "        in_ = gather_embedding(data, x_out, edge_out, u_out, self.couple_type)\n",
    "        out = self.mlp(in_)\n",
    "        out = self.scaling(out)\n",
    "        return out"
   ]
  },
  {
   "cell_type": "code",
   "execution_count": 36,
   "metadata": {
    "ExecuteTime": {
     "end_time": "2019-08-17T18:50:44.013017Z",
     "start_time": "2019-08-17T18:50:43.977368Z"
    }
   },
   "outputs": [],
   "source": [
    "from torch_scatter import scatter_mean"
   ]
  },
  {
   "cell_type": "code",
   "execution_count": 37,
   "metadata": {
    "ExecuteTime": {
     "end_time": "2019-08-17T18:50:44.052463Z",
     "start_time": "2019-08-17T18:50:44.014254Z"
    }
   },
   "outputs": [],
   "source": [
    "class EdgeAgg(torch.nn.Module):\n",
    "    def __init__(self, dim=32):\n",
    "        super(EdgeAgg, self).__init__()\n",
    "        self.body_mlp = nn.Sequential(\n",
    "            create_mlp_v2(\n",
    "                input_dim=dim,\n",
    "                output_dim=dim*2,\n",
    "                hidden_dims=[dim*2],\n",
    "                normalization_cls=torch.nn.LayerNorm,\n",
    "                activation_cls=torch.nn.Softplus,\n",
    "                dropout_cls=torch.nn.Dropout,\n",
    "                dropout_prob=0.),\n",
    "            nn.LayerNorm(dim*2)\n",
    "        )\n",
    "        \n",
    "        self.value_out = nn.Linear(dim*2, dim)\n",
    "        \n",
    "        self.gating = nn.Sequential(\n",
    "            nn.Linear(dim*2, 1),\n",
    "            nn.Tanh()\n",
    "        )\n",
    "    \n",
    "    def forward(self, edge_out, edges_ind):\n",
    "        out = self.body_mlp(edge_out)              \n",
    "        out = self.value_out(out) * self.gating(out)\n",
    "        result = scatter_add(out, edges_ind, dim=0)        \n",
    "        return result"
   ]
  },
  {
   "cell_type": "code",
   "execution_count": 38,
   "metadata": {
    "ExecuteTime": {
     "end_time": "2019-08-17T18:50:44.111030Z",
     "start_time": "2019-08-17T18:50:44.053722Z"
    }
   },
   "outputs": [],
   "source": [
    "class MegNetBlock(torch.nn.Module):\n",
    "    def __init__(self, edge_dim, x_dim, u_dim, dim=32, layer_norm=False,\n",
    "                 normalization_cls=None, activation_cls=nn.ReLU,\n",
    "                 dropout_cls=nn.Dropout, dropout_prob=0., residual=True, pooling='mean'):\n",
    "        super(MegNetBlock, self).__init__()\n",
    "        self.dim = dim\n",
    "        self.residual = residual\n",
    "        self.pooling = pooling\n",
    "\n",
    "        if layer_norm:\n",
    "            normalization_cls = nn.LayerNorm\n",
    "        kwargs = dict(\n",
    "            normalization_cls=normalization_cls,\n",
    "            activation_cls=activation_cls,\n",
    "            dropout_cls=dropout_cls,\n",
    "            dropout_prob=dropout_prob)\n",
    "        \n",
    "        self.edge_dense = create_mlp_v2(\n",
    "            input_dim=edge_dim, output_dim=dim, hidden_dims=[dim * 2], **kwargs)\n",
    "        \n",
    "        self.edge_agg = EdgeAgg(dim=dim)\n",
    "        \n",
    "        self.node_dense = create_mlp_v2(\n",
    "            input_dim=x_dim, output_dim=dim, hidden_dims=[dim * 2], **kwargs)\n",
    "        self.global_dense = create_mlp_v2(\n",
    "            input_dim=u_dim, output_dim=dim, hidden_dims=[dim * 2], **kwargs)\n",
    "\n",
    "        self.edge_msg = create_mlp_v2(\n",
    "            input_dim=dim * 4, output_dim=dim, hidden_dims=[dim*2, dim*2], **kwargs)\n",
    "        self.node_msg = create_mlp_v2(\n",
    "            input_dim=dim * 3, output_dim=dim, hidden_dims=[dim*2, dim*2], **kwargs)\n",
    "        self.global_msg = create_mlp_v2(\n",
    "            input_dim=dim * 3, output_dim=dim, hidden_dims=[dim*2, dim*2], **kwargs)\n",
    "        \n",
    "\n",
    "    def edge_model(self, src, dest, edge_attr, u, batch):\n",
    "        # source, target: [E, F_x], where E is the number of edges.\n",
    "        # edge_attr: [E, F_e]\n",
    "        # u: [B, F_u], where B is the number of graphs.\n",
    "        # batch: [E] with max entry B - 1.\n",
    "        out = torch.cat([src, dest, edge_attr, u[batch]], 1)\n",
    "        out = self.edge_msg(out)\n",
    "        return out\n",
    "\n",
    "    def node_model(self, x, edge_index, edge_attr, u, batch):\n",
    "        # x: [N, F_x], where N is the number of nodes.\n",
    "        # edge_index: [2, E] with max entry N - 1.\n",
    "        # edge_attr: [E, F_e]\n",
    "        # u: [B, F_u]\n",
    "        # batch: [N] with max entry B - 1.\n",
    "        row, _ = edge_index\n",
    "        out = self.edge_agg(edge_attr, row)\n",
    "        out = torch.cat([out, x, u[batch]], dim=1)\n",
    "        out = self.node_msg(out)\n",
    "        return out\n",
    "\n",
    "    def global_model(self, x, edge_index, edge_attr, u, batch):\n",
    "        # x: [N, F_x], where N is the number of nodes.\n",
    "        # edge_index: [2, E] with max entry N - 1.\n",
    "        # edge_attr: [E, F_e]\n",
    "        # u: [B, F_u]\n",
    "        # batch: [N] with max entry B - 1.\n",
    "        row, _ = edge_index\n",
    "        edge_mean = scatter_mean(edge_attr, batch[row], dim=0)\n",
    "        out = torch.cat(\n",
    "            [u, scatter_mean(x, batch, dim=0), edge_mean], dim=1)\n",
    "        out = self.global_msg(out)\n",
    "        return out\n",
    "    \n",
    "    def forward(self, x, edge_index, edge_attr, u, batch, first_block=False):\n",
    "\n",
    "        # first block\n",
    "        edge_out = self.edge_dense(edge_attr)\n",
    "        x_out = self.node_dense(x)\n",
    "        u_out = self.global_dense(u)\n",
    "\n",
    "        x_res_base = x_out if first_block else x\n",
    "        edge_res_base = edge_out if first_block else edge_attr\n",
    "        u_res_base = u_out if first_block else u\n",
    "\n",
    "        row, col = edge_index        \n",
    "\n",
    "        edge_out = self.edge_model(x_out[row], x_out[col], edge_out, u_out,\n",
    "                                   batch[row])\n",
    "        if self.residual:\n",
    "            edge_out = edge_res_base + edge_out\n",
    "\n",
    "        x_out = self.node_model(x_out, edge_index, edge_out, u_out, batch)\n",
    "        if self.residual:\n",
    "            x_out = x_res_base + x_out\n",
    "\n",
    "        u_out = self.global_model(x_out, edge_index, edge_out, u_out, batch)\n",
    "        if self.residual:\n",
    "            u_out = u_res_base + u_out\n",
    "\n",
    "        return x_out, edge_out, u_out"
   ]
  },
  {
   "cell_type": "code",
   "execution_count": 39,
   "metadata": {
    "ExecuteTime": {
     "end_time": "2019-08-17T18:50:44.163562Z",
     "start_time": "2019-08-17T18:50:44.112453Z"
    }
   },
   "outputs": [],
   "source": [
    "class MegNetModel_new(torch.nn.Module):\n",
    "    def __init__(self,\n",
    "                 edge_dim,\n",
    "                 x_dim,\n",
    "                 u_dim,\n",
    "                 dim=32,\n",
    "                 head_dim=32,\n",
    "                 n_megnet_blocks=3,\n",
    "                 y_mean=0,\n",
    "                 y_std=1,\n",
    "                 layer_norm=False):\n",
    "        super(MegNetModel_new, self).__init__()\n",
    "        self.dim = dim\n",
    "        self.n_megnet_blocks = n_megnet_blocks\n",
    "        self.megnet_blocks = torch.nn.ModuleList([\n",
    "            MegNetBlock(edge_dim,\n",
    "                        x_dim,\n",
    "                        u_dim,\n",
    "                        dim,\n",
    "                        normalization_cls=torch.nn.LayerNorm,\n",
    "                        activation_cls=torch.nn.Softplus,\n",
    "                        dropout_cls=torch.nn.Dropout,\n",
    "                        dropout_prob=0.,\n",
    "                        residual=True)\n",
    "        ] + [\n",
    "            MegNetBlock(dim,\n",
    "                        dim,\n",
    "                        dim,\n",
    "                        dim,\n",
    "                        normalization_cls=torch.nn.LayerNorm,\n",
    "                        activation_cls=torch.nn.Softplus,\n",
    "                        dropout_cls=torch.nn.Dropout,\n",
    "                        dropout_prob=0.,\n",
    "                        residual=True) for i in range(n_megnet_blocks - 1)\n",
    "        ])\n",
    "\n",
    "        self.out_mlp = torch.nn.ModuleList([\n",
    "            OutputLayer_new(\n",
    "                dim,\n",
    "                head_dim,\n",
    "                y_mean=y_mean[i],\n",
    "                y_std=y_std[i],\n",
    "                couple_type=type_,\n",
    "            ) for i, type_ in enumerate(constants.TYPES_LIST)\n",
    "        ])\n",
    "\n",
    "        self.edge_dense = create_mlp_v2(\n",
    "            input_dim=edge_dim,\n",
    "            output_dim=dim,\n",
    "            hidden_dims=[dim * 2],\n",
    "            normalization_cls=None,\n",
    "            activation_cls=None,\n",
    "            dropout_cls=None,\n",
    "            dropout_prob=0.0,\n",
    "        )\n",
    "        self.node_dense = create_mlp_v2(\n",
    "            input_dim=x_dim,\n",
    "            output_dim=dim,\n",
    "            hidden_dims=[dim * 2],\n",
    "            normalization_cls=None,\n",
    "            activation_cls=None,\n",
    "            dropout_cls=None,\n",
    "            dropout_prob=0.0,\n",
    "        )\n",
    "        self.global_dense = create_mlp_v2(\n",
    "            input_dim=u_dim,\n",
    "            output_dim=dim,\n",
    "            hidden_dims=[dim * 2],\n",
    "            normalization_cls=None,\n",
    "            activation_cls=None,\n",
    "            dropout_cls=None,\n",
    "            dropout_prob=0.0,\n",
    "        )\n",
    "\n",
    "    def forward(self, data):\n",
    "        data = correct_batch_edge_ind(data)\n",
    "\n",
    "        if not hasattr(data, 'global_attr'):\n",
    "            data.global_attr = torch.zeros((data.num_graphs, 1),\n",
    "                                           dtype=torch.float,\n",
    "                                           device=data.x.device)\n",
    "        x_out, edge_out, u_out = data.x, data.edge_attr, data.global_attr\n",
    "        \n",
    "        #x_out = self.node_dense(x_out)\n",
    "        #edge_out = self.edge_dense(edge_out)\n",
    "        #u_out = self.global_dense(u_out)        \n",
    "        \n",
    "        for i in range(self.n_megnet_blocks):\n",
    "            x_out, edge_out, u_out = self.megnet_blocks[i](\n",
    "                x_out,\n",
    "                data.edge_index,\n",
    "                edge_out,\n",
    "                u_out,\n",
    "                data.batch,\n",
    "                first_block=(i==0))\n",
    "\n",
    "        pred = torch.zeros_like(data.type,\n",
    "                                dtype=torch.float,\n",
    "                                device=x_out.device)\n",
    "        for type_ in range(8):\n",
    "            if (data.type == type_).any():\n",
    "                pred[data.type == type_] = self.out_mlp[type_](data, x_out,\n",
    "                                                               edge_out,\n",
    "                                                               u_out).view(-1)\n",
    "        return pred"
   ]
  },
  {
   "cell_type": "markdown",
   "metadata": {},
   "source": [
    "# Training"
   ]
  },
  {
   "cell_type": "code",
   "execution_count": 40,
   "metadata": {
    "ExecuteTime": {
     "end_time": "2019-08-17T18:50:44.235217Z",
     "start_time": "2019-08-17T18:50:44.164796Z"
    }
   },
   "outputs": [],
   "source": [
    "from kaggle_champs.metrics import MeanLogGroupMAE, AverageMetric"
   ]
  },
  {
   "cell_type": "code",
   "execution_count": 41,
   "metadata": {
    "ExecuteTime": {
     "end_time": "2019-08-17T18:50:44.294900Z",
     "start_time": "2019-08-17T18:50:44.236504Z"
    }
   },
   "outputs": [],
   "source": [
    "from kaggle_champs.training import train_epoch"
   ]
  },
  {
   "cell_type": "code",
   "execution_count": 42,
   "metadata": {
    "ExecuteTime": {
     "end_time": "2019-08-17T18:50:44.337265Z",
     "start_time": "2019-08-17T18:50:44.296303Z"
    }
   },
   "outputs": [],
   "source": [
    "import torch\n",
    "from tqdm.autonotebook import tqdm\n",
    "\n",
    "\n",
    "def train_epoch(global_iteration, epoch, model, device, optimizer, \n",
    "                train_loader, tb_logger, gradient_accumulation_steps=1, swa=False):\n",
    "    model.train()\n",
    "    avg_loss = AverageMetric()\n",
    "    log_mae = MeanLogGroupMAE()\n",
    "    \n",
    "    pbar = tqdm(train_loader)\n",
    "    for step, data in enumerate(pbar):\n",
    "        data = data.to(device)\n",
    "        \n",
    "        pred = model(data)\n",
    "\n",
    "        loss = torch.nn.L1Loss(reduction='mean')(pred.view(-1),\n",
    "                                                     data.y.view(-1))\n",
    "        loss.backward()\n",
    "\n",
    "        if (step + 1) % gradient_accumulation_steps == 0:\n",
    "            optimizer.step()\n",
    "            optimizer.zero_grad()\n",
    "            \n",
    "            global_iteration += 1\n",
    "            if swa:\n",
    "                optimizer.update_swa()\n",
    "\n",
    "        tb_logger.add_scalar('loss', loss.item(), global_iteration)\n",
    "\n",
    "        avg_loss.update(loss.item() * data.num_graphs, data.num_graphs)\n",
    "        log_mae.update(pred.view(-1), data.y.view(-1), data.type)\n",
    "\n",
    "        pbar.set_postfix_str(f'loss: {avg_loss.compute():.4f}')\n",
    "    return avg_loss.compute(), log_mae, global_iteration"
   ]
  },
  {
   "cell_type": "code",
   "execution_count": 43,
   "metadata": {
    "ExecuteTime": {
     "end_time": "2019-08-17T18:50:44.383756Z",
     "start_time": "2019-08-17T18:50:44.338498Z"
    }
   },
   "outputs": [],
   "source": [
    "def test_model(model, loader):\n",
    "    model.eval()\n",
    "    log_mae = MeanLogGroupMAE()\n",
    "    avg_loss = AverageMetric()\n",
    "    with torch.no_grad():\n",
    "        for data in loader:\n",
    "            data = data.to(device)\n",
    "            pred = model(data)\n",
    "            \n",
    "            loss = torch.nn.L1Loss(reduction='mean')(pred.view(-1),\n",
    "                                                     data.y.view(-1))\n",
    "            avg_loss.update(loss.item() * data.num_graphs, data.num_graphs)\n",
    "            \n",
    "            log_mae.update(pred.view(-1), data.y.view(-1), data.type.view(-1))\n",
    "            \n",
    "        return avg_loss.compute(), log_mae\n",
    "\n",
    "\n",
    "def make_log(epoch, lr, loss, tr_logmae, val_logmae):\n",
    "    results = {\n",
    "        'epoch': epoch,\n",
    "        'lr': lr,\n",
    "        'loss': loss,\n",
    "        'tr_logmae': tr_logmae.compute(),\n",
    "        'val_logmae': val_logmae.compute(),\n",
    "    }\n",
    "    for k, v in tr_logmae.compute_individuals().items():\n",
    "        results.update({'tr_' + k: v})\n",
    "    for k, v in val_logmae.compute_individuals().items():\n",
    "        results.update({'val_' + k: v})\n",
    "    return results\n",
    "\n",
    "\n",
    "def save_checkpoint(dir_path, model, optimizer, scheduler, epoch):\n",
    "    torch.save(model.state_dict(), dir_path + f'model_epoch_{epoch}.pth')\n",
    "    torch.save(optimizer.state_dict(),\n",
    "               dir_path + f'optimizer_epoch_{epoch}.pth')\n",
    "    torch.save(scheduler.state_dict(),\n",
    "               dir_path + f'scheduler_epoch_{epoch}.pth')"
   ]
  },
  {
   "cell_type": "markdown",
   "metadata": {},
   "source": [
    "# Run"
   ]
  },
  {
   "cell_type": "code",
   "execution_count": 44,
   "metadata": {
    "ExecuteTime": {
     "end_time": "2019-08-17T18:50:44.911204Z",
     "start_time": "2019-08-17T18:50:44.385131Z"
    }
   },
   "outputs": [],
   "source": [
    "from tensorboardX import SummaryWriter"
   ]
  },
  {
   "cell_type": "code",
   "execution_count": 45,
   "metadata": {
    "ExecuteTime": {
     "end_time": "2019-08-17T18:50:44.955477Z",
     "start_time": "2019-08-17T18:50:44.912805Z"
    }
   },
   "outputs": [],
   "source": [
    "import shutil"
   ]
  },
  {
   "cell_type": "code",
   "execution_count": 46,
   "metadata": {
    "ExecuteTime": {
     "end_time": "2019-08-17T18:50:44.997271Z",
     "start_time": "2019-08-17T18:50:44.957295Z"
    }
   },
   "outputs": [],
   "source": [
    "OUTPUT_DIR = './models/megnet_256x10_softplus_edgeagg/finetune/'"
   ]
  },
  {
   "cell_type": "markdown",
   "metadata": {
    "ExecuteTime": {
     "start_time": "2019-08-15T20:58:50.763Z"
    }
   },
   "source": [
    "!mkdir -p {OUTPUT_DIR}\n",
    "!rm -rf {OUTPUT_DIR}\n",
    "!mkdir -p {OUTPUT_DIR}"
   ]
  },
  {
   "cell_type": "code",
   "execution_count": 47,
   "metadata": {
    "ExecuteTime": {
     "end_time": "2019-08-17T18:50:45.123358Z",
     "start_time": "2019-08-17T18:50:44.998675Z"
    }
   },
   "outputs": [],
   "source": [
    "tb_logger = SummaryWriter(OUTPUT_DIR+'tb_log/')\n",
    "global_iteration = 0"
   ]
  },
  {
   "cell_type": "code",
   "execution_count": 48,
   "metadata": {
    "ExecuteTime": {
     "end_time": "2019-08-17T18:50:45.166799Z",
     "start_time": "2019-08-17T18:50:45.125019Z"
    }
   },
   "outputs": [],
   "source": [
    "SAVE_INTERVAL = 10"
   ]
  },
  {
   "cell_type": "code",
   "execution_count": 49,
   "metadata": {
    "ExecuteTime": {
     "end_time": "2019-08-17T18:50:45.205667Z",
     "start_time": "2019-08-17T18:50:45.168243Z"
    }
   },
   "outputs": [],
   "source": [
    "MAX_EPOCH = 150"
   ]
  },
  {
   "cell_type": "code",
   "execution_count": 50,
   "metadata": {
    "ExecuteTime": {
     "end_time": "2019-08-17T18:50:45.245720Z",
     "start_time": "2019-08-17T18:50:45.206957Z"
    },
    "scrolled": true
   },
   "outputs": [],
   "source": [
    "val_loader = DataLoader(val_dataset,\n",
    "                        batch_size=64,\n",
    "                        shuffle=False,\n",
    "                        num_workers=8, \n",
    "                        follow_batch=['bonds_edge_ind', 'bonds_links_edge_ind', 'paths_edge_ind', 'couples_edge_ind']\n",
    "                       )\n",
    "train_loader = DataLoader(train_dataset,\n",
    "                          batch_size=32,\n",
    "                          num_workers=8,\n",
    "                          shuffle=True,\n",
    "                          follow_batch=['bonds_edge_ind', 'bonds_links_edge_ind', 'paths_edge_ind', 'couples_edge_ind']\n",
    "                         )"
   ]
  },
  {
   "cell_type": "code",
   "execution_count": 51,
   "metadata": {
    "ExecuteTime": {
     "end_time": "2019-08-17T18:50:47.212258Z",
     "start_time": "2019-08-17T18:50:45.247083Z"
    }
   },
   "outputs": [],
   "source": [
    "batch = next(iter(val_loader))"
   ]
  },
  {
   "cell_type": "code",
   "execution_count": 52,
   "metadata": {
    "ExecuteTime": {
     "end_time": "2019-08-17T18:50:47.258618Z",
     "start_time": "2019-08-17T18:50:47.213999Z"
    }
   },
   "outputs": [
    {
     "data": {
      "text/plain": [
       "Batch(batch=[895], bonds_edge_ind=[1758, 1], bonds_edge_ind_batch=[1758], bonds_links_edge_ind=[3076, 2], bonds_links_edge_ind_batch=[3076], count_edges=[64, 1], count_nodes=[64, 1], couples_edge_ind=[5146, 1], couples_edge_ind_batch=[5146], couples_ind=[5146, 2], direction=[12162, 3], dist=[12162, 1], edge_attr=[12162, 34], edge_index=[2, 12162], global_attr=[64, 1], mask=[12162], mol_ind=[64, 1], paths_edge_ind=[5146, 3], paths_edge_ind_batch=[5146], paths_index=[4, 5146], pos=[895, 3], sample_weight=[5146], type=[5146], x=[895, 28], y=[5146, 1])"
      ]
     },
     "execution_count": 52,
     "metadata": {},
     "output_type": "execute_result"
    }
   ],
   "source": [
    "batch"
   ]
  },
  {
   "cell_type": "code",
   "execution_count": 53,
   "metadata": {
    "ExecuteTime": {
     "end_time": "2019-08-17T18:50:48.046630Z",
     "start_time": "2019-08-17T18:50:47.260098Z"
    }
   },
   "outputs": [],
   "source": [
    "y_mean = train.groupby(train.type.map(\n",
    "    constants.TYPES_DICT)).scalar_coupling_constant.mean().sort_index().values\n",
    "y_std = train.groupby(train.type.map(\n",
    "    constants.TYPES_DICT)).scalar_coupling_constant.std().sort_index().values"
   ]
  },
  {
   "cell_type": "code",
   "execution_count": 54,
   "metadata": {
    "ExecuteTime": {
     "end_time": "2019-08-17T18:50:52.224398Z",
     "start_time": "2019-08-17T18:50:48.048405Z"
    },
    "scrolled": false
   },
   "outputs": [],
   "source": [
    "device = torch.device('cuda')\n",
    "model = MegNetModel_new(edge_dim=data.edge_attr.size()[1],\n",
    "                    x_dim=data.x.size()[1],\n",
    "                    u_dim=1,\n",
    "                    dim=256,\n",
    "                    head_dim=256,\n",
    "                    n_megnet_blocks=10,\n",
    "                    y_mean=y_mean,\n",
    "                    y_std=y_std,\n",
    "                    layer_norm=False).to(device)"
   ]
  },
  {
   "cell_type": "code",
   "execution_count": 55,
   "metadata": {
    "ExecuteTime": {
     "end_time": "2019-08-17T18:50:52.267046Z",
     "start_time": "2019-08-17T18:50:52.225738Z"
    }
   },
   "outputs": [],
   "source": [
    "optimizer = torch.optim.Adam(model.parameters(), lr=1e-4)\n",
    "scheduler = torch.optim.lr_scheduler.StepLR(optimizer, step_size=2, gamma=1.)"
   ]
  },
  {
   "cell_type": "code",
   "execution_count": 59,
   "metadata": {
    "ExecuteTime": {
     "end_time": "2019-08-17T17:08:26.566465Z",
     "start_time": "2019-08-17T09:35:25.289094Z"
    },
    "scrolled": true
   },
   "outputs": [
    {
     "data": {
      "application/vnd.jupyter.widget-view+json": {
       "model_id": "35746577c0264b7d87b3a901d94e6d68",
       "version_major": 2,
       "version_minor": 0
      },
      "text/plain": [
       "HBox(children=(IntProgress(value=0, max=2501), HTML(value='')))"
      ]
     },
     "metadata": {},
     "output_type": "display_data"
    },
    {
     "name": "stdout",
     "output_type": "stream",
     "text": [
      "\n",
      "Epoch: 001, LR: 0.000100, Loss: 0.0525858,          Train LogMAE: -3.1921357, Val LogMAE: -2.5308201\n",
      "Val LogMAE SWA: -2.6923070\n"
     ]
    },
    {
     "data": {
      "application/vnd.jupyter.widget-view+json": {
       "model_id": "91c008e1ee3849e7984c83b8b48d28e6",
       "version_major": 2,
       "version_minor": 0
      },
      "text/plain": [
       "HBox(children=(IntProgress(value=0, max=2501), HTML(value='')))"
      ]
     },
     "metadata": {},
     "output_type": "display_data"
    },
    {
     "name": "stdout",
     "output_type": "stream",
     "text": [
      "\n",
      "Epoch: 002, LR: 0.000100, Loss: 0.0523206,          Train LogMAE: -3.1975689, Val LogMAE: -2.4789515\n",
      "Val LogMAE SWA: -2.7023101\n"
     ]
    },
    {
     "data": {
      "application/vnd.jupyter.widget-view+json": {
       "model_id": "3ae3745e322f4998938338331dacec6a",
       "version_major": 2,
       "version_minor": 0
      },
      "text/plain": [
       "HBox(children=(IntProgress(value=0, max=2501), HTML(value='')))"
      ]
     },
     "metadata": {},
     "output_type": "display_data"
    },
    {
     "name": "stdout",
     "output_type": "stream",
     "text": [
      "\n",
      "Epoch: 003, LR: 0.000050, Loss: 0.0380843,          Train LogMAE: -3.5607711, Val LogMAE: -2.6362811\n",
      "Val LogMAE SWA: -2.7081334\n"
     ]
    },
    {
     "data": {
      "application/vnd.jupyter.widget-view+json": {
       "model_id": "12a98ef6605b4e328b9fe683a741684e",
       "version_major": 2,
       "version_minor": 0
      },
      "text/plain": [
       "HBox(children=(IntProgress(value=0, max=2501), HTML(value='')))"
      ]
     },
     "metadata": {},
     "output_type": "display_data"
    },
    {
     "name": "stdout",
     "output_type": "stream",
     "text": [
      "\n",
      "Epoch: 004, LR: 0.000050, Loss: 0.0345512,          Train LogMAE: -3.6766727, Val LogMAE: -2.6497833\n",
      "Val LogMAE SWA: -2.7140730\n"
     ]
    },
    {
     "data": {
      "application/vnd.jupyter.widget-view+json": {
       "model_id": "ba54c9410a594801b3de94c5ab372004",
       "version_major": 2,
       "version_minor": 0
      },
      "text/plain": [
       "HBox(children=(IntProgress(value=0, max=2501), HTML(value='')))"
      ]
     },
     "metadata": {},
     "output_type": "display_data"
    },
    {
     "name": "stdout",
     "output_type": "stream",
     "text": [
      "\n",
      "Epoch: 005, LR: 0.000025, Loss: 0.0273012,          Train LogMAE: -3.9652012, Val LogMAE: -2.6927343\n",
      "Val LogMAE SWA: -2.7166343\n"
     ]
    },
    {
     "data": {
      "application/vnd.jupyter.widget-view+json": {
       "model_id": "becdfd08ef314275b50325fc0b7df16e",
       "version_major": 2,
       "version_minor": 0
      },
      "text/plain": [
       "HBox(children=(IntProgress(value=0, max=2501), HTML(value='')))"
      ]
     },
     "metadata": {},
     "output_type": "display_data"
    },
    {
     "name": "stdout",
     "output_type": "stream",
     "text": [
      "\n",
      "Epoch: 006, LR: 0.000025, Loss: 0.0255557,          Train LogMAE: -4.0559917, Val LogMAE: -2.6996353\n",
      "Val LogMAE SWA: -2.7188434\n"
     ]
    },
    {
     "data": {
      "application/vnd.jupyter.widget-view+json": {
       "model_id": "3c2fc17278b647f0be6e3d4a1733f048",
       "version_major": 2,
       "version_minor": 0
      },
      "text/plain": [
       "HBox(children=(IntProgress(value=0, max=2501), HTML(value='')))"
      ]
     },
     "metadata": {},
     "output_type": "display_data"
    },
    {
     "name": "stdout",
     "output_type": "stream",
     "text": [
      "\n",
      "Epoch: 007, LR: 0.000013, Loss: 0.0218847,          Train LogMAE: -4.3050418, Val LogMAE: -2.7178966\n",
      "Val LogMAE SWA: -2.7212128\n"
     ]
    },
    {
     "data": {
      "application/vnd.jupyter.widget-view+json": {
       "model_id": "050883fd6ccf4b30a5bb1c000d19b379",
       "version_major": 2,
       "version_minor": 0
      },
      "text/plain": [
       "HBox(children=(IntProgress(value=0, max=2501), HTML(value='')))"
      ]
     },
     "metadata": {},
     "output_type": "display_data"
    },
    {
     "name": "stdout",
     "output_type": "stream",
     "text": [
      "\n",
      "Epoch: 008, LR: 0.000013, Loss: 0.0209527,          Train LogMAE: -4.3997866, Val LogMAE: -2.7188505\n",
      "Val LogMAE SWA: -2.7220674\n"
     ]
    },
    {
     "data": {
      "application/vnd.jupyter.widget-view+json": {
       "model_id": "4608b838de924e50a846a32edac6b540",
       "version_major": 2,
       "version_minor": 0
      },
      "text/plain": [
       "HBox(children=(IntProgress(value=0, max=2501), HTML(value='')))"
      ]
     },
     "metadata": {},
     "output_type": "display_data"
    },
    {
     "name": "stdout",
     "output_type": "stream",
     "text": [
      "\n",
      "Epoch: 009, LR: 0.000006, Loss: 0.0191141,          Train LogMAE: -4.6080639, Val LogMAE: -2.7258790\n",
      "Val LogMAE SWA: -2.7236790\n"
     ]
    },
    {
     "data": {
      "application/vnd.jupyter.widget-view+json": {
       "model_id": "a10ff615c1a84854afc5729a0dde6a75",
       "version_major": 2,
       "version_minor": 0
      },
      "text/plain": [
       "HBox(children=(IntProgress(value=0, max=2501), HTML(value='')))"
      ]
     },
     "metadata": {},
     "output_type": "display_data"
    },
    {
     "name": "stdout",
     "output_type": "stream",
     "text": [
      "\n",
      "Epoch: 010, LR: 0.000006, Loss: 0.0186579,          Train LogMAE: -4.6773264, Val LogMAE: -2.7273596\n",
      "Val LogMAE SWA: -2.7239565\n"
     ]
    },
    {
     "data": {
      "application/vnd.jupyter.widget-view+json": {
       "model_id": "dd19db0b01464fe392a1ca703024c481",
       "version_major": 2,
       "version_minor": 0
      },
      "text/plain": [
       "HBox(children=(IntProgress(value=0, max=2501), HTML(value='')))"
      ]
     },
     "metadata": {},
     "output_type": "display_data"
    },
    {
     "name": "stdout",
     "output_type": "stream",
     "text": [
      "\n",
      "Epoch: 011, LR: 0.000100, Loss: 0.0490417,          Train LogMAE: -3.2757647, Val LogMAE: -2.5500277\n",
      "Val LogMAE SWA: -2.7240088\n"
     ]
    },
    {
     "data": {
      "application/vnd.jupyter.widget-view+json": {
       "model_id": "f0b21c7119204caea032cb353993f3fb",
       "version_major": 2,
       "version_minor": 0
      },
      "text/plain": [
       "HBox(children=(IntProgress(value=0, max=2501), HTML(value='')))"
      ]
     },
     "metadata": {},
     "output_type": "display_data"
    },
    {
     "name": "stdout",
     "output_type": "stream",
     "text": [
      "\n",
      "Epoch: 012, LR: 0.000100, Loss: 0.0505134,          Train LogMAE: -3.2350820, Val LogMAE: -2.5113836\n",
      "Val LogMAE SWA: -2.7243656\n"
     ]
    },
    {
     "data": {
      "application/vnd.jupyter.widget-view+json": {
       "model_id": "96782c1689134dbb97fd4e4a7ab365ab",
       "version_major": 2,
       "version_minor": 0
      },
      "text/plain": [
       "HBox(children=(IntProgress(value=0, max=2501), HTML(value='')))"
      ]
     },
     "metadata": {},
     "output_type": "display_data"
    },
    {
     "name": "stdout",
     "output_type": "stream",
     "text": [
      "\n",
      "Epoch: 013, LR: 0.000050, Loss: 0.0361824,          Train LogMAE: -3.6187571, Val LogMAE: -2.6531555\n",
      "Val LogMAE SWA: -2.7248700\n"
     ]
    },
    {
     "data": {
      "application/vnd.jupyter.widget-view+json": {
       "model_id": "520f9d5d37b14916a9eca849094eed50",
       "version_major": 2,
       "version_minor": 0
      },
      "text/plain": [
       "HBox(children=(IntProgress(value=0, max=2501), HTML(value='')))"
      ]
     },
     "metadata": {},
     "output_type": "display_data"
    },
    {
     "name": "stdout",
     "output_type": "stream",
     "text": [
      "\n",
      "Epoch: 014, LR: 0.000050, Loss: 0.0328798,          Train LogMAE: -3.7325533, Val LogMAE: -2.6625951\n",
      "Val LogMAE SWA: -2.7251684\n"
     ]
    },
    {
     "data": {
      "application/vnd.jupyter.widget-view+json": {
       "model_id": "d08bb7709c9a474ebcf55a81b2d46c00",
       "version_major": 2,
       "version_minor": 0
      },
      "text/plain": [
       "HBox(children=(IntProgress(value=0, max=2501), HTML(value='')))"
      ]
     },
     "metadata": {},
     "output_type": "display_data"
    },
    {
     "name": "stdout",
     "output_type": "stream",
     "text": [
      "\n",
      "Epoch: 015, LR: 0.000025, Loss: 0.0255863,          Train LogMAE: -4.0466991, Val LogMAE: -2.7037813\n",
      "Val LogMAE SWA: -2.7260801\n"
     ]
    },
    {
     "data": {
      "application/vnd.jupyter.widget-view+json": {
       "model_id": "f9256d19da0245f0804a262a8ead21d0",
       "version_major": 2,
       "version_minor": 0
      },
      "text/plain": [
       "HBox(children=(IntProgress(value=0, max=2501), HTML(value='')))"
      ]
     },
     "metadata": {},
     "output_type": "display_data"
    },
    {
     "name": "stdout",
     "output_type": "stream",
     "text": [
      "\n",
      "Epoch: 016, LR: 0.000025, Loss: 0.0237965,          Train LogMAE: -4.1552782, Val LogMAE: -2.7075988\n",
      "Val LogMAE SWA: -2.7267387\n"
     ]
    },
    {
     "data": {
      "application/vnd.jupyter.widget-view+json": {
       "model_id": "9ba5bb589e3149d2b3c715850002f023",
       "version_major": 2,
       "version_minor": 0
      },
      "text/plain": [
       "HBox(children=(IntProgress(value=0, max=2501), HTML(value='')))"
      ]
     },
     "metadata": {},
     "output_type": "display_data"
    },
    {
     "name": "stdout",
     "output_type": "stream",
     "text": [
      "\n",
      "Epoch: 017, LR: 0.000013, Loss: 0.0202306,          Train LogMAE: -4.4478234, Val LogMAE: -2.7231860\n",
      "Val LogMAE SWA: -2.7271498\n"
     ]
    },
    {
     "data": {
      "application/vnd.jupyter.widget-view+json": {
       "model_id": "fccb5c812f5a40bfae7b73ea82f2e879",
       "version_major": 2,
       "version_minor": 0
      },
      "text/plain": [
       "HBox(children=(IntProgress(value=0, max=2501), HTML(value='')))"
      ]
     },
     "metadata": {},
     "output_type": "display_data"
    },
    {
     "name": "stdout",
     "output_type": "stream",
     "text": [
      "\n",
      "Epoch: 018, LR: 0.000013, Loss: 0.0193260,          Train LogMAE: -4.5690665, Val LogMAE: -2.7250853\n",
      "Val LogMAE SWA: -2.7274944\n"
     ]
    },
    {
     "data": {
      "application/vnd.jupyter.widget-view+json": {
       "model_id": "ccfd0953ea8c4f20bb1851a4a7c32307",
       "version_major": 2,
       "version_minor": 0
      },
      "text/plain": [
       "HBox(children=(IntProgress(value=0, max=2501), HTML(value='')))"
      ]
     },
     "metadata": {},
     "output_type": "display_data"
    },
    {
     "name": "stdout",
     "output_type": "stream",
     "text": [
      "\n",
      "Epoch: 019, LR: 0.000006, Loss: 0.0175233,          Train LogMAE: -4.8302164, Val LogMAE: -2.7301308\n",
      "Val LogMAE SWA: -2.7279378\n"
     ]
    },
    {
     "data": {
      "application/vnd.jupyter.widget-view+json": {
       "model_id": "3a0504ed76894b7d914aa95e18bfe242",
       "version_major": 2,
       "version_minor": 0
      },
      "text/plain": [
       "HBox(children=(IntProgress(value=0, max=2501), HTML(value='')))"
      ]
     },
     "metadata": {},
     "output_type": "display_data"
    },
    {
     "name": "stdout",
     "output_type": "stream",
     "text": [
      "\n",
      "Epoch: 020, LR: 0.000006, Loss: 0.0170651,          Train LogMAE: -4.9110804, Val LogMAE: -2.7303108\n",
      "Val LogMAE SWA: -2.7289280\n"
     ]
    },
    {
     "data": {
      "application/vnd.jupyter.widget-view+json": {
       "model_id": "caf5ff0e836843a0afa974ae6f1a5acf",
       "version_major": 2,
       "version_minor": 0
      },
      "text/plain": [
       "HBox(children=(IntProgress(value=0, max=2501), HTML(value='')))"
      ]
     },
     "metadata": {},
     "output_type": "display_data"
    },
    {
     "ename": "KeyboardInterrupt",
     "evalue": "",
     "output_type": "error",
     "traceback": [
      "\u001b[0;31m---------------------------------------------------------------------------\u001b[0m",
      "\u001b[0;31mKeyboardInterrupt\u001b[0m                         Traceback (most recent call last)",
      "\u001b[0;32m<ipython-input-59-d54368472942>\u001b[0m in \u001b[0;36m<module>\u001b[0;34m\u001b[0m\n\u001b[1;32m     10\u001b[0m                                      \u001b[0mtrain_loader\u001b[0m\u001b[0;34m,\u001b[0m\u001b[0;34m\u001b[0m\u001b[0;34m\u001b[0m\u001b[0m\n\u001b[1;32m     11\u001b[0m                                      \u001b[0mtb_logger\u001b[0m\u001b[0;34m,\u001b[0m\u001b[0;34m\u001b[0m\u001b[0;34m\u001b[0m\u001b[0m\n\u001b[0;32m---> 12\u001b[0;31m                                      gradient_accumulation_steps=1, swa=True)\n\u001b[0m\u001b[1;32m     13\u001b[0m     \u001b[0mscheduler\u001b[0m\u001b[0;34m.\u001b[0m\u001b[0mstep\u001b[0m\u001b[0;34m(\u001b[0m\u001b[0;34m)\u001b[0m\u001b[0;34m\u001b[0m\u001b[0;34m\u001b[0m\u001b[0m\n\u001b[1;32m     14\u001b[0m     \u001b[0;32mif\u001b[0m \u001b[0mepoch\u001b[0m \u001b[0;34m%\u001b[0m \u001b[0;36m10\u001b[0m \u001b[0;34m==\u001b[0m \u001b[0;36m0\u001b[0m\u001b[0;34m:\u001b[0m\u001b[0;34m\u001b[0m\u001b[0;34m\u001b[0m\u001b[0m\n",
      "\u001b[0;32m<ipython-input-42-8c9676b99971>\u001b[0m in \u001b[0;36mtrain_epoch\u001b[0;34m(global_iteration, epoch, model, device, optimizer, train_loader, tb_logger, gradient_accumulation_steps, swa)\u001b[0m\n\u001b[1;32m     10\u001b[0m \u001b[0;34m\u001b[0m\u001b[0m\n\u001b[1;32m     11\u001b[0m     \u001b[0mpbar\u001b[0m \u001b[0;34m=\u001b[0m \u001b[0mtqdm\u001b[0m\u001b[0;34m(\u001b[0m\u001b[0mtrain_loader\u001b[0m\u001b[0;34m)\u001b[0m\u001b[0;34m\u001b[0m\u001b[0;34m\u001b[0m\u001b[0m\n\u001b[0;32m---> 12\u001b[0;31m     \u001b[0;32mfor\u001b[0m \u001b[0mstep\u001b[0m\u001b[0;34m,\u001b[0m \u001b[0mdata\u001b[0m \u001b[0;32min\u001b[0m \u001b[0menumerate\u001b[0m\u001b[0;34m(\u001b[0m\u001b[0mpbar\u001b[0m\u001b[0;34m)\u001b[0m\u001b[0;34m:\u001b[0m\u001b[0;34m\u001b[0m\u001b[0;34m\u001b[0m\u001b[0m\n\u001b[0m\u001b[1;32m     13\u001b[0m         \u001b[0mdata\u001b[0m \u001b[0;34m=\u001b[0m \u001b[0mdata\u001b[0m\u001b[0;34m.\u001b[0m\u001b[0mto\u001b[0m\u001b[0;34m(\u001b[0m\u001b[0mdevice\u001b[0m\u001b[0;34m)\u001b[0m\u001b[0;34m\u001b[0m\u001b[0;34m\u001b[0m\u001b[0m\n\u001b[1;32m     14\u001b[0m \u001b[0;34m\u001b[0m\u001b[0m\n",
      "\u001b[0;32m/opt/conda/lib/python3.7/site-packages/tqdm/_tqdm_notebook.py\u001b[0m in \u001b[0;36m__iter__\u001b[0;34m(self, *args, **kwargs)\u001b[0m\n\u001b[1;32m    219\u001b[0m     \u001b[0;32mdef\u001b[0m \u001b[0m__iter__\u001b[0m\u001b[0;34m(\u001b[0m\u001b[0mself\u001b[0m\u001b[0;34m,\u001b[0m \u001b[0;34m*\u001b[0m\u001b[0margs\u001b[0m\u001b[0;34m,\u001b[0m \u001b[0;34m**\u001b[0m\u001b[0mkwargs\u001b[0m\u001b[0;34m)\u001b[0m\u001b[0;34m:\u001b[0m\u001b[0;34m\u001b[0m\u001b[0;34m\u001b[0m\u001b[0m\n\u001b[1;32m    220\u001b[0m         \u001b[0;32mtry\u001b[0m\u001b[0;34m:\u001b[0m\u001b[0;34m\u001b[0m\u001b[0;34m\u001b[0m\u001b[0m\n\u001b[0;32m--> 221\u001b[0;31m             \u001b[0;32mfor\u001b[0m \u001b[0mobj\u001b[0m \u001b[0;32min\u001b[0m \u001b[0msuper\u001b[0m\u001b[0;34m(\u001b[0m\u001b[0mtqdm_notebook\u001b[0m\u001b[0;34m,\u001b[0m \u001b[0mself\u001b[0m\u001b[0;34m)\u001b[0m\u001b[0;34m.\u001b[0m\u001b[0m__iter__\u001b[0m\u001b[0;34m(\u001b[0m\u001b[0;34m*\u001b[0m\u001b[0margs\u001b[0m\u001b[0;34m,\u001b[0m \u001b[0;34m**\u001b[0m\u001b[0mkwargs\u001b[0m\u001b[0;34m)\u001b[0m\u001b[0;34m:\u001b[0m\u001b[0;34m\u001b[0m\u001b[0;34m\u001b[0m\u001b[0m\n\u001b[0m\u001b[1;32m    222\u001b[0m                 \u001b[0;31m# return super(tqdm...) will not catch exception\u001b[0m\u001b[0;34m\u001b[0m\u001b[0;34m\u001b[0m\u001b[0;34m\u001b[0m\u001b[0m\n\u001b[1;32m    223\u001b[0m                 \u001b[0;32myield\u001b[0m \u001b[0mobj\u001b[0m\u001b[0;34m\u001b[0m\u001b[0;34m\u001b[0m\u001b[0m\n",
      "\u001b[0;32m/opt/conda/lib/python3.7/site-packages/tqdm/_tqdm.py\u001b[0m in \u001b[0;36m__iter__\u001b[0;34m(self)\u001b[0m\n\u001b[1;32m    998\u001b[0m                 \"\"\"), fp_write=getattr(self.fp, 'write', sys.stderr.write))\n\u001b[1;32m    999\u001b[0m \u001b[0;34m\u001b[0m\u001b[0m\n\u001b[0;32m-> 1000\u001b[0;31m             \u001b[0;32mfor\u001b[0m \u001b[0mobj\u001b[0m \u001b[0;32min\u001b[0m \u001b[0miterable\u001b[0m\u001b[0;34m:\u001b[0m\u001b[0;34m\u001b[0m\u001b[0;34m\u001b[0m\u001b[0m\n\u001b[0m\u001b[1;32m   1001\u001b[0m                 \u001b[0;32myield\u001b[0m \u001b[0mobj\u001b[0m\u001b[0;34m\u001b[0m\u001b[0;34m\u001b[0m\u001b[0m\n\u001b[1;32m   1002\u001b[0m                 \u001b[0;31m# Update and possibly print the progressbar.\u001b[0m\u001b[0;34m\u001b[0m\u001b[0;34m\u001b[0m\u001b[0;34m\u001b[0m\u001b[0m\n",
      "\u001b[0;32m/opt/conda/lib/python3.7/site-packages/torch/utils/data/dataloader.py\u001b[0m in \u001b[0;36m__next__\u001b[0;34m(self)\u001b[0m\n\u001b[1;32m    574\u001b[0m         \u001b[0;32mwhile\u001b[0m \u001b[0;32mTrue\u001b[0m\u001b[0;34m:\u001b[0m\u001b[0;34m\u001b[0m\u001b[0;34m\u001b[0m\u001b[0m\n\u001b[1;32m    575\u001b[0m             \u001b[0;32massert\u001b[0m \u001b[0;34m(\u001b[0m\u001b[0;32mnot\u001b[0m \u001b[0mself\u001b[0m\u001b[0;34m.\u001b[0m\u001b[0mshutdown\u001b[0m \u001b[0;32mand\u001b[0m \u001b[0mself\u001b[0m\u001b[0;34m.\u001b[0m\u001b[0mbatches_outstanding\u001b[0m \u001b[0;34m>\u001b[0m \u001b[0;36m0\u001b[0m\u001b[0;34m)\u001b[0m\u001b[0;34m\u001b[0m\u001b[0;34m\u001b[0m\u001b[0m\n\u001b[0;32m--> 576\u001b[0;31m             \u001b[0midx\u001b[0m\u001b[0;34m,\u001b[0m \u001b[0mbatch\u001b[0m \u001b[0;34m=\u001b[0m \u001b[0mself\u001b[0m\u001b[0;34m.\u001b[0m\u001b[0m_get_batch\u001b[0m\u001b[0;34m(\u001b[0m\u001b[0;34m)\u001b[0m\u001b[0;34m\u001b[0m\u001b[0;34m\u001b[0m\u001b[0m\n\u001b[0m\u001b[1;32m    577\u001b[0m             \u001b[0mself\u001b[0m\u001b[0;34m.\u001b[0m\u001b[0mbatches_outstanding\u001b[0m \u001b[0;34m-=\u001b[0m \u001b[0;36m1\u001b[0m\u001b[0;34m\u001b[0m\u001b[0;34m\u001b[0m\u001b[0m\n\u001b[1;32m    578\u001b[0m             \u001b[0;32mif\u001b[0m \u001b[0midx\u001b[0m \u001b[0;34m!=\u001b[0m \u001b[0mself\u001b[0m\u001b[0;34m.\u001b[0m\u001b[0mrcvd_idx\u001b[0m\u001b[0;34m:\u001b[0m\u001b[0;34m\u001b[0m\u001b[0;34m\u001b[0m\u001b[0m\n",
      "\u001b[0;32m/opt/conda/lib/python3.7/site-packages/torch/utils/data/dataloader.py\u001b[0m in \u001b[0;36m_get_batch\u001b[0;34m(self)\u001b[0m\n\u001b[1;32m    551\u001b[0m         \u001b[0;32melse\u001b[0m\u001b[0;34m:\u001b[0m\u001b[0;34m\u001b[0m\u001b[0;34m\u001b[0m\u001b[0m\n\u001b[1;32m    552\u001b[0m             \u001b[0;32mwhile\u001b[0m \u001b[0;32mTrue\u001b[0m\u001b[0;34m:\u001b[0m\u001b[0;34m\u001b[0m\u001b[0;34m\u001b[0m\u001b[0m\n\u001b[0;32m--> 553\u001b[0;31m                 \u001b[0msuccess\u001b[0m\u001b[0;34m,\u001b[0m \u001b[0mdata\u001b[0m \u001b[0;34m=\u001b[0m \u001b[0mself\u001b[0m\u001b[0;34m.\u001b[0m\u001b[0m_try_get_batch\u001b[0m\u001b[0;34m(\u001b[0m\u001b[0;34m)\u001b[0m\u001b[0;34m\u001b[0m\u001b[0;34m\u001b[0m\u001b[0m\n\u001b[0m\u001b[1;32m    554\u001b[0m                 \u001b[0;32mif\u001b[0m \u001b[0msuccess\u001b[0m\u001b[0;34m:\u001b[0m\u001b[0;34m\u001b[0m\u001b[0;34m\u001b[0m\u001b[0m\n\u001b[1;32m    555\u001b[0m                     \u001b[0;32mreturn\u001b[0m \u001b[0mdata\u001b[0m\u001b[0;34m\u001b[0m\u001b[0;34m\u001b[0m\u001b[0m\n",
      "\u001b[0;32m/opt/conda/lib/python3.7/site-packages/torch/utils/data/dataloader.py\u001b[0m in \u001b[0;36m_try_get_batch\u001b[0;34m(self, timeout)\u001b[0m\n\u001b[1;32m    509\u001b[0m         \u001b[0;31m#   (bool: whether successfully get data, any: data if successful else None)\u001b[0m\u001b[0;34m\u001b[0m\u001b[0;34m\u001b[0m\u001b[0;34m\u001b[0m\u001b[0m\n\u001b[1;32m    510\u001b[0m         \u001b[0;32mtry\u001b[0m\u001b[0;34m:\u001b[0m\u001b[0;34m\u001b[0m\u001b[0;34m\u001b[0m\u001b[0m\n\u001b[0;32m--> 511\u001b[0;31m             \u001b[0mdata\u001b[0m \u001b[0;34m=\u001b[0m \u001b[0mself\u001b[0m\u001b[0;34m.\u001b[0m\u001b[0mdata_queue\u001b[0m\u001b[0;34m.\u001b[0m\u001b[0mget\u001b[0m\u001b[0;34m(\u001b[0m\u001b[0mtimeout\u001b[0m\u001b[0;34m=\u001b[0m\u001b[0mtimeout\u001b[0m\u001b[0;34m)\u001b[0m\u001b[0;34m\u001b[0m\u001b[0;34m\u001b[0m\u001b[0m\n\u001b[0m\u001b[1;32m    512\u001b[0m             \u001b[0;32mreturn\u001b[0m \u001b[0;34m(\u001b[0m\u001b[0;32mTrue\u001b[0m\u001b[0;34m,\u001b[0m \u001b[0mdata\u001b[0m\u001b[0;34m)\u001b[0m\u001b[0;34m\u001b[0m\u001b[0;34m\u001b[0m\u001b[0m\n\u001b[1;32m    513\u001b[0m         \u001b[0;32mexcept\u001b[0m \u001b[0mException\u001b[0m \u001b[0;32mas\u001b[0m \u001b[0me\u001b[0m\u001b[0;34m:\u001b[0m\u001b[0;34m\u001b[0m\u001b[0;34m\u001b[0m\u001b[0m\n",
      "\u001b[0;32m/opt/conda/lib/python3.7/multiprocessing/queues.py\u001b[0m in \u001b[0;36mget\u001b[0;34m(self, block, timeout)\u001b[0m\n\u001b[1;32m    111\u001b[0m                 \u001b[0mself\u001b[0m\u001b[0;34m.\u001b[0m\u001b[0m_rlock\u001b[0m\u001b[0;34m.\u001b[0m\u001b[0mrelease\u001b[0m\u001b[0;34m(\u001b[0m\u001b[0;34m)\u001b[0m\u001b[0;34m\u001b[0m\u001b[0;34m\u001b[0m\u001b[0m\n\u001b[1;32m    112\u001b[0m         \u001b[0;31m# unserialize the data after having released the lock\u001b[0m\u001b[0;34m\u001b[0m\u001b[0;34m\u001b[0m\u001b[0;34m\u001b[0m\u001b[0m\n\u001b[0;32m--> 113\u001b[0;31m         \u001b[0;32mreturn\u001b[0m \u001b[0m_ForkingPickler\u001b[0m\u001b[0;34m.\u001b[0m\u001b[0mloads\u001b[0m\u001b[0;34m(\u001b[0m\u001b[0mres\u001b[0m\u001b[0;34m)\u001b[0m\u001b[0;34m\u001b[0m\u001b[0;34m\u001b[0m\u001b[0m\n\u001b[0m\u001b[1;32m    114\u001b[0m \u001b[0;34m\u001b[0m\u001b[0m\n\u001b[1;32m    115\u001b[0m     \u001b[0;32mdef\u001b[0m \u001b[0mqsize\u001b[0m\u001b[0;34m(\u001b[0m\u001b[0mself\u001b[0m\u001b[0;34m)\u001b[0m\u001b[0;34m:\u001b[0m\u001b[0;34m\u001b[0m\u001b[0;34m\u001b[0m\u001b[0m\n",
      "\u001b[0;32m/opt/conda/lib/python3.7/site-packages/torch/multiprocessing/reductions.py\u001b[0m in \u001b[0;36mrebuild_storage_fd\u001b[0;34m(cls, df, size)\u001b[0m\n\u001b[1;32m    274\u001b[0m         \u001b[0mfd\u001b[0m \u001b[0;34m=\u001b[0m \u001b[0mmultiprocessing\u001b[0m\u001b[0;34m.\u001b[0m\u001b[0mreduction\u001b[0m\u001b[0;34m.\u001b[0m\u001b[0mrebuild_handle\u001b[0m\u001b[0;34m(\u001b[0m\u001b[0mdf\u001b[0m\u001b[0;34m)\u001b[0m\u001b[0;34m\u001b[0m\u001b[0;34m\u001b[0m\u001b[0m\n\u001b[1;32m    275\u001b[0m     \u001b[0;32melse\u001b[0m\u001b[0;34m:\u001b[0m\u001b[0;34m\u001b[0m\u001b[0;34m\u001b[0m\u001b[0m\n\u001b[0;32m--> 276\u001b[0;31m         \u001b[0mfd\u001b[0m \u001b[0;34m=\u001b[0m \u001b[0mdf\u001b[0m\u001b[0;34m.\u001b[0m\u001b[0mdetach\u001b[0m\u001b[0;34m(\u001b[0m\u001b[0;34m)\u001b[0m\u001b[0;34m\u001b[0m\u001b[0;34m\u001b[0m\u001b[0m\n\u001b[0m\u001b[1;32m    277\u001b[0m     \u001b[0;32mtry\u001b[0m\u001b[0;34m:\u001b[0m\u001b[0;34m\u001b[0m\u001b[0;34m\u001b[0m\u001b[0m\n\u001b[1;32m    278\u001b[0m         \u001b[0mstorage\u001b[0m \u001b[0;34m=\u001b[0m \u001b[0mstorage_from_cache\u001b[0m\u001b[0;34m(\u001b[0m\u001b[0mcls\u001b[0m\u001b[0;34m,\u001b[0m \u001b[0mfd_id\u001b[0m\u001b[0;34m(\u001b[0m\u001b[0mfd\u001b[0m\u001b[0;34m)\u001b[0m\u001b[0;34m)\u001b[0m\u001b[0;34m\u001b[0m\u001b[0;34m\u001b[0m\u001b[0m\n",
      "\u001b[0;32m/opt/conda/lib/python3.7/multiprocessing/resource_sharer.py\u001b[0m in \u001b[0;36mdetach\u001b[0;34m(self)\u001b[0m\n\u001b[1;32m     55\u001b[0m         \u001b[0;32mdef\u001b[0m \u001b[0mdetach\u001b[0m\u001b[0;34m(\u001b[0m\u001b[0mself\u001b[0m\u001b[0;34m)\u001b[0m\u001b[0;34m:\u001b[0m\u001b[0;34m\u001b[0m\u001b[0;34m\u001b[0m\u001b[0m\n\u001b[1;32m     56\u001b[0m             \u001b[0;34m'''Get the fd.  This should only be called once.'''\u001b[0m\u001b[0;34m\u001b[0m\u001b[0;34m\u001b[0m\u001b[0m\n\u001b[0;32m---> 57\u001b[0;31m             \u001b[0;32mwith\u001b[0m \u001b[0m_resource_sharer\u001b[0m\u001b[0;34m.\u001b[0m\u001b[0mget_connection\u001b[0m\u001b[0;34m(\u001b[0m\u001b[0mself\u001b[0m\u001b[0;34m.\u001b[0m\u001b[0m_id\u001b[0m\u001b[0;34m)\u001b[0m \u001b[0;32mas\u001b[0m \u001b[0mconn\u001b[0m\u001b[0;34m:\u001b[0m\u001b[0;34m\u001b[0m\u001b[0;34m\u001b[0m\u001b[0m\n\u001b[0m\u001b[1;32m     58\u001b[0m                 \u001b[0;32mreturn\u001b[0m \u001b[0mreduction\u001b[0m\u001b[0;34m.\u001b[0m\u001b[0mrecv_handle\u001b[0m\u001b[0;34m(\u001b[0m\u001b[0mconn\u001b[0m\u001b[0;34m)\u001b[0m\u001b[0;34m\u001b[0m\u001b[0;34m\u001b[0m\u001b[0m\n\u001b[1;32m     59\u001b[0m \u001b[0;34m\u001b[0m\u001b[0m\n",
      "\u001b[0;32m/opt/conda/lib/python3.7/multiprocessing/resource_sharer.py\u001b[0m in \u001b[0;36mget_connection\u001b[0;34m(ident)\u001b[0m\n\u001b[1;32m     85\u001b[0m         \u001b[0;32mfrom\u001b[0m \u001b[0;34m.\u001b[0m\u001b[0mconnection\u001b[0m \u001b[0;32mimport\u001b[0m \u001b[0mClient\u001b[0m\u001b[0;34m\u001b[0m\u001b[0;34m\u001b[0m\u001b[0m\n\u001b[1;32m     86\u001b[0m         \u001b[0maddress\u001b[0m\u001b[0;34m,\u001b[0m \u001b[0mkey\u001b[0m \u001b[0;34m=\u001b[0m \u001b[0mident\u001b[0m\u001b[0;34m\u001b[0m\u001b[0;34m\u001b[0m\u001b[0m\n\u001b[0;32m---> 87\u001b[0;31m         \u001b[0mc\u001b[0m \u001b[0;34m=\u001b[0m \u001b[0mClient\u001b[0m\u001b[0;34m(\u001b[0m\u001b[0maddress\u001b[0m\u001b[0;34m,\u001b[0m \u001b[0mauthkey\u001b[0m\u001b[0;34m=\u001b[0m\u001b[0mprocess\u001b[0m\u001b[0;34m.\u001b[0m\u001b[0mcurrent_process\u001b[0m\u001b[0;34m(\u001b[0m\u001b[0;34m)\u001b[0m\u001b[0;34m.\u001b[0m\u001b[0mauthkey\u001b[0m\u001b[0;34m)\u001b[0m\u001b[0;34m\u001b[0m\u001b[0;34m\u001b[0m\u001b[0m\n\u001b[0m\u001b[1;32m     88\u001b[0m         \u001b[0mc\u001b[0m\u001b[0;34m.\u001b[0m\u001b[0msend\u001b[0m\u001b[0;34m(\u001b[0m\u001b[0;34m(\u001b[0m\u001b[0mkey\u001b[0m\u001b[0;34m,\u001b[0m \u001b[0mos\u001b[0m\u001b[0;34m.\u001b[0m\u001b[0mgetpid\u001b[0m\u001b[0;34m(\u001b[0m\u001b[0;34m)\u001b[0m\u001b[0;34m)\u001b[0m\u001b[0;34m)\u001b[0m\u001b[0;34m\u001b[0m\u001b[0;34m\u001b[0m\u001b[0m\n\u001b[1;32m     89\u001b[0m         \u001b[0;32mreturn\u001b[0m \u001b[0mc\u001b[0m\u001b[0;34m\u001b[0m\u001b[0;34m\u001b[0m\u001b[0m\n",
      "\u001b[0;32m/opt/conda/lib/python3.7/multiprocessing/connection.py\u001b[0m in \u001b[0;36mClient\u001b[0;34m(address, family, authkey)\u001b[0m\n\u001b[1;32m    496\u001b[0m \u001b[0;34m\u001b[0m\u001b[0m\n\u001b[1;32m    497\u001b[0m     \u001b[0;32mif\u001b[0m \u001b[0mauthkey\u001b[0m \u001b[0;32mis\u001b[0m \u001b[0;32mnot\u001b[0m \u001b[0;32mNone\u001b[0m\u001b[0;34m:\u001b[0m\u001b[0;34m\u001b[0m\u001b[0;34m\u001b[0m\u001b[0m\n\u001b[0;32m--> 498\u001b[0;31m         \u001b[0manswer_challenge\u001b[0m\u001b[0;34m(\u001b[0m\u001b[0mc\u001b[0m\u001b[0;34m,\u001b[0m \u001b[0mauthkey\u001b[0m\u001b[0;34m)\u001b[0m\u001b[0;34m\u001b[0m\u001b[0;34m\u001b[0m\u001b[0m\n\u001b[0m\u001b[1;32m    499\u001b[0m         \u001b[0mdeliver_challenge\u001b[0m\u001b[0;34m(\u001b[0m\u001b[0mc\u001b[0m\u001b[0;34m,\u001b[0m \u001b[0mauthkey\u001b[0m\u001b[0;34m)\u001b[0m\u001b[0;34m\u001b[0m\u001b[0;34m\u001b[0m\u001b[0m\n\u001b[1;32m    500\u001b[0m \u001b[0;34m\u001b[0m\u001b[0m\n",
      "\u001b[0;32m/opt/conda/lib/python3.7/multiprocessing/connection.py\u001b[0m in \u001b[0;36manswer_challenge\u001b[0;34m(connection, authkey)\u001b[0m\n\u001b[1;32m    744\u001b[0m     \u001b[0mdigest\u001b[0m \u001b[0;34m=\u001b[0m \u001b[0mhmac\u001b[0m\u001b[0;34m.\u001b[0m\u001b[0mnew\u001b[0m\u001b[0;34m(\u001b[0m\u001b[0mauthkey\u001b[0m\u001b[0;34m,\u001b[0m \u001b[0mmessage\u001b[0m\u001b[0;34m,\u001b[0m \u001b[0;34m'md5'\u001b[0m\u001b[0;34m)\u001b[0m\u001b[0;34m.\u001b[0m\u001b[0mdigest\u001b[0m\u001b[0;34m(\u001b[0m\u001b[0;34m)\u001b[0m\u001b[0;34m\u001b[0m\u001b[0;34m\u001b[0m\u001b[0m\n\u001b[1;32m    745\u001b[0m     \u001b[0mconnection\u001b[0m\u001b[0;34m.\u001b[0m\u001b[0msend_bytes\u001b[0m\u001b[0;34m(\u001b[0m\u001b[0mdigest\u001b[0m\u001b[0;34m)\u001b[0m\u001b[0;34m\u001b[0m\u001b[0;34m\u001b[0m\u001b[0m\n\u001b[0;32m--> 746\u001b[0;31m     \u001b[0mresponse\u001b[0m \u001b[0;34m=\u001b[0m \u001b[0mconnection\u001b[0m\u001b[0;34m.\u001b[0m\u001b[0mrecv_bytes\u001b[0m\u001b[0;34m(\u001b[0m\u001b[0;36m256\u001b[0m\u001b[0;34m)\u001b[0m        \u001b[0;31m# reject large message\u001b[0m\u001b[0;34m\u001b[0m\u001b[0;34m\u001b[0m\u001b[0m\n\u001b[0m\u001b[1;32m    747\u001b[0m     \u001b[0;32mif\u001b[0m \u001b[0mresponse\u001b[0m \u001b[0;34m!=\u001b[0m \u001b[0mWELCOME\u001b[0m\u001b[0;34m:\u001b[0m\u001b[0;34m\u001b[0m\u001b[0;34m\u001b[0m\u001b[0m\n\u001b[1;32m    748\u001b[0m         \u001b[0;32mraise\u001b[0m \u001b[0mAuthenticationError\u001b[0m\u001b[0;34m(\u001b[0m\u001b[0;34m'digest sent was rejected'\u001b[0m\u001b[0;34m)\u001b[0m\u001b[0;34m\u001b[0m\u001b[0;34m\u001b[0m\u001b[0m\n",
      "\u001b[0;32m/opt/conda/lib/python3.7/multiprocessing/connection.py\u001b[0m in \u001b[0;36mrecv_bytes\u001b[0;34m(self, maxlength)\u001b[0m\n\u001b[1;32m    214\u001b[0m         \u001b[0;32mif\u001b[0m \u001b[0mmaxlength\u001b[0m \u001b[0;32mis\u001b[0m \u001b[0;32mnot\u001b[0m \u001b[0;32mNone\u001b[0m \u001b[0;32mand\u001b[0m \u001b[0mmaxlength\u001b[0m \u001b[0;34m<\u001b[0m \u001b[0;36m0\u001b[0m\u001b[0;34m:\u001b[0m\u001b[0;34m\u001b[0m\u001b[0;34m\u001b[0m\u001b[0m\n\u001b[1;32m    215\u001b[0m             \u001b[0;32mraise\u001b[0m \u001b[0mValueError\u001b[0m\u001b[0;34m(\u001b[0m\u001b[0;34m\"negative maxlength\"\u001b[0m\u001b[0;34m)\u001b[0m\u001b[0;34m\u001b[0m\u001b[0;34m\u001b[0m\u001b[0m\n\u001b[0;32m--> 216\u001b[0;31m         \u001b[0mbuf\u001b[0m \u001b[0;34m=\u001b[0m \u001b[0mself\u001b[0m\u001b[0;34m.\u001b[0m\u001b[0m_recv_bytes\u001b[0m\u001b[0;34m(\u001b[0m\u001b[0mmaxlength\u001b[0m\u001b[0;34m)\u001b[0m\u001b[0;34m\u001b[0m\u001b[0;34m\u001b[0m\u001b[0m\n\u001b[0m\u001b[1;32m    217\u001b[0m         \u001b[0;32mif\u001b[0m \u001b[0mbuf\u001b[0m \u001b[0;32mis\u001b[0m \u001b[0;32mNone\u001b[0m\u001b[0;34m:\u001b[0m\u001b[0;34m\u001b[0m\u001b[0;34m\u001b[0m\u001b[0m\n\u001b[1;32m    218\u001b[0m             \u001b[0mself\u001b[0m\u001b[0;34m.\u001b[0m\u001b[0m_bad_message_length\u001b[0m\u001b[0;34m(\u001b[0m\u001b[0;34m)\u001b[0m\u001b[0;34m\u001b[0m\u001b[0;34m\u001b[0m\u001b[0m\n",
      "\u001b[0;32m/opt/conda/lib/python3.7/multiprocessing/connection.py\u001b[0m in \u001b[0;36m_recv_bytes\u001b[0;34m(self, maxsize)\u001b[0m\n\u001b[1;32m    405\u001b[0m \u001b[0;34m\u001b[0m\u001b[0m\n\u001b[1;32m    406\u001b[0m     \u001b[0;32mdef\u001b[0m \u001b[0m_recv_bytes\u001b[0m\u001b[0;34m(\u001b[0m\u001b[0mself\u001b[0m\u001b[0;34m,\u001b[0m \u001b[0mmaxsize\u001b[0m\u001b[0;34m=\u001b[0m\u001b[0;32mNone\u001b[0m\u001b[0;34m)\u001b[0m\u001b[0;34m:\u001b[0m\u001b[0;34m\u001b[0m\u001b[0;34m\u001b[0m\u001b[0m\n\u001b[0;32m--> 407\u001b[0;31m         \u001b[0mbuf\u001b[0m \u001b[0;34m=\u001b[0m \u001b[0mself\u001b[0m\u001b[0;34m.\u001b[0m\u001b[0m_recv\u001b[0m\u001b[0;34m(\u001b[0m\u001b[0;36m4\u001b[0m\u001b[0;34m)\u001b[0m\u001b[0;34m\u001b[0m\u001b[0;34m\u001b[0m\u001b[0m\n\u001b[0m\u001b[1;32m    408\u001b[0m         \u001b[0msize\u001b[0m\u001b[0;34m,\u001b[0m \u001b[0;34m=\u001b[0m \u001b[0mstruct\u001b[0m\u001b[0;34m.\u001b[0m\u001b[0munpack\u001b[0m\u001b[0;34m(\u001b[0m\u001b[0;34m\"!i\"\u001b[0m\u001b[0;34m,\u001b[0m \u001b[0mbuf\u001b[0m\u001b[0;34m.\u001b[0m\u001b[0mgetvalue\u001b[0m\u001b[0;34m(\u001b[0m\u001b[0;34m)\u001b[0m\u001b[0;34m)\u001b[0m\u001b[0;34m\u001b[0m\u001b[0;34m\u001b[0m\u001b[0m\n\u001b[1;32m    409\u001b[0m         \u001b[0;32mif\u001b[0m \u001b[0mmaxsize\u001b[0m \u001b[0;32mis\u001b[0m \u001b[0;32mnot\u001b[0m \u001b[0;32mNone\u001b[0m \u001b[0;32mand\u001b[0m \u001b[0msize\u001b[0m \u001b[0;34m>\u001b[0m \u001b[0mmaxsize\u001b[0m\u001b[0;34m:\u001b[0m\u001b[0;34m\u001b[0m\u001b[0;34m\u001b[0m\u001b[0m\n",
      "\u001b[0;32m/opt/conda/lib/python3.7/multiprocessing/connection.py\u001b[0m in \u001b[0;36m_recv\u001b[0;34m(self, size, read)\u001b[0m\n\u001b[1;32m    377\u001b[0m         \u001b[0mremaining\u001b[0m \u001b[0;34m=\u001b[0m \u001b[0msize\u001b[0m\u001b[0;34m\u001b[0m\u001b[0;34m\u001b[0m\u001b[0m\n\u001b[1;32m    378\u001b[0m         \u001b[0;32mwhile\u001b[0m \u001b[0mremaining\u001b[0m \u001b[0;34m>\u001b[0m \u001b[0;36m0\u001b[0m\u001b[0;34m:\u001b[0m\u001b[0;34m\u001b[0m\u001b[0;34m\u001b[0m\u001b[0m\n\u001b[0;32m--> 379\u001b[0;31m             \u001b[0mchunk\u001b[0m \u001b[0;34m=\u001b[0m \u001b[0mread\u001b[0m\u001b[0;34m(\u001b[0m\u001b[0mhandle\u001b[0m\u001b[0;34m,\u001b[0m \u001b[0mremaining\u001b[0m\u001b[0;34m)\u001b[0m\u001b[0;34m\u001b[0m\u001b[0;34m\u001b[0m\u001b[0m\n\u001b[0m\u001b[1;32m    380\u001b[0m             \u001b[0mn\u001b[0m \u001b[0;34m=\u001b[0m \u001b[0mlen\u001b[0m\u001b[0;34m(\u001b[0m\u001b[0mchunk\u001b[0m\u001b[0;34m)\u001b[0m\u001b[0;34m\u001b[0m\u001b[0;34m\u001b[0m\u001b[0m\n\u001b[1;32m    381\u001b[0m             \u001b[0;32mif\u001b[0m \u001b[0mn\u001b[0m \u001b[0;34m==\u001b[0m \u001b[0;36m0\u001b[0m\u001b[0;34m:\u001b[0m\u001b[0;34m\u001b[0m\u001b[0;34m\u001b[0m\u001b[0m\n",
      "\u001b[0;31mKeyboardInterrupt\u001b[0m: "
     ]
    }
   ],
   "source": [
    "# train loop\n",
    "logs = []\n",
    "for epoch in range(1, 105):\n",
    "    lr = scheduler.optimizer.param_groups[0]['lr']\n",
    "    tr_loss, tr_logmae, global_iteration = train_epoch(global_iteration,\n",
    "                                     epoch,\n",
    "                                     model,\n",
    "                                     device,\n",
    "                                     optimizer,\n",
    "                                     train_loader,\n",
    "                                     tb_logger,\n",
    "                                     gradient_accumulation_steps=1, swa=True)\n",
    "    scheduler.step()\n",
    "    if epoch % 10 == 0:\n",
    "        optimizer.param_groups[0]['lr'] = 1e-4\n",
    "\n",
    "    val_loss, val_logmae = test_model(model, val_loader)\n",
    "    \n",
    "    optimizer.swap_swa_sgd()\n",
    "    val_loss_swa, val_logmae_swa = test_model(model, val_loader)\n",
    "    optimizer.swap_swa_sgd()\n",
    "\n",
    "    epoch_log = make_log(epoch, lr, tr_loss, tr_logmae, val_logmae)\n",
    "    logs.append(epoch_log)\n",
    "    pd.DataFrame(logs).to_csv(OUTPUT_DIR + 'log.csv')\n",
    "    print('Epoch: {epoch:03d}, LR: {lr:7f}, Loss: {loss:.7f}, \\\n",
    "         Train LogMAE: {tr_logmae:.7f}, Val LogMAE: {val_logmae:.7f}'.format(\n",
    "        **epoch_log))\n",
    "    print(f'Val LogMAE SWA: {val_logmae_swa.compute():.7f}')\n",
    "\n",
    "    if epoch % SAVE_INTERVAL == 0:\n",
    "        save_checkpoint(OUTPUT_DIR, model, optimizer, scheduler, epoch)\n",
    "\n",
    "    tb_logger.add_scalar('lr', lr, global_iteration)\n",
    "    tb_logger.add_scalar('val_loss', val_loss, global_iteration)\n",
    "    tb_logger.add_scalars('global_logmae', {\n",
    "        'tr_logmae': epoch_log['tr_logmae'],\n",
    "        'val_logmae': epoch_log['val_logmae']\n",
    "    }, global_iteration)\n",
    "\n",
    "    for type_ in constants.TYPES_LIST:\n",
    "        tb_logger.add_scalars(\n",
    "            type_, {\n",
    "                'tr_' + type_: epoch_log['tr_' + type_],\n",
    "                'val_' + type_: epoch_log['val_' + type_]\n",
    "            }, global_iteration)"
   ]
  },
  {
   "cell_type": "code",
   "execution_count": 57,
   "metadata": {
    "ExecuteTime": {
     "end_time": "2019-08-17T09:35:25.244144Z",
     "start_time": "2019-08-17T09:35:25.199671Z"
    }
   },
   "outputs": [],
   "source": [
    "from torchcontrib.optim import SWA"
   ]
  },
  {
   "cell_type": "code",
   "execution_count": 58,
   "metadata": {
    "ExecuteTime": {
     "end_time": "2019-08-17T09:35:25.287143Z",
     "start_time": "2019-08-17T09:35:25.245931Z"
    }
   },
   "outputs": [
    {
     "name": "stderr",
     "output_type": "stream",
     "text": [
      "/opt/conda/lib/python3.7/site-packages/torchcontrib/optim/swa.py:102: UserWarning: Some of swa_start, swa_freq is None, ignoring swa_lr\n",
      "  \"Some of swa_start, swa_freq is None, ignoring swa_lr\")\n"
     ]
    }
   ],
   "source": [
    "optimizer = SWA(optimizer, swa_start=None, swa_freq=None, swa_lr=1e-4)"
   ]
  },
  {
   "cell_type": "code",
   "execution_count": 59,
   "metadata": {
    "ExecuteTime": {
     "end_time": "2019-08-17T17:08:26.566465Z",
     "start_time": "2019-08-17T09:35:25.289094Z"
    },
    "scrolled": true
   },
   "outputs": [
    {
     "data": {
      "application/vnd.jupyter.widget-view+json": {
       "model_id": "35746577c0264b7d87b3a901d94e6d68",
       "version_major": 2,
       "version_minor": 0
      },
      "text/plain": [
       "HBox(children=(IntProgress(value=0, max=2501), HTML(value='')))"
      ]
     },
     "metadata": {},
     "output_type": "display_data"
    },
    {
     "name": "stdout",
     "output_type": "stream",
     "text": [
      "\n",
      "Epoch: 001, LR: 0.000100, Loss: 0.0525858,          Train LogMAE: -3.1921357, Val LogMAE: -2.5308201\n",
      "Val LogMAE SWA: -2.6923070\n"
     ]
    },
    {
     "data": {
      "application/vnd.jupyter.widget-view+json": {
       "model_id": "91c008e1ee3849e7984c83b8b48d28e6",
       "version_major": 2,
       "version_minor": 0
      },
      "text/plain": [
       "HBox(children=(IntProgress(value=0, max=2501), HTML(value='')))"
      ]
     },
     "metadata": {},
     "output_type": "display_data"
    },
    {
     "name": "stdout",
     "output_type": "stream",
     "text": [
      "\n",
      "Epoch: 002, LR: 0.000100, Loss: 0.0523206,          Train LogMAE: -3.1975689, Val LogMAE: -2.4789515\n",
      "Val LogMAE SWA: -2.7023101\n"
     ]
    },
    {
     "data": {
      "application/vnd.jupyter.widget-view+json": {
       "model_id": "3ae3745e322f4998938338331dacec6a",
       "version_major": 2,
       "version_minor": 0
      },
      "text/plain": [
       "HBox(children=(IntProgress(value=0, max=2501), HTML(value='')))"
      ]
     },
     "metadata": {},
     "output_type": "display_data"
    },
    {
     "name": "stdout",
     "output_type": "stream",
     "text": [
      "\n",
      "Epoch: 003, LR: 0.000050, Loss: 0.0380843,          Train LogMAE: -3.5607711, Val LogMAE: -2.6362811\n",
      "Val LogMAE SWA: -2.7081334\n"
     ]
    },
    {
     "data": {
      "application/vnd.jupyter.widget-view+json": {
       "model_id": "12a98ef6605b4e328b9fe683a741684e",
       "version_major": 2,
       "version_minor": 0
      },
      "text/plain": [
       "HBox(children=(IntProgress(value=0, max=2501), HTML(value='')))"
      ]
     },
     "metadata": {},
     "output_type": "display_data"
    },
    {
     "name": "stdout",
     "output_type": "stream",
     "text": [
      "\n",
      "Epoch: 004, LR: 0.000050, Loss: 0.0345512,          Train LogMAE: -3.6766727, Val LogMAE: -2.6497833\n",
      "Val LogMAE SWA: -2.7140730\n"
     ]
    },
    {
     "data": {
      "application/vnd.jupyter.widget-view+json": {
       "model_id": "ba54c9410a594801b3de94c5ab372004",
       "version_major": 2,
       "version_minor": 0
      },
      "text/plain": [
       "HBox(children=(IntProgress(value=0, max=2501), HTML(value='')))"
      ]
     },
     "metadata": {},
     "output_type": "display_data"
    },
    {
     "name": "stdout",
     "output_type": "stream",
     "text": [
      "\n",
      "Epoch: 005, LR: 0.000025, Loss: 0.0273012,          Train LogMAE: -3.9652012, Val LogMAE: -2.6927343\n",
      "Val LogMAE SWA: -2.7166343\n"
     ]
    },
    {
     "data": {
      "application/vnd.jupyter.widget-view+json": {
       "model_id": "becdfd08ef314275b50325fc0b7df16e",
       "version_major": 2,
       "version_minor": 0
      },
      "text/plain": [
       "HBox(children=(IntProgress(value=0, max=2501), HTML(value='')))"
      ]
     },
     "metadata": {},
     "output_type": "display_data"
    },
    {
     "name": "stdout",
     "output_type": "stream",
     "text": [
      "\n",
      "Epoch: 006, LR: 0.000025, Loss: 0.0255557,          Train LogMAE: -4.0559917, Val LogMAE: -2.6996353\n",
      "Val LogMAE SWA: -2.7188434\n"
     ]
    },
    {
     "data": {
      "application/vnd.jupyter.widget-view+json": {
       "model_id": "3c2fc17278b647f0be6e3d4a1733f048",
       "version_major": 2,
       "version_minor": 0
      },
      "text/plain": [
       "HBox(children=(IntProgress(value=0, max=2501), HTML(value='')))"
      ]
     },
     "metadata": {},
     "output_type": "display_data"
    },
    {
     "name": "stdout",
     "output_type": "stream",
     "text": [
      "\n",
      "Epoch: 007, LR: 0.000013, Loss: 0.0218847,          Train LogMAE: -4.3050418, Val LogMAE: -2.7178966\n",
      "Val LogMAE SWA: -2.7212128\n"
     ]
    },
    {
     "data": {
      "application/vnd.jupyter.widget-view+json": {
       "model_id": "050883fd6ccf4b30a5bb1c000d19b379",
       "version_major": 2,
       "version_minor": 0
      },
      "text/plain": [
       "HBox(children=(IntProgress(value=0, max=2501), HTML(value='')))"
      ]
     },
     "metadata": {},
     "output_type": "display_data"
    },
    {
     "name": "stdout",
     "output_type": "stream",
     "text": [
      "\n",
      "Epoch: 008, LR: 0.000013, Loss: 0.0209527,          Train LogMAE: -4.3997866, Val LogMAE: -2.7188505\n",
      "Val LogMAE SWA: -2.7220674\n"
     ]
    },
    {
     "data": {
      "application/vnd.jupyter.widget-view+json": {
       "model_id": "4608b838de924e50a846a32edac6b540",
       "version_major": 2,
       "version_minor": 0
      },
      "text/plain": [
       "HBox(children=(IntProgress(value=0, max=2501), HTML(value='')))"
      ]
     },
     "metadata": {},
     "output_type": "display_data"
    },
    {
     "name": "stdout",
     "output_type": "stream",
     "text": [
      "\n",
      "Epoch: 009, LR: 0.000006, Loss: 0.0191141,          Train LogMAE: -4.6080639, Val LogMAE: -2.7258790\n",
      "Val LogMAE SWA: -2.7236790\n"
     ]
    },
    {
     "data": {
      "application/vnd.jupyter.widget-view+json": {
       "model_id": "a10ff615c1a84854afc5729a0dde6a75",
       "version_major": 2,
       "version_minor": 0
      },
      "text/plain": [
       "HBox(children=(IntProgress(value=0, max=2501), HTML(value='')))"
      ]
     },
     "metadata": {},
     "output_type": "display_data"
    },
    {
     "name": "stdout",
     "output_type": "stream",
     "text": [
      "\n",
      "Epoch: 010, LR: 0.000006, Loss: 0.0186579,          Train LogMAE: -4.6773264, Val LogMAE: -2.7273596\n",
      "Val LogMAE SWA: -2.7239565\n"
     ]
    },
    {
     "data": {
      "application/vnd.jupyter.widget-view+json": {
       "model_id": "dd19db0b01464fe392a1ca703024c481",
       "version_major": 2,
       "version_minor": 0
      },
      "text/plain": [
       "HBox(children=(IntProgress(value=0, max=2501), HTML(value='')))"
      ]
     },
     "metadata": {},
     "output_type": "display_data"
    },
    {
     "name": "stdout",
     "output_type": "stream",
     "text": [
      "\n",
      "Epoch: 011, LR: 0.000100, Loss: 0.0490417,          Train LogMAE: -3.2757647, Val LogMAE: -2.5500277\n",
      "Val LogMAE SWA: -2.7240088\n"
     ]
    },
    {
     "data": {
      "application/vnd.jupyter.widget-view+json": {
       "model_id": "f0b21c7119204caea032cb353993f3fb",
       "version_major": 2,
       "version_minor": 0
      },
      "text/plain": [
       "HBox(children=(IntProgress(value=0, max=2501), HTML(value='')))"
      ]
     },
     "metadata": {},
     "output_type": "display_data"
    },
    {
     "name": "stdout",
     "output_type": "stream",
     "text": [
      "\n",
      "Epoch: 012, LR: 0.000100, Loss: 0.0505134,          Train LogMAE: -3.2350820, Val LogMAE: -2.5113836\n",
      "Val LogMAE SWA: -2.7243656\n"
     ]
    },
    {
     "data": {
      "application/vnd.jupyter.widget-view+json": {
       "model_id": "96782c1689134dbb97fd4e4a7ab365ab",
       "version_major": 2,
       "version_minor": 0
      },
      "text/plain": [
       "HBox(children=(IntProgress(value=0, max=2501), HTML(value='')))"
      ]
     },
     "metadata": {},
     "output_type": "display_data"
    },
    {
     "name": "stdout",
     "output_type": "stream",
     "text": [
      "\n",
      "Epoch: 013, LR: 0.000050, Loss: 0.0361824,          Train LogMAE: -3.6187571, Val LogMAE: -2.6531555\n",
      "Val LogMAE SWA: -2.7248700\n"
     ]
    },
    {
     "data": {
      "application/vnd.jupyter.widget-view+json": {
       "model_id": "520f9d5d37b14916a9eca849094eed50",
       "version_major": 2,
       "version_minor": 0
      },
      "text/plain": [
       "HBox(children=(IntProgress(value=0, max=2501), HTML(value='')))"
      ]
     },
     "metadata": {},
     "output_type": "display_data"
    },
    {
     "name": "stdout",
     "output_type": "stream",
     "text": [
      "\n",
      "Epoch: 014, LR: 0.000050, Loss: 0.0328798,          Train LogMAE: -3.7325533, Val LogMAE: -2.6625951\n",
      "Val LogMAE SWA: -2.7251684\n"
     ]
    },
    {
     "data": {
      "application/vnd.jupyter.widget-view+json": {
       "model_id": "d08bb7709c9a474ebcf55a81b2d46c00",
       "version_major": 2,
       "version_minor": 0
      },
      "text/plain": [
       "HBox(children=(IntProgress(value=0, max=2501), HTML(value='')))"
      ]
     },
     "metadata": {},
     "output_type": "display_data"
    },
    {
     "name": "stdout",
     "output_type": "stream",
     "text": [
      "\n",
      "Epoch: 015, LR: 0.000025, Loss: 0.0255863,          Train LogMAE: -4.0466991, Val LogMAE: -2.7037813\n",
      "Val LogMAE SWA: -2.7260801\n"
     ]
    },
    {
     "data": {
      "application/vnd.jupyter.widget-view+json": {
       "model_id": "f9256d19da0245f0804a262a8ead21d0",
       "version_major": 2,
       "version_minor": 0
      },
      "text/plain": [
       "HBox(children=(IntProgress(value=0, max=2501), HTML(value='')))"
      ]
     },
     "metadata": {},
     "output_type": "display_data"
    },
    {
     "name": "stdout",
     "output_type": "stream",
     "text": [
      "\n",
      "Epoch: 016, LR: 0.000025, Loss: 0.0237965,          Train LogMAE: -4.1552782, Val LogMAE: -2.7075988\n",
      "Val LogMAE SWA: -2.7267387\n"
     ]
    },
    {
     "data": {
      "application/vnd.jupyter.widget-view+json": {
       "model_id": "9ba5bb589e3149d2b3c715850002f023",
       "version_major": 2,
       "version_minor": 0
      },
      "text/plain": [
       "HBox(children=(IntProgress(value=0, max=2501), HTML(value='')))"
      ]
     },
     "metadata": {},
     "output_type": "display_data"
    },
    {
     "name": "stdout",
     "output_type": "stream",
     "text": [
      "\n",
      "Epoch: 017, LR: 0.000013, Loss: 0.0202306,          Train LogMAE: -4.4478234, Val LogMAE: -2.7231860\n",
      "Val LogMAE SWA: -2.7271498\n"
     ]
    },
    {
     "data": {
      "application/vnd.jupyter.widget-view+json": {
       "model_id": "fccb5c812f5a40bfae7b73ea82f2e879",
       "version_major": 2,
       "version_minor": 0
      },
      "text/plain": [
       "HBox(children=(IntProgress(value=0, max=2501), HTML(value='')))"
      ]
     },
     "metadata": {},
     "output_type": "display_data"
    },
    {
     "name": "stdout",
     "output_type": "stream",
     "text": [
      "\n",
      "Epoch: 018, LR: 0.000013, Loss: 0.0193260,          Train LogMAE: -4.5690665, Val LogMAE: -2.7250853\n",
      "Val LogMAE SWA: -2.7274944\n"
     ]
    },
    {
     "data": {
      "application/vnd.jupyter.widget-view+json": {
       "model_id": "ccfd0953ea8c4f20bb1851a4a7c32307",
       "version_major": 2,
       "version_minor": 0
      },
      "text/plain": [
       "HBox(children=(IntProgress(value=0, max=2501), HTML(value='')))"
      ]
     },
     "metadata": {},
     "output_type": "display_data"
    },
    {
     "name": "stdout",
     "output_type": "stream",
     "text": [
      "\n",
      "Epoch: 019, LR: 0.000006, Loss: 0.0175233,          Train LogMAE: -4.8302164, Val LogMAE: -2.7301308\n",
      "Val LogMAE SWA: -2.7279378\n"
     ]
    },
    {
     "data": {
      "application/vnd.jupyter.widget-view+json": {
       "model_id": "3a0504ed76894b7d914aa95e18bfe242",
       "version_major": 2,
       "version_minor": 0
      },
      "text/plain": [
       "HBox(children=(IntProgress(value=0, max=2501), HTML(value='')))"
      ]
     },
     "metadata": {},
     "output_type": "display_data"
    },
    {
     "name": "stdout",
     "output_type": "stream",
     "text": [
      "\n",
      "Epoch: 020, LR: 0.000006, Loss: 0.0170651,          Train LogMAE: -4.9110804, Val LogMAE: -2.7303108\n",
      "Val LogMAE SWA: -2.7289280\n"
     ]
    },
    {
     "data": {
      "application/vnd.jupyter.widget-view+json": {
       "model_id": "caf5ff0e836843a0afa974ae6f1a5acf",
       "version_major": 2,
       "version_minor": 0
      },
      "text/plain": [
       "HBox(children=(IntProgress(value=0, max=2501), HTML(value='')))"
      ]
     },
     "metadata": {},
     "output_type": "display_data"
    },
    {
     "ename": "KeyboardInterrupt",
     "evalue": "",
     "output_type": "error",
     "traceback": [
      "\u001b[0;31m---------------------------------------------------------------------------\u001b[0m",
      "\u001b[0;31mKeyboardInterrupt\u001b[0m                         Traceback (most recent call last)",
      "\u001b[0;32m<ipython-input-59-d54368472942>\u001b[0m in \u001b[0;36m<module>\u001b[0;34m\u001b[0m\n\u001b[1;32m     10\u001b[0m                                      \u001b[0mtrain_loader\u001b[0m\u001b[0;34m,\u001b[0m\u001b[0;34m\u001b[0m\u001b[0;34m\u001b[0m\u001b[0m\n\u001b[1;32m     11\u001b[0m                                      \u001b[0mtb_logger\u001b[0m\u001b[0;34m,\u001b[0m\u001b[0;34m\u001b[0m\u001b[0;34m\u001b[0m\u001b[0m\n\u001b[0;32m---> 12\u001b[0;31m                                      gradient_accumulation_steps=1, swa=True)\n\u001b[0m\u001b[1;32m     13\u001b[0m     \u001b[0mscheduler\u001b[0m\u001b[0;34m.\u001b[0m\u001b[0mstep\u001b[0m\u001b[0;34m(\u001b[0m\u001b[0;34m)\u001b[0m\u001b[0;34m\u001b[0m\u001b[0;34m\u001b[0m\u001b[0m\n\u001b[1;32m     14\u001b[0m     \u001b[0;32mif\u001b[0m \u001b[0mepoch\u001b[0m \u001b[0;34m%\u001b[0m \u001b[0;36m10\u001b[0m \u001b[0;34m==\u001b[0m \u001b[0;36m0\u001b[0m\u001b[0;34m:\u001b[0m\u001b[0;34m\u001b[0m\u001b[0;34m\u001b[0m\u001b[0m\n",
      "\u001b[0;32m<ipython-input-42-8c9676b99971>\u001b[0m in \u001b[0;36mtrain_epoch\u001b[0;34m(global_iteration, epoch, model, device, optimizer, train_loader, tb_logger, gradient_accumulation_steps, swa)\u001b[0m\n\u001b[1;32m     10\u001b[0m \u001b[0;34m\u001b[0m\u001b[0m\n\u001b[1;32m     11\u001b[0m     \u001b[0mpbar\u001b[0m \u001b[0;34m=\u001b[0m \u001b[0mtqdm\u001b[0m\u001b[0;34m(\u001b[0m\u001b[0mtrain_loader\u001b[0m\u001b[0;34m)\u001b[0m\u001b[0;34m\u001b[0m\u001b[0;34m\u001b[0m\u001b[0m\n\u001b[0;32m---> 12\u001b[0;31m     \u001b[0;32mfor\u001b[0m \u001b[0mstep\u001b[0m\u001b[0;34m,\u001b[0m \u001b[0mdata\u001b[0m \u001b[0;32min\u001b[0m \u001b[0menumerate\u001b[0m\u001b[0;34m(\u001b[0m\u001b[0mpbar\u001b[0m\u001b[0;34m)\u001b[0m\u001b[0;34m:\u001b[0m\u001b[0;34m\u001b[0m\u001b[0;34m\u001b[0m\u001b[0m\n\u001b[0m\u001b[1;32m     13\u001b[0m         \u001b[0mdata\u001b[0m \u001b[0;34m=\u001b[0m \u001b[0mdata\u001b[0m\u001b[0;34m.\u001b[0m\u001b[0mto\u001b[0m\u001b[0;34m(\u001b[0m\u001b[0mdevice\u001b[0m\u001b[0;34m)\u001b[0m\u001b[0;34m\u001b[0m\u001b[0;34m\u001b[0m\u001b[0m\n\u001b[1;32m     14\u001b[0m \u001b[0;34m\u001b[0m\u001b[0m\n",
      "\u001b[0;32m/opt/conda/lib/python3.7/site-packages/tqdm/_tqdm_notebook.py\u001b[0m in \u001b[0;36m__iter__\u001b[0;34m(self, *args, **kwargs)\u001b[0m\n\u001b[1;32m    219\u001b[0m     \u001b[0;32mdef\u001b[0m \u001b[0m__iter__\u001b[0m\u001b[0;34m(\u001b[0m\u001b[0mself\u001b[0m\u001b[0;34m,\u001b[0m \u001b[0;34m*\u001b[0m\u001b[0margs\u001b[0m\u001b[0;34m,\u001b[0m \u001b[0;34m**\u001b[0m\u001b[0mkwargs\u001b[0m\u001b[0;34m)\u001b[0m\u001b[0;34m:\u001b[0m\u001b[0;34m\u001b[0m\u001b[0;34m\u001b[0m\u001b[0m\n\u001b[1;32m    220\u001b[0m         \u001b[0;32mtry\u001b[0m\u001b[0;34m:\u001b[0m\u001b[0;34m\u001b[0m\u001b[0;34m\u001b[0m\u001b[0m\n\u001b[0;32m--> 221\u001b[0;31m             \u001b[0;32mfor\u001b[0m \u001b[0mobj\u001b[0m \u001b[0;32min\u001b[0m \u001b[0msuper\u001b[0m\u001b[0;34m(\u001b[0m\u001b[0mtqdm_notebook\u001b[0m\u001b[0;34m,\u001b[0m \u001b[0mself\u001b[0m\u001b[0;34m)\u001b[0m\u001b[0;34m.\u001b[0m\u001b[0m__iter__\u001b[0m\u001b[0;34m(\u001b[0m\u001b[0;34m*\u001b[0m\u001b[0margs\u001b[0m\u001b[0;34m,\u001b[0m \u001b[0;34m**\u001b[0m\u001b[0mkwargs\u001b[0m\u001b[0;34m)\u001b[0m\u001b[0;34m:\u001b[0m\u001b[0;34m\u001b[0m\u001b[0;34m\u001b[0m\u001b[0m\n\u001b[0m\u001b[1;32m    222\u001b[0m                 \u001b[0;31m# return super(tqdm...) will not catch exception\u001b[0m\u001b[0;34m\u001b[0m\u001b[0;34m\u001b[0m\u001b[0;34m\u001b[0m\u001b[0m\n\u001b[1;32m    223\u001b[0m                 \u001b[0;32myield\u001b[0m \u001b[0mobj\u001b[0m\u001b[0;34m\u001b[0m\u001b[0;34m\u001b[0m\u001b[0m\n",
      "\u001b[0;32m/opt/conda/lib/python3.7/site-packages/tqdm/_tqdm.py\u001b[0m in \u001b[0;36m__iter__\u001b[0;34m(self)\u001b[0m\n\u001b[1;32m    998\u001b[0m                 \"\"\"), fp_write=getattr(self.fp, 'write', sys.stderr.write))\n\u001b[1;32m    999\u001b[0m \u001b[0;34m\u001b[0m\u001b[0m\n\u001b[0;32m-> 1000\u001b[0;31m             \u001b[0;32mfor\u001b[0m \u001b[0mobj\u001b[0m \u001b[0;32min\u001b[0m \u001b[0miterable\u001b[0m\u001b[0;34m:\u001b[0m\u001b[0;34m\u001b[0m\u001b[0;34m\u001b[0m\u001b[0m\n\u001b[0m\u001b[1;32m   1001\u001b[0m                 \u001b[0;32myield\u001b[0m \u001b[0mobj\u001b[0m\u001b[0;34m\u001b[0m\u001b[0;34m\u001b[0m\u001b[0m\n\u001b[1;32m   1002\u001b[0m                 \u001b[0;31m# Update and possibly print the progressbar.\u001b[0m\u001b[0;34m\u001b[0m\u001b[0;34m\u001b[0m\u001b[0;34m\u001b[0m\u001b[0m\n",
      "\u001b[0;32m/opt/conda/lib/python3.7/site-packages/torch/utils/data/dataloader.py\u001b[0m in \u001b[0;36m__next__\u001b[0;34m(self)\u001b[0m\n\u001b[1;32m    574\u001b[0m         \u001b[0;32mwhile\u001b[0m \u001b[0;32mTrue\u001b[0m\u001b[0;34m:\u001b[0m\u001b[0;34m\u001b[0m\u001b[0;34m\u001b[0m\u001b[0m\n\u001b[1;32m    575\u001b[0m             \u001b[0;32massert\u001b[0m \u001b[0;34m(\u001b[0m\u001b[0;32mnot\u001b[0m \u001b[0mself\u001b[0m\u001b[0;34m.\u001b[0m\u001b[0mshutdown\u001b[0m \u001b[0;32mand\u001b[0m \u001b[0mself\u001b[0m\u001b[0;34m.\u001b[0m\u001b[0mbatches_outstanding\u001b[0m \u001b[0;34m>\u001b[0m \u001b[0;36m0\u001b[0m\u001b[0;34m)\u001b[0m\u001b[0;34m\u001b[0m\u001b[0;34m\u001b[0m\u001b[0m\n\u001b[0;32m--> 576\u001b[0;31m             \u001b[0midx\u001b[0m\u001b[0;34m,\u001b[0m \u001b[0mbatch\u001b[0m \u001b[0;34m=\u001b[0m \u001b[0mself\u001b[0m\u001b[0;34m.\u001b[0m\u001b[0m_get_batch\u001b[0m\u001b[0;34m(\u001b[0m\u001b[0;34m)\u001b[0m\u001b[0;34m\u001b[0m\u001b[0;34m\u001b[0m\u001b[0m\n\u001b[0m\u001b[1;32m    577\u001b[0m             \u001b[0mself\u001b[0m\u001b[0;34m.\u001b[0m\u001b[0mbatches_outstanding\u001b[0m \u001b[0;34m-=\u001b[0m \u001b[0;36m1\u001b[0m\u001b[0;34m\u001b[0m\u001b[0;34m\u001b[0m\u001b[0m\n\u001b[1;32m    578\u001b[0m             \u001b[0;32mif\u001b[0m \u001b[0midx\u001b[0m \u001b[0;34m!=\u001b[0m \u001b[0mself\u001b[0m\u001b[0;34m.\u001b[0m\u001b[0mrcvd_idx\u001b[0m\u001b[0;34m:\u001b[0m\u001b[0;34m\u001b[0m\u001b[0;34m\u001b[0m\u001b[0m\n",
      "\u001b[0;32m/opt/conda/lib/python3.7/site-packages/torch/utils/data/dataloader.py\u001b[0m in \u001b[0;36m_get_batch\u001b[0;34m(self)\u001b[0m\n\u001b[1;32m    551\u001b[0m         \u001b[0;32melse\u001b[0m\u001b[0;34m:\u001b[0m\u001b[0;34m\u001b[0m\u001b[0;34m\u001b[0m\u001b[0m\n\u001b[1;32m    552\u001b[0m             \u001b[0;32mwhile\u001b[0m \u001b[0;32mTrue\u001b[0m\u001b[0;34m:\u001b[0m\u001b[0;34m\u001b[0m\u001b[0;34m\u001b[0m\u001b[0m\n\u001b[0;32m--> 553\u001b[0;31m                 \u001b[0msuccess\u001b[0m\u001b[0;34m,\u001b[0m \u001b[0mdata\u001b[0m \u001b[0;34m=\u001b[0m \u001b[0mself\u001b[0m\u001b[0;34m.\u001b[0m\u001b[0m_try_get_batch\u001b[0m\u001b[0;34m(\u001b[0m\u001b[0;34m)\u001b[0m\u001b[0;34m\u001b[0m\u001b[0;34m\u001b[0m\u001b[0m\n\u001b[0m\u001b[1;32m    554\u001b[0m                 \u001b[0;32mif\u001b[0m \u001b[0msuccess\u001b[0m\u001b[0;34m:\u001b[0m\u001b[0;34m\u001b[0m\u001b[0;34m\u001b[0m\u001b[0m\n\u001b[1;32m    555\u001b[0m                     \u001b[0;32mreturn\u001b[0m \u001b[0mdata\u001b[0m\u001b[0;34m\u001b[0m\u001b[0;34m\u001b[0m\u001b[0m\n",
      "\u001b[0;32m/opt/conda/lib/python3.7/site-packages/torch/utils/data/dataloader.py\u001b[0m in \u001b[0;36m_try_get_batch\u001b[0;34m(self, timeout)\u001b[0m\n\u001b[1;32m    509\u001b[0m         \u001b[0;31m#   (bool: whether successfully get data, any: data if successful else None)\u001b[0m\u001b[0;34m\u001b[0m\u001b[0;34m\u001b[0m\u001b[0;34m\u001b[0m\u001b[0m\n\u001b[1;32m    510\u001b[0m         \u001b[0;32mtry\u001b[0m\u001b[0;34m:\u001b[0m\u001b[0;34m\u001b[0m\u001b[0;34m\u001b[0m\u001b[0m\n\u001b[0;32m--> 511\u001b[0;31m             \u001b[0mdata\u001b[0m \u001b[0;34m=\u001b[0m \u001b[0mself\u001b[0m\u001b[0;34m.\u001b[0m\u001b[0mdata_queue\u001b[0m\u001b[0;34m.\u001b[0m\u001b[0mget\u001b[0m\u001b[0;34m(\u001b[0m\u001b[0mtimeout\u001b[0m\u001b[0;34m=\u001b[0m\u001b[0mtimeout\u001b[0m\u001b[0;34m)\u001b[0m\u001b[0;34m\u001b[0m\u001b[0;34m\u001b[0m\u001b[0m\n\u001b[0m\u001b[1;32m    512\u001b[0m             \u001b[0;32mreturn\u001b[0m \u001b[0;34m(\u001b[0m\u001b[0;32mTrue\u001b[0m\u001b[0;34m,\u001b[0m \u001b[0mdata\u001b[0m\u001b[0;34m)\u001b[0m\u001b[0;34m\u001b[0m\u001b[0;34m\u001b[0m\u001b[0m\n\u001b[1;32m    513\u001b[0m         \u001b[0;32mexcept\u001b[0m \u001b[0mException\u001b[0m \u001b[0;32mas\u001b[0m \u001b[0me\u001b[0m\u001b[0;34m:\u001b[0m\u001b[0;34m\u001b[0m\u001b[0;34m\u001b[0m\u001b[0m\n",
      "\u001b[0;32m/opt/conda/lib/python3.7/multiprocessing/queues.py\u001b[0m in \u001b[0;36mget\u001b[0;34m(self, block, timeout)\u001b[0m\n\u001b[1;32m    111\u001b[0m                 \u001b[0mself\u001b[0m\u001b[0;34m.\u001b[0m\u001b[0m_rlock\u001b[0m\u001b[0;34m.\u001b[0m\u001b[0mrelease\u001b[0m\u001b[0;34m(\u001b[0m\u001b[0;34m)\u001b[0m\u001b[0;34m\u001b[0m\u001b[0;34m\u001b[0m\u001b[0m\n\u001b[1;32m    112\u001b[0m         \u001b[0;31m# unserialize the data after having released the lock\u001b[0m\u001b[0;34m\u001b[0m\u001b[0;34m\u001b[0m\u001b[0;34m\u001b[0m\u001b[0m\n\u001b[0;32m--> 113\u001b[0;31m         \u001b[0;32mreturn\u001b[0m \u001b[0m_ForkingPickler\u001b[0m\u001b[0;34m.\u001b[0m\u001b[0mloads\u001b[0m\u001b[0;34m(\u001b[0m\u001b[0mres\u001b[0m\u001b[0;34m)\u001b[0m\u001b[0;34m\u001b[0m\u001b[0;34m\u001b[0m\u001b[0m\n\u001b[0m\u001b[1;32m    114\u001b[0m \u001b[0;34m\u001b[0m\u001b[0m\n\u001b[1;32m    115\u001b[0m     \u001b[0;32mdef\u001b[0m \u001b[0mqsize\u001b[0m\u001b[0;34m(\u001b[0m\u001b[0mself\u001b[0m\u001b[0;34m)\u001b[0m\u001b[0;34m:\u001b[0m\u001b[0;34m\u001b[0m\u001b[0;34m\u001b[0m\u001b[0m\n",
      "\u001b[0;32m/opt/conda/lib/python3.7/site-packages/torch/multiprocessing/reductions.py\u001b[0m in \u001b[0;36mrebuild_storage_fd\u001b[0;34m(cls, df, size)\u001b[0m\n\u001b[1;32m    274\u001b[0m         \u001b[0mfd\u001b[0m \u001b[0;34m=\u001b[0m \u001b[0mmultiprocessing\u001b[0m\u001b[0;34m.\u001b[0m\u001b[0mreduction\u001b[0m\u001b[0;34m.\u001b[0m\u001b[0mrebuild_handle\u001b[0m\u001b[0;34m(\u001b[0m\u001b[0mdf\u001b[0m\u001b[0;34m)\u001b[0m\u001b[0;34m\u001b[0m\u001b[0;34m\u001b[0m\u001b[0m\n\u001b[1;32m    275\u001b[0m     \u001b[0;32melse\u001b[0m\u001b[0;34m:\u001b[0m\u001b[0;34m\u001b[0m\u001b[0;34m\u001b[0m\u001b[0m\n\u001b[0;32m--> 276\u001b[0;31m         \u001b[0mfd\u001b[0m \u001b[0;34m=\u001b[0m \u001b[0mdf\u001b[0m\u001b[0;34m.\u001b[0m\u001b[0mdetach\u001b[0m\u001b[0;34m(\u001b[0m\u001b[0;34m)\u001b[0m\u001b[0;34m\u001b[0m\u001b[0;34m\u001b[0m\u001b[0m\n\u001b[0m\u001b[1;32m    277\u001b[0m     \u001b[0;32mtry\u001b[0m\u001b[0;34m:\u001b[0m\u001b[0;34m\u001b[0m\u001b[0;34m\u001b[0m\u001b[0m\n\u001b[1;32m    278\u001b[0m         \u001b[0mstorage\u001b[0m \u001b[0;34m=\u001b[0m \u001b[0mstorage_from_cache\u001b[0m\u001b[0;34m(\u001b[0m\u001b[0mcls\u001b[0m\u001b[0;34m,\u001b[0m \u001b[0mfd_id\u001b[0m\u001b[0;34m(\u001b[0m\u001b[0mfd\u001b[0m\u001b[0;34m)\u001b[0m\u001b[0;34m)\u001b[0m\u001b[0;34m\u001b[0m\u001b[0;34m\u001b[0m\u001b[0m\n",
      "\u001b[0;32m/opt/conda/lib/python3.7/multiprocessing/resource_sharer.py\u001b[0m in \u001b[0;36mdetach\u001b[0;34m(self)\u001b[0m\n\u001b[1;32m     55\u001b[0m         \u001b[0;32mdef\u001b[0m \u001b[0mdetach\u001b[0m\u001b[0;34m(\u001b[0m\u001b[0mself\u001b[0m\u001b[0;34m)\u001b[0m\u001b[0;34m:\u001b[0m\u001b[0;34m\u001b[0m\u001b[0;34m\u001b[0m\u001b[0m\n\u001b[1;32m     56\u001b[0m             \u001b[0;34m'''Get the fd.  This should only be called once.'''\u001b[0m\u001b[0;34m\u001b[0m\u001b[0;34m\u001b[0m\u001b[0m\n\u001b[0;32m---> 57\u001b[0;31m             \u001b[0;32mwith\u001b[0m \u001b[0m_resource_sharer\u001b[0m\u001b[0;34m.\u001b[0m\u001b[0mget_connection\u001b[0m\u001b[0;34m(\u001b[0m\u001b[0mself\u001b[0m\u001b[0;34m.\u001b[0m\u001b[0m_id\u001b[0m\u001b[0;34m)\u001b[0m \u001b[0;32mas\u001b[0m \u001b[0mconn\u001b[0m\u001b[0;34m:\u001b[0m\u001b[0;34m\u001b[0m\u001b[0;34m\u001b[0m\u001b[0m\n\u001b[0m\u001b[1;32m     58\u001b[0m                 \u001b[0;32mreturn\u001b[0m \u001b[0mreduction\u001b[0m\u001b[0;34m.\u001b[0m\u001b[0mrecv_handle\u001b[0m\u001b[0;34m(\u001b[0m\u001b[0mconn\u001b[0m\u001b[0;34m)\u001b[0m\u001b[0;34m\u001b[0m\u001b[0;34m\u001b[0m\u001b[0m\n\u001b[1;32m     59\u001b[0m \u001b[0;34m\u001b[0m\u001b[0m\n",
      "\u001b[0;32m/opt/conda/lib/python3.7/multiprocessing/resource_sharer.py\u001b[0m in \u001b[0;36mget_connection\u001b[0;34m(ident)\u001b[0m\n\u001b[1;32m     85\u001b[0m         \u001b[0;32mfrom\u001b[0m \u001b[0;34m.\u001b[0m\u001b[0mconnection\u001b[0m \u001b[0;32mimport\u001b[0m \u001b[0mClient\u001b[0m\u001b[0;34m\u001b[0m\u001b[0;34m\u001b[0m\u001b[0m\n\u001b[1;32m     86\u001b[0m         \u001b[0maddress\u001b[0m\u001b[0;34m,\u001b[0m \u001b[0mkey\u001b[0m \u001b[0;34m=\u001b[0m \u001b[0mident\u001b[0m\u001b[0;34m\u001b[0m\u001b[0;34m\u001b[0m\u001b[0m\n\u001b[0;32m---> 87\u001b[0;31m         \u001b[0mc\u001b[0m \u001b[0;34m=\u001b[0m \u001b[0mClient\u001b[0m\u001b[0;34m(\u001b[0m\u001b[0maddress\u001b[0m\u001b[0;34m,\u001b[0m \u001b[0mauthkey\u001b[0m\u001b[0;34m=\u001b[0m\u001b[0mprocess\u001b[0m\u001b[0;34m.\u001b[0m\u001b[0mcurrent_process\u001b[0m\u001b[0;34m(\u001b[0m\u001b[0;34m)\u001b[0m\u001b[0;34m.\u001b[0m\u001b[0mauthkey\u001b[0m\u001b[0;34m)\u001b[0m\u001b[0;34m\u001b[0m\u001b[0;34m\u001b[0m\u001b[0m\n\u001b[0m\u001b[1;32m     88\u001b[0m         \u001b[0mc\u001b[0m\u001b[0;34m.\u001b[0m\u001b[0msend\u001b[0m\u001b[0;34m(\u001b[0m\u001b[0;34m(\u001b[0m\u001b[0mkey\u001b[0m\u001b[0;34m,\u001b[0m \u001b[0mos\u001b[0m\u001b[0;34m.\u001b[0m\u001b[0mgetpid\u001b[0m\u001b[0;34m(\u001b[0m\u001b[0;34m)\u001b[0m\u001b[0;34m)\u001b[0m\u001b[0;34m)\u001b[0m\u001b[0;34m\u001b[0m\u001b[0;34m\u001b[0m\u001b[0m\n\u001b[1;32m     89\u001b[0m         \u001b[0;32mreturn\u001b[0m \u001b[0mc\u001b[0m\u001b[0;34m\u001b[0m\u001b[0;34m\u001b[0m\u001b[0m\n",
      "\u001b[0;32m/opt/conda/lib/python3.7/multiprocessing/connection.py\u001b[0m in \u001b[0;36mClient\u001b[0;34m(address, family, authkey)\u001b[0m\n\u001b[1;32m    496\u001b[0m \u001b[0;34m\u001b[0m\u001b[0m\n\u001b[1;32m    497\u001b[0m     \u001b[0;32mif\u001b[0m \u001b[0mauthkey\u001b[0m \u001b[0;32mis\u001b[0m \u001b[0;32mnot\u001b[0m \u001b[0;32mNone\u001b[0m\u001b[0;34m:\u001b[0m\u001b[0;34m\u001b[0m\u001b[0;34m\u001b[0m\u001b[0m\n\u001b[0;32m--> 498\u001b[0;31m         \u001b[0manswer_challenge\u001b[0m\u001b[0;34m(\u001b[0m\u001b[0mc\u001b[0m\u001b[0;34m,\u001b[0m \u001b[0mauthkey\u001b[0m\u001b[0;34m)\u001b[0m\u001b[0;34m\u001b[0m\u001b[0;34m\u001b[0m\u001b[0m\n\u001b[0m\u001b[1;32m    499\u001b[0m         \u001b[0mdeliver_challenge\u001b[0m\u001b[0;34m(\u001b[0m\u001b[0mc\u001b[0m\u001b[0;34m,\u001b[0m \u001b[0mauthkey\u001b[0m\u001b[0;34m)\u001b[0m\u001b[0;34m\u001b[0m\u001b[0;34m\u001b[0m\u001b[0m\n\u001b[1;32m    500\u001b[0m \u001b[0;34m\u001b[0m\u001b[0m\n",
      "\u001b[0;32m/opt/conda/lib/python3.7/multiprocessing/connection.py\u001b[0m in \u001b[0;36manswer_challenge\u001b[0;34m(connection, authkey)\u001b[0m\n\u001b[1;32m    744\u001b[0m     \u001b[0mdigest\u001b[0m \u001b[0;34m=\u001b[0m \u001b[0mhmac\u001b[0m\u001b[0;34m.\u001b[0m\u001b[0mnew\u001b[0m\u001b[0;34m(\u001b[0m\u001b[0mauthkey\u001b[0m\u001b[0;34m,\u001b[0m \u001b[0mmessage\u001b[0m\u001b[0;34m,\u001b[0m \u001b[0;34m'md5'\u001b[0m\u001b[0;34m)\u001b[0m\u001b[0;34m.\u001b[0m\u001b[0mdigest\u001b[0m\u001b[0;34m(\u001b[0m\u001b[0;34m)\u001b[0m\u001b[0;34m\u001b[0m\u001b[0;34m\u001b[0m\u001b[0m\n\u001b[1;32m    745\u001b[0m     \u001b[0mconnection\u001b[0m\u001b[0;34m.\u001b[0m\u001b[0msend_bytes\u001b[0m\u001b[0;34m(\u001b[0m\u001b[0mdigest\u001b[0m\u001b[0;34m)\u001b[0m\u001b[0;34m\u001b[0m\u001b[0;34m\u001b[0m\u001b[0m\n\u001b[0;32m--> 746\u001b[0;31m     \u001b[0mresponse\u001b[0m \u001b[0;34m=\u001b[0m \u001b[0mconnection\u001b[0m\u001b[0;34m.\u001b[0m\u001b[0mrecv_bytes\u001b[0m\u001b[0;34m(\u001b[0m\u001b[0;36m256\u001b[0m\u001b[0;34m)\u001b[0m        \u001b[0;31m# reject large message\u001b[0m\u001b[0;34m\u001b[0m\u001b[0;34m\u001b[0m\u001b[0m\n\u001b[0m\u001b[1;32m    747\u001b[0m     \u001b[0;32mif\u001b[0m \u001b[0mresponse\u001b[0m \u001b[0;34m!=\u001b[0m \u001b[0mWELCOME\u001b[0m\u001b[0;34m:\u001b[0m\u001b[0;34m\u001b[0m\u001b[0;34m\u001b[0m\u001b[0m\n\u001b[1;32m    748\u001b[0m         \u001b[0;32mraise\u001b[0m \u001b[0mAuthenticationError\u001b[0m\u001b[0;34m(\u001b[0m\u001b[0;34m'digest sent was rejected'\u001b[0m\u001b[0;34m)\u001b[0m\u001b[0;34m\u001b[0m\u001b[0;34m\u001b[0m\u001b[0m\n",
      "\u001b[0;32m/opt/conda/lib/python3.7/multiprocessing/connection.py\u001b[0m in \u001b[0;36mrecv_bytes\u001b[0;34m(self, maxlength)\u001b[0m\n\u001b[1;32m    214\u001b[0m         \u001b[0;32mif\u001b[0m \u001b[0mmaxlength\u001b[0m \u001b[0;32mis\u001b[0m \u001b[0;32mnot\u001b[0m \u001b[0;32mNone\u001b[0m \u001b[0;32mand\u001b[0m \u001b[0mmaxlength\u001b[0m \u001b[0;34m<\u001b[0m \u001b[0;36m0\u001b[0m\u001b[0;34m:\u001b[0m\u001b[0;34m\u001b[0m\u001b[0;34m\u001b[0m\u001b[0m\n\u001b[1;32m    215\u001b[0m             \u001b[0;32mraise\u001b[0m \u001b[0mValueError\u001b[0m\u001b[0;34m(\u001b[0m\u001b[0;34m\"negative maxlength\"\u001b[0m\u001b[0;34m)\u001b[0m\u001b[0;34m\u001b[0m\u001b[0;34m\u001b[0m\u001b[0m\n\u001b[0;32m--> 216\u001b[0;31m         \u001b[0mbuf\u001b[0m \u001b[0;34m=\u001b[0m \u001b[0mself\u001b[0m\u001b[0;34m.\u001b[0m\u001b[0m_recv_bytes\u001b[0m\u001b[0;34m(\u001b[0m\u001b[0mmaxlength\u001b[0m\u001b[0;34m)\u001b[0m\u001b[0;34m\u001b[0m\u001b[0;34m\u001b[0m\u001b[0m\n\u001b[0m\u001b[1;32m    217\u001b[0m         \u001b[0;32mif\u001b[0m \u001b[0mbuf\u001b[0m \u001b[0;32mis\u001b[0m \u001b[0;32mNone\u001b[0m\u001b[0;34m:\u001b[0m\u001b[0;34m\u001b[0m\u001b[0;34m\u001b[0m\u001b[0m\n\u001b[1;32m    218\u001b[0m             \u001b[0mself\u001b[0m\u001b[0;34m.\u001b[0m\u001b[0m_bad_message_length\u001b[0m\u001b[0;34m(\u001b[0m\u001b[0;34m)\u001b[0m\u001b[0;34m\u001b[0m\u001b[0;34m\u001b[0m\u001b[0m\n",
      "\u001b[0;32m/opt/conda/lib/python3.7/multiprocessing/connection.py\u001b[0m in \u001b[0;36m_recv_bytes\u001b[0;34m(self, maxsize)\u001b[0m\n\u001b[1;32m    405\u001b[0m \u001b[0;34m\u001b[0m\u001b[0m\n\u001b[1;32m    406\u001b[0m     \u001b[0;32mdef\u001b[0m \u001b[0m_recv_bytes\u001b[0m\u001b[0;34m(\u001b[0m\u001b[0mself\u001b[0m\u001b[0;34m,\u001b[0m \u001b[0mmaxsize\u001b[0m\u001b[0;34m=\u001b[0m\u001b[0;32mNone\u001b[0m\u001b[0;34m)\u001b[0m\u001b[0;34m:\u001b[0m\u001b[0;34m\u001b[0m\u001b[0;34m\u001b[0m\u001b[0m\n\u001b[0;32m--> 407\u001b[0;31m         \u001b[0mbuf\u001b[0m \u001b[0;34m=\u001b[0m \u001b[0mself\u001b[0m\u001b[0;34m.\u001b[0m\u001b[0m_recv\u001b[0m\u001b[0;34m(\u001b[0m\u001b[0;36m4\u001b[0m\u001b[0;34m)\u001b[0m\u001b[0;34m\u001b[0m\u001b[0;34m\u001b[0m\u001b[0m\n\u001b[0m\u001b[1;32m    408\u001b[0m         \u001b[0msize\u001b[0m\u001b[0;34m,\u001b[0m \u001b[0;34m=\u001b[0m \u001b[0mstruct\u001b[0m\u001b[0;34m.\u001b[0m\u001b[0munpack\u001b[0m\u001b[0;34m(\u001b[0m\u001b[0;34m\"!i\"\u001b[0m\u001b[0;34m,\u001b[0m \u001b[0mbuf\u001b[0m\u001b[0;34m.\u001b[0m\u001b[0mgetvalue\u001b[0m\u001b[0;34m(\u001b[0m\u001b[0;34m)\u001b[0m\u001b[0;34m)\u001b[0m\u001b[0;34m\u001b[0m\u001b[0;34m\u001b[0m\u001b[0m\n\u001b[1;32m    409\u001b[0m         \u001b[0;32mif\u001b[0m \u001b[0mmaxsize\u001b[0m \u001b[0;32mis\u001b[0m \u001b[0;32mnot\u001b[0m \u001b[0;32mNone\u001b[0m \u001b[0;32mand\u001b[0m \u001b[0msize\u001b[0m \u001b[0;34m>\u001b[0m \u001b[0mmaxsize\u001b[0m\u001b[0;34m:\u001b[0m\u001b[0;34m\u001b[0m\u001b[0;34m\u001b[0m\u001b[0m\n",
      "\u001b[0;32m/opt/conda/lib/python3.7/multiprocessing/connection.py\u001b[0m in \u001b[0;36m_recv\u001b[0;34m(self, size, read)\u001b[0m\n\u001b[1;32m    377\u001b[0m         \u001b[0mremaining\u001b[0m \u001b[0;34m=\u001b[0m \u001b[0msize\u001b[0m\u001b[0;34m\u001b[0m\u001b[0;34m\u001b[0m\u001b[0m\n\u001b[1;32m    378\u001b[0m         \u001b[0;32mwhile\u001b[0m \u001b[0mremaining\u001b[0m \u001b[0;34m>\u001b[0m \u001b[0;36m0\u001b[0m\u001b[0;34m:\u001b[0m\u001b[0;34m\u001b[0m\u001b[0;34m\u001b[0m\u001b[0m\n\u001b[0;32m--> 379\u001b[0;31m             \u001b[0mchunk\u001b[0m \u001b[0;34m=\u001b[0m \u001b[0mread\u001b[0m\u001b[0;34m(\u001b[0m\u001b[0mhandle\u001b[0m\u001b[0;34m,\u001b[0m \u001b[0mremaining\u001b[0m\u001b[0;34m)\u001b[0m\u001b[0;34m\u001b[0m\u001b[0;34m\u001b[0m\u001b[0m\n\u001b[0m\u001b[1;32m    380\u001b[0m             \u001b[0mn\u001b[0m \u001b[0;34m=\u001b[0m \u001b[0mlen\u001b[0m\u001b[0;34m(\u001b[0m\u001b[0mchunk\u001b[0m\u001b[0;34m)\u001b[0m\u001b[0;34m\u001b[0m\u001b[0;34m\u001b[0m\u001b[0m\n\u001b[1;32m    381\u001b[0m             \u001b[0;32mif\u001b[0m \u001b[0mn\u001b[0m \u001b[0;34m==\u001b[0m \u001b[0;36m0\u001b[0m\u001b[0;34m:\u001b[0m\u001b[0;34m\u001b[0m\u001b[0;34m\u001b[0m\u001b[0m\n",
      "\u001b[0;31mKeyboardInterrupt\u001b[0m: "
     ]
    }
   ],
   "source": [
    "# train loop\n",
    "logs = []\n",
    "for epoch in range(106, 127):\n",
    "    lr = scheduler.optimizer.param_groups[0]['lr']\n",
    "    tr_loss, tr_logmae, global_iteration = train_epoch(global_iteration,\n",
    "                                     epoch,\n",
    "                                     model,\n",
    "                                     device,\n",
    "                                     optimizer,\n",
    "                                     train_loader,\n",
    "                                     tb_logger,\n",
    "                                     gradient_accumulation_steps=1, swa=True)\n",
    "    scheduler.step()\n",
    "    if epoch % 10 == 0:\n",
    "        optimizer.param_groups[0]['lr'] = 1e-4\n",
    "\n",
    "    val_loss, val_logmae = test_model(model, val_loader)\n",
    "    \n",
    "    optimizer.swap_swa_sgd()\n",
    "    val_loss_swa, val_logmae_swa = test_model(model, val_loader)\n",
    "    optimizer.swap_swa_sgd()\n",
    "\n",
    "    epoch_log = make_log(epoch, lr, tr_loss, tr_logmae, val_logmae)\n",
    "    logs.append(epoch_log)\n",
    "    pd.DataFrame(logs).to_csv(OUTPUT_DIR + 'log.csv')\n",
    "    print('Epoch: {epoch:03d}, LR: {lr:7f}, Loss: {loss:.7f}, \\\n",
    "         Train LogMAE: {tr_logmae:.7f}, Val LogMAE: {val_logmae:.7f}'.format(\n",
    "        **epoch_log))\n",
    "    print(f'Val LogMAE SWA: {val_logmae_swa.compute():.7f}')\n",
    "\n",
    "    if epoch % SAVE_INTERVAL == 0:\n",
    "        save_checkpoint(OUTPUT_DIR, model, optimizer, scheduler, epoch)\n",
    "\n",
    "    tb_logger.add_scalar('lr', lr, global_iteration)\n",
    "    tb_logger.add_scalar('val_loss', val_loss, global_iteration)\n",
    "    tb_logger.add_scalars('global_logmae', {\n",
    "        'tr_logmae': epoch_log['tr_logmae'],\n",
    "        'val_logmae': epoch_log['val_logmae']\n",
    "    }, global_iteration)\n",
    "\n",
    "    for type_ in constants.TYPES_LIST:\n",
    "        tb_logger.add_scalars(\n",
    "            type_, {\n",
    "                'tr_' + type_: epoch_log['tr_' + type_],\n",
    "                'val_' + type_: epoch_log['val_' + type_]\n",
    "            }, global_iteration)"
   ]
  },
  {
   "cell_type": "code",
   "execution_count": 62,
   "metadata": {
    "ExecuteTime": {
     "end_time": "2019-08-17T17:10:01.235084Z",
     "start_time": "2019-08-17T17:09:59.673634Z"
    }
   },
   "outputs": [],
   "source": [
    "torch.save(model.state_dict(), OUTPUT_DIR + f'model_epoch_126.pth')"
   ]
  },
  {
   "cell_type": "markdown",
   "metadata": {},
   "source": [
    "# Make submission"
   ]
  },
  {
   "cell_type": "code",
   "execution_count": 56,
   "metadata": {
    "ExecuteTime": {
     "end_time": "2019-08-17T18:50:56.828779Z",
     "start_time": "2019-08-17T18:50:56.779958Z"
    }
   },
   "outputs": [],
   "source": [
    "def merge_direction(df):\n",
    "    inverse_direction = df.rename(\n",
    "        {\n",
    "            'atom_index_1': 'atom_index_0',\n",
    "            'atom_index_0': 'atom_index_1'\n",
    "        },\n",
    "        axis=1)\n",
    "    merged = pd.merge(df,\n",
    "                      inverse_direction,\n",
    "                      on=['molecule_name', 'atom_index_0', 'atom_index_1'],\n",
    "                      suffixes=('', '_bis'))\n",
    "    merged['scalar_coupling_constant'] = (merged['scalar_coupling_constant'] + merged['scalar_coupling_constant_bis']) / 2\n",
    "    return merged.drop('scalar_coupling_constant_bis', axis=1)"
   ]
  },
  {
   "cell_type": "code",
   "execution_count": 57,
   "metadata": {
    "ExecuteTime": {
     "end_time": "2019-08-17T18:50:59.014624Z",
     "start_time": "2019-08-17T18:50:58.955630Z"
    }
   },
   "outputs": [],
   "source": [
    "def predict(model, input_data, checkpoint_path):\n",
    "    model.load_state_dict(torch.load(checkpoint_path))\n",
    "    pred_dataset = MoleculeDataset(\n",
    "        metadata=input_data,\n",
    "        base_dir=constants.STRUCT_DATA_PATH,\n",
    "        transform=T.Compose([\n",
    "            AddBondPath(),\n",
    "            AddVirtualEdges(),\n",
    "            AddEdgeDistanceAndDirection(dist_noise=0.),\n",
    "            AddGlobalAttr(),\n",
    "            SortTarget(),\n",
    "            AddBondLinks(),\n",
    "            AddCounts(),\n",
    "        ]))\n",
    "    pred_loader = DataLoader(pred_dataset,\n",
    "                             batch_size=64,\n",
    "                             shuffle=False,\n",
    "                             num_workers=8,\n",
    "                             follow_batch=[\n",
    "                                 'bonds_edge_ind', 'bonds_links_edge_ind',\n",
    "                                 'paths_edge_ind', 'couples_edge_ind'\n",
    "                             ])\n",
    "    model.eval()\n",
    "    preds = []\n",
    "    inds = []\n",
    "    couples = []\n",
    "    for data in tqdm(pred_loader):\n",
    "        with torch.no_grad():\n",
    "            data = data.to(device)\n",
    "            pred = model(data).detach().cpu().numpy()\n",
    "            ind = data.mol_ind[data.batch[data.edge_index[0][\n",
    "                data.mask]]].detach().cpu().numpy()\n",
    "\n",
    "            couple_ind = data.couples_ind.cpu().numpy()\n",
    "            df = pd.DataFrame({\n",
    "                'molecule_name' : pred_dataset.molecules[ind].ravel(),\n",
    "                'molecule_ind': ind.ravel(),\n",
    "                'atom_index_0': couple_ind[:,0].ravel(), \n",
    "                'atom_index_1': couple_ind[:,1].ravel(),\n",
    "            })\n",
    "            df.sort_values(['molecule_ind', 'atom_index_0', 'atom_index_1'], ascending=True, inplace=True)\n",
    "            np.testing.assert_array_equal(df.molecule_ind, ind.ravel())\n",
    "            df['scalar_coupling_constant'] = pred\n",
    "            preds.append(df.drop('molecule_ind', axis=1))\n",
    "            \n",
    "    pred = pd.concat(preds)\n",
    "    pred = merge_direction(pred)\n",
    "    merged = pd.merge(input_data,\n",
    "                  pred,\n",
    "                  on=['molecule_name', 'atom_index_0', 'atom_index_1'],\n",
    "                  how='left', suffixes=('_truth', ''))\n",
    "    assert merged.dropna().shape[0] == input_data.shape[0]\n",
    "    return merged.loc[:, ['id', 'scalar_coupling_constant']].set_index('id'), pred"
   ]
  },
  {
   "cell_type": "code",
   "execution_count": 58,
   "metadata": {
    "ExecuteTime": {
     "end_time": "2019-08-17T18:51:23.267693Z",
     "start_time": "2019-08-17T18:51:00.961226Z"
    },
    "scrolled": true
   },
   "outputs": [
    {
     "data": {
      "application/vnd.jupyter.widget-view+json": {
       "model_id": "e8849dbe597c432c910049f3d6937524",
       "version_major": 2,
       "version_minor": 0
      },
      "text/plain": [
       "HBox(children=(IntProgress(value=0, max=5000), HTML(value='')))"
      ]
     },
     "metadata": {},
     "output_type": "display_data"
    },
    {
     "name": "stdout",
     "output_type": "stream",
     "text": [
      "\n"
     ]
    },
    {
     "data": {
      "application/vnd.jupyter.widget-view+json": {
       "model_id": "86002c8f10e7421ea2fe252f1f838082",
       "version_major": 2,
       "version_minor": 0
      },
      "text/plain": [
       "HBox(children=(IntProgress(value=0, max=79), HTML(value='')))"
      ]
     },
     "metadata": {},
     "output_type": "display_data"
    },
    {
     "name": "stdout",
     "output_type": "stream",
     "text": [
      "\n"
     ]
    }
   ],
   "source": [
    "pred_val, p = predict(model, val_data, './models/megnet_256x10_softplus_edgeagg/model_epoch_126.pth')"
   ]
  },
  {
   "cell_type": "code",
   "execution_count": 59,
   "metadata": {
    "ExecuteTime": {
     "end_time": "2019-08-17T18:51:24.172989Z",
     "start_time": "2019-08-17T18:51:24.110621Z"
    },
    "scrolled": true
   },
   "outputs": [
    {
     "data": {
      "text/html": [
       "<div>\n",
       "<style scoped>\n",
       "    .dataframe tbody tr th:only-of-type {\n",
       "        vertical-align: middle;\n",
       "    }\n",
       "\n",
       "    .dataframe tbody tr th {\n",
       "        vertical-align: top;\n",
       "    }\n",
       "\n",
       "    .dataframe thead th {\n",
       "        text-align: right;\n",
       "    }\n",
       "</style>\n",
       "<table border=\"1\" class=\"dataframe\">\n",
       "  <thead>\n",
       "    <tr style=\"text-align: right;\">\n",
       "      <th></th>\n",
       "      <th>scalar_coupling_constant</th>\n",
       "    </tr>\n",
       "    <tr>\n",
       "      <th>id</th>\n",
       "      <th></th>\n",
       "    </tr>\n",
       "  </thead>\n",
       "  <tbody>\n",
       "    <tr>\n",
       "      <th>1582</th>\n",
       "      <td>-1.053646</td>\n",
       "    </tr>\n",
       "    <tr>\n",
       "      <th>1583</th>\n",
       "      <td>0.496505</td>\n",
       "    </tr>\n",
       "    <tr>\n",
       "      <th>1584</th>\n",
       "      <td>0.496774</td>\n",
       "    </tr>\n",
       "    <tr>\n",
       "      <th>1585</th>\n",
       "      <td>14.346548</td>\n",
       "    </tr>\n",
       "    <tr>\n",
       "      <th>1586</th>\n",
       "      <td>92.781601</td>\n",
       "    </tr>\n",
       "  </tbody>\n",
       "</table>\n",
       "</div>"
      ],
      "text/plain": [
       "      scalar_coupling_constant\n",
       "id                            \n",
       "1582                 -1.053646\n",
       "1583                  0.496505\n",
       "1584                  0.496774\n",
       "1585                 14.346548\n",
       "1586                 92.781601"
      ]
     },
     "execution_count": 59,
     "metadata": {},
     "output_type": "execute_result"
    }
   ],
   "source": [
    "pred_val.head()"
   ]
  },
  {
   "cell_type": "code",
   "execution_count": 60,
   "metadata": {
    "ExecuteTime": {
     "end_time": "2019-08-17T18:51:24.765784Z",
     "start_time": "2019-08-17T18:51:24.719630Z"
    }
   },
   "outputs": [],
   "source": [
    "def score(pred, ref_data):\n",
    "    merged = pd.merge(ref_data, pred, how='left', left_on='id', right_index=True, suffixes=('', '_pred'))\n",
    "    merged['abs_error'] = (merged['scalar_coupling_constant'] - merged['scalar_coupling_constant_pred']).abs()\n",
    "    result = merged.groupby('type')['abs_error'].mean()\n",
    "    result.iloc[:] = np.log(np.maximum(result.values, 1e-9))\n",
    "    return result.mean(), result.to_dict()    "
   ]
  },
  {
   "cell_type": "code",
   "execution_count": 61,
   "metadata": {
    "ExecuteTime": {
     "end_time": "2019-08-17T18:51:26.176571Z",
     "start_time": "2019-08-17T18:51:25.951271Z"
    }
   },
   "outputs": [
    {
     "data": {
      "text/plain": [
       "(-2.7415171948044534,\n",
       " {'1JHC': -1.797125641902922,\n",
       "  '1JHN': -1.775391270999278,\n",
       "  '2JHC': -2.7413817666351967,\n",
       "  '2JHH': -3.269456397283846,\n",
       "  '2JHN': -3.045777238183105,\n",
       "  '3JHC': -2.7072087982777666,\n",
       "  '3JHH': -3.2822666043082807,\n",
       "  '3JHN': -3.3135298408452325})"
      ]
     },
     "execution_count": 61,
     "metadata": {},
     "output_type": "execute_result"
    }
   ],
   "source": [
    "score(pred_val, val_data)"
   ]
  },
  {
   "cell_type": "code",
   "execution_count": null,
   "metadata": {
    "ExecuteTime": {
     "end_time": "2019-08-17T19:15:58.842445Z",
     "start_time": "2019-08-17T19:12:52.431988Z"
    }
   },
   "outputs": [],
   "source": [
    "test = pd.read_csv('./data/test.csv')"
   ]
  },
  {
   "cell_type": "code",
   "execution_count": 78,
   "metadata": {
    "ExecuteTime": {
     "end_time": "2019-08-17T19:15:58.842445Z",
     "start_time": "2019-08-17T19:12:52.431988Z"
    },
    "scrolled": true
   },
   "outputs": [
    {
     "data": {
      "application/vnd.jupyter.widget-view+json": {
       "model_id": "1ec541ae34b4445cb871c4c8dec89b4c",
       "version_major": 2,
       "version_minor": 0
      },
      "text/plain": [
       "HBox(children=(IntProgress(value=0, max=45772), HTML(value='')))"
      ]
     },
     "metadata": {},
     "output_type": "display_data"
    },
    {
     "name": "stdout",
     "output_type": "stream",
     "text": [
      "\n"
     ]
    },
    {
     "data": {
      "application/vnd.jupyter.widget-view+json": {
       "model_id": "e7a1a1f751ed4cf88003f78e340a7d79",
       "version_major": 2,
       "version_minor": 0
      },
      "text/plain": [
       "HBox(children=(IntProgress(value=0, max=716), HTML(value='')))"
      ]
     },
     "metadata": {},
     "output_type": "display_data"
    },
    {
     "name": "stdout",
     "output_type": "stream",
     "text": [
      "\n"
     ]
    }
   ],
   "source": [
    "sub, _ = predict(model, test, './models/megnet_256x10_softplus_edgeagg/model_epoch_126.pth')"
   ]
  },
  {
   "cell_type": "code",
   "execution_count": 81,
   "metadata": {
    "ExecuteTime": {
     "end_time": "2019-08-17T19:19:47.334980Z",
     "start_time": "2019-08-17T19:19:47.287850Z"
    }
   },
   "outputs": [
    {
     "data": {
      "text/html": [
       "<div>\n",
       "<style scoped>\n",
       "    .dataframe tbody tr th:only-of-type {\n",
       "        vertical-align: middle;\n",
       "    }\n",
       "\n",
       "    .dataframe tbody tr th {\n",
       "        vertical-align: top;\n",
       "    }\n",
       "\n",
       "    .dataframe thead th {\n",
       "        text-align: right;\n",
       "    }\n",
       "</style>\n",
       "<table border=\"1\" class=\"dataframe\">\n",
       "  <thead>\n",
       "    <tr style=\"text-align: right;\">\n",
       "      <th></th>\n",
       "      <th>scalar_coupling_constant</th>\n",
       "    </tr>\n",
       "    <tr>\n",
       "      <th>id</th>\n",
       "      <th></th>\n",
       "    </tr>\n",
       "  </thead>\n",
       "  <tbody>\n",
       "    <tr>\n",
       "      <th>4658147</th>\n",
       "      <td>18.438942</td>\n",
       "    </tr>\n",
       "    <tr>\n",
       "      <th>4658148</th>\n",
       "      <td>194.546509</td>\n",
       "    </tr>\n",
       "    <tr>\n",
       "      <th>4658149</th>\n",
       "      <td>10.211948</td>\n",
       "    </tr>\n",
       "    <tr>\n",
       "      <th>4658150</th>\n",
       "      <td>194.503510</td>\n",
       "    </tr>\n",
       "    <tr>\n",
       "      <th>4658151</th>\n",
       "      <td>18.439617</td>\n",
       "    </tr>\n",
       "  </tbody>\n",
       "</table>\n",
       "</div>"
      ],
      "text/plain": [
       "         scalar_coupling_constant\n",
       "id                               \n",
       "4658147                 18.438942\n",
       "4658148                194.546509\n",
       "4658149                 10.211948\n",
       "4658150                194.503510\n",
       "4658151                 18.439617"
      ]
     },
     "execution_count": 81,
     "metadata": {},
     "output_type": "execute_result"
    }
   ],
   "source": [
    "sub.head()"
   ]
  },
  {
   "cell_type": "code",
   "execution_count": 83,
   "metadata": {
    "ExecuteTime": {
     "end_time": "2019-08-17T19:20:55.183595Z",
     "start_time": "2019-08-17T19:20:54.656611Z"
    }
   },
   "outputs": [],
   "source": [
    "!mkdir -p subs/lam_01_v1/"
   ]
  },
  {
   "cell_type": "code",
   "execution_count": 84,
   "metadata": {
    "ExecuteTime": {
     "end_time": "2019-08-17T19:21:05.917476Z",
     "start_time": "2019-08-17T19:20:59.507753Z"
    }
   },
   "outputs": [],
   "source": [
    "sub.to_csv('./subs/lam_01_v1/sub.csv', index=True)\n",
    "pred_val.to_csv('./subs/lam_01_v1/pred_val.csv', index=True)"
   ]
  }
 ],
 "metadata": {
  "kernelspec": {
   "display_name": "Python 3",
   "language": "python",
   "name": "python3"
  },
  "language_info": {
   "codemirror_mode": {
    "name": "ipython",
    "version": 3
   },
   "file_extension": ".py",
   "mimetype": "text/x-python",
   "name": "python",
   "nbconvert_exporter": "python",
   "pygments_lexer": "ipython3",
   "version": "3.7.1"
  },
  "toc": {
   "base_numbering": 1,
   "nav_menu": {},
   "number_sections": true,
   "sideBar": true,
   "skip_h1_title": false,
   "title_cell": "Table of Contents",
   "title_sidebar": "Contents",
   "toc_cell": false,
   "toc_position": {
    "height": "calc(100% - 180px)",
    "left": "10px",
    "top": "150px",
    "width": "371px"
   },
   "toc_section_display": true,
   "toc_window_display": true
  }
 },
 "nbformat": 4,
 "nbformat_minor": 2
}
