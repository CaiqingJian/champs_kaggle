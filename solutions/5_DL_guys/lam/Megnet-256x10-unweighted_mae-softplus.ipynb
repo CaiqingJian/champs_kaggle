{
 "cells": [
  {
   "cell_type": "code",
   "execution_count": 1,
   "metadata": {
    "ExecuteTime": {
     "end_time": "2019-08-25T00:45:58.712698Z",
     "start_time": "2019-08-25T00:45:58.699932Z"
    }
   },
   "outputs": [],
   "source": [
    "%load_ext autoreload\n",
    "%autoreload 2"
   ]
  },
  {
   "cell_type": "code",
   "execution_count": 2,
   "metadata": {
    "ExecuteTime": {
     "end_time": "2019-08-25T00:46:00.880800Z",
     "start_time": "2019-08-25T00:45:58.714425Z"
    }
   },
   "outputs": [
    {
     "name": "stderr",
     "output_type": "stream",
     "text": [
      "/opt/conda/lib/python3.7/site-packages/tqdm/autonotebook/__init__.py:14: TqdmExperimentalWarning: Using `tqdm.autonotebook.tqdm` in notebook mode. Use `tqdm.tqdm` instead to force console mode (e.g. in jupyter console)\n",
      "  \" (e.g. in jupyter console)\", TqdmExperimentalWarning)\n"
     ]
    }
   ],
   "source": [
    "import os.path as osp\n",
    "from tqdm.autonotebook import tqdm\n",
    "import torch\n",
    "import torch.nn.functional as F\n",
    "from torch.nn import Sequential, Linear, ReLU, GRU\n",
    "\n",
    "import torch_geometric.transforms as T\n",
    "from torch_geometric.data import DataLoader"
   ]
  },
  {
   "cell_type": "code",
   "execution_count": 3,
   "metadata": {
    "ExecuteTime": {
     "end_time": "2019-08-25T00:46:00.904352Z",
     "start_time": "2019-08-25T00:46:00.882905Z"
    }
   },
   "outputs": [],
   "source": [
    "import pandas as pd\n",
    "import numpy as np"
   ]
  },
  {
   "cell_type": "code",
   "execution_count": 4,
   "metadata": {
    "ExecuteTime": {
     "end_time": "2019-08-25T00:46:00.927572Z",
     "start_time": "2019-08-25T00:46:00.906481Z"
    }
   },
   "outputs": [],
   "source": [
    "from sklearn.model_selection import train_test_split, GroupShuffleSplit"
   ]
  },
  {
   "cell_type": "code",
   "execution_count": 5,
   "metadata": {
    "ExecuteTime": {
     "end_time": "2019-08-25T00:46:00.949893Z",
     "start_time": "2019-08-25T00:46:00.928986Z"
    }
   },
   "outputs": [],
   "source": [
    "from torch.utils.data import Subset"
   ]
  },
  {
   "cell_type": "code",
   "execution_count": 6,
   "metadata": {
    "ExecuteTime": {
     "end_time": "2019-08-25T00:46:00.971827Z",
     "start_time": "2019-08-25T00:46:00.951273Z"
    }
   },
   "outputs": [],
   "source": [
    "from kaggle_champs import constants"
   ]
  },
  {
   "cell_type": "markdown",
   "metadata": {},
   "source": [
    "# Load and preprocessing data"
   ]
  },
  {
   "cell_type": "markdown",
   "metadata": {},
   "source": [
    "## Load data"
   ]
  },
  {
   "cell_type": "code",
   "execution_count": 7,
   "metadata": {
    "ExecuteTime": {
     "end_time": "2019-08-25T00:46:04.398540Z",
     "start_time": "2019-08-25T00:46:00.973311Z"
    }
   },
   "outputs": [],
   "source": [
    "train = pd.read_csv('../data/train.csv')"
   ]
  },
  {
   "cell_type": "code",
   "execution_count": 8,
   "metadata": {
    "ExecuteTime": {
     "end_time": "2019-08-25T00:46:04.431014Z",
     "start_time": "2019-08-25T00:46:04.401036Z"
    }
   },
   "outputs": [],
   "source": [
    "y_mean = train.scalar_coupling_constant.mean()"
   ]
  },
  {
   "cell_type": "code",
   "execution_count": 9,
   "metadata": {
    "ExecuteTime": {
     "end_time": "2019-08-25T00:46:04.469251Z",
     "start_time": "2019-08-25T00:46:04.433200Z"
    }
   },
   "outputs": [],
   "source": [
    "y_std = train.scalar_coupling_constant.std()"
   ]
  },
  {
   "cell_type": "code",
   "execution_count": 10,
   "metadata": {
    "ExecuteTime": {
     "end_time": "2019-08-25T00:46:05.467811Z",
     "start_time": "2019-08-25T00:46:04.470973Z"
    }
   },
   "outputs": [
    {
     "data": {
      "text/plain": [
       "type\n",
       "1JHC    2.548219\n",
       "1JHN    2.275415\n",
       "2JHC    0.999041\n",
       "2JHH    0.983063\n",
       "2JHN    1.086673\n",
       "3JHC    0.911788\n",
       "3JHH    1.122420\n",
       "3JHN   -0.033818\n",
       "dtype: float64"
      ]
     },
     "execution_count": 10,
     "metadata": {},
     "output_type": "execute_result"
    }
   ],
   "source": [
    "np.log((train.scalar_coupling_constant - train.type.map(train.groupby('type').scalar_coupling_constant.mean())).abs().groupby(train.type).mean())"
   ]
  },
  {
   "cell_type": "markdown",
   "metadata": {},
   "source": [
    "## Split train valid"
   ]
  },
  {
   "cell_type": "code",
   "execution_count": 11,
   "metadata": {
    "ExecuteTime": {
     "end_time": "2019-08-25T00:46:05.640233Z",
     "start_time": "2019-08-25T00:46:05.469542Z"
    }
   },
   "outputs": [],
   "source": [
    "molecules = train.molecule_name.drop_duplicates().sort_values()"
   ]
  },
  {
   "cell_type": "code",
   "execution_count": 12,
   "metadata": {
    "ExecuteTime": {
     "end_time": "2019-08-25T00:46:05.668316Z",
     "start_time": "2019-08-25T00:46:05.641772Z"
    },
    "scrolled": true
   },
   "outputs": [],
   "source": [
    "train_ind, valid_ind = train_test_split(np.arange(len(molecules)),\n",
    "                                        test_size=5000,\n",
    "                                        random_state=1234)"
   ]
  },
  {
   "cell_type": "code",
   "execution_count": 13,
   "metadata": {
    "ExecuteTime": {
     "end_time": "2019-08-25T00:46:05.713681Z",
     "start_time": "2019-08-25T00:46:05.669953Z"
    }
   },
   "outputs": [],
   "source": [
    "assert not set(train_ind).intersection(valid_ind)"
   ]
  },
  {
   "cell_type": "code",
   "execution_count": 14,
   "metadata": {
    "ExecuteTime": {
     "end_time": "2019-08-25T00:46:05.741017Z",
     "start_time": "2019-08-25T00:46:05.715384Z"
    },
    "scrolled": true
   },
   "outputs": [
    {
     "data": {
      "text/plain": [
       "(80003, 5000)"
      ]
     },
     "execution_count": 14,
     "metadata": {},
     "output_type": "execute_result"
    }
   ],
   "source": [
    "len(train_ind), len(valid_ind)"
   ]
  },
  {
   "cell_type": "markdown",
   "metadata": {},
   "source": [
    "## Create train valid subet"
   ]
  },
  {
   "cell_type": "code",
   "execution_count": 15,
   "metadata": {
    "ExecuteTime": {
     "end_time": "2019-08-25T00:46:05.768846Z",
     "start_time": "2019-08-25T00:46:05.742700Z"
    }
   },
   "outputs": [
    {
     "name": "stdout",
     "output_type": "stream",
     "text": [
      "[19669 26783  1698 47278 33476 59113 40999 64242 25723 71229]\n",
      "[55624 62327 36561 67391 19447 20288 70596 59541 32479 52121]\n"
     ]
    }
   ],
   "source": [
    "# Check reproducibility\n",
    "rs = np.random.RandomState(seed=1234)\n",
    "print(rs.choice(train_ind, 10))\n",
    "print(rs.choice(valid_ind, 10))"
   ]
  },
  {
   "cell_type": "code",
   "execution_count": 16,
   "metadata": {
    "ExecuteTime": {
     "end_time": "2019-08-25T00:46:06.432859Z",
     "start_time": "2019-08-25T00:46:05.770460Z"
    }
   },
   "outputs": [],
   "source": [
    "train_data = train.loc[train.molecule_name.isin(molecules.iloc[train_ind])]\n",
    "val_data = train.loc[train.molecule_name.isin(molecules.iloc[valid_ind])]"
   ]
  },
  {
   "cell_type": "markdown",
   "metadata": {},
   "source": [
    "## Create dataset"
   ]
  },
  {
   "cell_type": "code",
   "execution_count": 17,
   "metadata": {
    "ExecuteTime": {
     "end_time": "2019-08-25T00:46:06.475845Z",
     "start_time": "2019-08-25T00:46:06.434530Z"
    },
    "scrolled": true
   },
   "outputs": [],
   "source": [
    "from kaggle_champs.dataset import ChampsDataset"
   ]
  },
  {
   "cell_type": "code",
   "execution_count": 18,
   "metadata": {
    "ExecuteTime": {
     "end_time": "2019-08-25T00:46:06.501858Z",
     "start_time": "2019-08-25T00:46:06.477351Z"
    }
   },
   "outputs": [],
   "source": [
    "import os\n",
    "import numpy as np\n",
    "import openbabel\n",
    "import torch\n",
    "\n",
    "from torch_geometric.data import Data\n",
    "from torch.utils.data import Dataset\n",
    "from tqdm.autonotebook import tqdm\n",
    "from kaggle_champs.dataset import mol_to_data_v2"
   ]
  },
  {
   "cell_type": "code",
   "execution_count": 19,
   "metadata": {
    "ExecuteTime": {
     "end_time": "2019-08-25T00:46:06.593604Z",
     "start_time": "2019-08-25T00:46:06.503597Z"
    }
   },
   "outputs": [],
   "source": [
    "class MoleculeDataset(Dataset):\n",
    "    def __init__(self, metadata=None, base_dir=None, transform=None):\n",
    "        self.molecules = metadata.molecule_name.unique()\n",
    "        self.metadata = dict([\n",
    "            (ind, df) for ind, df in tqdm(metadata.groupby('molecule_name'))\n",
    "        ])\n",
    "        self.base_dir = base_dir\n",
    "        self.transform = transform\n",
    "        self.conversion = openbabel.OBConversion()\n",
    "        self.conversion.SetInAndOutFormats(\"xyz\", \"mdl\")\n",
    "\n",
    "    def __len__(self):\n",
    "        return len(self.metadata)\n",
    "\n",
    "    def __getitem__(self, index):\n",
    "        mol = openbabel.OBMol()\n",
    "        mol_name = self.molecules[index]\n",
    "\n",
    "        xyz_file = os.path.join(self.base_dir, f'{mol_name}.xyz')\n",
    "        if not os.path.exists(xyz_file):\n",
    "            raise FileNotFoundError(f'Expecting file {xyz_file} not found')\n",
    "        self.conversion.ReadFile(mol, xyz_file)\n",
    "\n",
    "        data = mol_to_data_v2(mol)\n",
    "        data.mol_ind = torch.tensor([[index]], dtype=torch.long)\n",
    "        \n",
    "        data = self._add_targets(data, metadata=self.metadata[mol_name])\n",
    "        \n",
    "        data.graph = nx.Graph()\n",
    "        data.graph.add_edges_from(data.edge_index.transpose(1,0).cpu().numpy())\n",
    "        \n",
    "        if self.transform:\n",
    "            data = self.transform(data)\n",
    "            \n",
    "        if hasattr(data, 'graph'):\n",
    "            del data.graph\n",
    "        return data\n",
    "    \n",
    "    def _add_inverse_couple(self, couples):\n",
    "        inverse_direction = couples.rename(\n",
    "            {'atom_index_1': 'atom_index_0', \n",
    "             'atom_index_0': 'atom_index_1'}, \n",
    "            axis=1)\n",
    "        \n",
    "        couples = couples.append(\n",
    "            inverse_direction,\n",
    "            sort=False\n",
    "        )\n",
    "        couples = couples.sort_values(['atom_index_0',\n",
    "                                       'atom_index_1'])\n",
    "        \n",
    "        return couples\n",
    "    \n",
    "    def _add_y(self, data, couples):\n",
    "        if 'scalar_coupling_constant' in couples.columns:\n",
    "            data.y = torch.tensor(\n",
    "                couples['scalar_coupling_constant'].values,\n",
    "                dtype=torch.float).view(-1,1)\n",
    "        else:\n",
    "            data.y = torch.zeros((len(couples), 1), dtype=torch.float)\n",
    "        return data\n",
    "    \n",
    "    def _add_targets(self, data, metadata):\n",
    "        couples = metadata.copy()        \n",
    "        couples = self._add_inverse_couple(couples)\n",
    "        \n",
    "        \n",
    "        data.couples_ind = torch.tensor(\n",
    "            couples[['atom_index_0',\n",
    "                     'atom_index_1']].values,\n",
    "            dtype=torch.long)\n",
    "        \n",
    "        data = self._add_y(data, couples)\n",
    "        \n",
    "        data.type = torch.tensor(\n",
    "            couples['type'].map(constants.TYPES_DICT).values,\n",
    "            dtype=torch.long)\n",
    "        \n",
    "        data.sample_weight = torch.tensor(\n",
    "            couples['type'].map(constants.TYPES_WEIGHTS).values,\n",
    "            dtype=torch.float)\n",
    "        \n",
    "        return data"
   ]
  },
  {
   "cell_type": "code",
   "execution_count": 20,
   "metadata": {
    "ExecuteTime": {
     "end_time": "2019-08-25T00:46:06.620228Z",
     "start_time": "2019-08-25T00:46:06.595312Z"
    },
    "scrolled": true
   },
   "outputs": [],
   "source": [
    "from kaggle_champs.preprocessing import RandomRotation, AddVirtualEdges, AddEdgeDistanceAndDirection, SortTarget"
   ]
  },
  {
   "cell_type": "code",
   "execution_count": 21,
   "metadata": {
    "ExecuteTime": {
     "end_time": "2019-08-25T00:46:06.646784Z",
     "start_time": "2019-08-25T00:46:06.622022Z"
    }
   },
   "outputs": [],
   "source": [
    "import networkx as nx"
   ]
  },
  {
   "cell_type": "code",
   "execution_count": 22,
   "metadata": {
    "ExecuteTime": {
     "end_time": "2019-08-25T00:46:06.679588Z",
     "start_time": "2019-08-25T00:46:06.648636Z"
    }
   },
   "outputs": [],
   "source": [
    "class AddEdgeDistanceAndDirection:\n",
    "    def __init__(self, dist_noise=0., gauss_base_max=4, gauss_base_steps=20, keep=True):\n",
    "        self.dist_noise = dist_noise\n",
    "        self.gauss_base_max = gauss_base_max\n",
    "        self.gauss_base_steps = gauss_base_steps\n",
    "        self.keep = True\n",
    "        \n",
    "    def __call__(self, data):\n",
    "        (row, col), pos, edge_attr = data.edge_index, data.pos, data.edge_attr\n",
    "\n",
    "        dist = torch.norm(pos[col] - pos[row], p=2, dim=-1).view(-1, 1)\n",
    "        \n",
    "        if self.dist_noise > 0:\n",
    "            noise = 1 + torch.randn_like(dist, dtype=dist.dtype) * self.dist_noise\n",
    "            dist = dist * noise\n",
    "\n",
    "        direction = (pos[col] - pos[row]) / dist\n",
    "        if self.keep:\n",
    "            data.dist = dist\n",
    "            data.direction = direction\n",
    "        \n",
    "        base = torch.linspace(self.gauss_base_max/self.gauss_base_steps,\n",
    "                              self.gauss_base_max, \n",
    "                              self.gauss_base_steps, \n",
    "                              dtype=torch.float).view(1, -1)    # shape 1xn for broadcasting\n",
    "        \n",
    "        dist = torch.exp(-(dist - base) ** 2 / 0.5 ** 2)\n",
    "        \n",
    "        edge_attr = edge_attr.view(-1, 1) if edge_attr.dim() == 1 else edge_attr\n",
    "        data.edge_attr = torch.cat(\n",
    "                [edge_attr,\n",
    "                 dist.type_as(edge_attr),\n",
    "                 direction.type_as(edge_attr)],\n",
    "                dim=-1)      \n",
    "\n",
    "        return data"
   ]
  },
  {
   "cell_type": "code",
   "execution_count": 23,
   "metadata": {
    "ExecuteTime": {
     "end_time": "2019-08-25T00:46:06.710061Z",
     "start_time": "2019-08-25T00:46:06.682686Z"
    }
   },
   "outputs": [],
   "source": [
    "class AddBondLinks:\n",
    "    def __call__(self, data):\n",
    "        bonds_ind = data.bonds_edge_ind\n",
    "        \n",
    "        bonds_from = bonds_ind.view(-1, 1).repeat(1, (len(bonds_ind))).view(-1)\n",
    "        bonds_to = bonds_ind.view(-1).repeat(1, len(data.bonds_edge_ind)).view(-1)\n",
    "        bonds_links = torch.stack([bonds_from, bonds_to], dim=1)  # all couples, will filter\n",
    "        \n",
    "        filter_correct_common_node = (data.edge_index[:, bonds_from][1] == data.edge_index[:, bonds_to][0])\n",
    "        filter_remove_self_loop = (data.edge_index[:, bonds_from][0] != data.edge_index[:, bonds_to][1])\n",
    "        \n",
    "        data.bonds_links_edge_ind = bonds_links[filter_correct_common_node * filter_remove_self_loop]\n",
    "        return data"
   ]
  },
  {
   "cell_type": "code",
   "execution_count": 24,
   "metadata": {
    "ExecuteTime": {
     "end_time": "2019-08-25T00:46:06.737037Z",
     "start_time": "2019-08-25T00:46:06.712058Z"
    }
   },
   "outputs": [],
   "source": [
    "class AddCounts:\n",
    "    def __call__(self, data):\n",
    "        data.count_nodes = torch.tensor([[data.num_nodes]], dtype=torch.long)\n",
    "        data.count_edges = torch.tensor([[data.num_edges]], dtype=torch.long)\n",
    "        return data"
   ]
  },
  {
   "cell_type": "code",
   "execution_count": 25,
   "metadata": {
    "ExecuteTime": {
     "end_time": "2019-08-25T00:46:06.762646Z",
     "start_time": "2019-08-25T00:46:06.738725Z"
    }
   },
   "outputs": [],
   "source": [
    "class AddGlobalAttr:\n",
    "    def __init__(self):\n",
    "        pass\n",
    "\n",
    "    def __call__(self, data):\n",
    "        data.global_attr = torch.zeros((1, 1), dtype=torch.float)\n",
    "        return data"
   ]
  },
  {
   "cell_type": "markdown",
   "metadata": {
    "ExecuteTime": {
     "end_time": "2019-08-06T21:22:14.468130Z",
     "start_time": "2019-08-06T21:22:14.434048Z"
    }
   },
   "source": [
    "class AddCouplesInd:\n",
    "    def __call__(self, data):\n",
    "        node_from, node_to = data.couples_ind.transpose(1, 0)\n",
    "        edge_ind = node_from * (data.num_nodes-1) + node_to\n",
    "        edge_ind[node_from < node_to] = edge_ind[node_from < node_to] - 1\n",
    "        \n",
    "        data.couples_edge_ind = edge_ind.view(-1, 1)\n",
    "        assert torch.equal(data.edge_attr[data.mask], data.edge_attr[data.couples_edge_ind.view(-1)])\n",
    "        return data"
   ]
  },
  {
   "cell_type": "code",
   "execution_count": 54,
   "metadata": {
    "ExecuteTime": {
     "end_time": "2019-08-25T00:48:24.889642Z",
     "start_time": "2019-08-25T00:48:24.856425Z"
    }
   },
   "outputs": [],
   "source": [
    "class SortTarget:\n",
    "    def _get_index(self, data, row, col):\n",
    "        idx = row * (data.num_nodes-1) + col\n",
    "        idx[row < col] = idx[row < col] - 1\n",
    "        return idx\n",
    "    \n",
    "    def __call__(self, data):\n",
    "        target = torch.zeros((data.num_edges, data.y.size()[1]), dtype=torch.float)        \n",
    "        weights = torch.zeros((data.num_edges), dtype=torch.float)        \n",
    "        mask = torch.zeros((data.num_edges), dtype=torch.bool)      \n",
    "        types = torch.zeros((data.num_edges), dtype=torch.long)\n",
    "        \n",
    "        row, col = data.couples_ind.transpose(1,0)\n",
    "        indexes = self._get_index(data, row, col)\n",
    "        \n",
    "        mask[indexes] = True\n",
    "        weights[indexes] = data.sample_weight\n",
    "        target[indexes] = data.y\n",
    "        types[indexes] = data.type\n",
    "        \n",
    "        #data.mask = mask\n",
    "        data.y = target[mask]\n",
    "        data.sample_weight = weights[mask]\n",
    "        data.type = types[mask]\n",
    "        \n",
    "        assert torch.equal(data.couples_ind, data.edge_index[:, mask].transpose(1,0))\n",
    "        data.couples_edge_ind = torch.arange(data.num_edges, dtype=torch.long)[mask].view(-1,1)\n",
    "        return data        "
   ]
  },
  {
   "cell_type": "code",
   "execution_count": 55,
   "metadata": {
    "ExecuteTime": {
     "end_time": "2019-08-25T00:48:25.141487Z",
     "start_time": "2019-08-25T00:48:25.106858Z"
    }
   },
   "outputs": [],
   "source": [
    "class AddBondPath:\n",
    "    def __call__(self, data):\n",
    "        # suffix _index to get node index adjustment\n",
    "        data.paths_index = self.find_paths(data).transpose(1,0)  \n",
    "        data.paths_edge_ind = torch.cat(\n",
    "            [self._nodes_to_edge_ind(data, data.paths_index[i], data.paths_index[i+1]) for i in range(3)], \n",
    "            dim=1)\n",
    "        return data\n",
    "    \n",
    "    def _nodes_to_edge_ind(self, data, node_from, node_to):\n",
    "        edge_ind = node_from * (data.num_nodes-1) + node_to\n",
    "        edge_ind[node_from < node_to] = edge_ind[node_from < node_to] - 1\n",
    "        return edge_ind.view(-1, 1)\n",
    "    \n",
    "    def find_paths(self, data):\n",
    "        assert hasattr(data, 'couples_ind')\n",
    "        assert hasattr(data, 'graph')\n",
    "\n",
    "        all_paths = nx.shortest_path(data.graph)\n",
    "        paths = []\n",
    "        for (from_, to_) in data.couples_ind.numpy():\n",
    "            path = torch.tensor(all_paths[from_][to_], dtype=torch.long).view(-1,1)\n",
    "            paths.append(path)\n",
    "\n",
    "        paths = torch.nn.utils.rnn.pad_sequence(paths, batch_first=True).squeeze()\n",
    "        if paths.size(1) < 4:\n",
    "            paths = torch.nn.functional.pad(paths, (0, 4 - paths.size(1)))\n",
    "        return paths"
   ]
  },
  {
   "cell_type": "code",
   "execution_count": 56,
   "metadata": {
    "ExecuteTime": {
     "end_time": "2019-08-25T00:48:25.362665Z",
     "start_time": "2019-08-25T00:48:25.334202Z"
    }
   },
   "outputs": [],
   "source": [
    "def correct_batch_edge_ind(batch):\n",
    "    offset_edge_ind = torch.zeros_like(batch.count_edges)\n",
    "    offset_edge_ind[1:] = batch.count_edges[:-1].cumsum(dim=0)\n",
    "    for k in ['bonds_edge_ind', 'bonds_links_edge_ind', 'paths_edge_ind', 'couples_edge_ind']:\n",
    "        if hasattr(batch, k):\n",
    "            batch[k] = batch[k] + offset_edge_ind[batch[k+'_batch']]\n",
    "    return batch"
   ]
  },
  {
   "cell_type": "code",
   "execution_count": 57,
   "metadata": {
    "ExecuteTime": {
     "end_time": "2019-08-25T00:48:50.233739Z",
     "start_time": "2019-08-25T00:48:25.569925Z"
    }
   },
   "outputs": [
    {
     "data": {
      "application/vnd.jupyter.widget-view+json": {
       "model_id": "8e2f64bdca9742d189c033370bda5880",
       "version_major": 2,
       "version_minor": 0
      },
      "text/plain": [
       "HBox(children=(IntProgress(value=0, max=80003), HTML(value='')))"
      ]
     },
     "metadata": {},
     "output_type": "display_data"
    },
    {
     "name": "stdout",
     "output_type": "stream",
     "text": [
      "\n"
     ]
    },
    {
     "data": {
      "application/vnd.jupyter.widget-view+json": {
       "model_id": "e956cf2db30f4b1985447d23c461e142",
       "version_major": 2,
       "version_minor": 0
      },
      "text/plain": [
       "HBox(children=(IntProgress(value=0, max=5000), HTML(value='')))"
      ]
     },
     "metadata": {},
     "output_type": "display_data"
    },
    {
     "name": "stdout",
     "output_type": "stream",
     "text": [
      "\n"
     ]
    }
   ],
   "source": [
    "train_dataset = MoleculeDataset(metadata=train_data,\n",
    "                              base_dir=constants.STRUCT_DATA_PATH,\n",
    "                              transform=T.Compose([\n",
    "                                  AddBondPath(),\n",
    "                                  AddVirtualEdges(),\n",
    "                                  RandomRotation(),\n",
    "                                  AddEdgeDistanceAndDirection(\n",
    "                                      dist_noise=0.),\n",
    "                                  AddGlobalAttr(),\n",
    "                                  SortTarget(),\n",
    "                                  AddBondLinks(),\n",
    "                                  AddCounts(),     \n",
    "                              ]))\n",
    "\n",
    "val_dataset = MoleculeDataset(metadata=val_data,\n",
    "                            base_dir=constants.STRUCT_DATA_PATH,\n",
    "                            transform=T.Compose([\n",
    "                                AddBondPath(),\n",
    "                                AddVirtualEdges(),\n",
    "                                AddEdgeDistanceAndDirection(\n",
    "                                      dist_noise=0.),\n",
    "                                AddGlobalAttr(),\n",
    "                                SortTarget(),\n",
    "                                AddBondLinks(),\n",
    "                                AddCounts(),     \n",
    "                            ]))"
   ]
  },
  {
   "cell_type": "code",
   "execution_count": 58,
   "metadata": {
    "ExecuteTime": {
     "end_time": "2019-08-25T00:48:50.278548Z",
     "start_time": "2019-08-25T00:48:50.235633Z"
    },
    "scrolled": false
   },
   "outputs": [
    {
     "data": {
      "text/plain": [
       "FP16_Data(bonds_edge_ind=[20, 1], bonds_links_edge_ind=[36, 2], count_edges=[1, 1], count_nodes=[1, 1], couples_edge_ind=[86, 1], couples_ind=[86, 2], direction=[110, 3], dist=[110, 1], edge_attr=[110, 34], edge_index=[2, 110], global_attr=[1, 1], mol_ind=[1, 1], paths_edge_ind=[86, 3], paths_index=[4, 86], pos=[11, 3], sample_weight=[86], type=[86], x=[11, 28], y=[86, 1])"
      ]
     },
     "execution_count": 58,
     "metadata": {},
     "output_type": "execute_result"
    }
   ],
   "source": [
    "data = train_dataset[10]\n",
    "data"
   ]
  },
  {
   "cell_type": "markdown",
   "metadata": {},
   "source": [
    "# Model"
   ]
  },
  {
   "cell_type": "code",
   "execution_count": 59,
   "metadata": {
    "ExecuteTime": {
     "end_time": "2019-08-25T00:48:50.307496Z",
     "start_time": "2019-08-25T00:48:50.280500Z"
    }
   },
   "outputs": [],
   "source": [
    "from kaggle_champs.modelling import MegNetBlock, create_mlp_v2, MegNetBlock_v2, MegNetBlock_v3"
   ]
  },
  {
   "cell_type": "code",
   "execution_count": 60,
   "metadata": {
    "ExecuteTime": {
     "end_time": "2019-08-25T00:48:50.337376Z",
     "start_time": "2019-08-25T00:48:50.309507Z"
    }
   },
   "outputs": [],
   "source": [
    "from torch import nn"
   ]
  },
  {
   "cell_type": "code",
   "execution_count": 61,
   "metadata": {
    "ExecuteTime": {
     "end_time": "2019-08-25T00:48:50.365873Z",
     "start_time": "2019-08-25T00:48:50.338952Z"
    }
   },
   "outputs": [],
   "source": [
    "from torch_scatter import scatter_add"
   ]
  },
  {
   "cell_type": "code",
   "execution_count": 62,
   "metadata": {
    "ExecuteTime": {
     "end_time": "2019-08-25T00:48:50.402046Z",
     "start_time": "2019-08-25T00:48:50.367546Z"
    }
   },
   "outputs": [],
   "source": [
    "def gather_embedding(data, x_out, edge_out, u_out, couple_type):\n",
    "    n_bonds = int(couple_type[0])\n",
    "    couple_filter = (data.type == constants.TYPES_DICT[couple_type])\n",
    "    couples_edge_ind = data.couples_edge_ind.view(-1)\n",
    "    \n",
    "    merged = [\n",
    "        u_out[data.batch[data.edge_index[0][couples_edge_ind][couple_filter]]],\n",
    "    ]\n",
    "    if n_bonds > 1:\n",
    "        merged.append(edge_out[couples_edge_ind][couple_filter])\n",
    "        \n",
    "    node_ind = data.paths_index.transpose(1,0)[:, :n_bonds+1][couple_filter] # convert_node_ind(data, 'paths')[:, :n_bonds+1]\n",
    "    for i in range(n_bonds+1):\n",
    "        merged.append(x_out[node_ind[:,i]])\n",
    "        \n",
    "    for i in range(n_bonds):\n",
    "        edge_ind = data.paths_edge_ind[:,i] # convert_couple_to_edge_ind(data, data.paths_index[i], data.paths_index[i+1], data.paths_edge_ind_batch)\n",
    "        merged.append(edge_out[edge_ind[couple_filter]])\n",
    "    return torch.cat(merged, dim=1)"
   ]
  },
  {
   "cell_type": "code",
   "execution_count": 63,
   "metadata": {
    "ExecuteTime": {
     "end_time": "2019-08-25T00:48:50.440131Z",
     "start_time": "2019-08-25T00:48:50.403679Z"
    }
   },
   "outputs": [],
   "source": [
    "class OutputLayer_new(torch.nn.Module):\n",
    "    def __init__(self, rep_dim, dim, y_mean, y_std, couple_type):\n",
    "        super(OutputLayer_new, self).__init__()\n",
    "        self.scaling = torch.nn.Linear(1, 1)\n",
    "        self.scaling.bias = torch.nn.Parameter(torch.tensor(y_mean,\n",
    "                                                            dtype=torch.float),\n",
    "                                               requires_grad=False)\n",
    "        self.scaling.weight = torch.nn.Parameter(torch.tensor(\n",
    "            [[y_std]], dtype=torch.float),\n",
    "                                                 requires_grad=False)\n",
    "        self.couple_type = couple_type\n",
    "        n_bonds = int(couple_type[0])\n",
    "        \n",
    "        if n_bonds == 1:\n",
    "            input_dim = dim * (n_bonds + (n_bonds + 1) + 1)  # edges + nodes + u\n",
    "        else:\n",
    "            input_dim = dim * (n_bonds + (n_bonds + 1) + 2)  # edges + nodes + u + direct edge\n",
    "        \n",
    "        self.mlp = create_mlp_v2(\n",
    "            input_dim=input_dim,\n",
    "            output_dim=1,\n",
    "            hidden_dims=[input_dim//2, input_dim//4, input_dim//4],\n",
    "            normalization_cls=torch.nn.LayerNorm,\n",
    "            activation_cls=torch.nn.Softplus,\n",
    "            dropout_cls=torch.nn.Dropout,\n",
    "            dropout_prob=0.\n",
    "        )\n",
    "\n",
    "    def forward(self, data, x_out, edge_out, u_out):\n",
    "        in_ = gather_embedding(data, x_out, edge_out, u_out, self.couple_type)\n",
    "        out = self.mlp(in_)\n",
    "        out = self.scaling(out)\n",
    "        return out"
   ]
  },
  {
   "cell_type": "code",
   "execution_count": 64,
   "metadata": {
    "ExecuteTime": {
     "end_time": "2019-08-25T00:48:50.485729Z",
     "start_time": "2019-08-25T00:48:50.443291Z"
    }
   },
   "outputs": [],
   "source": [
    "class EdgeConv(torch.nn.Module):\n",
    "    def __init__(self, dim=32, update_bonds_only=True):\n",
    "        super(EdgeConv, self).__init__()\n",
    "        self.update_bonds_only = update_bonds_only\n",
    "        self.msg_mlp = create_mlp_v2(\n",
    "            input_dim=dim * 2 + 1,\n",
    "            output_dim=dim,\n",
    "            hidden_dims=[dim, dim],\n",
    "            normalization_cls=torch.nn.LayerNorm,\n",
    "            activation_cls=torch.nn.Softplus,\n",
    "            dropout_cls=torch.nn.Dropout,\n",
    "            dropout_prob=0.\n",
    "        )\n",
    "        \n",
    "        self.gate_mlp = create_mlp_v2(\n",
    "            input_dim=dim * 2 + 1,\n",
    "            output_dim=dim,\n",
    "            hidden_dims=[dim, dim],\n",
    "            normalization_cls=torch.nn.LayerNorm,\n",
    "            activation_cls=torch.nn.Softplus,\n",
    "            dropout_cls=torch.nn.Dropout,\n",
    "            dropout_prob=0.\n",
    "        )\n",
    "        \n",
    "        self.update_mlp = create_mlp_v2(\n",
    "            input_dim=dim * 3,\n",
    "            output_dim=dim,\n",
    "            hidden_dims=[dim, dim],\n",
    "            normalization_cls=torch.nn.LayerNorm,\n",
    "            activation_cls=torch.nn.Softplus,\n",
    "            dropout_cls=torch.nn.Dropout,\n",
    "            dropout_prob=0.\n",
    "        )        \n",
    "        \n",
    "    def msg(self, *args):\n",
    "        in_ = torch.cat(args, dim=1)\n",
    "        out = self.msg_mlp(in_) * torch.tanh(self.gate_mlp(in_))\n",
    "        return out\n",
    "    \n",
    "    def aggregate_msg(self, msg, groupby, n_edges):\n",
    "        res = torch.zeros((n_edges, msg.size(1)), dtype=msg.dtype, device='cuda')\n",
    "        \n",
    "        unique_groups = torch.unique(groupby, sorted=True)\n",
    "        \n",
    "        #index = torch.zeros_like(groupby, dtype=torch.long, , device='cuda')       \n",
    "        \n",
    "        scatter_mat = (unique_groups.view(-1,1) == groupby.view(1,-1)).float()\n",
    "        # assert scatter_mat.size(1) == groupby.size(0)\n",
    "        # assert scatter_mat.size(0) == unique_groups.size(0)\n",
    "        res[unique_groups] = torch.mm(scatter_mat, msg)\n",
    "        \n",
    "        return res\n",
    "    \n",
    "    def forward(self, edge_out, bonds_links_edge_ind, bonds_edge_ind, direction):\n",
    "        row, col = bonds_links_edge_ind[:, 0], bonds_links_edge_ind[:, 1]\n",
    "        angle_feats = (direction[row] * direction[col]).sum(dim=1).view(-1,1)\n",
    "        \n",
    "        msg = self.msg(edge_out[row], edge_out[col], angle_feats)\n",
    "        msg_row = self.aggregate_msg(msg, row, edge_out.size(0))\n",
    "        msg_col = self.aggregate_msg(msg, col, edge_out.size(0))\n",
    "        if self.update_bonds_only:\n",
    "            select = bonds_edge_ind.view(-1)\n",
    "        else:\n",
    "            select = torch.arange(edge_out.size(0), dtype=torch.long, device=edge_out.device)\n",
    "        out = self.update_mlp(torch.cat([edge_out[select], msg_row[select], msg_col[select]], dim=1))\n",
    "        assert out.size(0) == select.size(0)\n",
    "        result = edge_out        \n",
    "        result[select] = result[select] + out\n",
    "        return result"
   ]
  },
  {
   "cell_type": "code",
   "execution_count": 65,
   "metadata": {
    "ExecuteTime": {
     "end_time": "2019-08-25T00:48:50.521476Z",
     "start_time": "2019-08-25T00:48:50.487968Z"
    }
   },
   "outputs": [],
   "source": [
    "class MegNetModel_new(torch.nn.Module):\n",
    "    def __init__(self,\n",
    "                 edge_dim,\n",
    "                 x_dim,\n",
    "                 u_dim,\n",
    "                 dim=32,\n",
    "                 head_dim=32,\n",
    "                 n_megnet_blocks=3,\n",
    "                 y_mean=0,\n",
    "                 y_std=1,\n",
    "                 layer_norm=False):\n",
    "        super(MegNetModel_new, self).__init__()\n",
    "        self.dim = dim\n",
    "        self.n_megnet_blocks = n_megnet_blocks\n",
    "        self.megnet_blocks = torch.nn.ModuleList([\n",
    "            MegNetBlock_v3(edge_dim,\n",
    "                           x_dim,\n",
    "                           u_dim,\n",
    "                           dim,\n",
    "                           normalization_cls=torch.nn.LayerNorm,\n",
    "                           activation_cls=torch.nn.Softplus,\n",
    "                           dropout_cls=torch.nn.Dropout,\n",
    "                           dropout_prob=0.,\n",
    "                           residual=True)\n",
    "        ] + [\n",
    "            MegNetBlock_v3(dim,\n",
    "                           dim,\n",
    "                           dim,\n",
    "                           dim,\n",
    "                           normalization_cls=torch.nn.LayerNorm,\n",
    "                           activation_cls=torch.nn.Softplus,\n",
    "                           dropout_cls=torch.nn.Dropout,\n",
    "                           dropout_prob=0.,\n",
    "                           residual=True) for i in range(n_megnet_blocks - 1)\n",
    "        ])\n",
    "\n",
    "        self.out_mlp = torch.nn.ModuleList([\n",
    "            OutputLayer_new(\n",
    "                dim,\n",
    "                head_dim,\n",
    "                y_mean=y_mean[i],\n",
    "                y_std=y_std[i],\n",
    "                couple_type=type_,\n",
    "            ) for i, type_ in enumerate(constants.TYPES_LIST)\n",
    "        ])\n",
    "\n",
    "\n",
    "    def forward(self, data):\n",
    "        data = correct_batch_edge_ind(data)\n",
    "\n",
    "        if not hasattr(data, 'global_attr'):\n",
    "            data.global_attr = torch.zeros((data.num_graphs, 1),\n",
    "                                           dtype=torch.float,\n",
    "                                           device=data.x.device)\n",
    "        x_out, edge_out, u_out = data.x, data.edge_attr, data.global_attr\n",
    "        for i in range(self.n_megnet_blocks):\n",
    "            x_out, edge_out, u_out = self.megnet_blocks[i](x_out,\n",
    "                                           data.edge_index,\n",
    "                                           edge_out,\n",
    "                                           u_out,\n",
    "                                           data.batch,\n",
    "                                           first_block=(i==0))\n",
    "           \n",
    "        pred = torch.zeros_like(data.type,\n",
    "                                dtype=torch.float,\n",
    "                                device=x_out.device)\n",
    "        for type_ in range(8):\n",
    "            if (data.type == type_).any():\n",
    "                pred[data.type == type_] = self.out_mlp[type_](data, x_out,\n",
    "                                                               edge_out,\n",
    "                                                               u_out).view(-1)\n",
    "        return pred"
   ]
  },
  {
   "cell_type": "markdown",
   "metadata": {},
   "source": [
    "# Training"
   ]
  },
  {
   "cell_type": "code",
   "execution_count": 66,
   "metadata": {
    "ExecuteTime": {
     "end_time": "2019-08-25T00:48:50.546064Z",
     "start_time": "2019-08-25T00:48:50.522898Z"
    }
   },
   "outputs": [],
   "source": [
    "from kaggle_champs.metrics import MeanLogGroupMAE, AverageMetric"
   ]
  },
  {
   "cell_type": "code",
   "execution_count": 67,
   "metadata": {
    "ExecuteTime": {
     "end_time": "2019-08-25T00:48:50.571782Z",
     "start_time": "2019-08-25T00:48:50.547459Z"
    }
   },
   "outputs": [],
   "source": [
    "from kaggle_champs.training import train_epoch"
   ]
  },
  {
   "cell_type": "code",
   "execution_count": 68,
   "metadata": {
    "ExecuteTime": {
     "end_time": "2019-08-25T00:48:50.604844Z",
     "start_time": "2019-08-25T00:48:50.573324Z"
    }
   },
   "outputs": [],
   "source": [
    "import torch\n",
    "from tqdm.autonotebook import tqdm\n",
    "\n",
    "\n",
    "def train_epoch(global_iteration, epoch, model, device, optimizer, train_loader, tb_logger, gradient_accumulation_steps=1):\n",
    "    model.train()\n",
    "\n",
    "    avg_loss = AverageMetric()\n",
    "    log_mae = MeanLogGroupMAE()\n",
    "    \n",
    "    pbar = tqdm(train_loader)\n",
    "    for step, data in enumerate(pbar):\n",
    "        data = data.to(device)\n",
    "        \n",
    "        pred = model(data)\n",
    "\n",
    "        loss = torch.nn.L1Loss(reduction='mean')(pred.view(-1),\n",
    "                                                     data.y.view(-1))\n",
    "        loss.backward()\n",
    "\n",
    "        if (step + 1) % gradient_accumulation_steps == 0:\n",
    "            optimizer.step()\n",
    "            optimizer.zero_grad()\n",
    "            \n",
    "            global_iteration += 1\n",
    "\n",
    "        tb_logger.add_scalar('loss', loss.item(), global_iteration)\n",
    "\n",
    "        avg_loss.update(loss.item() * data.num_graphs, data.num_graphs)\n",
    "        log_mae.update(pred.view(-1), data.y.view(-1), data.type)\n",
    "\n",
    "        pbar.set_postfix_str(f'loss: {avg_loss.compute():.4f}')\n",
    "    return avg_loss.compute(), log_mae, global_iteration"
   ]
  },
  {
   "cell_type": "code",
   "execution_count": 69,
   "metadata": {
    "ExecuteTime": {
     "end_time": "2019-08-25T00:48:50.640340Z",
     "start_time": "2019-08-25T00:48:50.606428Z"
    }
   },
   "outputs": [],
   "source": [
    "def test_model(model, loader):\n",
    "    model.eval()\n",
    "    log_mae = MeanLogGroupMAE()\n",
    "    avg_loss = AverageMetric()\n",
    "    with torch.no_grad():\n",
    "        for data in loader:\n",
    "            data = data.to(device)\n",
    "            pred = model(data)\n",
    "            \n",
    "            loss = torch.nn.L1Loss(reduction='mean')(pred.view(-1),\n",
    "                                                     data.y.view(-1))\n",
    "            avg_loss.update(loss.item() * data.num_graphs, data.num_graphs)\n",
    "            \n",
    "            log_mae.update(pred.view(-1), data.y.view(-1), data.type.view(-1))\n",
    "            \n",
    "        return avg_loss.compute(), log_mae\n",
    "\n",
    "\n",
    "def make_log(epoch, lr, loss, tr_logmae, val_logmae):\n",
    "    results = {\n",
    "        'epoch': epoch,\n",
    "        'lr': lr,\n",
    "        'loss': loss,\n",
    "        'tr_logmae': tr_logmae.compute(),\n",
    "        'val_logmae': val_logmae.compute(),\n",
    "    }\n",
    "    for k, v in tr_logmae.compute_individuals().items():\n",
    "        results.update({'tr_' + k: v})\n",
    "    for k, v in val_logmae.compute_individuals().items():\n",
    "        results.update({'val_' + k: v})\n",
    "    return results\n",
    "\n",
    "\n",
    "def save_checkpoint(dir_path, model, optimizer, scheduler, epoch):\n",
    "    torch.save(model.state_dict(), dir_path + f'model_epoch_{epoch}.pth')\n",
    "    torch.save(optimizer.state_dict(),\n",
    "               dir_path + f'optimizer_epoch_{epoch}.pth')\n",
    "    torch.save(scheduler.state_dict(),\n",
    "               dir_path + f'scheduler_epoch_{epoch}.pth')"
   ]
  },
  {
   "cell_type": "markdown",
   "metadata": {},
   "source": [
    "# Run"
   ]
  },
  {
   "cell_type": "code",
   "execution_count": 70,
   "metadata": {
    "ExecuteTime": {
     "end_time": "2019-08-25T00:48:50.671678Z",
     "start_time": "2019-08-25T00:48:50.641909Z"
    }
   },
   "outputs": [],
   "source": [
    "from tensorboardX import SummaryWriter"
   ]
  },
  {
   "cell_type": "code",
   "execution_count": 71,
   "metadata": {
    "ExecuteTime": {
     "end_time": "2019-08-25T00:48:50.700585Z",
     "start_time": "2019-08-25T00:48:50.673280Z"
    }
   },
   "outputs": [],
   "source": [
    "import shutil"
   ]
  },
  {
   "cell_type": "code",
   "execution_count": 72,
   "metadata": {
    "ExecuteTime": {
     "end_time": "2019-08-25T00:48:50.729271Z",
     "start_time": "2019-08-25T00:48:50.702183Z"
    }
   },
   "outputs": [],
   "source": [
    "OUTPUT_DIR = './models/megnet_256x10_unweightedMAE_softplus/'"
   ]
  },
  {
   "cell_type": "markdown",
   "metadata": {
    "ExecuteTime": {
     "end_time": "2019-08-14T16:00:40.908979Z",
     "start_time": "2019-08-14T16:00:40.083273Z"
    }
   },
   "source": [
    "!mkdir -p {OUTPUT_DIR}\n",
    "!rm -rf {OUTPUT_DIR}\n",
    "!mkdir -p {OUTPUT_DIR}"
   ]
  },
  {
   "cell_type": "code",
   "execution_count": 73,
   "metadata": {
    "ExecuteTime": {
     "end_time": "2019-08-25T00:48:50.759395Z",
     "start_time": "2019-08-25T00:48:50.730930Z"
    }
   },
   "outputs": [],
   "source": [
    "tb_logger = SummaryWriter(OUTPUT_DIR+'tb_log/')\n",
    "global_iteration = 0"
   ]
  },
  {
   "cell_type": "code",
   "execution_count": 74,
   "metadata": {
    "ExecuteTime": {
     "end_time": "2019-08-25T00:48:50.789718Z",
     "start_time": "2019-08-25T00:48:50.761019Z"
    }
   },
   "outputs": [],
   "source": [
    "SAVE_INTERVAL = 10"
   ]
  },
  {
   "cell_type": "code",
   "execution_count": 75,
   "metadata": {
    "ExecuteTime": {
     "end_time": "2019-08-25T00:48:50.817471Z",
     "start_time": "2019-08-25T00:48:50.791302Z"
    }
   },
   "outputs": [],
   "source": [
    "MAX_EPOCH = 150"
   ]
  },
  {
   "cell_type": "code",
   "execution_count": 76,
   "metadata": {
    "ExecuteTime": {
     "end_time": "2019-08-25T00:48:51.349000Z",
     "start_time": "2019-08-25T00:48:50.818994Z"
    },
    "scrolled": true
   },
   "outputs": [],
   "source": [
    "val_loader = DataLoader(val_dataset,\n",
    "                        batch_size=64,\n",
    "                        shuffle=False,\n",
    "                        num_workers=8, \n",
    "                        follow_batch=['bonds_edge_ind', 'bonds_links_edge_ind', 'paths_edge_ind', 'couples_edge_ind']\n",
    "                       )\n",
    "train_loader = DataLoader(train_dataset,\n",
    "                          batch_size=32,\n",
    "                          num_workers=8,\n",
    "                          shuffle=True,\n",
    "                          follow_batch=['bonds_edge_ind', 'bonds_links_edge_ind', 'paths_edge_ind', 'couples_edge_ind']\n",
    "                         )"
   ]
  },
  {
   "cell_type": "code",
   "execution_count": 77,
   "metadata": {
    "ExecuteTime": {
     "end_time": "2019-08-25T00:48:55.846940Z",
     "start_time": "2019-08-25T00:48:51.361507Z"
    }
   },
   "outputs": [],
   "source": [
    "batch = next(iter(val_loader))"
   ]
  },
  {
   "cell_type": "code",
   "execution_count": 78,
   "metadata": {
    "ExecuteTime": {
     "end_time": "2019-08-25T00:48:55.884295Z",
     "start_time": "2019-08-25T00:48:55.849042Z"
    }
   },
   "outputs": [
    {
     "data": {
      "text/plain": [
       "Batch(batch=[895], bonds_edge_ind=[1758, 1], bonds_edge_ind_batch=[1758], bonds_links_edge_ind=[3076, 2], bonds_links_edge_ind_batch=[3076], count_edges=[64, 1], count_nodes=[64, 1], couples_edge_ind=[5146, 1], couples_edge_ind_batch=[5146], couples_ind=[5146, 2], direction=[12162, 3], dist=[12162, 1], edge_attr=[12162, 34], edge_index=[2, 12162], global_attr=[64, 1], mol_ind=[64, 1], paths_edge_ind=[5146, 3], paths_edge_ind_batch=[5146], paths_index=[4, 5146], pos=[895, 3], sample_weight=[5146], type=[5146], x=[895, 28], y=[5146, 1])"
      ]
     },
     "execution_count": 78,
     "metadata": {},
     "output_type": "execute_result"
    }
   ],
   "source": [
    "batch"
   ]
  },
  {
   "cell_type": "code",
   "execution_count": 79,
   "metadata": {
    "ExecuteTime": {
     "end_time": "2019-08-25T00:48:56.874415Z",
     "start_time": "2019-08-25T00:48:55.887693Z"
    }
   },
   "outputs": [],
   "source": [
    "y_mean = train.groupby(train.type.map(\n",
    "    constants.TYPES_DICT)).scalar_coupling_constant.mean().sort_index().values\n",
    "y_std = train.groupby(train.type.map(\n",
    "    constants.TYPES_DICT)).scalar_coupling_constant.std().sort_index().values"
   ]
  },
  {
   "cell_type": "code",
   "execution_count": 80,
   "metadata": {
    "ExecuteTime": {
     "end_time": "2019-08-25T00:48:58.935018Z",
     "start_time": "2019-08-25T00:48:58.260947Z"
    },
    "scrolled": false
   },
   "outputs": [],
   "source": [
    "device = torch.device('cuda')\n",
    "model = MegNetModel_new(edge_dim=data.edge_attr.size()[1],\n",
    "                    x_dim=data.x.size()[1],\n",
    "                    u_dim=1,\n",
    "                    dim=256,\n",
    "                    head_dim=256,\n",
    "                    n_megnet_blocks=10,\n",
    "                    y_mean=y_mean,\n",
    "                    y_std=y_std,\n",
    "                    layer_norm=False).to(device)"
   ]
  },
  {
   "cell_type": "code",
   "execution_count": 81,
   "metadata": {
    "ExecuteTime": {
     "end_time": "2019-08-25T00:49:03.482765Z",
     "start_time": "2019-08-25T00:49:03.441208Z"
    }
   },
   "outputs": [],
   "source": [
    "optimizer = torch.optim.Adam(model.parameters(), lr=1e-4)\n",
    "scheduler = torch.optim.lr_scheduler.StepLR(optimizer, step_size=20, gamma=1.)"
   ]
  },
  {
   "cell_type": "code",
   "execution_count": 55,
   "metadata": {
    "ExecuteTime": {
     "end_time": "2019-08-15T20:25:59.097092Z",
     "start_time": "2019-08-14T16:00:47.801558Z"
    },
    "scrolled": true
   },
   "outputs": [
    {
     "data": {
      "application/vnd.jupyter.widget-view+json": {
       "model_id": "6c74b86e1e2f4f4dbce171abfed9d12c",
       "version_major": 2,
       "version_minor": 0
      },
      "text/plain": [
       "HBox(children=(IntProgress(value=0, max=2501), HTML(value='')))"
      ]
     },
     "metadata": {},
     "output_type": "display_data"
    },
    {
     "name": "stdout",
     "output_type": "stream",
     "text": [
      "\n",
      "Epoch: 001, LR: 0.000100, Loss: 1.3435959,          Train LogMAE: 0.2111909, Val LogMAE: -0.3088027\n"
     ]
    },
    {
     "data": {
      "application/vnd.jupyter.widget-view+json": {
       "model_id": "320b1695a4a34dcd85ba5a97b47dcaa9",
       "version_major": 2,
       "version_minor": 0
      },
      "text/plain": [
       "HBox(children=(IntProgress(value=0, max=2501), HTML(value='')))"
      ]
     },
     "metadata": {},
     "output_type": "display_data"
    },
    {
     "name": "stdout",
     "output_type": "stream",
     "text": [
      "\n",
      "Epoch: 002, LR: 0.000100, Loss: 0.6723769,          Train LogMAE: -0.5152027, Val LogMAE: -0.5917197\n"
     ]
    },
    {
     "data": {
      "application/vnd.jupyter.widget-view+json": {
       "model_id": "a007f374960e4002a70970605cc81a81",
       "version_major": 2,
       "version_minor": 0
      },
      "text/plain": [
       "HBox(children=(IntProgress(value=0, max=2501), HTML(value='')))"
      ]
     },
     "metadata": {},
     "output_type": "display_data"
    },
    {
     "name": "stdout",
     "output_type": "stream",
     "text": [
      "\n",
      "Epoch: 003, LR: 0.000100, Loss: 0.5278573,          Train LogMAE: -0.7751854, Val LogMAE: -0.7835144\n"
     ]
    },
    {
     "data": {
      "application/vnd.jupyter.widget-view+json": {
       "model_id": "8174505b9f994d5b97217a2d7742a780",
       "version_major": 2,
       "version_minor": 0
      },
      "text/plain": [
       "HBox(children=(IntProgress(value=0, max=2501), HTML(value='')))"
      ]
     },
     "metadata": {},
     "output_type": "display_data"
    },
    {
     "name": "stdout",
     "output_type": "stream",
     "text": [
      "\n",
      "Epoch: 004, LR: 0.000100, Loss: 0.4445446,          Train LogMAE: -0.9543021, Val LogMAE: -1.0167685\n"
     ]
    },
    {
     "data": {
      "application/vnd.jupyter.widget-view+json": {
       "model_id": "de38f2fa3a6f44b1bead5b8aba743ec9",
       "version_major": 2,
       "version_minor": 0
      },
      "text/plain": [
       "HBox(children=(IntProgress(value=0, max=2501), HTML(value='')))"
      ]
     },
     "metadata": {},
     "output_type": "display_data"
    },
    {
     "name": "stdout",
     "output_type": "stream",
     "text": [
      "\n",
      "Epoch: 005, LR: 0.000100, Loss: 0.3872927,          Train LogMAE: -1.0986850, Val LogMAE: -1.0699083\n"
     ]
    },
    {
     "data": {
      "application/vnd.jupyter.widget-view+json": {
       "model_id": "651637d04abe430aa2aeb14aee13123e",
       "version_major": 2,
       "version_minor": 0
      },
      "text/plain": [
       "HBox(children=(IntProgress(value=0, max=2501), HTML(value='')))"
      ]
     },
     "metadata": {},
     "output_type": "display_data"
    },
    {
     "name": "stdout",
     "output_type": "stream",
     "text": [
      "\n",
      "Epoch: 006, LR: 0.000100, Loss: 0.3461067,          Train LogMAE: -1.2149288, Val LogMAE: -1.1778488\n"
     ]
    },
    {
     "data": {
      "application/vnd.jupyter.widget-view+json": {
       "model_id": "f3ddc6dd16094e13b1d0d57b329922ea",
       "version_major": 2,
       "version_minor": 0
      },
      "text/plain": [
       "HBox(children=(IntProgress(value=0, max=2501), HTML(value='')))"
      ]
     },
     "metadata": {},
     "output_type": "display_data"
    },
    {
     "name": "stdout",
     "output_type": "stream",
     "text": [
      "\n",
      "Epoch: 007, LR: 0.000100, Loss: 0.3151478,          Train LogMAE: -1.3132377, Val LogMAE: -1.2939807\n"
     ]
    },
    {
     "data": {
      "application/vnd.jupyter.widget-view+json": {
       "model_id": "31c8dfa76b4449c8856f2f64b461eacb",
       "version_major": 2,
       "version_minor": 0
      },
      "text/plain": [
       "HBox(children=(IntProgress(value=0, max=2501), HTML(value='')))"
      ]
     },
     "metadata": {},
     "output_type": "display_data"
    },
    {
     "name": "stdout",
     "output_type": "stream",
     "text": [
      "\n",
      "Epoch: 008, LR: 0.000100, Loss: 0.2904124,          Train LogMAE: -1.3992750, Val LogMAE: -1.3745773\n"
     ]
    },
    {
     "data": {
      "application/vnd.jupyter.widget-view+json": {
       "model_id": "87bdf8882c5b45f88543ff4401fffeb4",
       "version_major": 2,
       "version_minor": 0
      },
      "text/plain": [
       "HBox(children=(IntProgress(value=0, max=2501), HTML(value='')))"
      ]
     },
     "metadata": {},
     "output_type": "display_data"
    },
    {
     "name": "stdout",
     "output_type": "stream",
     "text": [
      "\n",
      "Epoch: 009, LR: 0.000100, Loss: 0.2691236,          Train LogMAE: -1.4781317, Val LogMAE: -1.4764200\n"
     ]
    },
    {
     "data": {
      "application/vnd.jupyter.widget-view+json": {
       "model_id": "10396f88afce47fa9f1282811d088d1f",
       "version_major": 2,
       "version_minor": 0
      },
      "text/plain": [
       "HBox(children=(IntProgress(value=0, max=2501), HTML(value='')))"
      ]
     },
     "metadata": {},
     "output_type": "display_data"
    },
    {
     "name": "stdout",
     "output_type": "stream",
     "text": [
      "\n",
      "Epoch: 010, LR: 0.000100, Loss: 0.2520460,          Train LogMAE: -1.5465860, Val LogMAE: -1.4749096\n"
     ]
    },
    {
     "data": {
      "application/vnd.jupyter.widget-view+json": {
       "model_id": "e20e7be40afb437297266c5b25280801",
       "version_major": 2,
       "version_minor": 0
      },
      "text/plain": [
       "HBox(children=(IntProgress(value=0, max=2501), HTML(value='')))"
      ]
     },
     "metadata": {},
     "output_type": "display_data"
    },
    {
     "name": "stdout",
     "output_type": "stream",
     "text": [
      "\n",
      "Epoch: 011, LR: 0.000100, Loss: 0.2372075,          Train LogMAE: -1.6110781, Val LogMAE: -1.5394271\n"
     ]
    },
    {
     "data": {
      "application/vnd.jupyter.widget-view+json": {
       "model_id": "5724587347c04cd98a0dc25e2b715739",
       "version_major": 2,
       "version_minor": 0
      },
      "text/plain": [
       "HBox(children=(IntProgress(value=0, max=2501), HTML(value='')))"
      ]
     },
     "metadata": {},
     "output_type": "display_data"
    },
    {
     "name": "stdout",
     "output_type": "stream",
     "text": [
      "\n",
      "Epoch: 012, LR: 0.000100, Loss: 0.2244418,          Train LogMAE: -1.6668765, Val LogMAE: -1.5608039\n"
     ]
    },
    {
     "data": {
      "application/vnd.jupyter.widget-view+json": {
       "model_id": "54f9399691d945d588e2355432cee1f5",
       "version_major": 2,
       "version_minor": 0
      },
      "text/plain": [
       "HBox(children=(IntProgress(value=0, max=2501), HTML(value='')))"
      ]
     },
     "metadata": {},
     "output_type": "display_data"
    },
    {
     "name": "stdout",
     "output_type": "stream",
     "text": [
      "\n",
      "Epoch: 013, LR: 0.000100, Loss: 0.2133004,          Train LogMAE: -1.7174368, Val LogMAE: -1.6569852\n"
     ]
    },
    {
     "data": {
      "application/vnd.jupyter.widget-view+json": {
       "model_id": "1db367c6e6a04c1d8499849a6b09cf0b",
       "version_major": 2,
       "version_minor": 0
      },
      "text/plain": [
       "HBox(children=(IntProgress(value=0, max=2501), HTML(value='')))"
      ]
     },
     "metadata": {},
     "output_type": "display_data"
    },
    {
     "name": "stdout",
     "output_type": "stream",
     "text": [
      "\n",
      "Epoch: 014, LR: 0.000100, Loss: 0.2040652,          Train LogMAE: -1.7670703, Val LogMAE: -1.6678236\n"
     ]
    },
    {
     "data": {
      "application/vnd.jupyter.widget-view+json": {
       "model_id": "f14c83c324df4010910b78ed09a05c7a",
       "version_major": 2,
       "version_minor": 0
      },
      "text/plain": [
       "HBox(children=(IntProgress(value=0, max=2501), HTML(value='')))"
      ]
     },
     "metadata": {},
     "output_type": "display_data"
    },
    {
     "name": "stdout",
     "output_type": "stream",
     "text": [
      "\n",
      "Epoch: 015, LR: 0.000100, Loss: 0.1942851,          Train LogMAE: -1.8149763, Val LogMAE: -1.6873447\n"
     ]
    },
    {
     "data": {
      "application/vnd.jupyter.widget-view+json": {
       "model_id": "307de5ce5c2c478295716d656d652125",
       "version_major": 2,
       "version_minor": 0
      },
      "text/plain": [
       "HBox(children=(IntProgress(value=0, max=2501), HTML(value='')))"
      ]
     },
     "metadata": {},
     "output_type": "display_data"
    },
    {
     "name": "stdout",
     "output_type": "stream",
     "text": [
      "\n",
      "Epoch: 016, LR: 0.000100, Loss: 0.1861230,          Train LogMAE: -1.8610811, Val LogMAE: -1.7307230\n"
     ]
    },
    {
     "data": {
      "application/vnd.jupyter.widget-view+json": {
       "model_id": "1c888c46b5ec48fa8af02cb4b80fc89b",
       "version_major": 2,
       "version_minor": 0
      },
      "text/plain": [
       "HBox(children=(IntProgress(value=0, max=2501), HTML(value='')))"
      ]
     },
     "metadata": {},
     "output_type": "display_data"
    },
    {
     "name": "stdout",
     "output_type": "stream",
     "text": [
      "\n",
      "Epoch: 017, LR: 0.000100, Loss: 0.1794937,          Train LogMAE: -1.8961263, Val LogMAE: -1.7096535\n"
     ]
    },
    {
     "data": {
      "application/vnd.jupyter.widget-view+json": {
       "model_id": "c59362b7c3e9487ca4bcfb05aa744371",
       "version_major": 2,
       "version_minor": 0
      },
      "text/plain": [
       "HBox(children=(IntProgress(value=0, max=2501), HTML(value='')))"
      ]
     },
     "metadata": {},
     "output_type": "display_data"
    },
    {
     "name": "stdout",
     "output_type": "stream",
     "text": [
      "\n",
      "Epoch: 018, LR: 0.000100, Loss: 0.1726336,          Train LogMAE: -1.9345976, Val LogMAE: -1.7762152\n"
     ]
    },
    {
     "data": {
      "application/vnd.jupyter.widget-view+json": {
       "model_id": "2f3497a6758942ba9d79ba1473a52905",
       "version_major": 2,
       "version_minor": 0
      },
      "text/plain": [
       "HBox(children=(IntProgress(value=0, max=2501), HTML(value='')))"
      ]
     },
     "metadata": {},
     "output_type": "display_data"
    },
    {
     "name": "stdout",
     "output_type": "stream",
     "text": [
      "\n",
      "Epoch: 019, LR: 0.000100, Loss: 0.1666096,          Train LogMAE: -1.9740012, Val LogMAE: -1.8340820\n"
     ]
    },
    {
     "data": {
      "application/vnd.jupyter.widget-view+json": {
       "model_id": "2a05d4cdc08f4664b9c33db6fcfe5614",
       "version_major": 2,
       "version_minor": 0
      },
      "text/plain": [
       "HBox(children=(IntProgress(value=0, max=2501), HTML(value='')))"
      ]
     },
     "metadata": {},
     "output_type": "display_data"
    },
    {
     "name": "stdout",
     "output_type": "stream",
     "text": [
      "\n",
      "Epoch: 020, LR: 0.000100, Loss: 0.1611310,          Train LogMAE: -2.0106545, Val LogMAE: -1.8599246\n"
     ]
    },
    {
     "data": {
      "application/vnd.jupyter.widget-view+json": {
       "model_id": "05a8bbc3ac9d43059a0cedcdd609fd9c",
       "version_major": 2,
       "version_minor": 0
      },
      "text/plain": [
       "HBox(children=(IntProgress(value=0, max=2501), HTML(value='')))"
      ]
     },
     "metadata": {},
     "output_type": "display_data"
    },
    {
     "name": "stdout",
     "output_type": "stream",
     "text": [
      "\n",
      "Epoch: 021, LR: 0.000100, Loss: 0.1559629,          Train LogMAE: -2.0429619, Val LogMAE: -1.8333535\n"
     ]
    },
    {
     "data": {
      "application/vnd.jupyter.widget-view+json": {
       "model_id": "0beec1b84b1347dcbe1ac17ea93f2656",
       "version_major": 2,
       "version_minor": 0
      },
      "text/plain": [
       "HBox(children=(IntProgress(value=0, max=2501), HTML(value='')))"
      ]
     },
     "metadata": {},
     "output_type": "display_data"
    },
    {
     "name": "stdout",
     "output_type": "stream",
     "text": [
      "\n",
      "Epoch: 022, LR: 0.000100, Loss: 0.1513927,          Train LogMAE: -2.0736567, Val LogMAE: -1.8751195\n"
     ]
    },
    {
     "data": {
      "application/vnd.jupyter.widget-view+json": {
       "model_id": "e91f090999474944bb9f915c2109f594",
       "version_major": 2,
       "version_minor": 0
      },
      "text/plain": [
       "HBox(children=(IntProgress(value=0, max=2501), HTML(value='')))"
      ]
     },
     "metadata": {},
     "output_type": "display_data"
    },
    {
     "name": "stdout",
     "output_type": "stream",
     "text": [
      "\n",
      "Epoch: 023, LR: 0.000100, Loss: 0.1470898,          Train LogMAE: -2.1016942, Val LogMAE: -1.9168091\n"
     ]
    },
    {
     "data": {
      "application/vnd.jupyter.widget-view+json": {
       "model_id": "0b807de4c96548e0936ee687c27f3d84",
       "version_major": 2,
       "version_minor": 0
      },
      "text/plain": [
       "HBox(children=(IntProgress(value=0, max=2501), HTML(value='')))"
      ]
     },
     "metadata": {},
     "output_type": "display_data"
    },
    {
     "name": "stdout",
     "output_type": "stream",
     "text": [
      "\n",
      "Epoch: 024, LR: 0.000100, Loss: 0.1432336,          Train LogMAE: -2.1315325, Val LogMAE: -1.9097480\n"
     ]
    },
    {
     "data": {
      "application/vnd.jupyter.widget-view+json": {
       "model_id": "d6be0611a48f4a058435b6bfe37094fd",
       "version_major": 2,
       "version_minor": 0
      },
      "text/plain": [
       "HBox(children=(IntProgress(value=0, max=2501), HTML(value='')))"
      ]
     },
     "metadata": {},
     "output_type": "display_data"
    },
    {
     "name": "stdout",
     "output_type": "stream",
     "text": [
      "\n",
      "Epoch: 025, LR: 0.000100, Loss: 0.1392821,          Train LogMAE: -2.1632042, Val LogMAE: -2.0079301\n"
     ]
    },
    {
     "data": {
      "application/vnd.jupyter.widget-view+json": {
       "model_id": "a13ca62a58f642768393fd24f221cda0",
       "version_major": 2,
       "version_minor": 0
      },
      "text/plain": [
       "HBox(children=(IntProgress(value=0, max=2501), HTML(value='')))"
      ]
     },
     "metadata": {},
     "output_type": "display_data"
    },
    {
     "name": "stdout",
     "output_type": "stream",
     "text": [
      "\n",
      "Epoch: 026, LR: 0.000100, Loss: 0.1353705,          Train LogMAE: -2.1907566, Val LogMAE: -1.9867036\n"
     ]
    },
    {
     "data": {
      "application/vnd.jupyter.widget-view+json": {
       "model_id": "9d99c1875cbf44c18e47626c13f22a46",
       "version_major": 2,
       "version_minor": 0
      },
      "text/plain": [
       "HBox(children=(IntProgress(value=0, max=2501), HTML(value='')))"
      ]
     },
     "metadata": {},
     "output_type": "display_data"
    },
    {
     "name": "stdout",
     "output_type": "stream",
     "text": [
      "\n",
      "Epoch: 027, LR: 0.000100, Loss: 0.1323499,          Train LogMAE: -2.2137023, Val LogMAE: -1.9321187\n"
     ]
    },
    {
     "data": {
      "application/vnd.jupyter.widget-view+json": {
       "model_id": "47a188f390a144868b56fb2dc06d6b12",
       "version_major": 2,
       "version_minor": 0
      },
      "text/plain": [
       "HBox(children=(IntProgress(value=0, max=2501), HTML(value='')))"
      ]
     },
     "metadata": {},
     "output_type": "display_data"
    },
    {
     "name": "stdout",
     "output_type": "stream",
     "text": [
      "\n",
      "Epoch: 028, LR: 0.000100, Loss: 0.1287467,          Train LogMAE: -2.2404443, Val LogMAE: -2.0395623\n"
     ]
    },
    {
     "data": {
      "application/vnd.jupyter.widget-view+json": {
       "model_id": "041e7de1caf94b2196df5335a7c28f48",
       "version_major": 2,
       "version_minor": 0
      },
      "text/plain": [
       "HBox(children=(IntProgress(value=0, max=2501), HTML(value='')))"
      ]
     },
     "metadata": {},
     "output_type": "display_data"
    },
    {
     "name": "stdout",
     "output_type": "stream",
     "text": [
      "\n",
      "Epoch: 029, LR: 0.000100, Loss: 0.1261419,          Train LogMAE: -2.2653775, Val LogMAE: -1.9788178\n"
     ]
    },
    {
     "data": {
      "application/vnd.jupyter.widget-view+json": {
       "model_id": "1acf8b91fbe24eeea8589e5621503435",
       "version_major": 2,
       "version_minor": 0
      },
      "text/plain": [
       "HBox(children=(IntProgress(value=0, max=2501), HTML(value='')))"
      ]
     },
     "metadata": {},
     "output_type": "display_data"
    },
    {
     "name": "stdout",
     "output_type": "stream",
     "text": [
      "\n",
      "Epoch: 030, LR: 0.000100, Loss: 0.1231468,          Train LogMAE: -2.2873921, Val LogMAE: -2.0632467\n"
     ]
    },
    {
     "data": {
      "application/vnd.jupyter.widget-view+json": {
       "model_id": "f1929832b18b49c8a98050e9ecca1350",
       "version_major": 2,
       "version_minor": 0
      },
      "text/plain": [
       "HBox(children=(IntProgress(value=0, max=2501), HTML(value='')))"
      ]
     },
     "metadata": {},
     "output_type": "display_data"
    },
    {
     "name": "stdout",
     "output_type": "stream",
     "text": [
      "\n",
      "Epoch: 031, LR: 0.000100, Loss: 0.1203224,          Train LogMAE: -2.3118772, Val LogMAE: -2.0864137\n"
     ]
    },
    {
     "data": {
      "application/vnd.jupyter.widget-view+json": {
       "model_id": "9dc40a25b4ff495e8c214ebf13b2f1b0",
       "version_major": 2,
       "version_minor": 0
      },
      "text/plain": [
       "HBox(children=(IntProgress(value=0, max=2501), HTML(value='')))"
      ]
     },
     "metadata": {},
     "output_type": "display_data"
    },
    {
     "name": "stdout",
     "output_type": "stream",
     "text": [
      "\n",
      "Epoch: 032, LR: 0.000100, Loss: 0.1179538,          Train LogMAE: -2.3339268, Val LogMAE: -2.1001422\n"
     ]
    },
    {
     "data": {
      "application/vnd.jupyter.widget-view+json": {
       "model_id": "ef13c8828b6240be875384a0d0ca80f4",
       "version_major": 2,
       "version_minor": 0
      },
      "text/plain": [
       "HBox(children=(IntProgress(value=0, max=2501), HTML(value='')))"
      ]
     },
     "metadata": {},
     "output_type": "display_data"
    },
    {
     "name": "stdout",
     "output_type": "stream",
     "text": [
      "\n",
      "Epoch: 033, LR: 0.000100, Loss: 0.1156523,          Train LogMAE: -2.3537453, Val LogMAE: -2.1113081\n"
     ]
    },
    {
     "data": {
      "application/vnd.jupyter.widget-view+json": {
       "model_id": "30ae449e3c364601b6921a9cbe5d5af2",
       "version_major": 2,
       "version_minor": 0
      },
      "text/plain": [
       "HBox(children=(IntProgress(value=0, max=2501), HTML(value='')))"
      ]
     },
     "metadata": {},
     "output_type": "display_data"
    },
    {
     "name": "stdout",
     "output_type": "stream",
     "text": [
      "\n",
      "Epoch: 034, LR: 0.000100, Loss: 0.1132490,          Train LogMAE: -2.3738982, Val LogMAE: -2.0994170\n"
     ]
    },
    {
     "data": {
      "application/vnd.jupyter.widget-view+json": {
       "model_id": "0401032a1ef7400b84d68c97e0635f07",
       "version_major": 2,
       "version_minor": 0
      },
      "text/plain": [
       "HBox(children=(IntProgress(value=0, max=2501), HTML(value='')))"
      ]
     },
     "metadata": {},
     "output_type": "display_data"
    },
    {
     "name": "stdout",
     "output_type": "stream",
     "text": [
      "\n",
      "Epoch: 035, LR: 0.000100, Loss: 0.1108633,          Train LogMAE: -2.3960181, Val LogMAE: -2.1397242\n"
     ]
    },
    {
     "data": {
      "application/vnd.jupyter.widget-view+json": {
       "model_id": "68150c93e97442b6a9b8da598c79c3d4",
       "version_major": 2,
       "version_minor": 0
      },
      "text/plain": [
       "HBox(children=(IntProgress(value=0, max=2501), HTML(value='')))"
      ]
     },
     "metadata": {},
     "output_type": "display_data"
    },
    {
     "name": "stdout",
     "output_type": "stream",
     "text": [
      "\n",
      "Epoch: 036, LR: 0.000100, Loss: 0.1089906,          Train LogMAE: -2.4173691, Val LogMAE: -2.1373894\n"
     ]
    },
    {
     "data": {
      "application/vnd.jupyter.widget-view+json": {
       "model_id": "3dd669139d40450f89693d414c3dc0da",
       "version_major": 2,
       "version_minor": 0
      },
      "text/plain": [
       "HBox(children=(IntProgress(value=0, max=2501), HTML(value='')))"
      ]
     },
     "metadata": {},
     "output_type": "display_data"
    },
    {
     "name": "stdout",
     "output_type": "stream",
     "text": [
      "\n",
      "Epoch: 037, LR: 0.000100, Loss: 0.1070795,          Train LogMAE: -2.4336989, Val LogMAE: -2.1382804\n"
     ]
    },
    {
     "data": {
      "application/vnd.jupyter.widget-view+json": {
       "model_id": "32a6783c0cce4afa8beba31be8f20366",
       "version_major": 2,
       "version_minor": 0
      },
      "text/plain": [
       "HBox(children=(IntProgress(value=0, max=2501), HTML(value='')))"
      ]
     },
     "metadata": {},
     "output_type": "display_data"
    },
    {
     "name": "stdout",
     "output_type": "stream",
     "text": [
      "\n",
      "Epoch: 038, LR: 0.000100, Loss: 0.1050562,          Train LogMAE: -2.4537480, Val LogMAE: -2.1771618\n"
     ]
    },
    {
     "data": {
      "application/vnd.jupyter.widget-view+json": {
       "model_id": "393eb4f9a7f94efcb7532869def4b049",
       "version_major": 2,
       "version_minor": 0
      },
      "text/plain": [
       "HBox(children=(IntProgress(value=0, max=2501), HTML(value='')))"
      ]
     },
     "metadata": {},
     "output_type": "display_data"
    },
    {
     "name": "stdout",
     "output_type": "stream",
     "text": [
      "\n",
      "Epoch: 039, LR: 0.000100, Loss: 0.1031882,          Train LogMAE: -2.4709058, Val LogMAE: -2.1596505\n"
     ]
    },
    {
     "data": {
      "application/vnd.jupyter.widget-view+json": {
       "model_id": "cc6d007529b34e649b34bcbf3312d84a",
       "version_major": 2,
       "version_minor": 0
      },
      "text/plain": [
       "HBox(children=(IntProgress(value=0, max=2501), HTML(value='')))"
      ]
     },
     "metadata": {},
     "output_type": "display_data"
    },
    {
     "name": "stdout",
     "output_type": "stream",
     "text": [
      "\n",
      "Epoch: 040, LR: 0.000100, Loss: 0.1017899,          Train LogMAE: -2.4865844, Val LogMAE: -2.1497889\n"
     ]
    },
    {
     "data": {
      "application/vnd.jupyter.widget-view+json": {
       "model_id": "71eff966cddb4c4c937628754f3871b5",
       "version_major": 2,
       "version_minor": 0
      },
      "text/plain": [
       "HBox(children=(IntProgress(value=0, max=2501), HTML(value='')))"
      ]
     },
     "metadata": {},
     "output_type": "display_data"
    },
    {
     "name": "stdout",
     "output_type": "stream",
     "text": [
      "\n",
      "Epoch: 041, LR: 0.000100, Loss: 0.0998834,          Train LogMAE: -2.5051056, Val LogMAE: -2.1667906\n"
     ]
    },
    {
     "data": {
      "application/vnd.jupyter.widget-view+json": {
       "model_id": "376c22188ac4472fa92f4acb61bcff79",
       "version_major": 2,
       "version_minor": 0
      },
      "text/plain": [
       "HBox(children=(IntProgress(value=0, max=2501), HTML(value='')))"
      ]
     },
     "metadata": {},
     "output_type": "display_data"
    },
    {
     "name": "stdout",
     "output_type": "stream",
     "text": [
      "\n",
      "Epoch: 042, LR: 0.000100, Loss: 0.0983320,          Train LogMAE: -2.5244133, Val LogMAE: -2.1512037\n"
     ]
    },
    {
     "data": {
      "application/vnd.jupyter.widget-view+json": {
       "model_id": "1285ecfdaadc49bd815cdb7bf39375cb",
       "version_major": 2,
       "version_minor": 0
      },
      "text/plain": [
       "HBox(children=(IntProgress(value=0, max=2501), HTML(value='')))"
      ]
     },
     "metadata": {},
     "output_type": "display_data"
    },
    {
     "name": "stdout",
     "output_type": "stream",
     "text": [
      "\n",
      "Epoch: 043, LR: 0.000100, Loss: 0.0967665,          Train LogMAE: -2.5393165, Val LogMAE: -2.1846755\n"
     ]
    },
    {
     "data": {
      "application/vnd.jupyter.widget-view+json": {
       "model_id": "04974043c5ed42eda0960bac6be61e2f",
       "version_major": 2,
       "version_minor": 0
      },
      "text/plain": [
       "HBox(children=(IntProgress(value=0, max=2501), HTML(value='')))"
      ]
     },
     "metadata": {},
     "output_type": "display_data"
    },
    {
     "name": "stdout",
     "output_type": "stream",
     "text": [
      "\n",
      "Epoch: 044, LR: 0.000100, Loss: 0.0952208,          Train LogMAE: -2.5569538, Val LogMAE: -2.1934559\n"
     ]
    },
    {
     "data": {
      "application/vnd.jupyter.widget-view+json": {
       "model_id": "06644d8b8c064065bd76dcc54d03bbe7",
       "version_major": 2,
       "version_minor": 0
      },
      "text/plain": [
       "HBox(children=(IntProgress(value=0, max=2501), HTML(value='')))"
      ]
     },
     "metadata": {},
     "output_type": "display_data"
    },
    {
     "name": "stdout",
     "output_type": "stream",
     "text": [
      "\n",
      "Epoch: 045, LR: 0.000100, Loss: 0.0939571,          Train LogMAE: -2.5720371, Val LogMAE: -2.2302932\n"
     ]
    },
    {
     "data": {
      "application/vnd.jupyter.widget-view+json": {
       "model_id": "9f39cdf09dab428d9111c28a302791e4",
       "version_major": 2,
       "version_minor": 0
      },
      "text/plain": [
       "HBox(children=(IntProgress(value=0, max=2501), HTML(value='')))"
      ]
     },
     "metadata": {},
     "output_type": "display_data"
    },
    {
     "name": "stdout",
     "output_type": "stream",
     "text": [
      "\n",
      "Epoch: 046, LR: 0.000100, Loss: 0.0924166,          Train LogMAE: -2.5888565, Val LogMAE: -2.2510141\n"
     ]
    },
    {
     "data": {
      "application/vnd.jupyter.widget-view+json": {
       "model_id": "b4d79b7df3ba44299b0a4b53b9b5af96",
       "version_major": 2,
       "version_minor": 0
      },
      "text/plain": [
       "HBox(children=(IntProgress(value=0, max=2501), HTML(value='')))"
      ]
     },
     "metadata": {},
     "output_type": "display_data"
    },
    {
     "name": "stdout",
     "output_type": "stream",
     "text": [
      "\n",
      "Epoch: 047, LR: 0.000100, Loss: 0.0913434,          Train LogMAE: -2.5997072, Val LogMAE: -2.2241631\n"
     ]
    },
    {
     "data": {
      "application/vnd.jupyter.widget-view+json": {
       "model_id": "7d577a886fb148a9bf1bf872d436509f",
       "version_major": 2,
       "version_minor": 0
      },
      "text/plain": [
       "HBox(children=(IntProgress(value=0, max=2501), HTML(value='')))"
      ]
     },
     "metadata": {},
     "output_type": "display_data"
    },
    {
     "name": "stdout",
     "output_type": "stream",
     "text": [
      "\n",
      "Epoch: 048, LR: 0.000100, Loss: 0.0899852,          Train LogMAE: -2.6159273, Val LogMAE: -2.2676876\n"
     ]
    },
    {
     "data": {
      "application/vnd.jupyter.widget-view+json": {
       "model_id": "185a6907c3c84ac08025c5355cb4b13d",
       "version_major": 2,
       "version_minor": 0
      },
      "text/plain": [
       "HBox(children=(IntProgress(value=0, max=2501), HTML(value='')))"
      ]
     },
     "metadata": {},
     "output_type": "display_data"
    },
    {
     "name": "stdout",
     "output_type": "stream",
     "text": [
      "\n",
      "Epoch: 049, LR: 0.000100, Loss: 0.0885067,          Train LogMAE: -2.6317925, Val LogMAE: -2.2527345\n"
     ]
    },
    {
     "data": {
      "application/vnd.jupyter.widget-view+json": {
       "model_id": "5208c42b97594d7897e89f839c28765b",
       "version_major": 2,
       "version_minor": 0
      },
      "text/plain": [
       "HBox(children=(IntProgress(value=0, max=2501), HTML(value='')))"
      ]
     },
     "metadata": {},
     "output_type": "display_data"
    },
    {
     "name": "stdout",
     "output_type": "stream",
     "text": [
      "\n",
      "Epoch: 050, LR: 0.000100, Loss: 0.0875231,          Train LogMAE: -2.6444398, Val LogMAE: -2.2743505\n"
     ]
    },
    {
     "data": {
      "application/vnd.jupyter.widget-view+json": {
       "model_id": "0ead14429d254a6097be9689d0568f16",
       "version_major": 2,
       "version_minor": 0
      },
      "text/plain": [
       "HBox(children=(IntProgress(value=0, max=2501), HTML(value='')))"
      ]
     },
     "metadata": {},
     "output_type": "display_data"
    },
    {
     "name": "stdout",
     "output_type": "stream",
     "text": [
      "\n",
      "Epoch: 051, LR: 0.000100, Loss: 0.0861785,          Train LogMAE: -2.6597673, Val LogMAE: -2.2903322\n"
     ]
    },
    {
     "data": {
      "application/vnd.jupyter.widget-view+json": {
       "model_id": "e7f35e48e38d42c2b0b2e8fc4db693fd",
       "version_major": 2,
       "version_minor": 0
      },
      "text/plain": [
       "HBox(children=(IntProgress(value=0, max=2501), HTML(value='')))"
      ]
     },
     "metadata": {},
     "output_type": "display_data"
    },
    {
     "name": "stdout",
     "output_type": "stream",
     "text": [
      "\n",
      "Epoch: 052, LR: 0.000100, Loss: 0.0851059,          Train LogMAE: -2.6756986, Val LogMAE: -2.2871558\n"
     ]
    },
    {
     "data": {
      "application/vnd.jupyter.widget-view+json": {
       "model_id": "8b4edb776fe9414aab2ee9ef6797cc24",
       "version_major": 2,
       "version_minor": 0
      },
      "text/plain": [
       "HBox(children=(IntProgress(value=0, max=2501), HTML(value='')))"
      ]
     },
     "metadata": {},
     "output_type": "display_data"
    },
    {
     "name": "stdout",
     "output_type": "stream",
     "text": [
      "\n",
      "Epoch: 053, LR: 0.000100, Loss: 0.0840291,          Train LogMAE: -2.6878089, Val LogMAE: -2.2835560\n"
     ]
    },
    {
     "data": {
      "application/vnd.jupyter.widget-view+json": {
       "model_id": "f14e706c4c38435ab08d1f67fd806c6d",
       "version_major": 2,
       "version_minor": 0
      },
      "text/plain": [
       "HBox(children=(IntProgress(value=0, max=2501), HTML(value='')))"
      ]
     },
     "metadata": {},
     "output_type": "display_data"
    },
    {
     "name": "stdout",
     "output_type": "stream",
     "text": [
      "\n",
      "Epoch: 054, LR: 0.000100, Loss: 0.0831178,          Train LogMAE: -2.6969873, Val LogMAE: -2.2204554\n"
     ]
    },
    {
     "data": {
      "application/vnd.jupyter.widget-view+json": {
       "model_id": "1cc71f0ab9c847fb9f27db634ae28389",
       "version_major": 2,
       "version_minor": 0
      },
      "text/plain": [
       "HBox(children=(IntProgress(value=0, max=2501), HTML(value='')))"
      ]
     },
     "metadata": {},
     "output_type": "display_data"
    },
    {
     "name": "stdout",
     "output_type": "stream",
     "text": [
      "\n",
      "Epoch: 055, LR: 0.000100, Loss: 0.0825296,          Train LogMAE: -2.7090053, Val LogMAE: -2.2909268\n"
     ]
    },
    {
     "data": {
      "application/vnd.jupyter.widget-view+json": {
       "model_id": "e7936f7bd8d64fbebbad413d1729a367",
       "version_major": 2,
       "version_minor": 0
      },
      "text/plain": [
       "HBox(children=(IntProgress(value=0, max=2501), HTML(value='')))"
      ]
     },
     "metadata": {},
     "output_type": "display_data"
    },
    {
     "name": "stdout",
     "output_type": "stream",
     "text": [
      "\n",
      "Epoch: 056, LR: 0.000100, Loss: 0.0811594,          Train LogMAE: -2.7235030, Val LogMAE: -2.2875274\n"
     ]
    },
    {
     "data": {
      "application/vnd.jupyter.widget-view+json": {
       "model_id": "e39f9ec8d70a4a29827d04ff7bffbd24",
       "version_major": 2,
       "version_minor": 0
      },
      "text/plain": [
       "HBox(children=(IntProgress(value=0, max=2501), HTML(value='')))"
      ]
     },
     "metadata": {},
     "output_type": "display_data"
    },
    {
     "name": "stdout",
     "output_type": "stream",
     "text": [
      "\n",
      "Epoch: 057, LR: 0.000100, Loss: 0.0799975,          Train LogMAE: -2.7375959, Val LogMAE: -2.3016799\n"
     ]
    },
    {
     "data": {
      "application/vnd.jupyter.widget-view+json": {
       "model_id": "53201550be674b23a2a625b46186cd0d",
       "version_major": 2,
       "version_minor": 0
      },
      "text/plain": [
       "HBox(children=(IntProgress(value=0, max=2501), HTML(value='')))"
      ]
     },
     "metadata": {},
     "output_type": "display_data"
    },
    {
     "name": "stdout",
     "output_type": "stream",
     "text": [
      "\n",
      "Epoch: 058, LR: 0.000100, Loss: 0.0792555,          Train LogMAE: -2.7463877, Val LogMAE: -2.3258586\n"
     ]
    },
    {
     "data": {
      "application/vnd.jupyter.widget-view+json": {
       "model_id": "b9f98245caa1418fa96069329e897579",
       "version_major": 2,
       "version_minor": 0
      },
      "text/plain": [
       "HBox(children=(IntProgress(value=0, max=2501), HTML(value='')))"
      ]
     },
     "metadata": {},
     "output_type": "display_data"
    },
    {
     "name": "stdout",
     "output_type": "stream",
     "text": [
      "\n",
      "Epoch: 059, LR: 0.000100, Loss: 0.0782799,          Train LogMAE: -2.7640814, Val LogMAE: -2.3274752\n"
     ]
    },
    {
     "data": {
      "application/vnd.jupyter.widget-view+json": {
       "model_id": "98cd6e468ad14c309d70344ac476a100",
       "version_major": 2,
       "version_minor": 0
      },
      "text/plain": [
       "HBox(children=(IntProgress(value=0, max=2501), HTML(value='')))"
      ]
     },
     "metadata": {},
     "output_type": "display_data"
    },
    {
     "name": "stdout",
     "output_type": "stream",
     "text": [
      "\n",
      "Epoch: 060, LR: 0.000100, Loss: 0.0774060,          Train LogMAE: -2.7713895, Val LogMAE: -2.3515956\n"
     ]
    },
    {
     "data": {
      "application/vnd.jupyter.widget-view+json": {
       "model_id": "ee8920207e03486896f623e2cb667992",
       "version_major": 2,
       "version_minor": 0
      },
      "text/plain": [
       "HBox(children=(IntProgress(value=0, max=2501), HTML(value='')))"
      ]
     },
     "metadata": {},
     "output_type": "display_data"
    },
    {
     "name": "stdout",
     "output_type": "stream",
     "text": [
      "\n",
      "Epoch: 061, LR: 0.000100, Loss: 0.0764204,          Train LogMAE: -2.7861903, Val LogMAE: -2.3310510\n"
     ]
    },
    {
     "data": {
      "application/vnd.jupyter.widget-view+json": {
       "model_id": "a3a19b4fb82144fc862a05169ff5aced",
       "version_major": 2,
       "version_minor": 0
      },
      "text/plain": [
       "HBox(children=(IntProgress(value=0, max=2501), HTML(value='')))"
      ]
     },
     "metadata": {},
     "output_type": "display_data"
    },
    {
     "name": "stdout",
     "output_type": "stream",
     "text": [
      "\n",
      "Epoch: 062, LR: 0.000100, Loss: 0.0757485,          Train LogMAE: -2.7969345, Val LogMAE: -2.3012933\n"
     ]
    },
    {
     "data": {
      "application/vnd.jupyter.widget-view+json": {
       "model_id": "58a494462f184915a88722c386bba92c",
       "version_major": 2,
       "version_minor": 0
      },
      "text/plain": [
       "HBox(children=(IntProgress(value=0, max=2501), HTML(value='')))"
      ]
     },
     "metadata": {},
     "output_type": "display_data"
    },
    {
     "name": "stdout",
     "output_type": "stream",
     "text": [
      "\n",
      "Epoch: 063, LR: 0.000100, Loss: 0.0749888,          Train LogMAE: -2.8097506, Val LogMAE: -2.3309731\n"
     ]
    },
    {
     "data": {
      "application/vnd.jupyter.widget-view+json": {
       "model_id": "318125f3541c4890a18bfb215b3dc154",
       "version_major": 2,
       "version_minor": 0
      },
      "text/plain": [
       "HBox(children=(IntProgress(value=0, max=2501), HTML(value='')))"
      ]
     },
     "metadata": {},
     "output_type": "display_data"
    },
    {
     "name": "stdout",
     "output_type": "stream",
     "text": [
      "\n",
      "Epoch: 064, LR: 0.000100, Loss: 0.0742326,          Train LogMAE: -2.8170393, Val LogMAE: -2.3247403\n"
     ]
    },
    {
     "data": {
      "application/vnd.jupyter.widget-view+json": {
       "model_id": "8c41349bf3da4c3ba9b574d24661eda3",
       "version_major": 2,
       "version_minor": 0
      },
      "text/plain": [
       "HBox(children=(IntProgress(value=0, max=2501), HTML(value='')))"
      ]
     },
     "metadata": {},
     "output_type": "display_data"
    },
    {
     "name": "stdout",
     "output_type": "stream",
     "text": [
      "\n",
      "Epoch: 065, LR: 0.000100, Loss: 0.0733537,          Train LogMAE: -2.8290316, Val LogMAE: -2.3338998\n"
     ]
    },
    {
     "data": {
      "application/vnd.jupyter.widget-view+json": {
       "model_id": "e17950eba95c4ed0993b6eb747079641",
       "version_major": 2,
       "version_minor": 0
      },
      "text/plain": [
       "HBox(children=(IntProgress(value=0, max=2501), HTML(value='')))"
      ]
     },
     "metadata": {},
     "output_type": "display_data"
    },
    {
     "name": "stdout",
     "output_type": "stream",
     "text": [
      "\n",
      "Epoch: 066, LR: 0.000100, Loss: 0.0727475,          Train LogMAE: -2.8392880, Val LogMAE: -2.3784732\n"
     ]
    },
    {
     "data": {
      "application/vnd.jupyter.widget-view+json": {
       "model_id": "a656da1f77804d9eb36fb6e9e33d1cb0",
       "version_major": 2,
       "version_minor": 0
      },
      "text/plain": [
       "HBox(children=(IntProgress(value=0, max=2501), HTML(value='')))"
      ]
     },
     "metadata": {},
     "output_type": "display_data"
    },
    {
     "name": "stdout",
     "output_type": "stream",
     "text": [
      "\n",
      "Epoch: 067, LR: 0.000100, Loss: 0.0718518,          Train LogMAE: -2.8527484, Val LogMAE: -2.3489957\n"
     ]
    },
    {
     "data": {
      "application/vnd.jupyter.widget-view+json": {
       "model_id": "08d030c9260244f08beb7d4059ce6a2e",
       "version_major": 2,
       "version_minor": 0
      },
      "text/plain": [
       "HBox(children=(IntProgress(value=0, max=2501), HTML(value='')))"
      ]
     },
     "metadata": {},
     "output_type": "display_data"
    },
    {
     "name": "stdout",
     "output_type": "stream",
     "text": [
      "\n",
      "Epoch: 068, LR: 0.000100, Loss: 0.0711912,          Train LogMAE: -2.8607021, Val LogMAE: -2.3642396\n"
     ]
    },
    {
     "data": {
      "application/vnd.jupyter.widget-view+json": {
       "model_id": "db43456af2dc48469473c0d322b0107a",
       "version_major": 2,
       "version_minor": 0
      },
      "text/plain": [
       "HBox(children=(IntProgress(value=0, max=2501), HTML(value='')))"
      ]
     },
     "metadata": {},
     "output_type": "display_data"
    },
    {
     "name": "stdout",
     "output_type": "stream",
     "text": [
      "\n",
      "Epoch: 069, LR: 0.000100, Loss: 0.0706307,          Train LogMAE: -2.8722728, Val LogMAE: -2.3712369\n"
     ]
    },
    {
     "data": {
      "application/vnd.jupyter.widget-view+json": {
       "model_id": "be5acd6d5a714beca387ea732693c3c9",
       "version_major": 2,
       "version_minor": 0
      },
      "text/plain": [
       "HBox(children=(IntProgress(value=0, max=2501), HTML(value='')))"
      ]
     },
     "metadata": {},
     "output_type": "display_data"
    },
    {
     "name": "stdout",
     "output_type": "stream",
     "text": [
      "\n",
      "Epoch: 070, LR: 0.000100, Loss: 0.0697872,          Train LogMAE: -2.8825578, Val LogMAE: -2.3611532\n"
     ]
    },
    {
     "data": {
      "application/vnd.jupyter.widget-view+json": {
       "model_id": "e2e34fc0410a4483ab1a2b7169e6a4e6",
       "version_major": 2,
       "version_minor": 0
      },
      "text/plain": [
       "HBox(children=(IntProgress(value=0, max=2501), HTML(value='')))"
      ]
     },
     "metadata": {},
     "output_type": "display_data"
    },
    {
     "name": "stdout",
     "output_type": "stream",
     "text": [
      "\n",
      "Epoch: 071, LR: 0.000100, Loss: 0.0692617,          Train LogMAE: -2.8924028, Val LogMAE: -2.3853811\n"
     ]
    },
    {
     "data": {
      "application/vnd.jupyter.widget-view+json": {
       "model_id": "e89fd75639c14307923533cd57f3524d",
       "version_major": 2,
       "version_minor": 0
      },
      "text/plain": [
       "HBox(children=(IntProgress(value=0, max=2501), HTML(value='')))"
      ]
     },
     "metadata": {},
     "output_type": "display_data"
    },
    {
     "name": "stdout",
     "output_type": "stream",
     "text": [
      "\n",
      "Epoch: 072, LR: 0.000100, Loss: 0.0684062,          Train LogMAE: -2.9064273, Val LogMAE: -2.3807053\n"
     ]
    },
    {
     "data": {
      "application/vnd.jupyter.widget-view+json": {
       "model_id": "4721ae3720ba4f238618052b50ac4a27",
       "version_major": 2,
       "version_minor": 0
      },
      "text/plain": [
       "HBox(children=(IntProgress(value=0, max=2501), HTML(value='')))"
      ]
     },
     "metadata": {},
     "output_type": "display_data"
    },
    {
     "name": "stdout",
     "output_type": "stream",
     "text": [
      "\n",
      "Epoch: 073, LR: 0.000100, Loss: 0.0679373,          Train LogMAE: -2.9121835, Val LogMAE: -2.3552043\n"
     ]
    },
    {
     "data": {
      "application/vnd.jupyter.widget-view+json": {
       "model_id": "5a94906e4c704f52bf06d0e7e42bb65c",
       "version_major": 2,
       "version_minor": 0
      },
      "text/plain": [
       "HBox(children=(IntProgress(value=0, max=2501), HTML(value='')))"
      ]
     },
     "metadata": {},
     "output_type": "display_data"
    },
    {
     "name": "stdout",
     "output_type": "stream",
     "text": [
      "\n",
      "Epoch: 074, LR: 0.000100, Loss: 0.0674116,          Train LogMAE: -2.9196074, Val LogMAE: -2.3950762\n"
     ]
    },
    {
     "data": {
      "application/vnd.jupyter.widget-view+json": {
       "model_id": "e39d34e48a644a988f6e74b11aa6abaf",
       "version_major": 2,
       "version_minor": 0
      },
      "text/plain": [
       "HBox(children=(IntProgress(value=0, max=2501), HTML(value='')))"
      ]
     },
     "metadata": {},
     "output_type": "display_data"
    },
    {
     "name": "stdout",
     "output_type": "stream",
     "text": [
      "\n",
      "Epoch: 075, LR: 0.000100, Loss: 0.0667989,          Train LogMAE: -2.9314310, Val LogMAE: -2.3909916\n"
     ]
    },
    {
     "data": {
      "application/vnd.jupyter.widget-view+json": {
       "model_id": "d47294bb25ae4b0698a2d1e0ae3a8809",
       "version_major": 2,
       "version_minor": 0
      },
      "text/plain": [
       "HBox(children=(IntProgress(value=0, max=2501), HTML(value='')))"
      ]
     },
     "metadata": {},
     "output_type": "display_data"
    },
    {
     "name": "stdout",
     "output_type": "stream",
     "text": [
      "\n",
      "Epoch: 076, LR: 0.000100, Loss: 0.0661321,          Train LogMAE: -2.9413580, Val LogMAE: -2.3906081\n"
     ]
    },
    {
     "data": {
      "application/vnd.jupyter.widget-view+json": {
       "model_id": "d633de8bb3574b48a7ff391d7b511ed5",
       "version_major": 2,
       "version_minor": 0
      },
      "text/plain": [
       "HBox(children=(IntProgress(value=0, max=2501), HTML(value='')))"
      ]
     },
     "metadata": {},
     "output_type": "display_data"
    },
    {
     "name": "stdout",
     "output_type": "stream",
     "text": [
      "\n",
      "Epoch: 077, LR: 0.000100, Loss: 0.0655262,          Train LogMAE: -2.9503082, Val LogMAE: -2.3727006\n"
     ]
    },
    {
     "data": {
      "application/vnd.jupyter.widget-view+json": {
       "model_id": "4f25532883f84e8998e2d6086b2f3ba7",
       "version_major": 2,
       "version_minor": 0
      },
      "text/plain": [
       "HBox(children=(IntProgress(value=0, max=2501), HTML(value='')))"
      ]
     },
     "metadata": {},
     "output_type": "display_data"
    },
    {
     "name": "stdout",
     "output_type": "stream",
     "text": [
      "\n",
      "Epoch: 078, LR: 0.000100, Loss: 0.0650874,          Train LogMAE: -2.9576051, Val LogMAE: -2.3654092\n"
     ]
    },
    {
     "data": {
      "application/vnd.jupyter.widget-view+json": {
       "model_id": "495bda40f548449794e2badb7686d72b",
       "version_major": 2,
       "version_minor": 0
      },
      "text/plain": [
       "HBox(children=(IntProgress(value=0, max=2501), HTML(value='')))"
      ]
     },
     "metadata": {},
     "output_type": "display_data"
    },
    {
     "name": "stdout",
     "output_type": "stream",
     "text": [
      "\n",
      "Epoch: 079, LR: 0.000100, Loss: 0.0644871,          Train LogMAE: -2.9667808, Val LogMAE: -2.3727336\n"
     ]
    },
    {
     "data": {
      "application/vnd.jupyter.widget-view+json": {
       "model_id": "205e501d99b24e4cbebdd90c58b0c638",
       "version_major": 2,
       "version_minor": 0
      },
      "text/plain": [
       "HBox(children=(IntProgress(value=0, max=2501), HTML(value='')))"
      ]
     },
     "metadata": {},
     "output_type": "display_data"
    },
    {
     "name": "stdout",
     "output_type": "stream",
     "text": [
      "\n",
      "Epoch: 080, LR: 0.000100, Loss: 0.0640414,          Train LogMAE: -2.9739906, Val LogMAE: -2.4069457\n"
     ]
    },
    {
     "data": {
      "application/vnd.jupyter.widget-view+json": {
       "model_id": "f84623dcd19448c0af6b655302bca05e",
       "version_major": 2,
       "version_minor": 0
      },
      "text/plain": [
       "HBox(children=(IntProgress(value=0, max=2501), HTML(value='')))"
      ]
     },
     "metadata": {},
     "output_type": "display_data"
    },
    {
     "name": "stdout",
     "output_type": "stream",
     "text": [
      "\n",
      "Epoch: 081, LR: 0.000100, Loss: 0.0635479,          Train LogMAE: -2.9820401, Val LogMAE: -2.4012260\n"
     ]
    },
    {
     "data": {
      "application/vnd.jupyter.widget-view+json": {
       "model_id": "160bc558b2d145d084d10dc25b171b3e",
       "version_major": 2,
       "version_minor": 0
      },
      "text/plain": [
       "HBox(children=(IntProgress(value=0, max=2501), HTML(value='')))"
      ]
     },
     "metadata": {},
     "output_type": "display_data"
    },
    {
     "name": "stdout",
     "output_type": "stream",
     "text": [
      "\n",
      "Epoch: 082, LR: 0.000100, Loss: 0.0629695,          Train LogMAE: -2.9950545, Val LogMAE: -2.4347384\n"
     ]
    },
    {
     "data": {
      "application/vnd.jupyter.widget-view+json": {
       "model_id": "37a71fe22a834c4cbeff24600bf8b41f",
       "version_major": 2,
       "version_minor": 0
      },
      "text/plain": [
       "HBox(children=(IntProgress(value=0, max=2501), HTML(value='')))"
      ]
     },
     "metadata": {},
     "output_type": "display_data"
    },
    {
     "name": "stdout",
     "output_type": "stream",
     "text": [
      "\n",
      "Epoch: 083, LR: 0.000100, Loss: 0.0625287,          Train LogMAE: -2.9979529, Val LogMAE: -2.4013929\n"
     ]
    },
    {
     "data": {
      "application/vnd.jupyter.widget-view+json": {
       "model_id": "0fe34dc752d3460d9c9fb62f7f17e230",
       "version_major": 2,
       "version_minor": 0
      },
      "text/plain": [
       "HBox(children=(IntProgress(value=0, max=2501), HTML(value='')))"
      ]
     },
     "metadata": {},
     "output_type": "display_data"
    },
    {
     "name": "stdout",
     "output_type": "stream",
     "text": [
      "\n",
      "Epoch: 084, LR: 0.000100, Loss: 0.0619903,          Train LogMAE: -3.0108624, Val LogMAE: -2.4065595\n"
     ]
    },
    {
     "data": {
      "application/vnd.jupyter.widget-view+json": {
       "model_id": "8bc43f1f1af34ac5985b03afca94a760",
       "version_major": 2,
       "version_minor": 0
      },
      "text/plain": [
       "HBox(children=(IntProgress(value=0, max=2501), HTML(value='')))"
      ]
     },
     "metadata": {},
     "output_type": "display_data"
    },
    {
     "name": "stdout",
     "output_type": "stream",
     "text": [
      "\n",
      "Epoch: 085, LR: 0.000100, Loss: 0.0616356,          Train LogMAE: -3.0174936, Val LogMAE: -2.3935418\n"
     ]
    },
    {
     "data": {
      "application/vnd.jupyter.widget-view+json": {
       "model_id": "9cae2cf1a59544c3a73bcc67cecd2089",
       "version_major": 2,
       "version_minor": 0
      },
      "text/plain": [
       "HBox(children=(IntProgress(value=0, max=2501), HTML(value='')))"
      ]
     },
     "metadata": {},
     "output_type": "display_data"
    },
    {
     "name": "stdout",
     "output_type": "stream",
     "text": [
      "\n",
      "Epoch: 086, LR: 0.000100, Loss: 0.0609967,          Train LogMAE: -3.0250512, Val LogMAE: -2.4167749\n"
     ]
    },
    {
     "data": {
      "application/vnd.jupyter.widget-view+json": {
       "model_id": "6a60e3686bcb477ea9e816db37dbbf0e",
       "version_major": 2,
       "version_minor": 0
      },
      "text/plain": [
       "HBox(children=(IntProgress(value=0, max=2501), HTML(value='')))"
      ]
     },
     "metadata": {},
     "output_type": "display_data"
    },
    {
     "name": "stdout",
     "output_type": "stream",
     "text": [
      "\n",
      "Epoch: 087, LR: 0.000100, Loss: 0.0604888,          Train LogMAE: -3.0367627, Val LogMAE: -2.3633959\n"
     ]
    },
    {
     "data": {
      "application/vnd.jupyter.widget-view+json": {
       "model_id": "28d86a9b90214de4abb3eaefa4fbbd92",
       "version_major": 2,
       "version_minor": 0
      },
      "text/plain": [
       "HBox(children=(IntProgress(value=0, max=2501), HTML(value='')))"
      ]
     },
     "metadata": {},
     "output_type": "display_data"
    },
    {
     "name": "stdout",
     "output_type": "stream",
     "text": [
      "\n",
      "Epoch: 088, LR: 0.000100, Loss: 0.0605314,          Train LogMAE: -3.0294948, Val LogMAE: -2.4210152\n"
     ]
    },
    {
     "data": {
      "application/vnd.jupyter.widget-view+json": {
       "model_id": "38e96a90741d457d8c051549959ceaa2",
       "version_major": 2,
       "version_minor": 0
      },
      "text/plain": [
       "HBox(children=(IntProgress(value=0, max=2501), HTML(value='')))"
      ]
     },
     "metadata": {},
     "output_type": "display_data"
    },
    {
     "name": "stdout",
     "output_type": "stream",
     "text": [
      "\n",
      "Epoch: 089, LR: 0.000100, Loss: 0.0596197,          Train LogMAE: -3.0526098, Val LogMAE: -2.4355787\n"
     ]
    },
    {
     "data": {
      "application/vnd.jupyter.widget-view+json": {
       "model_id": "54587a6aea794e679ec03a1148850aaa",
       "version_major": 2,
       "version_minor": 0
      },
      "text/plain": [
       "HBox(children=(IntProgress(value=0, max=2501), HTML(value='')))"
      ]
     },
     "metadata": {},
     "output_type": "display_data"
    },
    {
     "name": "stdout",
     "output_type": "stream",
     "text": [
      "\n",
      "Epoch: 090, LR: 0.000100, Loss: 0.0592085,          Train LogMAE: -3.0591710, Val LogMAE: -2.4114372\n"
     ]
    },
    {
     "data": {
      "application/vnd.jupyter.widget-view+json": {
       "model_id": "f9a579510a6c4f808dc5b7f43e01702f",
       "version_major": 2,
       "version_minor": 0
      },
      "text/plain": [
       "HBox(children=(IntProgress(value=0, max=2501), HTML(value='')))"
      ]
     },
     "metadata": {},
     "output_type": "display_data"
    },
    {
     "name": "stdout",
     "output_type": "stream",
     "text": [
      "\n",
      "Epoch: 091, LR: 0.000100, Loss: 0.0587621,          Train LogMAE: -3.0650263, Val LogMAE: -2.4305834\n"
     ]
    },
    {
     "data": {
      "application/vnd.jupyter.widget-view+json": {
       "model_id": "db4480e1c6f142439faf0185fc936c76",
       "version_major": 2,
       "version_minor": 0
      },
      "text/plain": [
       "HBox(children=(IntProgress(value=0, max=2501), HTML(value='')))"
      ]
     },
     "metadata": {},
     "output_type": "display_data"
    },
    {
     "name": "stdout",
     "output_type": "stream",
     "text": [
      "\n",
      "Epoch: 092, LR: 0.000100, Loss: 0.0585062,          Train LogMAE: -3.0761507, Val LogMAE: -2.4246831\n"
     ]
    },
    {
     "data": {
      "application/vnd.jupyter.widget-view+json": {
       "model_id": "3841af08d2a34e30baf37452fa8d1c25",
       "version_major": 2,
       "version_minor": 0
      },
      "text/plain": [
       "HBox(children=(IntProgress(value=0, max=2501), HTML(value='')))"
      ]
     },
     "metadata": {},
     "output_type": "display_data"
    },
    {
     "name": "stdout",
     "output_type": "stream",
     "text": [
      "\n",
      "Epoch: 093, LR: 0.000100, Loss: 0.0579438,          Train LogMAE: -3.0781994, Val LogMAE: -2.4401571\n"
     ]
    },
    {
     "data": {
      "application/vnd.jupyter.widget-view+json": {
       "model_id": "4911e37fb7044ac29841429c11cdf453",
       "version_major": 2,
       "version_minor": 0
      },
      "text/plain": [
       "HBox(children=(IntProgress(value=0, max=2501), HTML(value='')))"
      ]
     },
     "metadata": {},
     "output_type": "display_data"
    },
    {
     "name": "stdout",
     "output_type": "stream",
     "text": [
      "\n",
      "Epoch: 094, LR: 0.000100, Loss: 0.0576027,          Train LogMAE: -3.0871726, Val LogMAE: -2.4475933\n"
     ]
    },
    {
     "data": {
      "application/vnd.jupyter.widget-view+json": {
       "model_id": "b6f220d7491e4d4c92a04b54a7af360e",
       "version_major": 2,
       "version_minor": 0
      },
      "text/plain": [
       "HBox(children=(IntProgress(value=0, max=2501), HTML(value='')))"
      ]
     },
     "metadata": {},
     "output_type": "display_data"
    },
    {
     "name": "stdout",
     "output_type": "stream",
     "text": [
      "\n",
      "Epoch: 095, LR: 0.000100, Loss: 0.0572166,          Train LogMAE: -3.0975987, Val LogMAE: -2.4343575\n"
     ]
    },
    {
     "data": {
      "application/vnd.jupyter.widget-view+json": {
       "model_id": "e4331837b8964efb9d94f8a7724b8fec",
       "version_major": 2,
       "version_minor": 0
      },
      "text/plain": [
       "HBox(children=(IntProgress(value=0, max=2501), HTML(value='')))"
      ]
     },
     "metadata": {},
     "output_type": "display_data"
    },
    {
     "name": "stdout",
     "output_type": "stream",
     "text": [
      "\n",
      "Epoch: 096, LR: 0.000100, Loss: 0.0568428,          Train LogMAE: -3.1018044, Val LogMAE: -2.4554055\n"
     ]
    },
    {
     "data": {
      "application/vnd.jupyter.widget-view+json": {
       "model_id": "08d1feb9c826412f84c2ceec9935f45b",
       "version_major": 2,
       "version_minor": 0
      },
      "text/plain": [
       "HBox(children=(IntProgress(value=0, max=2501), HTML(value='')))"
      ]
     },
     "metadata": {},
     "output_type": "display_data"
    },
    {
     "name": "stdout",
     "output_type": "stream",
     "text": [
      "\n",
      "Epoch: 097, LR: 0.000100, Loss: 0.0563270,          Train LogMAE: -3.1117552, Val LogMAE: -2.4402157\n"
     ]
    },
    {
     "data": {
      "application/vnd.jupyter.widget-view+json": {
       "model_id": "eee3750b5ea1440db9e6842ae1f3e2e2",
       "version_major": 2,
       "version_minor": 0
      },
      "text/plain": [
       "HBox(children=(IntProgress(value=0, max=2501), HTML(value='')))"
      ]
     },
     "metadata": {},
     "output_type": "display_data"
    },
    {
     "name": "stdout",
     "output_type": "stream",
     "text": [
      "\n",
      "Epoch: 098, LR: 0.000100, Loss: 0.0561052,          Train LogMAE: -3.1178187, Val LogMAE: -2.4354225\n"
     ]
    },
    {
     "data": {
      "application/vnd.jupyter.widget-view+json": {
       "model_id": "8a81f3bb3d124d7bbaba77bac5478a5d",
       "version_major": 2,
       "version_minor": 0
      },
      "text/plain": [
       "HBox(children=(IntProgress(value=0, max=2501), HTML(value='')))"
      ]
     },
     "metadata": {},
     "output_type": "display_data"
    },
    {
     "name": "stdout",
     "output_type": "stream",
     "text": [
      "\n",
      "Epoch: 099, LR: 0.000100, Loss: 0.0558678,          Train LogMAE: -3.1216998, Val LogMAE: -2.4618804\n"
     ]
    },
    {
     "data": {
      "application/vnd.jupyter.widget-view+json": {
       "model_id": "5d45e8663ae0405e82472e2cab2d7f03",
       "version_major": 2,
       "version_minor": 0
      },
      "text/plain": [
       "HBox(children=(IntProgress(value=0, max=2501), HTML(value='')))"
      ]
     },
     "metadata": {},
     "output_type": "display_data"
    },
    {
     "name": "stdout",
     "output_type": "stream",
     "text": [
      "\n",
      "Epoch: 100, LR: 0.000100, Loss: 0.0553395,          Train LogMAE: -3.1342966, Val LogMAE: -2.4613397\n"
     ]
    },
    {
     "data": {
      "application/vnd.jupyter.widget-view+json": {
       "model_id": "1cf8079e6f8f4607871e3278b0206eec",
       "version_major": 2,
       "version_minor": 0
      },
      "text/plain": [
       "HBox(children=(IntProgress(value=0, max=2501), HTML(value='')))"
      ]
     },
     "metadata": {},
     "output_type": "display_data"
    },
    {
     "ename": "KeyboardInterrupt",
     "evalue": "",
     "output_type": "error",
     "traceback": [
      "\u001b[0;31m---------------------------------------------------------------------------\u001b[0m",
      "\u001b[0;31mKeyboardInterrupt\u001b[0m                         Traceback (most recent call last)",
      "\u001b[0;32m<ipython-input-55-7cf7cb0cf805>\u001b[0m in \u001b[0;36m<module>\u001b[0;34m\u001b[0m\n\u001b[1;32m     10\u001b[0m                                      \u001b[0mtrain_loader\u001b[0m\u001b[0;34m,\u001b[0m\u001b[0;34m\u001b[0m\u001b[0;34m\u001b[0m\u001b[0m\n\u001b[1;32m     11\u001b[0m                                      \u001b[0mtb_logger\u001b[0m\u001b[0;34m,\u001b[0m\u001b[0;34m\u001b[0m\u001b[0;34m\u001b[0m\u001b[0m\n\u001b[0;32m---> 12\u001b[0;31m                                      gradient_accumulation_steps=1)\n\u001b[0m\u001b[1;32m     13\u001b[0m     \u001b[0mscheduler\u001b[0m\u001b[0;34m.\u001b[0m\u001b[0mstep\u001b[0m\u001b[0;34m(\u001b[0m\u001b[0;34m)\u001b[0m\u001b[0;34m\u001b[0m\u001b[0;34m\u001b[0m\u001b[0m\n\u001b[1;32m     14\u001b[0m \u001b[0;34m\u001b[0m\u001b[0m\n",
      "\u001b[0;32m<ipython-input-40-3d842cdfff99>\u001b[0m in \u001b[0;36mtrain_epoch\u001b[0;34m(global_iteration, epoch, model, device, optimizer, train_loader, tb_logger, gradient_accumulation_steps)\u001b[0m\n\u001b[1;32m     17\u001b[0m         loss = torch.nn.L1Loss(reduction='mean')(pred.view(-1),\n\u001b[1;32m     18\u001b[0m                                                      data.y.view(-1))\n\u001b[0;32m---> 19\u001b[0;31m         \u001b[0mloss\u001b[0m\u001b[0;34m.\u001b[0m\u001b[0mbackward\u001b[0m\u001b[0;34m(\u001b[0m\u001b[0;34m)\u001b[0m\u001b[0;34m\u001b[0m\u001b[0;34m\u001b[0m\u001b[0m\n\u001b[0m\u001b[1;32m     20\u001b[0m \u001b[0;34m\u001b[0m\u001b[0m\n\u001b[1;32m     21\u001b[0m         \u001b[0;32mif\u001b[0m \u001b[0;34m(\u001b[0m\u001b[0mstep\u001b[0m \u001b[0;34m+\u001b[0m \u001b[0;36m1\u001b[0m\u001b[0;34m)\u001b[0m \u001b[0;34m%\u001b[0m \u001b[0mgradient_accumulation_steps\u001b[0m \u001b[0;34m==\u001b[0m \u001b[0;36m0\u001b[0m\u001b[0;34m:\u001b[0m\u001b[0;34m\u001b[0m\u001b[0;34m\u001b[0m\u001b[0m\n",
      "\u001b[0;32m/opt/conda/lib/python3.7/site-packages/torch/tensor.py\u001b[0m in \u001b[0;36mbackward\u001b[0;34m(self, gradient, retain_graph, create_graph)\u001b[0m\n\u001b[1;32m    105\u001b[0m                 \u001b[0mproducts\u001b[0m\u001b[0;34m.\u001b[0m \u001b[0mDefaults\u001b[0m \u001b[0mto\u001b[0m\u001b[0;31m \u001b[0m\u001b[0;31m`\u001b[0m\u001b[0;31m`\u001b[0m\u001b[0;32mFalse\u001b[0m\u001b[0;31m`\u001b[0m\u001b[0;31m`\u001b[0m\u001b[0;34m.\u001b[0m\u001b[0;34m\u001b[0m\u001b[0;34m\u001b[0m\u001b[0m\n\u001b[1;32m    106\u001b[0m         \"\"\"\n\u001b[0;32m--> 107\u001b[0;31m         \u001b[0mtorch\u001b[0m\u001b[0;34m.\u001b[0m\u001b[0mautograd\u001b[0m\u001b[0;34m.\u001b[0m\u001b[0mbackward\u001b[0m\u001b[0;34m(\u001b[0m\u001b[0mself\u001b[0m\u001b[0;34m,\u001b[0m \u001b[0mgradient\u001b[0m\u001b[0;34m,\u001b[0m \u001b[0mretain_graph\u001b[0m\u001b[0;34m,\u001b[0m \u001b[0mcreate_graph\u001b[0m\u001b[0;34m)\u001b[0m\u001b[0;34m\u001b[0m\u001b[0;34m\u001b[0m\u001b[0m\n\u001b[0m\u001b[1;32m    108\u001b[0m \u001b[0;34m\u001b[0m\u001b[0m\n\u001b[1;32m    109\u001b[0m     \u001b[0;32mdef\u001b[0m \u001b[0mregister_hook\u001b[0m\u001b[0;34m(\u001b[0m\u001b[0mself\u001b[0m\u001b[0;34m,\u001b[0m \u001b[0mhook\u001b[0m\u001b[0;34m)\u001b[0m\u001b[0;34m:\u001b[0m\u001b[0;34m\u001b[0m\u001b[0;34m\u001b[0m\u001b[0m\n",
      "\u001b[0;32m/opt/conda/lib/python3.7/site-packages/torch/autograd/__init__.py\u001b[0m in \u001b[0;36mbackward\u001b[0;34m(tensors, grad_tensors, retain_graph, create_graph, grad_variables)\u001b[0m\n\u001b[1;32m     91\u001b[0m     Variable._execution_engine.run_backward(\n\u001b[1;32m     92\u001b[0m         \u001b[0mtensors\u001b[0m\u001b[0;34m,\u001b[0m \u001b[0mgrad_tensors\u001b[0m\u001b[0;34m,\u001b[0m \u001b[0mretain_graph\u001b[0m\u001b[0;34m,\u001b[0m \u001b[0mcreate_graph\u001b[0m\u001b[0;34m,\u001b[0m\u001b[0;34m\u001b[0m\u001b[0;34m\u001b[0m\u001b[0m\n\u001b[0;32m---> 93\u001b[0;31m         allow_unreachable=True)  # allow_unreachable flag\n\u001b[0m\u001b[1;32m     94\u001b[0m \u001b[0;34m\u001b[0m\u001b[0m\n\u001b[1;32m     95\u001b[0m \u001b[0;34m\u001b[0m\u001b[0m\n",
      "\u001b[0;31mKeyboardInterrupt\u001b[0m: "
     ]
    }
   ],
   "source": [
    "# train loop\n",
    "logs = []\n",
    "for epoch in range(1, MAX_EPOCH + 1):\n",
    "    lr = scheduler.optimizer.param_groups[0]['lr']\n",
    "    tr_loss, tr_logmae, global_iteration = train_epoch(global_iteration,\n",
    "                                     epoch,\n",
    "                                     model,\n",
    "                                     device,\n",
    "                                     optimizer,\n",
    "                                     train_loader,\n",
    "                                     tb_logger,\n",
    "                                     gradient_accumulation_steps=1)\n",
    "    scheduler.step()\n",
    "\n",
    "    val_loss, val_logmae = test_model(model, val_loader)\n",
    "\n",
    "    epoch_log = make_log(epoch, lr, tr_loss, tr_logmae, val_logmae)\n",
    "    logs.append(epoch_log)\n",
    "    pd.DataFrame(logs).to_csv(OUTPUT_DIR + 'log.csv')\n",
    "    print('Epoch: {epoch:03d}, LR: {lr:7f}, Loss: {loss:.7f}, \\\n",
    "         Train LogMAE: {tr_logmae:.7f}, Val LogMAE: {val_logmae:.7f}'.format(\n",
    "        **epoch_log))\n",
    "\n",
    "    if epoch % SAVE_INTERVAL == 0:\n",
    "        save_checkpoint(OUTPUT_DIR, model, optimizer, scheduler, epoch)\n",
    "\n",
    "    tb_logger.add_scalar('lr', lr, global_iteration)\n",
    "    tb_logger.add_scalar('val_loss', val_loss, global_iteration)\n",
    "    tb_logger.add_scalars('global_logmae', {\n",
    "        'tr_logmae': epoch_log['tr_logmae'],\n",
    "        'val_logmae': epoch_log['val_logmae']\n",
    "    }, global_iteration)\n",
    "\n",
    "    for type_ in constants.TYPES_LIST:\n",
    "        tb_logger.add_scalars(\n",
    "            type_, {\n",
    "                'tr_' + type_: epoch_log['tr_' + type_],\n",
    "                'val_' + type_: epoch_log['val_' + type_]\n",
    "            }, global_iteration)"
   ]
  },
  {
   "cell_type": "code",
   "execution_count": 82,
   "metadata": {
    "ExecuteTime": {
     "end_time": "2019-08-25T00:49:06.304259Z",
     "start_time": "2019-08-25T00:49:05.659967Z"
    }
   },
   "outputs": [],
   "source": [
    "model.load_state_dict(torch.load('./models/megnet_256x10_unweightedMAE_softplus/model_epoch_100.pth'))\n",
    "optimizer.load_state_dict(torch.load('./models/megnet_256x10_unweightedMAE_softplus/optimizer_epoch_100.pth'))\n",
    "global_iteration =  len(train_loader) * 100"
   ]
  },
  {
   "cell_type": "code",
   "execution_count": 83,
   "metadata": {
    "ExecuteTime": {
     "end_time": "2019-08-25T00:49:12.310229Z",
     "start_time": "2019-08-25T00:49:12.279158Z"
    }
   },
   "outputs": [],
   "source": [
    "scheduler = torch.optim.lr_scheduler.StepLR(optimizer, step_size=3, gamma=0.5)"
   ]
  },
  {
   "cell_type": "code",
   "execution_count": null,
   "metadata": {
    "ExecuteTime": {
     "start_time": "2019-08-25T00:49:18.254Z"
    }
   },
   "outputs": [
    {
     "data": {
      "application/vnd.jupyter.widget-view+json": {
       "model_id": "071c41c10e3d4b4ea0fd15a372f19c0c",
       "version_major": 2,
       "version_minor": 0
      },
      "text/plain": [
       "HBox(children=(IntProgress(value=0, max=2501), HTML(value='')))"
      ]
     },
     "metadata": {},
     "output_type": "display_data"
    }
   ],
   "source": [
    "# train loop\n",
    "logs = []\n",
    "for epoch in range(101, 121):\n",
    "    lr = scheduler.optimizer.param_groups[0]['lr']\n",
    "    tr_loss, tr_logmae, global_iteration = train_epoch(global_iteration,\n",
    "                                     epoch,\n",
    "                                     model,\n",
    "                                     device,\n",
    "                                     optimizer,\n",
    "                                     train_loader,\n",
    "                                     tb_logger,\n",
    "                                     gradient_accumulation_steps=1)\n",
    "    scheduler.step()\n",
    "\n",
    "    val_loss, val_logmae = test_model(model, val_loader)\n",
    "\n",
    "    epoch_log = make_log(epoch, lr, tr_loss, tr_logmae, val_logmae)\n",
    "    logs.append(epoch_log)\n",
    "    pd.DataFrame(logs).to_csv(OUTPUT_DIR + 'log.csv')\n",
    "    print('Epoch: {epoch:03d}, LR: {lr:7f}, Loss: {loss:.7f}, \\\n",
    "         Train LogMAE: {tr_logmae:.7f}, Val LogMAE: {val_logmae:.7f}'.format(\n",
    "        **epoch_log))\n",
    "\n",
    "    if epoch % SAVE_INTERVAL == 0:\n",
    "        save_checkpoint(OUTPUT_DIR, model, optimizer, scheduler, epoch)\n",
    "\n",
    "    tb_logger.add_scalar('lr', lr, global_iteration)\n",
    "    tb_logger.add_scalar('val_loss', val_loss, global_iteration)\n",
    "    tb_logger.add_scalars('global_logmae', {\n",
    "        'tr_logmae': epoch_log['tr_logmae'],\n",
    "        'val_logmae': epoch_log['val_logmae']\n",
    "    }, global_iteration)\n",
    "\n",
    "    for type_ in constants.TYPES_LIST:\n",
    "        tb_logger.add_scalars(\n",
    "            type_, {\n",
    "                'tr_' + type_: epoch_log['tr_' + type_],\n",
    "                'val_' + type_: epoch_log['val_' + type_]\n",
    "            }, global_iteration)"
   ]
  },
  {
   "cell_type": "code",
   "execution_count": 85,
   "metadata": {
    "ExecuteTime": {
     "end_time": "2019-08-25T08:14:39.737101Z",
     "start_time": "2019-08-25T08:14:39.708879Z"
    }
   },
   "outputs": [
    {
     "data": {
      "text/plain": [
       "120"
      ]
     },
     "execution_count": 85,
     "metadata": {},
     "output_type": "execute_result"
    }
   ],
   "source": [
    "epoch"
   ]
  },
  {
   "cell_type": "code",
   "execution_count": 87,
   "metadata": {
    "ExecuteTime": {
     "end_time": "2019-08-25T08:14:57.416207Z",
     "start_time": "2019-08-25T08:14:56.796695Z"
    }
   },
   "outputs": [
    {
     "name": "stdout",
     "output_type": "stream",
     "text": [
      "log.csv\t\t     optimizer_epoch_100.pth  scheduler_epoch_10.pth\n",
      "model_epoch_100.pth  optimizer_epoch_10.pth   scheduler_epoch_110.pth\n",
      "model_epoch_10.pth   optimizer_epoch_110.pth  scheduler_epoch_120.pth\n",
      "model_epoch_110.pth  optimizer_epoch_120.pth  scheduler_epoch_20.pth\n",
      "model_epoch_120.pth  optimizer_epoch_20.pth   scheduler_epoch_30.pth\n",
      "model_epoch_20.pth   optimizer_epoch_30.pth   scheduler_epoch_40.pth\n",
      "model_epoch_30.pth   optimizer_epoch_40.pth   scheduler_epoch_50.pth\n",
      "model_epoch_40.pth   optimizer_epoch_50.pth   scheduler_epoch_60.pth\n",
      "model_epoch_50.pth   optimizer_epoch_60.pth   scheduler_epoch_70.pth\n",
      "model_epoch_60.pth   optimizer_epoch_70.pth   scheduler_epoch_80.pth\n",
      "model_epoch_70.pth   optimizer_epoch_80.pth   scheduler_epoch_90.pth\n",
      "model_epoch_80.pth   optimizer_epoch_90.pth   tb_log\n",
      "model_epoch_90.pth   scheduler_epoch_100.pth\n"
     ]
    }
   ],
   "source": [
    "!ls {OUTPUT_DIR}"
   ]
  },
  {
   "cell_type": "markdown",
   "metadata": {},
   "source": [
    "# Make sub"
   ]
  },
  {
   "cell_type": "code",
   "execution_count": 88,
   "metadata": {
    "ExecuteTime": {
     "end_time": "2019-08-25T08:20:06.885634Z",
     "start_time": "2019-08-25T08:20:06.853519Z"
    }
   },
   "outputs": [],
   "source": [
    "def merge_direction(df):\n",
    "    inverse_direction = df.rename(\n",
    "        {\n",
    "            'atom_index_1': 'atom_index_0',\n",
    "            'atom_index_0': 'atom_index_1'\n",
    "        },\n",
    "        axis=1)\n",
    "    merged = pd.merge(df,\n",
    "                      inverse_direction,\n",
    "                      on=['molecule_name', 'atom_index_0', 'atom_index_1'],\n",
    "                      suffixes=('', '_bis'))\n",
    "    merged['scalar_coupling_constant'] = (merged['scalar_coupling_constant'] + merged['scalar_coupling_constant_bis']) / 2\n",
    "    return merged.drop('scalar_coupling_constant_bis', axis=1)"
   ]
  },
  {
   "cell_type": "code",
   "execution_count": 91,
   "metadata": {
    "ExecuteTime": {
     "end_time": "2019-08-25T08:21:55.387522Z",
     "start_time": "2019-08-25T08:21:55.359576Z"
    }
   },
   "outputs": [
    {
     "data": {
      "text/plain": [
       "tensor([ 0,  0,  0,  ..., 63, 63, 63])"
      ]
     },
     "execution_count": 91,
     "metadata": {},
     "output_type": "execute_result"
    }
   ],
   "source": [
    "batch.couples_edge_ind_batch"
   ]
  },
  {
   "cell_type": "code",
   "execution_count": 92,
   "metadata": {
    "ExecuteTime": {
     "end_time": "2019-08-25T08:23:25.330780Z",
     "start_time": "2019-08-25T08:23:25.295727Z"
    }
   },
   "outputs": [],
   "source": [
    "def predict(model, input_data, checkpoint_path):\n",
    "    model.load_state_dict(torch.load(checkpoint_path))\n",
    "    pred_dataset = MoleculeDataset(\n",
    "        metadata=input_data,\n",
    "        base_dir=constants.STRUCT_DATA_PATH,\n",
    "                            transform=T.Compose([\n",
    "                                AddBondPath(),\n",
    "                                AddVirtualEdges(),\n",
    "                                AddEdgeDistanceAndDirection(\n",
    "                                      dist_noise=0.),\n",
    "                                AddGlobalAttr(),\n",
    "                                SortTarget(),\n",
    "                                AddBondLinks(),\n",
    "                                AddCounts(),     \n",
    "                            ]))\n",
    "    pred_loader = DataLoader(pred_dataset,\n",
    "                             batch_size=64,\n",
    "                             shuffle=False,\n",
    "                             num_workers=8,\n",
    "                             follow_batch=[\n",
    "                                 'bonds_edge_ind', 'bonds_links_edge_ind',\n",
    "                                 'paths_edge_ind', 'couples_edge_ind'\n",
    "                             ])\n",
    "    model.eval()\n",
    "    preds = []\n",
    "    inds = []\n",
    "    couples = []\n",
    "    for data in tqdm(pred_loader):\n",
    "        with torch.no_grad():\n",
    "            data = data.to(device)\n",
    "            pred = model(data).detach().cpu().numpy()\n",
    "            ind = data.mol_ind[data.couples_edge_ind_batch].detach().cpu().numpy()\n",
    "\n",
    "            couple_ind = data.couples_ind.cpu().numpy()\n",
    "            df = pd.DataFrame({\n",
    "                'molecule_name' : pred_dataset.molecules[ind].ravel(),\n",
    "                'molecule_ind': ind.ravel(),\n",
    "                'atom_index_0': couple_ind[:,0].ravel(), \n",
    "                'atom_index_1': couple_ind[:,1].ravel(),\n",
    "            })\n",
    "            df.sort_values(['molecule_ind', 'atom_index_0', 'atom_index_1'], ascending=True, inplace=True)\n",
    "            np.testing.assert_array_equal(df.molecule_ind, ind.ravel())\n",
    "            df['scalar_coupling_constant'] = pred\n",
    "            preds.append(df.drop('molecule_ind', axis=1))\n",
    "            \n",
    "    pred = pd.concat(preds)\n",
    "    pred = merge_direction(pred)\n",
    "    merged = pd.merge(input_data,\n",
    "                  pred,\n",
    "                  on=['molecule_name', 'atom_index_0', 'atom_index_1'],\n",
    "                  how='left', suffixes=('_truth', ''))\n",
    "    assert merged.dropna().shape[0] == input_data.shape[0]\n",
    "    return merged.loc[:, ['id', 'scalar_coupling_constant']].set_index('id'), pred"
   ]
  },
  {
   "cell_type": "code",
   "execution_count": 93,
   "metadata": {
    "ExecuteTime": {
     "end_time": "2019-08-25T08:23:50.335710Z",
     "start_time": "2019-08-25T08:23:26.969055Z"
    },
    "scrolled": true
   },
   "outputs": [
    {
     "data": {
      "application/vnd.jupyter.widget-view+json": {
       "model_id": "4395814baad04e1dac929ebf1f080e18",
       "version_major": 2,
       "version_minor": 0
      },
      "text/plain": [
       "HBox(children=(IntProgress(value=0, max=5000), HTML(value='')))"
      ]
     },
     "metadata": {},
     "output_type": "display_data"
    },
    {
     "name": "stdout",
     "output_type": "stream",
     "text": [
      "\n"
     ]
    },
    {
     "data": {
      "application/vnd.jupyter.widget-view+json": {
       "model_id": "36c5d0b69c89408b84fc22bb429c897f",
       "version_major": 2,
       "version_minor": 0
      },
      "text/plain": [
       "HBox(children=(IntProgress(value=0, max=79), HTML(value='')))"
      ]
     },
     "metadata": {},
     "output_type": "display_data"
    },
    {
     "name": "stdout",
     "output_type": "stream",
     "text": [
      "\n"
     ]
    }
   ],
   "source": [
    "pred_val, p = predict(model, val_data, f'{OUTPUT_DIR}/model_epoch_120.pth')"
   ]
  },
  {
   "cell_type": "code",
   "execution_count": 59,
   "metadata": {
    "ExecuteTime": {
     "end_time": "2019-08-17T18:51:24.172989Z",
     "start_time": "2019-08-17T18:51:24.110621Z"
    },
    "scrolled": true
   },
   "outputs": [
    {
     "data": {
      "text/html": [
       "<div>\n",
       "<style scoped>\n",
       "    .dataframe tbody tr th:only-of-type {\n",
       "        vertical-align: middle;\n",
       "    }\n",
       "\n",
       "    .dataframe tbody tr th {\n",
       "        vertical-align: top;\n",
       "    }\n",
       "\n",
       "    .dataframe thead th {\n",
       "        text-align: right;\n",
       "    }\n",
       "</style>\n",
       "<table border=\"1\" class=\"dataframe\">\n",
       "  <thead>\n",
       "    <tr style=\"text-align: right;\">\n",
       "      <th></th>\n",
       "      <th>scalar_coupling_constant</th>\n",
       "    </tr>\n",
       "    <tr>\n",
       "      <th>id</th>\n",
       "      <th></th>\n",
       "    </tr>\n",
       "  </thead>\n",
       "  <tbody>\n",
       "    <tr>\n",
       "      <th>1582</th>\n",
       "      <td>-1.053646</td>\n",
       "    </tr>\n",
       "    <tr>\n",
       "      <th>1583</th>\n",
       "      <td>0.496505</td>\n",
       "    </tr>\n",
       "    <tr>\n",
       "      <th>1584</th>\n",
       "      <td>0.496774</td>\n",
       "    </tr>\n",
       "    <tr>\n",
       "      <th>1585</th>\n",
       "      <td>14.346548</td>\n",
       "    </tr>\n",
       "    <tr>\n",
       "      <th>1586</th>\n",
       "      <td>92.781601</td>\n",
       "    </tr>\n",
       "  </tbody>\n",
       "</table>\n",
       "</div>"
      ],
      "text/plain": [
       "      scalar_coupling_constant\n",
       "id                            \n",
       "1582                 -1.053646\n",
       "1583                  0.496505\n",
       "1584                  0.496774\n",
       "1585                 14.346548\n",
       "1586                 92.781601"
      ]
     },
     "execution_count": 59,
     "metadata": {},
     "output_type": "execute_result"
    }
   ],
   "source": [
    "pred_val.head()"
   ]
  },
  {
   "cell_type": "code",
   "execution_count": 94,
   "metadata": {
    "ExecuteTime": {
     "end_time": "2019-08-25T08:23:50.374397Z",
     "start_time": "2019-08-25T08:23:50.339318Z"
    }
   },
   "outputs": [],
   "source": [
    "def score(pred, ref_data):\n",
    "    merged = pd.merge(ref_data, pred, how='left', left_on='id', right_index=True, suffixes=('', '_pred'))\n",
    "    merged['abs_error'] = (merged['scalar_coupling_constant'] - merged['scalar_coupling_constant_pred']).abs()\n",
    "    result = merged.groupby('type')['abs_error'].mean()\n",
    "    result.iloc[:] = np.log(np.maximum(result.values, 1e-9))\n",
    "    return result.mean(), result.to_dict()    "
   ]
  },
  {
   "cell_type": "code",
   "execution_count": 95,
   "metadata": {
    "ExecuteTime": {
     "end_time": "2019-08-25T08:23:50.529336Z",
     "start_time": "2019-08-25T08:23:50.376603Z"
    }
   },
   "outputs": [
    {
     "data": {
      "text/plain": [
       "(-2.669540019699434,\n",
       " {'1JHC': -1.7277696485261647,\n",
       "  '1JHN': -1.688054814453369,\n",
       "  '2JHC': -2.654279952396486,\n",
       "  '2JHH': -3.205307811357667,\n",
       "  '2JHN': -2.9765596043212295,\n",
       "  '3JHC': -2.6248218157210634,\n",
       "  '3JHH': -3.218794817699955,\n",
       "  '3JHN': -3.2607316931195385})"
      ]
     },
     "execution_count": 95,
     "metadata": {},
     "output_type": "execute_result"
    }
   ],
   "source": [
    "score(pred_val, val_data)"
   ]
  },
  {
   "cell_type": "code",
   "execution_count": 97,
   "metadata": {
    "ExecuteTime": {
     "end_time": "2019-08-25T08:24:09.387749Z",
     "start_time": "2019-08-25T08:24:07.868145Z"
    }
   },
   "outputs": [],
   "source": [
    "test = pd.read_csv('../data/test.csv')"
   ]
  },
  {
   "cell_type": "code",
   "execution_count": 98,
   "metadata": {
    "ExecuteTime": {
     "end_time": "2019-08-25T08:27:47.157762Z",
     "start_time": "2019-08-25T08:24:30.990236Z"
    },
    "scrolled": true
   },
   "outputs": [
    {
     "data": {
      "application/vnd.jupyter.widget-view+json": {
       "model_id": "1713915df88c43388b6cbbd96b80c39f",
       "version_major": 2,
       "version_minor": 0
      },
      "text/plain": [
       "HBox(children=(IntProgress(value=0, max=45772), HTML(value='')))"
      ]
     },
     "metadata": {},
     "output_type": "display_data"
    },
    {
     "name": "stdout",
     "output_type": "stream",
     "text": [
      "\n"
     ]
    },
    {
     "data": {
      "application/vnd.jupyter.widget-view+json": {
       "model_id": "367606c7e92242e2a001e6b914e0310f",
       "version_major": 2,
       "version_minor": 0
      },
      "text/plain": [
       "HBox(children=(IntProgress(value=0, max=716), HTML(value='')))"
      ]
     },
     "metadata": {},
     "output_type": "display_data"
    },
    {
     "name": "stdout",
     "output_type": "stream",
     "text": [
      "\n"
     ]
    }
   ],
   "source": [
    "sub, _ = predict(model, test, f'{OUTPUT_DIR}/model_epoch_120.pth')"
   ]
  },
  {
   "cell_type": "code",
   "execution_count": 99,
   "metadata": {
    "ExecuteTime": {
     "end_time": "2019-08-25T08:27:47.215779Z",
     "start_time": "2019-08-25T08:27:47.165530Z"
    }
   },
   "outputs": [
    {
     "data": {
      "text/html": [
       "<div>\n",
       "<style scoped>\n",
       "    .dataframe tbody tr th:only-of-type {\n",
       "        vertical-align: middle;\n",
       "    }\n",
       "\n",
       "    .dataframe tbody tr th {\n",
       "        vertical-align: top;\n",
       "    }\n",
       "\n",
       "    .dataframe thead th {\n",
       "        text-align: right;\n",
       "    }\n",
       "</style>\n",
       "<table border=\"1\" class=\"dataframe\">\n",
       "  <thead>\n",
       "    <tr style=\"text-align: right;\">\n",
       "      <th></th>\n",
       "      <th>scalar_coupling_constant</th>\n",
       "    </tr>\n",
       "    <tr>\n",
       "      <th>id</th>\n",
       "      <th></th>\n",
       "    </tr>\n",
       "  </thead>\n",
       "  <tbody>\n",
       "    <tr>\n",
       "      <th>4658147</th>\n",
       "      <td>15.185948</td>\n",
       "    </tr>\n",
       "    <tr>\n",
       "      <th>4658148</th>\n",
       "      <td>118.996857</td>\n",
       "    </tr>\n",
       "    <tr>\n",
       "      <th>4658149</th>\n",
       "      <td>11.215303</td>\n",
       "    </tr>\n",
       "    <tr>\n",
       "      <th>4658150</th>\n",
       "      <td>119.213646</td>\n",
       "    </tr>\n",
       "    <tr>\n",
       "      <th>4658151</th>\n",
       "      <td>15.185041</td>\n",
       "    </tr>\n",
       "  </tbody>\n",
       "</table>\n",
       "</div>"
      ],
      "text/plain": [
       "         scalar_coupling_constant\n",
       "id                               \n",
       "4658147                 15.185948\n",
       "4658148                118.996857\n",
       "4658149                 11.215303\n",
       "4658150                119.213646\n",
       "4658151                 15.185041"
      ]
     },
     "execution_count": 99,
     "metadata": {},
     "output_type": "execute_result"
    }
   ],
   "source": [
    "sub.head()"
   ]
  },
  {
   "cell_type": "code",
   "execution_count": 100,
   "metadata": {
    "ExecuteTime": {
     "end_time": "2019-08-25T08:27:51.250434Z",
     "start_time": "2019-08-25T08:27:50.608565Z"
    }
   },
   "outputs": [],
   "source": [
    "!mkdir -p subs/lam_02_v1/"
   ]
  },
  {
   "cell_type": "code",
   "execution_count": 101,
   "metadata": {
    "ExecuteTime": {
     "end_time": "2019-08-25T08:27:58.943781Z",
     "start_time": "2019-08-25T08:27:52.143286Z"
    }
   },
   "outputs": [],
   "source": [
    "sub.to_csv('./subs/lam_02_v1/sub.csv', index=True)\n",
    "pred_val.to_csv('./subs/lam_02_v1/pred_val.csv', index=True)"
   ]
  }
 ],
 "metadata": {
  "kernelspec": {
   "display_name": "Python 3",
   "language": "python",
   "name": "python3"
  },
  "language_info": {
   "codemirror_mode": {
    "name": "ipython",
    "version": 3
   },
   "file_extension": ".py",
   "mimetype": "text/x-python",
   "name": "python",
   "nbconvert_exporter": "python",
   "pygments_lexer": "ipython3",
   "version": "3.7.1"
  },
  "toc": {
   "base_numbering": 1,
   "nav_menu": {},
   "number_sections": true,
   "sideBar": true,
   "skip_h1_title": false,
   "title_cell": "Table of Contents",
   "title_sidebar": "Contents",
   "toc_cell": false,
   "toc_position": {
    "height": "calc(100% - 180px)",
    "left": "10px",
    "top": "150px",
    "width": "371px"
   },
   "toc_section_display": true,
   "toc_window_display": true
  }
 },
 "nbformat": 4,
 "nbformat_minor": 2
}
