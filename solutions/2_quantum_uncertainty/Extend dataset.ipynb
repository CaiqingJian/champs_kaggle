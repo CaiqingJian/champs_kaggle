{
 "cells": [
  {
   "cell_type": "code",
   "execution_count": 1,
   "metadata": {},
   "outputs": [],
   "source": [
    "import pandas as pd"
   ]
  },
  {
   "cell_type": "code",
   "execution_count": 6,
   "metadata": {},
   "outputs": [],
   "source": [
    "def extend(fname, index='id', ext=False):\n",
    "    t  = pd.read_csv(fname, index_col=index)\n",
    "    a0,a1 = t.atom_index_0.copy(),t.atom_index_1.copy()\n",
    "    tc = t.copy()\n",
    "    if index is not None:\n",
    "        tc['ext'] = True\n",
    "        t['ext'] = False\n",
    "    tc.atom_index_0,tc.atom_index_1 = a1,a0\n",
    "    te = pd.concat([t,tc],ignore_index=True) \\\n",
    "        .sort_values(['molecule_name','atom_index_0','atom_index_1'])\n",
    "    if not ext: te = te.reset_index(drop=True)\n",
    "    if index:\n",
    "        te.index +=t.index.min()\n",
    "    te.to_csv(f'{fname[:-4]}_ext.csv', index=bool(index), index_label=index)"
   ]
  },
  {
   "cell_type": "code",
   "execution_count": 7,
   "metadata": {},
   "outputs": [],
   "source": [
    "extend('train.csv')"
   ]
  },
  {
   "cell_type": "code",
   "execution_count": null,
   "metadata": {},
   "outputs": [],
   "source": [
    "extend('test.csv', ext=True)"
   ]
  },
  {
   "cell_type": "code",
   "execution_count": null,
   "metadata": {},
   "outputs": [],
   "source": [
    "extend('scalar_coupling_contributions.csv', index=None)"
   ]
  },
  {
   "cell_type": "markdown",
   "metadata": {},
   "source": [
    "Playground"
   ]
  },
  {
   "cell_type": "code",
   "execution_count": null,
   "metadata": {},
   "outputs": [],
   "source": [
    "fname='train.csv'\n",
    "index = 'id'\n",
    "ext = False\n",
    "t  = pd.read_csv(fname, index_col=index)\n",
    "a0,a1 = t.atom_index_0.copy(),t.atom_index_1.copy()\n",
    "tc = t.copy()\n",
    "tc['ext'] = True\n",
    "t['ext'] = False\n",
    "tc.atom_index_0,tc.atom_index_1 = a1,a0\n",
    "te = pd.concat([t,tc],ignore_index=True) \\\n",
    "    .sort_values(['molecule_name','atom_index_0','atom_index_1']) #\\\n",
    "    #.reset_index(drop=True)\n",
    "if not ext: te = te.reset_index(drop=True)\n",
    "\n",
    "#if index:\n",
    "#    te.index = pd.RangeIndex(t.index.min(), stop=len(te)+t.index.min(), step=1)\n",
    "#te.to_csv(f'{fname[:-4]}_ext.csv', index=bool(index), index_label=index)"
   ]
  },
  {
   "cell_type": "code",
   "execution_count": null,
   "metadata": {},
   "outputs": [],
   "source": [
    "te"
   ]
  },
  {
   "cell_type": "code",
   "execution_count": null,
   "metadata": {},
   "outputs": [],
   "source": [
    "te.index"
   ]
  },
  {
   "cell_type": "code",
   "execution_count": null,
   "metadata": {},
   "outputs": [],
   "source": [
    "te"
   ]
  },
  {
   "cell_type": "code",
   "execution_count": null,
   "metadata": {},
   "outputs": [],
   "source": []
  }
 ],
 "metadata": {
  "kernelspec": {
   "display_name": "Python 3",
   "language": "python",
   "name": "python3"
  },
  "language_info": {
   "codemirror_mode": {
    "name": "ipython",
    "version": 3
   },
   "file_extension": ".py",
   "mimetype": "text/x-python",
   "name": "python",
   "nbconvert_exporter": "python",
   "pygments_lexer": "ipython3",
   "version": "3.6.8"
  }
 },
 "nbformat": 4,
 "nbformat_minor": 2
}
